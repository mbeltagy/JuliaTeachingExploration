{
 "cells": [
  {
   "cell_type": "code",
   "execution_count": 45,
   "metadata": {},
   "outputs": [],
   "source": [
    "using Plots\n",
    "using CSV\n",
    "using DataFrames"
   ]
  },
  {
   "cell_type": "markdown",
   "metadata": {},
   "source": [
    "# Points of exploration today \n",
    "* Why Julia? Why not just stick to Python? (Verbal explaination...DONE!) \n",
    "* What basic building blocks I need to do ML in Julia?\n",
    "* Nice examples on Mulitple Dispatch?\n",
    "* Scope of use, outside techincal computing?"
   ]
  },
  {
   "cell_type": "markdown",
   "metadata": {},
   "source": [
    "## What basic building blocks I need to do ML in Julia?\n"
   ]
  },
  {
   "cell_type": "markdown",
   "metadata": {},
   "source": [
    "### We start with functions"
   ]
  },
  {
   "cell_type": "code",
   "execution_count": 46,
   "metadata": {},
   "outputs": [
    {
     "data": {
      "text/plain": [
       "f (generic function with 3 methods)"
      ]
     },
     "execution_count": 46,
     "metadata": {},
     "output_type": "execute_result"
    }
   ],
   "source": [
    "# constructing fuctions\n",
    "f(x)= sin(x)+5"
   ]
  },
  {
   "cell_type": "code",
   "execution_count": 47,
   "metadata": {},
   "outputs": [
    {
     "ename": "MethodError",
     "evalue": "MethodError: no method matching Irrational{:π}(::Int64)\nClosest candidates are:\n  Irrational{:π}(::T) where T<:Number at boot.jl:715\n  Irrational{:π}() where sym at irrationals.jl:18\n  Irrational{:π}(!Matched::Complex) where T<:Real at complex.jl:37\n  ...",
     "output_type": "error",
     "traceback": [
      "MethodError: no method matching Irrational{:π}(::Int64)\nClosest candidates are:\n  Irrational{:π}(::T) where T<:Number at boot.jl:715\n  Irrational{:π}() where sym at irrationals.jl:18\n  Irrational{:π}(!Matched::Complex) where T<:Real at complex.jl:37\n  ...",
      "",
      "Stacktrace:",
      " [1] f(::Irrational{:π}) at ./In[16]:3",
      " [2] top-level scope at In[47]:1"
     ]
    }
   ],
   "source": [
    "f(pi)"
   ]
  },
  {
   "cell_type": "code",
   "execution_count": 48,
   "metadata": {},
   "outputs": [
    {
     "data": {
      "text/plain": [
       "f (generic function with 3 methods)"
      ]
     },
     "execution_count": 48,
     "metadata": {},
     "output_type": "execute_result"
    }
   ],
   "source": [
    "f(x)= begin \n",
    "        x^2\n",
    "    end "
   ]
  },
  {
   "cell_type": "code",
   "execution_count": 49,
   "metadata": {},
   "outputs": [
    {
     "data": {
      "text/plain": [
       "100"
      ]
     },
     "execution_count": 49,
     "metadata": {},
     "output_type": "execute_result"
    }
   ],
   "source": [
    "f(4)"
   ]
  },
  {
   "cell_type": "code",
   "execution_count": 50,
   "metadata": {},
   "outputs": [
    {
     "data": {
      "text/plain": [
       "f (generic function with 3 methods)"
      ]
     },
     "execution_count": 50,
     "metadata": {},
     "output_type": "execute_result"
    }
   ],
   "source": [
    "function f(l)\n",
    "    s=0\n",
    "    for i=1:l \n",
    "        s+=i^3\n",
    "    end\n",
    "    s\n",
    "end"
   ]
  },
  {
   "cell_type": "code",
   "execution_count": 51,
   "metadata": {},
   "outputs": [
    {
     "data": {
      "text/plain": [
       "100"
      ]
     },
     "execution_count": 51,
     "metadata": {},
     "output_type": "execute_result"
    }
   ],
   "source": [
    "f(4)"
   ]
  },
  {
   "cell_type": "markdown",
   "metadata": {},
   "source": [
    "To see a close to the machine representation"
   ]
  },
  {
   "cell_type": "code",
   "execution_count": 52,
   "metadata": {},
   "outputs": [
    {
     "data": {
      "text/plain": [
       "CodeInfo(\n",
       "\u001b[90m1 ─\u001b[39m       s = Main.zero(l)\n",
       "\u001b[90m│  \u001b[39m %2  = ($(Expr(:static_parameter, 1)))(1)\n",
       "\u001b[90m│  \u001b[39m %3  = ($(Expr(:static_parameter, 1)))(l)\n",
       "\u001b[90m│  \u001b[39m %4  = %2:%3\n",
       "\u001b[90m│  \u001b[39m       @_4 = Base.iterate(%4)\n",
       "\u001b[90m│  \u001b[39m %6  = @_4 === nothing\n",
       "\u001b[90m│  \u001b[39m %7  = Base.not_int(%6)\n",
       "\u001b[90m└──\u001b[39m       goto #4 if not %7\n",
       "\u001b[90m2 ┄\u001b[39m %9  = @_4\n",
       "\u001b[90m│  \u001b[39m       i = Core.getfield(%9, 1)\n",
       "\u001b[90m│  \u001b[39m %11 = Core.getfield(%9, 2)\n",
       "\u001b[90m│  \u001b[39m %12 = s\n",
       "\u001b[90m│  \u001b[39m %13 = i\n",
       "\u001b[90m│  \u001b[39m %14 = Core.apply_type(Base.Val, 3)\n",
       "\u001b[90m│  \u001b[39m %15 = (%14)()\n",
       "\u001b[90m│  \u001b[39m %16 = Base.literal_pow(Main.:^, %13, %15)\n",
       "\u001b[90m│  \u001b[39m       s = %12 + %16\n",
       "\u001b[90m│  \u001b[39m       @_4 = Base.iterate(%4, %11)\n",
       "\u001b[90m│  \u001b[39m %19 = @_4 === nothing\n",
       "\u001b[90m│  \u001b[39m %20 = Base.not_int(%19)\n",
       "\u001b[90m└──\u001b[39m       goto #4 if not %20\n",
       "\u001b[90m3 ─\u001b[39m       goto #2\n",
       "\u001b[90m4 ┄\u001b[39m       return s\n",
       ")"
      ]
     },
     "execution_count": 52,
     "metadata": {},
     "output_type": "execute_result"
    }
   ],
   "source": [
    "@code_lowered f(4)"
   ]
  },
  {
   "cell_type": "code",
   "execution_count": 53,
   "metadata": {},
   "outputs": [
    {
     "data": {
      "text/plain": [
       "f (generic function with 3 methods)"
      ]
     },
     "execution_count": 53,
     "metadata": {},
     "output_type": "execute_result"
    }
   ],
   "source": [
    "function f(l, init::T) where T<:Number\n",
    "    s=init\n",
    "    for i=T(1):T(l) \n",
    "        s+=i^3\n",
    "    end\n",
    "    s\n",
    "end"
   ]
  },
  {
   "cell_type": "code",
   "execution_count": 54,
   "metadata": {},
   "outputs": [
    {
     "data": {
      "text/plain": [
       "250500250000"
      ]
     },
     "execution_count": 54,
     "metadata": {},
     "output_type": "execute_result"
    }
   ],
   "source": [
    "f(1000,BigInt(0))"
   ]
  },
  {
   "cell_type": "markdown",
   "metadata": {},
   "source": [
    "To investigate if we have type issues"
   ]
  },
  {
   "cell_type": "code",
   "execution_count": 55,
   "metadata": {},
   "outputs": [
    {
     "name": "stdout",
     "output_type": "stream",
     "text": [
      "Variables\n",
      "  #self#\u001b[36m::Core.Compiler.Const(f, false)\u001b[39m\n",
      "  l\u001b[36m::Int64\u001b[39m\n",
      "  init\u001b[36m::BigInt\u001b[39m\n",
      "  s\u001b[36m::BigInt\u001b[39m\n",
      "  @_5\u001b[33m\u001b[1m::Union{Nothing, Tuple{BigInt,BigInt}}\u001b[22m\u001b[39m\n",
      "  i\u001b[36m::BigInt\u001b[39m\n",
      "\n",
      "Body\u001b[36m::BigInt\u001b[39m\n",
      "\u001b[90m1 ─\u001b[39m       (s = init)\n",
      "\u001b[90m│  \u001b[39m %2  = ($(Expr(:static_parameter, 1)))(1)\u001b[36m::BigInt\u001b[39m\n",
      "\u001b[90m│  \u001b[39m %3  = ($(Expr(:static_parameter, 1)))(l)\u001b[36m::BigInt\u001b[39m\n",
      "\u001b[90m│  \u001b[39m %4  = (%2:%3)\u001b[36m::UnitRange{BigInt}\u001b[39m\n",
      "\u001b[90m│  \u001b[39m       (@_5 = Base.iterate(%4))\n",
      "\u001b[90m│  \u001b[39m %6  = (@_5 === nothing)\u001b[36m::Bool\u001b[39m\n",
      "\u001b[90m│  \u001b[39m %7  = Base.not_int(%6)\u001b[36m::Bool\u001b[39m\n",
      "\u001b[90m└──\u001b[39m       goto #4 if not %7\n",
      "\u001b[90m2 ┄\u001b[39m %9  = @_5::Tuple{BigInt,BigInt}\u001b[36m::Tuple{BigInt,BigInt}\u001b[39m\n",
      "\u001b[90m│  \u001b[39m       (i = Core.getfield(%9, 1))\n",
      "\u001b[90m│  \u001b[39m %11 = Core.getfield(%9, 2)\u001b[36m::BigInt\u001b[39m\n",
      "\u001b[90m│  \u001b[39m %12 = s\u001b[36m::BigInt\u001b[39m\n",
      "\u001b[90m│  \u001b[39m %13 = i\u001b[36m::BigInt\u001b[39m\n",
      "\u001b[90m│  \u001b[39m %14 = Core.apply_type(Base.Val, 3)\u001b[36m::Core.Compiler.Const(Val{3}, false)\u001b[39m\n",
      "\u001b[90m│  \u001b[39m %15 = (%14)()\u001b[36m::Core.Compiler.Const(Val{3}(), false)\u001b[39m\n",
      "\u001b[90m│  \u001b[39m %16 = Base.literal_pow(Main.:^, %13, %15)\u001b[36m::BigInt\u001b[39m\n",
      "\u001b[90m│  \u001b[39m       (s = %12 + %16)\n",
      "\u001b[90m│  \u001b[39m       (@_5 = Base.iterate(%4, %11))\n",
      "\u001b[90m│  \u001b[39m %19 = (@_5 === nothing)\u001b[36m::Bool\u001b[39m\n",
      "\u001b[90m│  \u001b[39m %20 = Base.not_int(%19)\u001b[36m::Bool\u001b[39m\n",
      "\u001b[90m└──\u001b[39m       goto #4 if not %20\n",
      "\u001b[90m3 ─\u001b[39m       goto #2\n",
      "\u001b[90m4 ┄\u001b[39m       return s\n"
     ]
    }
   ],
   "source": [
    "@code_warntype f(1000,BigInt(0))"
   ]
  },
  {
   "cell_type": "markdown",
   "metadata": {},
   "source": [
    "Note to Python lovers.... BigInit was a overkill for this range... Int128 would do it... in blink of an eye"
   ]
  },
  {
   "cell_type": "code",
   "execution_count": 56,
   "metadata": {},
   "outputs": [
    {
     "data": {
      "text/plain": [
       "25000000500000002500000000000000"
      ]
     },
     "execution_count": 56,
     "metadata": {},
     "output_type": "execute_result"
    }
   ],
   "source": [
    "f(100000000, Int128(0))"
   ]
  },
  {
   "cell_type": "markdown",
   "metadata": {},
   "source": [
    "To check the range."
   ]
  },
  {
   "cell_type": "code",
   "execution_count": 57,
   "metadata": {},
   "outputs": [
    {
     "data": {
      "text/plain": [
       "170141183460469231731687303715884105727"
      ]
     },
     "execution_count": 57,
     "metadata": {},
     "output_type": "execute_result"
    }
   ],
   "source": [
    "typemax(Int128)"
   ]
  },
  {
   "cell_type": "markdown",
   "metadata": {},
   "source": [
    "That means that we can go even higher (I just added another zero)... try that in Python. "
   ]
  },
  {
   "cell_type": "code",
   "execution_count": 58,
   "metadata": {},
   "outputs": [
    {
     "data": {
      "text/plain": [
       "250000000500000000250000000000000000"
      ]
     },
     "execution_count": 58,
     "metadata": {},
     "output_type": "execute_result"
    }
   ],
   "source": [
    "f(1000000000, Int128(0))"
   ]
  },
  {
   "cell_type": "markdown",
   "metadata": {},
   "source": [
    "The Generic function working on `Float64`... also super fast"
   ]
  },
  {
   "cell_type": "code",
   "execution_count": 59,
   "metadata": {},
   "outputs": [
    {
     "data": {
      "text/plain": [
       "2.5000000500004043e31"
      ]
     },
     "execution_count": 59,
     "metadata": {},
     "output_type": "execute_result"
    }
   ],
   "source": [
    "f(100000000, 0.0)"
   ]
  },
  {
   "cell_type": "markdown",
   "metadata": {},
   "source": [
    "Simplifying this a bit with not initial value"
   ]
  },
  {
   "cell_type": "code",
   "execution_count": 60,
   "metadata": {},
   "outputs": [
    {
     "data": {
      "text/plain": [
       "f (generic function with 3 methods)"
      ]
     },
     "execution_count": 60,
     "metadata": {},
     "output_type": "execute_result"
    }
   ],
   "source": [
    "function f(l::T) where T<:Number\n",
    "    s=zero(l)\n",
    "    for i=T(1):T(l) \n",
    "        s+=i^3\n",
    "    end\n",
    "    s\n",
    "end"
   ]
  },
  {
   "cell_type": "code",
   "execution_count": 61,
   "metadata": {},
   "outputs": [
    {
     "data": {
      "text/plain": [
       "25000000500000002500000000000000"
      ]
     },
     "execution_count": 61,
     "metadata": {},
     "output_type": "execute_result"
    }
   ],
   "source": [
    "f(Int128(100000000))"
   ]
  },
  {
   "cell_type": "markdown",
   "metadata": {},
   "source": [
    "Further simplificaiton using a generator"
   ]
  },
  {
   "cell_type": "code",
   "execution_count": 62,
   "metadata": {},
   "outputs": [
    {
     "data": {
      "text/plain": [
       "f (generic function with 3 methods)"
      ]
     },
     "execution_count": 62,
     "metadata": {},
     "output_type": "execute_result"
    }
   ],
   "source": [
    "f(x)=sum(i^3 for i=one(x):x)"
   ]
  },
  {
   "cell_type": "code",
   "execution_count": 63,
   "metadata": {},
   "outputs": [
    {
     "data": {
      "text/plain": [
       "25000000500000002500000000000000"
      ]
     },
     "execution_count": 63,
     "metadata": {},
     "output_type": "execute_result"
    }
   ],
   "source": [
    "f(Int128(100000000))"
   ]
  },
  {
   "cell_type": "markdown",
   "metadata": {},
   "source": [
    "A quick intro to generators "
   ]
  },
  {
   "cell_type": "code",
   "execution_count": 64,
   "metadata": {},
   "outputs": [
    {
     "data": {
      "text/plain": [
       "Base.Generator{UnitRange{Int64},var\"#23#24\"}(var\"#23#24\"(), 1:10)"
      ]
     },
     "execution_count": 64,
     "metadata": {},
     "output_type": "execute_result"
    }
   ],
   "source": [
    "gen=(i^3 for i=1:10)"
   ]
  },
  {
   "cell_type": "code",
   "execution_count": 65,
   "metadata": {},
   "outputs": [
    {
     "name": "stdout",
     "output_type": "stream",
     "text": [
      "1 8 27 64 125 216 343 512 729 1000 "
     ]
    }
   ],
   "source": [
    "for i in gen \n",
    "    print(i,\" \")\n",
    "end"
   ]
  },
  {
   "cell_type": "code",
   "execution_count": 66,
   "metadata": {},
   "outputs": [
    {
     "data": {
      "text/plain": [
       "g (generic function with 1 method)"
      ]
     },
     "execution_count": 66,
     "metadata": {},
     "output_type": "execute_result"
    }
   ],
   "source": [
    "g(x,y)=x+y"
   ]
  },
  {
   "cell_type": "code",
   "execution_count": 67,
   "metadata": {},
   "outputs": [
    {
     "data": {
      "text/plain": [
       "7"
      ]
     },
     "execution_count": 67,
     "metadata": {},
     "output_type": "execute_result"
    }
   ],
   "source": [
    "g(5,2)"
   ]
  },
  {
   "cell_type": "code",
   "execution_count": 68,
   "metadata": {},
   "outputs": [
    {
     "data": {
      "text/plain": [
       "2-element Array{Int64,1}:\n",
       " 5\n",
       " 7"
      ]
     },
     "execution_count": 68,
     "metadata": {},
     "output_type": "execute_result"
    }
   ],
   "source": [
    "a=[5,7]"
   ]
  },
  {
   "cell_type": "markdown",
   "metadata": {},
   "source": [
    "A bit of splatting "
   ]
  },
  {
   "cell_type": "code",
   "execution_count": 69,
   "metadata": {},
   "outputs": [
    {
     "data": {
      "text/plain": [
       "12"
      ]
     },
     "execution_count": 69,
     "metadata": {},
     "output_type": "execute_result"
    }
   ],
   "source": [
    "g(a...)"
   ]
  },
  {
   "cell_type": "code",
   "execution_count": 70,
   "metadata": {},
   "outputs": [
    {
     "data": {
      "text/plain": [
       "15-element Array{Int64,1}:\n",
       "    1\n",
       "    8\n",
       "   27\n",
       "   64\n",
       "  125\n",
       "  216\n",
       "  343\n",
       "  512\n",
       "  729\n",
       " 1000\n",
       " 1331\n",
       " 1728\n",
       " 2197\n",
       " 2744\n",
       " 3375"
      ]
     },
     "execution_count": 70,
     "metadata": {},
     "output_type": "execute_result"
    }
   ],
   "source": [
    "map(x->x^3,1:15) "
   ]
  },
  {
   "cell_type": "markdown",
   "metadata": {},
   "source": [
    "An alternative syntax with `do`"
   ]
  },
  {
   "cell_type": "code",
   "execution_count": 71,
   "metadata": {},
   "outputs": [
    {
     "data": {
      "text/plain": [
       "15-element Array{Int64,1}:\n",
       "    1\n",
       "    8\n",
       "   27\n",
       "   64\n",
       "  125\n",
       "  216\n",
       "  343\n",
       "  512\n",
       "  729\n",
       " 1000\n",
       " 1331\n",
       " 1728\n",
       " 2197\n",
       " 2744\n",
       " 3375"
      ]
     },
     "execution_count": 71,
     "metadata": {},
     "output_type": "execute_result"
    }
   ],
   "source": [
    "map(1:15) do x\n",
    "    x^3\n",
    "end"
   ]
  },
  {
   "cell_type": "markdown",
   "metadata": {},
   "source": [
    "### A quick dive into plotting "
   ]
  },
  {
   "cell_type": "code",
   "execution_count": 72,
   "metadata": {},
   "outputs": [],
   "source": [
    "using Plots"
   ]
  },
  {
   "cell_type": "markdown",
   "metadata": {},
   "source": [
    "This is a super package. It uses many backends... checkout their website http://docs.juliaplots.org/latest/\n",
    "\n",
    "We start with the plotlyjs() backend.... It generates Javascript plots that are interactive. "
   ]
  },
  {
   "cell_type": "code",
   "execution_count": 73,
   "metadata": {},
   "outputs": [
    {
     "data": {
      "text/plain": [
       "Plots.PlotlyJSBackend()"
      ]
     },
     "execution_count": 73,
     "metadata": {},
     "output_type": "execute_result"
    }
   ],
   "source": [
    "plotlyjs()"
   ]
  },
  {
   "cell_type": "code",
   "execution_count": 74,
   "metadata": {},
   "outputs": [
    {
     "data": {
      "application/vnd.plotly.v1+json": {
       "data": [
        {
         "colorbar": {
          "title": ""
         },
         "legendgroup": "y1",
         "line": {
          "color": "rgba(0, 154, 250, 1.000)",
          "dash": "solid",
          "shape": "linear",
          "width": 1
         },
         "mode": "lines",
         "name": "y1",
         "showlegend": true,
         "type": "scatter",
         "x": [
          -5,
          -4.975585452450529,
          -4.951170904901059,
          -4.926756357351589,
          -4.9023418098021185,
          -4.789467937116388,
          -4.676594064430657,
          -4.563720191744926,
          -4.450846319059195,
          -4.337972446373465,
          -4.225098573687734,
          -4.1122247010020025,
          -3.9993508283162718,
          -3.863685842973144,
          -3.7280208576300167,
          -3.592355872286889,
          -3.456690886943761,
          -3.227284849893052,
          -2.997878812842343,
          -2.7486795562559143,
          -2.499480299669486,
          -2.384610463415544,
          -2.2697406271616023,
          -2.15487079090766,
          -2.0400009546537183,
          -1.916848349974064,
          -1.7936957452944098,
          -1.6705431406147557,
          -1.5473905359351015,
          -1.4047061661049955,
          -1.2620217962748894,
          -1.1193374264447833,
          -0.9766530566146772,
          -0.8498520271834542,
          -0.7230509977522314,
          -0.5962499683210085,
          -0.46944893888978556,
          -0.24706278674379273,
          -0.024676634597799892,
          0.21778396597769734,
          0.46024456655319457,
          0.5821953717969262,
          0.7041461770406577,
          0.8260969822843893,
          0.9480477875281209,
          1.0828799972071013,
          1.2177122068860817,
          1.3525444165650622,
          1.4873766262440427,
          1.6156660715451405,
          1.7439555168462386,
          1.8722449621473367,
          2.0005344074484346,
          2.1339256643647024,
          2.26731692128097,
          2.4007081781972377,
          2.5340994351135055,
          2.758673485890978,
          2.983247536668451,
          3.257426998266046,
          3.531606459863641,
          3.6604748502195017,
          3.789343240575363,
          3.918211630931224,
          4.047080021287085,
          4.150308598646275,
          4.253537176005464,
          4.3567657533646535,
          4.459994330723842,
          4.563222908083031,
          4.66645148544222,
          4.7696800628014095,
          4.872908640160599,
          4.904681480120449,
          4.9364543200802995,
          4.96822716004015,
          5
         ],
         "xaxis": "x1",
         "y": [
          0.9589242746631385,
          0.965563291722537,
          0.97162679393126,
          0.9771111671962716,
          0.9820131426088557,
          0.9970308876503605,
          0.9993594303958425,
          0.9889691355046937,
          0.9659922401577499,
          0.9307211710759917,
          0.8836048228085437,
          0.8252428446561658,
          0.7563780089405031,
          0.6609568980656421,
          0.5533895297159968,
          0.4356526454244615,
          0.30990986964986167,
          0.08558735965787978,
          -0.14321964837503193,
          -0.3828811482645716,
          -0.5988884178668034,
          -0.6867308941333826,
          -0.7655218613254127,
          -0.8342228090735139,
          -0.8919282192813187,
          -0.9407191411596759,
          -0.9752606092104765,
          -0.9950294098276709,
          -0.9997260969818377,
          -0.986238707792793,
          -0.9527066947452159,
          -0.899811572956539,
          -0.8286283994203965,
          -0.751182737350679,
          -0.6616753570350854,
          -0.5615434757426131,
          -0.4523949080295961,
          -0.24455699373377002,
          -0.02467413025764248,
          0.2160664670593724,
          0.444167238157247,
          0.5498589611843256,
          0.6473833119728851,
          0.7352917051011392,
          0.8122783865116799,
          0.8833115717351019,
          0.9383107090121471,
          0.9762774430259284,
          0.9965225940430157,
          0.9989935218813863,
          0.9850453703032711,
          0.9549073858487706,
          0.9090749050234505,
          0.8455887043238225,
          0.7670790476493855,
          0.6749408050647633,
          0.5708109838099867,
          0.37362981296428177,
          0.15768424347650672,
          -0.11557548200784744,
          -0.3802011846346912,
          -0.4959097764199482,
          -0.6033941549108707,
          -0.7008717892993345,
          -0.7867261015407899,
          -0.8461482082902942,
          -0.8965616460290249,
          -0.9374296790293236,
          -0.9683171984310474,
          -0.988895354706268,
          -0.9989450588148868,
          -0.998359314775486,
          -0.9871443588172798,
          -0.981568696042158,
          -0.9750022099138186,
          -0.9674515288300809,
          -0.9589242746631385
         ],
         "yaxis": "y1",
         "zmax": null,
         "zmin": null
        }
       ],
       "layout": {
        "annotations": [],
        "height": 400,
        "legend": {
         "bgcolor": "rgba(255, 255, 255, 1.000)",
         "bordercolor": "rgba(0, 0, 0, 1.000)",
         "borderwidth": 1,
         "font": {
          "color": "rgba(0, 0, 0, 1.000)",
          "family": "sans-serif",
          "size": 11
         },
         "tracegroupgap": 0,
         "traceorder": "normal",
         "x": 1.02,
         "xanchor": "auto",
         "y": 1,
         "yanchor": "auto"
        },
        "margin": {
         "b": 20,
         "l": 0,
         "r": 0,
         "t": 20
        },
        "paper_bgcolor": "rgba(255, 255, 255, 1.000)",
        "plot_bgcolor": "rgba(255, 255, 255, 1.000)",
        "showlegend": true,
        "width": 600,
        "xaxis": {
         "anchor": "y1",
         "domain": [
          0.0658209390492855,
          0.9934383202099738
         ],
         "gridcolor": "rgba(0, 0, 0, 0.100)",
         "gridwidth": 0.5,
         "linecolor": "rgba(0, 0, 0, 1.000)",
         "mirror": false,
         "range": [
          -5.3,
          5.3
         ],
         "showgrid": true,
         "showline": true,
         "showticklabels": true,
         "tickangle": 0,
         "tickcolor": "rgb(0, 0, 0)",
         "tickfont": {
          "color": "rgba(0, 0, 0, 1.000)",
          "family": "sans-serif",
          "size": 11
         },
         "tickmode": "array",
         "ticks": "inside",
         "ticktext": [
          "-4",
          "-2",
          "0",
          "2",
          "4"
         ],
         "tickvals": [
          -4,
          -2,
          0,
          2,
          4
         ],
         "title": "",
         "titlefont": {
          "color": "rgba(0, 0, 0, 1.000)",
          "family": "sans-serif",
          "size": 15
         },
         "type": "-",
         "visible": true,
         "zeroline": false,
         "zerolinecolor": "rgba(0, 0, 0, 1.000)"
        },
        "yaxis": {
         "anchor": "x1",
         "domain": [
          0.03762029746281716,
          0.9901574803149606
         ],
         "gridcolor": "rgba(0, 0, 0, 0.100)",
         "gridwidth": 0.5,
         "linecolor": "rgba(0, 0, 0, 1.000)",
         "mirror": false,
         "range": [
          -1.0596986628031682,
          1.059331996217173
         ],
         "showgrid": true,
         "showline": true,
         "showticklabels": true,
         "tickangle": 0,
         "tickcolor": "rgb(0, 0, 0)",
         "tickfont": {
          "color": "rgba(0, 0, 0, 1.000)",
          "family": "sans-serif",
          "size": 11
         },
         "tickmode": "array",
         "ticks": "inside",
         "ticktext": [
          "-1.0",
          "-0.5",
          "0.0",
          "0.5",
          "1.0"
         ],
         "tickvals": [
          -1,
          -0.5,
          0,
          0.5,
          1
         ],
         "title": "",
         "titlefont": {
          "color": "rgba(0, 0, 0, 1.000)",
          "family": "sans-serif",
          "size": 15
         },
         "type": "-",
         "visible": true,
         "zeroline": false,
         "zerolinecolor": "rgba(0, 0, 0, 1.000)"
        }
       }
      },
      "text/html": [
       "<!DOCTYPE html>\n",
       "<html>\n",
       "    <head>\n",
       "        <title>Plots.jl</title>\n",
       "        <meta http-equiv=\"content-type\" content=\"text/html; charset=UTF-8\">\n",
       "        <script src=\"https://cdn.plot.ly/plotly-1.54.2.min.js\"></script>\n",
       "    </head>\n",
       "    <body>\n",
       "            <div id=\"9b7928b9-3ee6-4c82-85a2-bf6f666e9585\" style=\"width:600px;height:400px;\"></div>\n",
       "    <script>\n",
       "    PLOT = document.getElementById('9b7928b9-3ee6-4c82-85a2-bf6f666e9585');\n",
       "    Plotly.plot(PLOT, [\n",
       "    {\n",
       "        \"xaxis\": \"x1\",\n",
       "        \"colorbar\": {\n",
       "            \"title\": \"\"\n",
       "        },\n",
       "        \"yaxis\": \"y1\",\n",
       "        \"x\": [\n",
       "            -5.0,\n",
       "            -4.975585452450529,\n",
       "            -4.951170904901059,\n",
       "            -4.926756357351589,\n",
       "            -4.9023418098021185,\n",
       "            -4.789467937116388,\n",
       "            -4.676594064430657,\n",
       "            -4.563720191744926,\n",
       "            -4.450846319059195,\n",
       "            -4.337972446373465,\n",
       "            -4.225098573687734,\n",
       "            -4.1122247010020025,\n",
       "            -3.9993508283162718,\n",
       "            -3.863685842973144,\n",
       "            -3.7280208576300167,\n",
       "            -3.592355872286889,\n",
       "            -3.456690886943761,\n",
       "            -3.227284849893052,\n",
       "            -2.997878812842343,\n",
       "            -2.7486795562559143,\n",
       "            -2.499480299669486,\n",
       "            -2.384610463415544,\n",
       "            -2.2697406271616023,\n",
       "            -2.15487079090766,\n",
       "            -2.0400009546537183,\n",
       "            -1.916848349974064,\n",
       "            -1.7936957452944098,\n",
       "            -1.6705431406147557,\n",
       "            -1.5473905359351015,\n",
       "            -1.4047061661049955,\n",
       "            -1.2620217962748894,\n",
       "            -1.1193374264447833,\n",
       "            -0.9766530566146772,\n",
       "            -0.8498520271834542,\n",
       "            -0.7230509977522314,\n",
       "            -0.5962499683210085,\n",
       "            -0.46944893888978556,\n",
       "            -0.24706278674379273,\n",
       "            -0.024676634597799892,\n",
       "            0.21778396597769734,\n",
       "            0.46024456655319457,\n",
       "            0.5821953717969262,\n",
       "            0.7041461770406577,\n",
       "            0.8260969822843893,\n",
       "            0.9480477875281209,\n",
       "            1.0828799972071013,\n",
       "            1.2177122068860817,\n",
       "            1.3525444165650622,\n",
       "            1.4873766262440427,\n",
       "            1.6156660715451405,\n",
       "            1.7439555168462386,\n",
       "            1.8722449621473367,\n",
       "            2.0005344074484346,\n",
       "            2.1339256643647024,\n",
       "            2.26731692128097,\n",
       "            2.4007081781972377,\n",
       "            2.5340994351135055,\n",
       "            2.758673485890978,\n",
       "            2.983247536668451,\n",
       "            3.257426998266046,\n",
       "            3.531606459863641,\n",
       "            3.6604748502195017,\n",
       "            3.789343240575363,\n",
       "            3.918211630931224,\n",
       "            4.047080021287085,\n",
       "            4.150308598646275,\n",
       "            4.253537176005464,\n",
       "            4.3567657533646535,\n",
       "            4.459994330723842,\n",
       "            4.563222908083031,\n",
       "            4.66645148544222,\n",
       "            4.7696800628014095,\n",
       "            4.872908640160599,\n",
       "            4.904681480120449,\n",
       "            4.9364543200802995,\n",
       "            4.96822716004015,\n",
       "            5.0\n",
       "        ],\n",
       "        \"showlegend\": true,\n",
       "        \"mode\": \"lines\",\n",
       "        \"name\": \"y1\",\n",
       "        \"zmin\": null,\n",
       "        \"legendgroup\": \"y1\",\n",
       "        \"zmax\": null,\n",
       "        \"line\": {\n",
       "            \"color\": \"rgba(0, 154, 250, 1.000)\",\n",
       "            \"shape\": \"linear\",\n",
       "            \"dash\": \"solid\",\n",
       "            \"width\": 1\n",
       "        },\n",
       "        \"y\": [\n",
       "            0.9589242746631385,\n",
       "            0.965563291722537,\n",
       "            0.97162679393126,\n",
       "            0.9771111671962716,\n",
       "            0.9820131426088557,\n",
       "            0.9970308876503605,\n",
       "            0.9993594303958425,\n",
       "            0.9889691355046937,\n",
       "            0.9659922401577499,\n",
       "            0.9307211710759917,\n",
       "            0.8836048228085437,\n",
       "            0.8252428446561658,\n",
       "            0.7563780089405031,\n",
       "            0.6609568980656421,\n",
       "            0.5533895297159968,\n",
       "            0.4356526454244615,\n",
       "            0.30990986964986167,\n",
       "            0.08558735965787978,\n",
       "            -0.14321964837503193,\n",
       "            -0.3828811482645716,\n",
       "            -0.5988884178668034,\n",
       "            -0.6867308941333826,\n",
       "            -0.7655218613254127,\n",
       "            -0.8342228090735139,\n",
       "            -0.8919282192813187,\n",
       "            -0.9407191411596759,\n",
       "            -0.9752606092104765,\n",
       "            -0.9950294098276709,\n",
       "            -0.9997260969818377,\n",
       "            -0.986238707792793,\n",
       "            -0.9527066947452159,\n",
       "            -0.899811572956539,\n",
       "            -0.8286283994203965,\n",
       "            -0.751182737350679,\n",
       "            -0.6616753570350854,\n",
       "            -0.5615434757426131,\n",
       "            -0.4523949080295961,\n",
       "            -0.24455699373377002,\n",
       "            -0.02467413025764248,\n",
       "            0.2160664670593724,\n",
       "            0.444167238157247,\n",
       "            0.5498589611843256,\n",
       "            0.6473833119728851,\n",
       "            0.7352917051011392,\n",
       "            0.8122783865116799,\n",
       "            0.8833115717351019,\n",
       "            0.9383107090121471,\n",
       "            0.9762774430259284,\n",
       "            0.9965225940430157,\n",
       "            0.9989935218813863,\n",
       "            0.9850453703032711,\n",
       "            0.9549073858487706,\n",
       "            0.9090749050234505,\n",
       "            0.8455887043238225,\n",
       "            0.7670790476493855,\n",
       "            0.6749408050647633,\n",
       "            0.5708109838099867,\n",
       "            0.37362981296428177,\n",
       "            0.15768424347650672,\n",
       "            -0.11557548200784744,\n",
       "            -0.3802011846346912,\n",
       "            -0.4959097764199482,\n",
       "            -0.6033941549108707,\n",
       "            -0.7008717892993345,\n",
       "            -0.7867261015407899,\n",
       "            -0.8461482082902942,\n",
       "            -0.8965616460290249,\n",
       "            -0.9374296790293236,\n",
       "            -0.9683171984310474,\n",
       "            -0.988895354706268,\n",
       "            -0.9989450588148868,\n",
       "            -0.998359314775486,\n",
       "            -0.9871443588172798,\n",
       "            -0.981568696042158,\n",
       "            -0.9750022099138186,\n",
       "            -0.9674515288300809,\n",
       "            -0.9589242746631385\n",
       "        ],\n",
       "        \"type\": \"scatter\"\n",
       "    }\n",
       "]\n",
       ", {\n",
       "    \"showlegend\": true,\n",
       "    \"xaxis\": {\n",
       "        \"showticklabels\": true,\n",
       "        \"gridwidth\": 0.5,\n",
       "        \"tickvals\": [\n",
       "            -4.0,\n",
       "            -2.0,\n",
       "            0.0,\n",
       "            2.0,\n",
       "            4.0\n",
       "        ],\n",
       "        \"visible\": true,\n",
       "        \"ticks\": \"inside\",\n",
       "        \"range\": [\n",
       "            -5.3,\n",
       "            5.3\n",
       "        ],\n",
       "        \"domain\": [\n",
       "            0.0658209390492855,\n",
       "            0.9934383202099738\n",
       "        ],\n",
       "        \"tickmode\": \"array\",\n",
       "        \"linecolor\": \"rgba(0, 0, 0, 1.000)\",\n",
       "        \"showgrid\": true,\n",
       "        \"title\": \"\",\n",
       "        \"mirror\": false,\n",
       "        \"tickangle\": 0,\n",
       "        \"showline\": true,\n",
       "        \"gridcolor\": \"rgba(0, 0, 0, 0.100)\",\n",
       "        \"titlefont\": {\n",
       "            \"color\": \"rgba(0, 0, 0, 1.000)\",\n",
       "            \"family\": \"sans-serif\",\n",
       "            \"size\": 15\n",
       "        },\n",
       "        \"tickcolor\": \"rgb(0, 0, 0)\",\n",
       "        \"ticktext\": [\n",
       "            \"-4\",\n",
       "            \"-2\",\n",
       "            \"0\",\n",
       "            \"2\",\n",
       "            \"4\"\n",
       "        ],\n",
       "        \"zeroline\": false,\n",
       "        \"type\": \"-\",\n",
       "        \"tickfont\": {\n",
       "            \"color\": \"rgba(0, 0, 0, 1.000)\",\n",
       "            \"family\": \"sans-serif\",\n",
       "            \"size\": 11\n",
       "        },\n",
       "        \"zerolinecolor\": \"rgba(0, 0, 0, 1.000)\",\n",
       "        \"anchor\": \"y1\"\n",
       "    },\n",
       "    \"paper_bgcolor\": \"rgba(255, 255, 255, 1.000)\",\n",
       "    \"annotations\": [],\n",
       "    \"height\": 400,\n",
       "    \"margin\": {\n",
       "        \"l\": 0,\n",
       "        \"b\": 20,\n",
       "        \"r\": 0,\n",
       "        \"t\": 20\n",
       "    },\n",
       "    \"plot_bgcolor\": \"rgba(255, 255, 255, 1.000)\",\n",
       "    \"yaxis\": {\n",
       "        \"showticklabels\": true,\n",
       "        \"gridwidth\": 0.5,\n",
       "        \"tickvals\": [\n",
       "            -1.0,\n",
       "            -0.5,\n",
       "            0.0,\n",
       "            0.5,\n",
       "            1.0\n",
       "        ],\n",
       "        \"visible\": true,\n",
       "        \"ticks\": \"inside\",\n",
       "        \"range\": [\n",
       "            -1.0596986628031682,\n",
       "            1.059331996217173\n",
       "        ],\n",
       "        \"domain\": [\n",
       "            0.03762029746281716,\n",
       "            0.9901574803149606\n",
       "        ],\n",
       "        \"tickmode\": \"array\",\n",
       "        \"linecolor\": \"rgba(0, 0, 0, 1.000)\",\n",
       "        \"showgrid\": true,\n",
       "        \"title\": \"\",\n",
       "        \"mirror\": false,\n",
       "        \"tickangle\": 0,\n",
       "        \"showline\": true,\n",
       "        \"gridcolor\": \"rgba(0, 0, 0, 0.100)\",\n",
       "        \"titlefont\": {\n",
       "            \"color\": \"rgba(0, 0, 0, 1.000)\",\n",
       "            \"family\": \"sans-serif\",\n",
       "            \"size\": 15\n",
       "        },\n",
       "        \"tickcolor\": \"rgb(0, 0, 0)\",\n",
       "        \"ticktext\": [\n",
       "            \"-1.0\",\n",
       "            \"-0.5\",\n",
       "            \"0.0\",\n",
       "            \"0.5\",\n",
       "            \"1.0\"\n",
       "        ],\n",
       "        \"zeroline\": false,\n",
       "        \"type\": \"-\",\n",
       "        \"tickfont\": {\n",
       "            \"color\": \"rgba(0, 0, 0, 1.000)\",\n",
       "            \"family\": \"sans-serif\",\n",
       "            \"size\": 11\n",
       "        },\n",
       "        \"zerolinecolor\": \"rgba(0, 0, 0, 1.000)\",\n",
       "        \"anchor\": \"x1\"\n",
       "    },\n",
       "    \"legend\": {\n",
       "        \"yanchor\": \"auto\",\n",
       "        \"xanchor\": \"auto\",\n",
       "        \"bordercolor\": \"rgba(0, 0, 0, 1.000)\",\n",
       "        \"bgcolor\": \"rgba(255, 255, 255, 1.000)\",\n",
       "        \"font\": {\n",
       "            \"color\": \"rgba(0, 0, 0, 1.000)\",\n",
       "            \"family\": \"sans-serif\",\n",
       "            \"size\": 11\n",
       "        },\n",
       "        \"tracegroupgap\": 0,\n",
       "        \"y\": 1.0,\n",
       "        \"borderwidth\": 1,\n",
       "        \"traceorder\": \"normal\",\n",
       "        \"x\": 1.02\n",
       "    },\n",
       "    \"width\": 600\n",
       "}\n",
       ");\n",
       "    </script>\n",
       "\n",
       "    </body>\n",
       "</html>\n"
      ]
     },
     "execution_count": 74,
     "metadata": {},
     "output_type": "execute_result"
    }
   ],
   "source": [
    "plot(sin)"
   ]
  },
  {
   "cell_type": "markdown",
   "metadata": {},
   "source": [
    "You can save it as an `html` file and put it on a web page. "
   ]
  },
  {
   "cell_type": "code",
   "execution_count": 75,
   "metadata": {},
   "outputs": [],
   "source": [
    "savefig(\"myplot.html\")"
   ]
  },
  {
   "cell_type": "markdown",
   "metadata": {},
   "source": [
    "You could have added an extra argument as in \n",
    "\n",
    "```julia\n",
    "savefig(\"myplot.html\",js)\n",
    "```\n",
    "\n",
    "The `js` argument can be one of\n",
    "- `:local`: Reference the local plotly.js file included in this Julia package\n",
    "    Pros: small file size, offline viewing. Cons: Can't share with others or\n",
    "    move to different machine..\n",
    "- `:remote`: Reference plotly.js from a CDN. Pros small file size, move to\n",
    "    other machine. Cons: need internet access to fetch from CDN\n",
    "- `:embed`: Embed the entirety of your local copy of plotly.js in the\n",
    "    outputted file. Pros: offline viewing, move to other machine. Con: large\n",
    "    file size (adds about 2.7 MB)"
   ]
  },
  {
   "cell_type": "markdown",
   "metadata": {},
   "source": [
    "GR is the default backend is generally quite good. Though it lacks the interactive elements"
   ]
  },
  {
   "cell_type": "code",
   "execution_count": 76,
   "metadata": {},
   "outputs": [
    {
     "data": {
      "text/plain": [
       "Plots.GRBackend()"
      ]
     },
     "execution_count": 76,
     "metadata": {},
     "output_type": "execute_result"
    }
   ],
   "source": [
    "gr()"
   ]
  },
  {
   "cell_type": "code",
   "execution_count": 77,
   "metadata": {},
   "outputs": [
    {
     "data": {
      "image/svg+xml": [
       "<?xml version=\"1.0\" encoding=\"utf-8\"?>\n",
       "<svg xmlns=\"http://www.w3.org/2000/svg\" xmlns:xlink=\"http://www.w3.org/1999/xlink\" width=\"600\" height=\"400\" viewBox=\"0 0 2400 1600\">\n",
       "<defs>\n",
       "  <clipPath id=\"clip970\">\n",
       "    <rect x=\"0\" y=\"0\" width=\"2400\" height=\"1600\"/>\n",
       "  </clipPath>\n",
       "</defs>\n",
       "<path clip-path=\"url(#clip970)\" d=\"\n",
       "M0 1600 L2400 1600 L2400 0 L0 0  Z\n",
       "  \" fill=\"#ffffff\" fill-rule=\"evenodd\" fill-opacity=\"1\"/>\n",
       "<defs>\n",
       "  <clipPath id=\"clip971\">\n",
       "    <rect x=\"480\" y=\"0\" width=\"1681\" height=\"1600\"/>\n",
       "  </clipPath>\n",
       "</defs>\n",
       "<path clip-path=\"url(#clip970)\" d=\"\n",
       "M162.455 1486.45 L2352.76 1486.45 L2352.76 47.2441 L162.455 47.2441  Z\n",
       "  \" fill=\"#ffffff\" fill-rule=\"evenodd\" fill-opacity=\"1\"/>\n",
       "<defs>\n",
       "  <clipPath id=\"clip972\">\n",
       "    <rect x=\"162\" y=\"47\" width=\"2191\" height=\"1440\"/>\n",
       "  </clipPath>\n",
       "</defs>\n",
       "<polyline clip-path=\"url(#clip972)\" style=\"stroke:#000000; stroke-width:2; stroke-opacity:0.1; fill:none\" points=\"\n",
       "  431.077,1486.45 431.077,47.2441 \n",
       "  \"/>\n",
       "<polyline clip-path=\"url(#clip972)\" style=\"stroke:#000000; stroke-width:2; stroke-opacity:0.1; fill:none\" points=\"\n",
       "  844.341,1486.45 844.341,47.2441 \n",
       "  \"/>\n",
       "<polyline clip-path=\"url(#clip972)\" style=\"stroke:#000000; stroke-width:2; stroke-opacity:0.1; fill:none\" points=\"\n",
       "  1257.61,1486.45 1257.61,47.2441 \n",
       "  \"/>\n",
       "<polyline clip-path=\"url(#clip972)\" style=\"stroke:#000000; stroke-width:2; stroke-opacity:0.1; fill:none\" points=\"\n",
       "  1670.87,1486.45 1670.87,47.2441 \n",
       "  \"/>\n",
       "<polyline clip-path=\"url(#clip972)\" style=\"stroke:#000000; stroke-width:2; stroke-opacity:0.1; fill:none\" points=\"\n",
       "  2084.13,1486.45 2084.13,47.2441 \n",
       "  \"/>\n",
       "<polyline clip-path=\"url(#clip972)\" style=\"stroke:#000000; stroke-width:2; stroke-opacity:0.1; fill:none\" points=\"\n",
       "  162.455,1445.9 2352.76,1445.9 \n",
       "  \"/>\n",
       "<polyline clip-path=\"url(#clip972)\" style=\"stroke:#000000; stroke-width:2; stroke-opacity:0.1; fill:none\" points=\"\n",
       "  162.455,1106.31 2352.76,1106.31 \n",
       "  \"/>\n",
       "<polyline clip-path=\"url(#clip972)\" style=\"stroke:#000000; stroke-width:2; stroke-opacity:0.1; fill:none\" points=\"\n",
       "  162.455,766.721 2352.76,766.721 \n",
       "  \"/>\n",
       "<polyline clip-path=\"url(#clip972)\" style=\"stroke:#000000; stroke-width:2; stroke-opacity:0.1; fill:none\" points=\"\n",
       "  162.455,427.131 2352.76,427.131 \n",
       "  \"/>\n",
       "<polyline clip-path=\"url(#clip972)\" style=\"stroke:#000000; stroke-width:2; stroke-opacity:0.1; fill:none\" points=\"\n",
       "  162.455,87.5412 2352.76,87.5412 \n",
       "  \"/>\n",
       "<polyline clip-path=\"url(#clip970)\" style=\"stroke:#000000; stroke-width:4; stroke-opacity:1; fill:none\" points=\"\n",
       "  162.455,1486.45 2352.76,1486.45 \n",
       "  \"/>\n",
       "<polyline clip-path=\"url(#clip970)\" style=\"stroke:#000000; stroke-width:4; stroke-opacity:1; fill:none\" points=\"\n",
       "  162.455,1486.45 162.455,47.2441 \n",
       "  \"/>\n",
       "<polyline clip-path=\"url(#clip970)\" style=\"stroke:#000000; stroke-width:4; stroke-opacity:1; fill:none\" points=\"\n",
       "  431.077,1486.45 431.077,1469.18 \n",
       "  \"/>\n",
       "<polyline clip-path=\"url(#clip970)\" style=\"stroke:#000000; stroke-width:4; stroke-opacity:1; fill:none\" points=\"\n",
       "  844.341,1486.45 844.341,1469.18 \n",
       "  \"/>\n",
       "<polyline clip-path=\"url(#clip970)\" style=\"stroke:#000000; stroke-width:4; stroke-opacity:1; fill:none\" points=\"\n",
       "  1257.61,1486.45 1257.61,1469.18 \n",
       "  \"/>\n",
       "<polyline clip-path=\"url(#clip970)\" style=\"stroke:#000000; stroke-width:4; stroke-opacity:1; fill:none\" points=\"\n",
       "  1670.87,1486.45 1670.87,1469.18 \n",
       "  \"/>\n",
       "<polyline clip-path=\"url(#clip970)\" style=\"stroke:#000000; stroke-width:4; stroke-opacity:1; fill:none\" points=\"\n",
       "  2084.13,1486.45 2084.13,1469.18 \n",
       "  \"/>\n",
       "<polyline clip-path=\"url(#clip970)\" style=\"stroke:#000000; stroke-width:4; stroke-opacity:1; fill:none\" points=\"\n",
       "  162.455,1445.9 188.738,1445.9 \n",
       "  \"/>\n",
       "<polyline clip-path=\"url(#clip970)\" style=\"stroke:#000000; stroke-width:4; stroke-opacity:1; fill:none\" points=\"\n",
       "  162.455,1106.31 188.738,1106.31 \n",
       "  \"/>\n",
       "<polyline clip-path=\"url(#clip970)\" style=\"stroke:#000000; stroke-width:4; stroke-opacity:1; fill:none\" points=\"\n",
       "  162.455,766.721 188.738,766.721 \n",
       "  \"/>\n",
       "<polyline clip-path=\"url(#clip970)\" style=\"stroke:#000000; stroke-width:4; stroke-opacity:1; fill:none\" points=\"\n",
       "  162.455,427.131 188.738,427.131 \n",
       "  \"/>\n",
       "<polyline clip-path=\"url(#clip970)\" style=\"stroke:#000000; stroke-width:4; stroke-opacity:1; fill:none\" points=\"\n",
       "  162.455,87.5412 188.738,87.5412 \n",
       "  \"/>\n",
       "<path clip-path=\"url(#clip970)\" d=\"M 0 0 M411.088 1525.04 L423.565 1525.04 L423.565 1528.83 L411.088 1528.83 L411.088 1525.04 Z\" fill=\"#000000\" fill-rule=\"evenodd\" fill-opacity=\"1\" /><path clip-path=\"url(#clip970)\" d=\"M 0 0 M441.482 1509.43 L429.676 1527.88 L441.482 1527.88 L441.482 1509.43 M440.255 1505.36 L446.134 1505.36 L446.134 1527.88 L451.065 1527.88 L451.065 1531.77 L446.134 1531.77 L446.134 1539.92 L441.482 1539.92 L441.482 1531.77 L425.88 1531.77 L425.88 1527.26 L440.255 1505.36 Z\" fill=\"#000000\" fill-rule=\"evenodd\" fill-opacity=\"1\" /><path clip-path=\"url(#clip970)\" d=\"M 0 0 M825.394 1525.04 L837.871 1525.04 L837.871 1528.83 L825.394 1528.83 L825.394 1525.04 Z\" fill=\"#000000\" fill-rule=\"evenodd\" fill-opacity=\"1\" /><path clip-path=\"url(#clip970)\" d=\"M 0 0 M846.968 1535.98 L863.288 1535.98 L863.288 1539.92 L841.343 1539.92 L841.343 1535.98 Q844.005 1533.23 848.589 1528.6 Q853.195 1523.95 854.376 1522.61 Q856.621 1520.08 857.501 1518.35 Q858.403 1516.59 858.403 1514.9 Q858.403 1512.14 856.459 1510.41 Q854.538 1508.67 851.436 1508.67 Q849.237 1508.67 846.783 1509.43 Q844.352 1510.2 841.575 1511.75 L841.575 1507.03 Q844.399 1505.89 846.852 1505.31 Q849.306 1504.73 851.343 1504.73 Q856.714 1504.73 859.908 1507.42 Q863.102 1510.11 863.102 1514.6 Q863.102 1516.73 862.292 1518.65 Q861.505 1520.54 859.399 1523.14 Q858.82 1523.81 855.718 1527.03 Q852.616 1530.22 846.968 1535.98 Z\" fill=\"#000000\" fill-rule=\"evenodd\" fill-opacity=\"1\" /><path clip-path=\"url(#clip970)\" d=\"M 0 0 M1257.61 1508.44 Q1253.99 1508.44 1252.17 1512 Q1250.36 1515.55 1250.36 1522.67 Q1250.36 1529.78 1252.17 1533.35 Q1253.99 1536.89 1257.61 1536.89 Q1261.24 1536.89 1263.05 1533.35 Q1264.87 1529.78 1264.87 1522.67 Q1264.87 1515.55 1263.05 1512 Q1261.24 1508.44 1257.61 1508.44 M1257.61 1504.73 Q1263.42 1504.73 1266.47 1509.34 Q1269.55 1513.92 1269.55 1522.67 Q1269.55 1531.4 1266.47 1536.01 Q1263.42 1540.59 1257.61 1540.59 Q1251.8 1540.59 1248.72 1536.01 Q1245.66 1531.4 1245.66 1522.67 Q1245.66 1513.92 1248.72 1509.34 Q1251.8 1504.73 1257.61 1504.73 Z\" fill=\"#000000\" fill-rule=\"evenodd\" fill-opacity=\"1\" /><path clip-path=\"url(#clip970)\" d=\"M 0 0 M1665.52 1535.98 L1681.84 1535.98 L1681.84 1539.92 L1659.9 1539.92 L1659.9 1535.98 Q1662.56 1533.23 1667.14 1528.6 Q1671.75 1523.95 1672.93 1522.61 Q1675.18 1520.08 1676.05 1518.35 Q1676.96 1516.59 1676.96 1514.9 Q1676.96 1512.14 1675.01 1510.41 Q1673.09 1508.67 1669.99 1508.67 Q1667.79 1508.67 1665.34 1509.43 Q1662.91 1510.2 1660.13 1511.75 L1660.13 1507.03 Q1662.95 1505.89 1665.41 1505.31 Q1667.86 1504.73 1669.9 1504.73 Q1675.27 1504.73 1678.46 1507.42 Q1681.66 1510.11 1681.66 1514.6 Q1681.66 1516.73 1680.85 1518.65 Q1680.06 1520.54 1677.95 1523.14 Q1677.37 1523.81 1674.27 1527.03 Q1671.17 1530.22 1665.52 1535.98 Z\" fill=\"#000000\" fill-rule=\"evenodd\" fill-opacity=\"1\" /><path clip-path=\"url(#clip970)\" d=\"M 0 0 M2087.14 1509.43 L2075.34 1527.88 L2087.14 1527.88 L2087.14 1509.43 M2085.92 1505.36 L2091.8 1505.36 L2091.8 1527.88 L2096.73 1527.88 L2096.73 1531.77 L2091.8 1531.77 L2091.8 1539.92 L2087.14 1539.92 L2087.14 1531.77 L2071.54 1531.77 L2071.54 1527.26 L2085.92 1505.36 Z\" fill=\"#000000\" fill-rule=\"evenodd\" fill-opacity=\"1\" /><path clip-path=\"url(#clip970)\" d=\"M 0 0 M63.2236 1448.3 L75.7004 1448.3 L75.7004 1452.09 L63.2236 1452.09 L63.2236 1448.3 Z\" fill=\"#000000\" fill-rule=\"evenodd\" fill-opacity=\"1\" /><path clip-path=\"url(#clip970)\" d=\"M 0 0 M81.58 1459.25 L89.2188 1459.25 L89.2188 1432.88 L80.9087 1434.55 L80.9087 1430.29 L89.1725 1428.62 L93.8484 1428.62 L93.8484 1459.25 L101.487 1459.25 L101.487 1463.18 L81.58 1463.18 L81.58 1459.25 Z\" fill=\"#000000\" fill-rule=\"evenodd\" fill-opacity=\"1\" /><path clip-path=\"url(#clip970)\" d=\"M 0 0 M106.557 1457.3 L111.441 1457.3 L111.441 1463.18 L106.557 1463.18 L106.557 1457.3 Z\" fill=\"#000000\" fill-rule=\"evenodd\" fill-opacity=\"1\" /><path clip-path=\"url(#clip970)\" d=\"M 0 0 M126.51 1431.7 Q122.899 1431.7 121.071 1435.27 Q119.265 1438.81 119.265 1445.94 Q119.265 1453.04 121.071 1456.61 Q122.899 1460.15 126.51 1460.15 Q130.145 1460.15 131.95 1456.61 Q133.779 1453.04 133.779 1445.94 Q133.779 1438.81 131.95 1435.27 Q130.145 1431.7 126.51 1431.7 M126.51 1428 Q132.32 1428 135.376 1432.6 Q138.455 1437.19 138.455 1445.94 Q138.455 1454.66 135.376 1459.27 Q132.32 1463.85 126.51 1463.85 Q120.7 1463.85 117.621 1459.27 Q114.566 1454.66 114.566 1445.94 Q114.566 1437.19 117.621 1432.6 Q120.7 1428 126.51 1428 Z\" fill=\"#000000\" fill-rule=\"evenodd\" fill-opacity=\"1\" /><path clip-path=\"url(#clip970)\" d=\"M 0 0 M62.9921 1108.71 L75.4689 1108.71 L75.4689 1112.5 L62.9921 1112.5 L62.9921 1108.71 Z\" fill=\"#000000\" fill-rule=\"evenodd\" fill-opacity=\"1\" /><path clip-path=\"url(#clip970)\" d=\"M 0 0 M90.5383 1092.11 Q86.9272 1092.11 85.0985 1095.68 Q83.2929 1099.22 83.2929 1106.35 Q83.2929 1113.45 85.0985 1117.02 Q86.9272 1120.56 90.5383 1120.56 Q94.1725 1120.56 95.9781 1117.02 Q97.8068 1113.45 97.8068 1106.35 Q97.8068 1099.22 95.9781 1095.68 Q94.1725 1092.11 90.5383 1092.11 M90.5383 1088.41 Q96.3484 1088.41 99.404 1093.01 Q102.483 1097.6 102.483 1106.35 Q102.483 1115.07 99.404 1119.68 Q96.3484 1124.26 90.5383 1124.26 Q84.7281 1124.26 81.6494 1119.68 Q78.5939 1115.07 78.5939 1106.35 Q78.5939 1097.6 81.6494 1093.01 Q84.7281 1088.41 90.5383 1088.41 Z\" fill=\"#000000\" fill-rule=\"evenodd\" fill-opacity=\"1\" /><path clip-path=\"url(#clip970)\" d=\"M 0 0 M107.552 1117.71 L112.436 1117.71 L112.436 1123.59 L107.552 1123.59 L107.552 1117.71 Z\" fill=\"#000000\" fill-rule=\"evenodd\" fill-opacity=\"1\" /><path clip-path=\"url(#clip970)\" d=\"M 0 0 M117.552 1089.03 L135.908 1089.03 L135.908 1092.97 L121.834 1092.97 L121.834 1101.44 Q122.853 1101.09 123.871 1100.93 Q124.89 1100.74 125.908 1100.74 Q131.695 1100.74 135.075 1103.92 Q138.455 1107.09 138.455 1112.5 Q138.455 1118.08 134.982 1121.18 Q131.51 1124.26 125.191 1124.26 Q123.015 1124.26 120.746 1123.89 Q118.501 1123.52 116.094 1122.78 L116.094 1118.08 Q118.177 1119.22 120.399 1119.77 Q122.621 1120.33 125.098 1120.33 Q129.103 1120.33 131.441 1118.22 Q133.779 1116.11 133.779 1112.5 Q133.779 1108.89 131.441 1106.79 Q129.103 1104.68 125.098 1104.68 Q123.223 1104.68 121.348 1105.1 Q119.496 1105.51 117.552 1106.39 L117.552 1089.03 Z\" fill=\"#000000\" fill-rule=\"evenodd\" fill-opacity=\"1\" /><path clip-path=\"url(#clip970)\" d=\"M 0 0 M89.5429 752.52 Q85.9318 752.52 84.1031 756.085 Q82.2976 759.627 82.2976 766.756 Q82.2976 773.863 84.1031 777.427 Q85.9318 780.969 89.5429 780.969 Q93.1771 780.969 94.9827 777.427 Q96.8114 773.863 96.8114 766.756 Q96.8114 759.627 94.9827 756.085 Q93.1771 752.52 89.5429 752.52 M89.5429 748.816 Q95.3531 748.816 98.4086 753.423 Q101.487 758.006 101.487 766.756 Q101.487 775.483 98.4086 780.089 Q95.3531 784.673 89.5429 784.673 Q83.7328 784.673 80.6541 780.089 Q77.5985 775.483 77.5985 766.756 Q77.5985 758.006 80.6541 753.423 Q83.7328 748.816 89.5429 748.816 Z\" fill=\"#000000\" fill-rule=\"evenodd\" fill-opacity=\"1\" /><path clip-path=\"url(#clip970)\" d=\"M 0 0 M106.557 778.122 L111.441 778.122 L111.441 784.001 L106.557 784.001 L106.557 778.122 Z\" fill=\"#000000\" fill-rule=\"evenodd\" fill-opacity=\"1\" /><path clip-path=\"url(#clip970)\" d=\"M 0 0 M126.51 752.52 Q122.899 752.52 121.071 756.085 Q119.265 759.627 119.265 766.756 Q119.265 773.863 121.071 777.427 Q122.899 780.969 126.51 780.969 Q130.145 780.969 131.95 777.427 Q133.779 773.863 133.779 766.756 Q133.779 759.627 131.95 756.085 Q130.145 752.52 126.51 752.52 M126.51 748.816 Q132.32 748.816 135.376 753.423 Q138.455 758.006 138.455 766.756 Q138.455 775.483 135.376 780.089 Q132.32 784.673 126.51 784.673 Q120.7 784.673 117.621 780.089 Q114.566 775.483 114.566 766.756 Q114.566 758.006 117.621 753.423 Q120.7 748.816 126.51 748.816 Z\" fill=\"#000000\" fill-rule=\"evenodd\" fill-opacity=\"1\" /><path clip-path=\"url(#clip970)\" d=\"M 0 0 M90.5383 412.93 Q86.9272 412.93 85.0985 416.495 Q83.2929 420.036 83.2929 427.166 Q83.2929 434.273 85.0985 437.837 Q86.9272 441.379 90.5383 441.379 Q94.1725 441.379 95.9781 437.837 Q97.8068 434.273 97.8068 427.166 Q97.8068 420.036 95.9781 416.495 Q94.1725 412.93 90.5383 412.93 M90.5383 409.226 Q96.3484 409.226 99.404 413.833 Q102.483 418.416 102.483 427.166 Q102.483 435.893 99.404 440.499 Q96.3484 445.083 90.5383 445.083 Q84.7281 445.083 81.6494 440.499 Q78.5939 435.893 78.5939 427.166 Q78.5939 418.416 81.6494 413.833 Q84.7281 409.226 90.5383 409.226 Z\" fill=\"#000000\" fill-rule=\"evenodd\" fill-opacity=\"1\" /><path clip-path=\"url(#clip970)\" d=\"M 0 0 M107.552 438.532 L112.436 438.532 L112.436 444.411 L107.552 444.411 L107.552 438.532 Z\" fill=\"#000000\" fill-rule=\"evenodd\" fill-opacity=\"1\" /><path clip-path=\"url(#clip970)\" d=\"M 0 0 M117.552 409.851 L135.908 409.851 L135.908 413.787 L121.834 413.787 L121.834 422.259 Q122.853 421.911 123.871 421.749 Q124.89 421.564 125.908 421.564 Q131.695 421.564 135.075 424.736 Q138.455 427.907 138.455 433.323 Q138.455 438.902 134.982 442.004 Q131.51 445.083 125.191 445.083 Q123.015 445.083 120.746 444.712 Q118.501 444.342 116.094 443.601 L116.094 438.902 Q118.177 440.036 120.399 440.592 Q122.621 441.147 125.098 441.147 Q129.103 441.147 131.441 439.041 Q133.779 436.935 133.779 433.323 Q133.779 429.712 131.441 427.606 Q129.103 425.499 125.098 425.499 Q123.223 425.499 121.348 425.916 Q119.496 426.333 117.552 427.212 L117.552 409.851 Z\" fill=\"#000000\" fill-rule=\"evenodd\" fill-opacity=\"1\" /><path clip-path=\"url(#clip970)\" d=\"M 0 0 M81.58 100.886 L89.2188 100.886 L89.2188 74.5205 L80.9087 76.1871 L80.9087 71.9279 L89.1725 70.2612 L93.8484 70.2612 L93.8484 100.886 L101.487 100.886 L101.487 104.821 L81.58 104.821 L81.58 100.886 Z\" fill=\"#000000\" fill-rule=\"evenodd\" fill-opacity=\"1\" /><path clip-path=\"url(#clip970)\" d=\"M 0 0 M106.557 98.9416 L111.441 98.9416 L111.441 104.821 L106.557 104.821 L106.557 98.9416 Z\" fill=\"#000000\" fill-rule=\"evenodd\" fill-opacity=\"1\" /><path clip-path=\"url(#clip970)\" d=\"M 0 0 M126.51 73.3399 Q122.899 73.3399 121.071 76.9047 Q119.265 80.4463 119.265 87.5759 Q119.265 94.6824 121.071 98.2472 Q122.899 101.789 126.51 101.789 Q130.145 101.789 131.95 98.2472 Q133.779 94.6824 133.779 87.5759 Q133.779 80.4463 131.95 76.9047 Q130.145 73.3399 126.51 73.3399 M126.51 69.6362 Q132.32 69.6362 135.376 74.2427 Q138.455 78.826 138.455 87.5759 Q138.455 96.3027 135.376 100.909 Q132.32 105.493 126.51 105.493 Q120.7 105.493 117.621 100.909 Q114.566 96.3027 114.566 87.5759 Q114.566 78.826 117.621 74.2427 Q120.7 69.6362 126.51 69.6362 Z\" fill=\"#000000\" fill-rule=\"evenodd\" fill-opacity=\"1\" /><polyline clip-path=\"url(#clip972)\" style=\"stroke:#009af9; stroke-width:4; stroke-opacity:1; fill:none\" points=\"\n",
       "  224.444,115.439 229.489,110.93 234.534,106.812 239.579,103.087 244.624,99.7575 267.947,89.5578 291.27,87.9763 314.594,95.0332 337.917,110.639 361.241,134.594 \n",
       "  384.564,166.595 407.887,206.233 431.211,253.004 459.243,317.813 487.276,390.87 515.309,470.835 543.342,556.237 590.744,708.592 638.147,863.993 689.64,1026.77 \n",
       "  741.132,1173.47 764.868,1233.14 788.604,1286.65 812.34,1333.31 836.075,1372.5 861.523,1405.64 886.97,1429.1 912.417,1442.53 937.865,1445.72 967.348,1436.56 \n",
       "  996.831,1413.78 1026.31,1377.86 1055.8,1329.51 1082,1276.91 1108.2,1216.12 1134.4,1148.11 1160.6,1073.98 1206.55,932.82 1252.51,783.48 1302.61,619.973 \n",
       "  1352.71,465.052 1377.91,393.268 1403.1,327.032 1428.3,267.326 1453.5,215.038 1481.36,166.794 1509.22,129.439 1537.08,103.653 1564.95,89.903 1591.45,88.2248 \n",
       "  1617.96,97.6981 1644.47,118.167 1670.98,149.296 1698.54,192.414 1726.11,245.737 1753.67,308.315 1781.23,379.038 1827.64,512.959 1874.04,659.625 1930.69,845.218 \n",
       "  1987.35,1024.95 2013.98,1103.53 2040.61,1176.53 2067.23,1242.74 2093.86,1301.05 2115.19,1341.41 2136.52,1375.65 2157.85,1403.41 2179.18,1424.38 2200.51,1438.36 \n",
       "  2221.84,1445.19 2243.17,1444.79 2264.51,1437.17 2271.07,1433.38 2277.64,1428.92 2284.2,1423.8 2290.77,1418 \n",
       "  \"/>\n",
       "<path clip-path=\"url(#clip970)\" d=\"\n",
       "M1989.74 251.724 L2280.76 251.724 L2280.76 130.764 L1989.74 130.764  Z\n",
       "  \" fill=\"#ffffff\" fill-rule=\"evenodd\" fill-opacity=\"1\"/>\n",
       "<polyline clip-path=\"url(#clip970)\" style=\"stroke:#000000; stroke-width:4; stroke-opacity:1; fill:none\" points=\"\n",
       "  1989.74,251.724 2280.76,251.724 2280.76,130.764 1989.74,130.764 1989.74,251.724 \n",
       "  \"/>\n",
       "<polyline clip-path=\"url(#clip970)\" style=\"stroke:#009af9; stroke-width:4; stroke-opacity:1; fill:none\" points=\"\n",
       "  2013.74,191.244 2157.74,191.244 \n",
       "  \"/>\n",
       "<path clip-path=\"url(#clip970)\" d=\"M 0 0 M2195.58 210.931 Q2193.77 215.561 2192.06 216.973 Q2190.35 218.385 2187.48 218.385 L2184.08 218.385 L2184.08 214.82 L2186.58 214.82 Q2188.33 214.82 2189.31 213.987 Q2190.28 213.154 2191.46 210.052 L2192.22 208.107 L2181.74 182.598 L2186.25 182.598 L2194.35 202.876 L2202.46 182.598 L2206.97 182.598 L2195.58 210.931 Z\" fill=\"#000000\" fill-rule=\"evenodd\" fill-opacity=\"1\" /><path clip-path=\"url(#clip970)\" d=\"M 0 0 M2212.85 204.589 L2220.49 204.589 L2220.49 178.223 L2212.18 179.89 L2212.18 175.631 L2220.44 173.964 L2225.12 173.964 L2225.12 204.589 L2232.76 204.589 L2232.76 208.524 L2212.85 208.524 L2212.85 204.589 Z\" fill=\"#000000\" fill-rule=\"evenodd\" fill-opacity=\"1\" /></svg>\n"
      ]
     },
     "execution_count": 77,
     "metadata": {},
     "output_type": "execute_result"
    }
   ],
   "source": [
    "p=plot(sin)"
   ]
  },
  {
   "cell_type": "markdown",
   "metadata": {},
   "source": [
    "With `Plots` you can do a bit of composition "
   ]
  },
  {
   "cell_type": "code",
   "execution_count": 78,
   "metadata": {},
   "outputs": [
    {
     "data": {
      "image/svg+xml": [
       "<?xml version=\"1.0\" encoding=\"utf-8\"?>\n",
       "<svg xmlns=\"http://www.w3.org/2000/svg\" xmlns:xlink=\"http://www.w3.org/1999/xlink\" width=\"600\" height=\"400\" viewBox=\"0 0 2400 1600\">\n",
       "<defs>\n",
       "  <clipPath id=\"clip010\">\n",
       "    <rect x=\"0\" y=\"0\" width=\"2400\" height=\"1600\"/>\n",
       "  </clipPath>\n",
       "</defs>\n",
       "<path clip-path=\"url(#clip010)\" d=\"\n",
       "M0 1600 L2400 1600 L2400 0 L0 0  Z\n",
       "  \" fill=\"#ffffff\" fill-rule=\"evenodd\" fill-opacity=\"1\"/>\n",
       "<defs>\n",
       "  <clipPath id=\"clip011\">\n",
       "    <rect x=\"480\" y=\"0\" width=\"1681\" height=\"1600\"/>\n",
       "  </clipPath>\n",
       "</defs>\n",
       "<path clip-path=\"url(#clip010)\" d=\"\n",
       "M162.455 1486.45 L2352.76 1486.45 L2352.76 47.2441 L162.455 47.2441  Z\n",
       "  \" fill=\"#ffffff\" fill-rule=\"evenodd\" fill-opacity=\"1\"/>\n",
       "<defs>\n",
       "  <clipPath id=\"clip012\">\n",
       "    <rect x=\"162\" y=\"47\" width=\"2191\" height=\"1440\"/>\n",
       "  </clipPath>\n",
       "</defs>\n",
       "<polyline clip-path=\"url(#clip012)\" style=\"stroke:#000000; stroke-width:2; stroke-opacity:0.1; fill:none\" points=\"\n",
       "  431.077,1486.45 431.077,47.2441 \n",
       "  \"/>\n",
       "<polyline clip-path=\"url(#clip012)\" style=\"stroke:#000000; stroke-width:2; stroke-opacity:0.1; fill:none\" points=\"\n",
       "  844.341,1486.45 844.341,47.2441 \n",
       "  \"/>\n",
       "<polyline clip-path=\"url(#clip012)\" style=\"stroke:#000000; stroke-width:2; stroke-opacity:0.1; fill:none\" points=\"\n",
       "  1257.61,1486.45 1257.61,47.2441 \n",
       "  \"/>\n",
       "<polyline clip-path=\"url(#clip012)\" style=\"stroke:#000000; stroke-width:2; stroke-opacity:0.1; fill:none\" points=\"\n",
       "  1670.87,1486.45 1670.87,47.2441 \n",
       "  \"/>\n",
       "<polyline clip-path=\"url(#clip012)\" style=\"stroke:#000000; stroke-width:2; stroke-opacity:0.1; fill:none\" points=\"\n",
       "  2084.13,1486.45 2084.13,47.2441 \n",
       "  \"/>\n",
       "<polyline clip-path=\"url(#clip012)\" style=\"stroke:#000000; stroke-width:2; stroke-opacity:0.1; fill:none\" points=\"\n",
       "  162.455,1445.87 2352.76,1445.87 \n",
       "  \"/>\n",
       "<polyline clip-path=\"url(#clip012)\" style=\"stroke:#000000; stroke-width:2; stroke-opacity:0.1; fill:none\" points=\"\n",
       "  162.455,1106.34 2352.76,1106.34 \n",
       "  \"/>\n",
       "<polyline clip-path=\"url(#clip012)\" style=\"stroke:#000000; stroke-width:2; stroke-opacity:0.1; fill:none\" points=\"\n",
       "  162.455,766.819 2352.76,766.819 \n",
       "  \"/>\n",
       "<polyline clip-path=\"url(#clip012)\" style=\"stroke:#000000; stroke-width:2; stroke-opacity:0.1; fill:none\" points=\"\n",
       "  162.455,427.294 2352.76,427.294 \n",
       "  \"/>\n",
       "<polyline clip-path=\"url(#clip012)\" style=\"stroke:#000000; stroke-width:2; stroke-opacity:0.1; fill:none\" points=\"\n",
       "  162.455,87.7695 2352.76,87.7695 \n",
       "  \"/>\n",
       "<polyline clip-path=\"url(#clip010)\" style=\"stroke:#000000; stroke-width:4; stroke-opacity:1; fill:none\" points=\"\n",
       "  162.455,1486.45 2352.76,1486.45 \n",
       "  \"/>\n",
       "<polyline clip-path=\"url(#clip010)\" style=\"stroke:#000000; stroke-width:4; stroke-opacity:1; fill:none\" points=\"\n",
       "  162.455,1486.45 162.455,47.2441 \n",
       "  \"/>\n",
       "<polyline clip-path=\"url(#clip010)\" style=\"stroke:#000000; stroke-width:4; stroke-opacity:1; fill:none\" points=\"\n",
       "  431.077,1486.45 431.077,1469.18 \n",
       "  \"/>\n",
       "<polyline clip-path=\"url(#clip010)\" style=\"stroke:#000000; stroke-width:4; stroke-opacity:1; fill:none\" points=\"\n",
       "  844.341,1486.45 844.341,1469.18 \n",
       "  \"/>\n",
       "<polyline clip-path=\"url(#clip010)\" style=\"stroke:#000000; stroke-width:4; stroke-opacity:1; fill:none\" points=\"\n",
       "  1257.61,1486.45 1257.61,1469.18 \n",
       "  \"/>\n",
       "<polyline clip-path=\"url(#clip010)\" style=\"stroke:#000000; stroke-width:4; stroke-opacity:1; fill:none\" points=\"\n",
       "  1670.87,1486.45 1670.87,1469.18 \n",
       "  \"/>\n",
       "<polyline clip-path=\"url(#clip010)\" style=\"stroke:#000000; stroke-width:4; stroke-opacity:1; fill:none\" points=\"\n",
       "  2084.13,1486.45 2084.13,1469.18 \n",
       "  \"/>\n",
       "<polyline clip-path=\"url(#clip010)\" style=\"stroke:#000000; stroke-width:4; stroke-opacity:1; fill:none\" points=\"\n",
       "  162.455,1445.87 188.738,1445.87 \n",
       "  \"/>\n",
       "<polyline clip-path=\"url(#clip010)\" style=\"stroke:#000000; stroke-width:4; stroke-opacity:1; fill:none\" points=\"\n",
       "  162.455,1106.34 188.738,1106.34 \n",
       "  \"/>\n",
       "<polyline clip-path=\"url(#clip010)\" style=\"stroke:#000000; stroke-width:4; stroke-opacity:1; fill:none\" points=\"\n",
       "  162.455,766.819 188.738,766.819 \n",
       "  \"/>\n",
       "<polyline clip-path=\"url(#clip010)\" style=\"stroke:#000000; stroke-width:4; stroke-opacity:1; fill:none\" points=\"\n",
       "  162.455,427.294 188.738,427.294 \n",
       "  \"/>\n",
       "<polyline clip-path=\"url(#clip010)\" style=\"stroke:#000000; stroke-width:4; stroke-opacity:1; fill:none\" points=\"\n",
       "  162.455,87.7695 188.738,87.7695 \n",
       "  \"/>\n",
       "<path clip-path=\"url(#clip010)\" d=\"M 0 0 M411.088 1525.04 L423.565 1525.04 L423.565 1528.83 L411.088 1528.83 L411.088 1525.04 Z\" fill=\"#000000\" fill-rule=\"evenodd\" fill-opacity=\"1\" /><path clip-path=\"url(#clip010)\" d=\"M 0 0 M441.482 1509.43 L429.676 1527.88 L441.482 1527.88 L441.482 1509.43 M440.255 1505.36 L446.134 1505.36 L446.134 1527.88 L451.065 1527.88 L451.065 1531.77 L446.134 1531.77 L446.134 1539.92 L441.482 1539.92 L441.482 1531.77 L425.88 1531.77 L425.88 1527.26 L440.255 1505.36 Z\" fill=\"#000000\" fill-rule=\"evenodd\" fill-opacity=\"1\" /><path clip-path=\"url(#clip010)\" d=\"M 0 0 M825.394 1525.04 L837.871 1525.04 L837.871 1528.83 L825.394 1528.83 L825.394 1525.04 Z\" fill=\"#000000\" fill-rule=\"evenodd\" fill-opacity=\"1\" /><path clip-path=\"url(#clip010)\" d=\"M 0 0 M846.968 1535.98 L863.288 1535.98 L863.288 1539.92 L841.343 1539.92 L841.343 1535.98 Q844.005 1533.23 848.589 1528.6 Q853.195 1523.95 854.376 1522.61 Q856.621 1520.08 857.501 1518.35 Q858.403 1516.59 858.403 1514.9 Q858.403 1512.14 856.459 1510.41 Q854.538 1508.67 851.436 1508.67 Q849.237 1508.67 846.783 1509.43 Q844.352 1510.2 841.575 1511.75 L841.575 1507.03 Q844.399 1505.89 846.852 1505.31 Q849.306 1504.73 851.343 1504.73 Q856.714 1504.73 859.908 1507.42 Q863.102 1510.11 863.102 1514.6 Q863.102 1516.73 862.292 1518.65 Q861.505 1520.54 859.399 1523.14 Q858.82 1523.81 855.718 1527.03 Q852.616 1530.22 846.968 1535.98 Z\" fill=\"#000000\" fill-rule=\"evenodd\" fill-opacity=\"1\" /><path clip-path=\"url(#clip010)\" d=\"M 0 0 M1257.61 1508.44 Q1253.99 1508.44 1252.17 1512 Q1250.36 1515.55 1250.36 1522.67 Q1250.36 1529.78 1252.17 1533.35 Q1253.99 1536.89 1257.61 1536.89 Q1261.24 1536.89 1263.05 1533.35 Q1264.87 1529.78 1264.87 1522.67 Q1264.87 1515.55 1263.05 1512 Q1261.24 1508.44 1257.61 1508.44 M1257.61 1504.73 Q1263.42 1504.73 1266.47 1509.34 Q1269.55 1513.92 1269.55 1522.67 Q1269.55 1531.4 1266.47 1536.01 Q1263.42 1540.59 1257.61 1540.59 Q1251.8 1540.59 1248.72 1536.01 Q1245.66 1531.4 1245.66 1522.67 Q1245.66 1513.92 1248.72 1509.34 Q1251.8 1504.73 1257.61 1504.73 Z\" fill=\"#000000\" fill-rule=\"evenodd\" fill-opacity=\"1\" /><path clip-path=\"url(#clip010)\" d=\"M 0 0 M1665.52 1535.98 L1681.84 1535.98 L1681.84 1539.92 L1659.9 1539.92 L1659.9 1535.98 Q1662.56 1533.23 1667.14 1528.6 Q1671.75 1523.95 1672.93 1522.61 Q1675.18 1520.08 1676.05 1518.35 Q1676.96 1516.59 1676.96 1514.9 Q1676.96 1512.14 1675.01 1510.41 Q1673.09 1508.67 1669.99 1508.67 Q1667.79 1508.67 1665.34 1509.43 Q1662.91 1510.2 1660.13 1511.75 L1660.13 1507.03 Q1662.95 1505.89 1665.41 1505.31 Q1667.86 1504.73 1669.9 1504.73 Q1675.27 1504.73 1678.46 1507.42 Q1681.66 1510.11 1681.66 1514.6 Q1681.66 1516.73 1680.85 1518.65 Q1680.06 1520.54 1677.95 1523.14 Q1677.37 1523.81 1674.27 1527.03 Q1671.17 1530.22 1665.52 1535.98 Z\" fill=\"#000000\" fill-rule=\"evenodd\" fill-opacity=\"1\" /><path clip-path=\"url(#clip010)\" d=\"M 0 0 M2087.14 1509.43 L2075.34 1527.88 L2087.14 1527.88 L2087.14 1509.43 M2085.92 1505.36 L2091.8 1505.36 L2091.8 1527.88 L2096.73 1527.88 L2096.73 1531.77 L2091.8 1531.77 L2091.8 1539.92 L2087.14 1539.92 L2087.14 1531.77 L2071.54 1531.77 L2071.54 1527.26 L2085.92 1505.36 Z\" fill=\"#000000\" fill-rule=\"evenodd\" fill-opacity=\"1\" /><path clip-path=\"url(#clip010)\" d=\"M 0 0 M63.2236 1448.26 L75.7004 1448.26 L75.7004 1452.06 L63.2236 1452.06 L63.2236 1448.26 Z\" fill=\"#000000\" fill-rule=\"evenodd\" fill-opacity=\"1\" /><path clip-path=\"url(#clip010)\" d=\"M 0 0 M81.58 1459.21 L89.2188 1459.21 L89.2188 1432.85 L80.9087 1434.51 L80.9087 1430.26 L89.1725 1428.59 L93.8484 1428.59 L93.8484 1459.21 L101.487 1459.21 L101.487 1463.15 L81.58 1463.15 L81.58 1459.21 Z\" fill=\"#000000\" fill-rule=\"evenodd\" fill-opacity=\"1\" /><path clip-path=\"url(#clip010)\" d=\"M 0 0 M106.557 1457.27 L111.441 1457.27 L111.441 1463.15 L106.557 1463.15 L106.557 1457.27 Z\" fill=\"#000000\" fill-rule=\"evenodd\" fill-opacity=\"1\" /><path clip-path=\"url(#clip010)\" d=\"M 0 0 M126.51 1431.67 Q122.899 1431.67 121.071 1435.23 Q119.265 1438.77 119.265 1445.9 Q119.265 1453.01 121.071 1456.58 Q122.899 1460.12 126.51 1460.12 Q130.145 1460.12 131.95 1456.58 Q133.779 1453.01 133.779 1445.9 Q133.779 1438.77 131.95 1435.23 Q130.145 1431.67 126.51 1431.67 M126.51 1427.96 Q132.32 1427.96 135.376 1432.57 Q138.455 1437.15 138.455 1445.9 Q138.455 1454.63 135.376 1459.24 Q132.32 1463.82 126.51 1463.82 Q120.7 1463.82 117.621 1459.24 Q114.566 1454.63 114.566 1445.9 Q114.566 1437.15 117.621 1432.57 Q120.7 1427.96 126.51 1427.96 Z\" fill=\"#000000\" fill-rule=\"evenodd\" fill-opacity=\"1\" /><path clip-path=\"url(#clip010)\" d=\"M 0 0 M62.9921 1108.74 L75.4689 1108.74 L75.4689 1112.54 L62.9921 1112.54 L62.9921 1108.74 Z\" fill=\"#000000\" fill-rule=\"evenodd\" fill-opacity=\"1\" /><path clip-path=\"url(#clip010)\" d=\"M 0 0 M90.5383 1092.14 Q86.9272 1092.14 85.0985 1095.71 Q83.2929 1099.25 83.2929 1106.38 Q83.2929 1113.49 85.0985 1117.05 Q86.9272 1120.59 90.5383 1120.59 Q94.1725 1120.59 95.9781 1117.05 Q97.8068 1113.49 97.8068 1106.38 Q97.8068 1099.25 95.9781 1095.71 Q94.1725 1092.14 90.5383 1092.14 M90.5383 1088.44 Q96.3484 1088.44 99.404 1093.05 Q102.483 1097.63 102.483 1106.38 Q102.483 1115.11 99.404 1119.71 Q96.3484 1124.3 90.5383 1124.3 Q84.7281 1124.3 81.6494 1119.71 Q78.5939 1115.11 78.5939 1106.38 Q78.5939 1097.63 81.6494 1093.05 Q84.7281 1088.44 90.5383 1088.44 Z\" fill=\"#000000\" fill-rule=\"evenodd\" fill-opacity=\"1\" /><path clip-path=\"url(#clip010)\" d=\"M 0 0 M107.552 1117.74 L112.436 1117.74 L112.436 1123.62 L107.552 1123.62 L107.552 1117.74 Z\" fill=\"#000000\" fill-rule=\"evenodd\" fill-opacity=\"1\" /><path clip-path=\"url(#clip010)\" d=\"M 0 0 M117.552 1089.06 L135.908 1089.06 L135.908 1093 L121.834 1093 L121.834 1101.47 Q122.853 1101.12 123.871 1100.96 Q124.89 1100.78 125.908 1100.78 Q131.695 1100.78 135.075 1103.95 Q138.455 1107.12 138.455 1112.54 Q138.455 1118.11 134.982 1121.22 Q131.51 1124.3 125.191 1124.3 Q123.015 1124.3 120.746 1123.93 Q118.501 1123.55 116.094 1122.81 L116.094 1118.11 Q118.177 1119.25 120.399 1119.8 Q122.621 1120.36 125.098 1120.36 Q129.103 1120.36 131.441 1118.25 Q133.779 1116.15 133.779 1112.54 Q133.779 1108.93 131.441 1106.82 Q129.103 1104.71 125.098 1104.71 Q123.223 1104.71 121.348 1105.13 Q119.496 1105.55 117.552 1106.43 L117.552 1089.06 Z\" fill=\"#000000\" fill-rule=\"evenodd\" fill-opacity=\"1\" /><path clip-path=\"url(#clip010)\" d=\"M 0 0 M89.5429 752.618 Q85.9318 752.618 84.1031 756.183 Q82.2976 759.724 82.2976 766.854 Q82.2976 773.96 84.1031 777.525 Q85.9318 781.067 89.5429 781.067 Q93.1771 781.067 94.9827 777.525 Q96.8114 773.96 96.8114 766.854 Q96.8114 759.724 94.9827 756.183 Q93.1771 752.618 89.5429 752.618 M89.5429 748.914 Q95.3531 748.914 98.4086 753.521 Q101.487 758.104 101.487 766.854 Q101.487 775.581 98.4086 780.187 Q95.3531 784.771 89.5429 784.771 Q83.7328 784.771 80.6541 780.187 Q77.5985 775.581 77.5985 766.854 Q77.5985 758.104 80.6541 753.521 Q83.7328 748.914 89.5429 748.914 Z\" fill=\"#000000\" fill-rule=\"evenodd\" fill-opacity=\"1\" /><path clip-path=\"url(#clip010)\" d=\"M 0 0 M106.557 778.22 L111.441 778.22 L111.441 784.099 L106.557 784.099 L106.557 778.22 Z\" fill=\"#000000\" fill-rule=\"evenodd\" fill-opacity=\"1\" /><path clip-path=\"url(#clip010)\" d=\"M 0 0 M126.51 752.618 Q122.899 752.618 121.071 756.183 Q119.265 759.724 119.265 766.854 Q119.265 773.96 121.071 777.525 Q122.899 781.067 126.51 781.067 Q130.145 781.067 131.95 777.525 Q133.779 773.96 133.779 766.854 Q133.779 759.724 131.95 756.183 Q130.145 752.618 126.51 752.618 M126.51 748.914 Q132.32 748.914 135.376 753.521 Q138.455 758.104 138.455 766.854 Q138.455 775.581 135.376 780.187 Q132.32 784.771 126.51 784.771 Q120.7 784.771 117.621 780.187 Q114.566 775.581 114.566 766.854 Q114.566 758.104 117.621 753.521 Q120.7 748.914 126.51 748.914 Z\" fill=\"#000000\" fill-rule=\"evenodd\" fill-opacity=\"1\" /><path clip-path=\"url(#clip010)\" d=\"M 0 0 M90.5383 413.093 Q86.9272 413.093 85.0985 416.658 Q83.2929 420.2 83.2929 427.329 Q83.2929 434.436 85.0985 438 Q86.9272 441.542 90.5383 441.542 Q94.1725 441.542 95.9781 438 Q97.8068 434.436 97.8068 427.329 Q97.8068 420.2 95.9781 416.658 Q94.1725 413.093 90.5383 413.093 M90.5383 409.389 Q96.3484 409.389 99.404 413.996 Q102.483 418.579 102.483 427.329 Q102.483 436.056 99.404 440.662 Q96.3484 445.246 90.5383 445.246 Q84.7281 445.246 81.6494 440.662 Q78.5939 436.056 78.5939 427.329 Q78.5939 418.579 81.6494 413.996 Q84.7281 409.389 90.5383 409.389 Z\" fill=\"#000000\" fill-rule=\"evenodd\" fill-opacity=\"1\" /><path clip-path=\"url(#clip010)\" d=\"M 0 0 M107.552 438.695 L112.436 438.695 L112.436 444.574 L107.552 444.574 L107.552 438.695 Z\" fill=\"#000000\" fill-rule=\"evenodd\" fill-opacity=\"1\" /><path clip-path=\"url(#clip010)\" d=\"M 0 0 M117.552 410.014 L135.908 410.014 L135.908 413.95 L121.834 413.95 L121.834 422.422 Q122.853 422.075 123.871 421.913 Q124.89 421.727 125.908 421.727 Q131.695 421.727 135.075 424.899 Q138.455 428.07 138.455 433.487 Q138.455 439.065 134.982 442.167 Q131.51 445.246 125.191 445.246 Q123.015 445.246 120.746 444.875 Q118.501 444.505 116.094 443.764 L116.094 439.065 Q118.177 440.199 120.399 440.755 Q122.621 441.311 125.098 441.311 Q129.103 441.311 131.441 439.204 Q133.779 437.098 133.779 433.487 Q133.779 429.875 131.441 427.769 Q129.103 425.662 125.098 425.662 Q123.223 425.662 121.348 426.079 Q119.496 426.496 117.552 427.375 L117.552 410.014 Z\" fill=\"#000000\" fill-rule=\"evenodd\" fill-opacity=\"1\" /><path clip-path=\"url(#clip010)\" d=\"M 0 0 M81.58 101.114 L89.2188 101.114 L89.2188 74.7488 L80.9087 76.4154 L80.9087 72.1562 L89.1725 70.4895 L93.8484 70.4895 L93.8484 101.114 L101.487 101.114 L101.487 105.05 L81.58 105.05 L81.58 101.114 Z\" fill=\"#000000\" fill-rule=\"evenodd\" fill-opacity=\"1\" /><path clip-path=\"url(#clip010)\" d=\"M 0 0 M106.557 99.1699 L111.441 99.1699 L111.441 105.05 L106.557 105.05 L106.557 99.1699 Z\" fill=\"#000000\" fill-rule=\"evenodd\" fill-opacity=\"1\" /><path clip-path=\"url(#clip010)\" d=\"M 0 0 M126.51 73.5682 Q122.899 73.5682 121.071 77.133 Q119.265 80.6747 119.265 87.8043 Q119.265 94.9107 121.071 98.4755 Q122.899 102.017 126.51 102.017 Q130.145 102.017 131.95 98.4755 Q133.779 94.9107 133.779 87.8043 Q133.779 80.6747 131.95 77.133 Q130.145 73.5682 126.51 73.5682 M126.51 69.8645 Q132.32 69.8645 135.376 74.471 Q138.455 79.0543 138.455 87.8043 Q138.455 96.5311 135.376 101.138 Q132.32 105.721 126.51 105.721 Q120.7 105.721 117.621 101.138 Q114.566 96.5311 114.566 87.8043 Q114.566 79.0543 117.621 74.471 Q120.7 69.8645 126.51 69.8645 Z\" fill=\"#000000\" fill-rule=\"evenodd\" fill-opacity=\"1\" /><polyline clip-path=\"url(#clip012)\" style=\"stroke:#009af9; stroke-width:4; stroke-opacity:1; fill:none\" points=\"\n",
       "  224.444,115.662 229.489,111.154 234.534,107.036 239.579,103.312 244.624,99.9835 267.947,89.7857 291.27,88.2045 314.594,95.26 337.917,110.862 361.241,134.813 \n",
       "  384.564,166.808 407.887,206.438 431.211,253.201 459.243,317.997 487.276,391.04 515.309,470.989 543.342,556.375 590.744,708.701 638.147,864.073 689.64,1026.81 \n",
       "  741.132,1173.49 764.868,1233.14 788.604,1286.65 812.34,1333.3 836.075,1372.48 861.523,1405.61 886.97,1429.07 912.417,1442.49 937.865,1445.68 967.348,1436.52 \n",
       "  996.831,1413.75 1026.31,1377.84 1055.8,1329.5 1082,1276.91 1108.2,1216.13 1134.4,1148.14 1160.6,1074.02 1206.55,932.886 1252.51,783.574 1302.61,620.099 \n",
       "  1352.71,465.208 1377.91,393.438 1403.1,327.214 1428.3,267.52 1453.5,215.242 1481.36,167.007 1509.22,129.66 1537.08,103.878 1564.95,90.1309 1591.45,88.453 \n",
       "  1617.96,97.9245 1644.47,118.39 1670.98,149.512 1698.54,192.622 1726.11,245.934 1753.67,308.501 1781.23,379.21 1827.64,513.106 1874.04,659.744 1930.69,845.301 \n",
       "  1987.35,1024.99 2013.98,1103.57 2040.61,1176.55 2067.23,1242.75 2093.86,1301.05 2115.19,1341.4 2136.52,1375.63 2157.85,1403.38 2179.18,1424.35 2200.51,1438.33 \n",
       "  2221.84,1445.15 2243.17,1444.75 2264.51,1437.14 2271.07,1433.35 2277.64,1428.89 2284.2,1423.77 2290.77,1417.98 \n",
       "  \"/>\n",
       "<polyline clip-path=\"url(#clip012)\" style=\"stroke:#e26f46; stroke-width:4; stroke-opacity:1; fill:none\" points=\"\n",
       "  224.444,574.199 229.489,590.152 234.534,606.211 239.579,622.366 244.624,638.606 291.27,791.121 337.917,942.402 384.564,1084.77 431.211,1211.01 459.243,1276.39 \n",
       "  487.276,1332.42 515.309,1378.04 543.342,1412.44 567.043,1432.28 590.744,1443.38 614.446,1445.58 638.147,1438.87 663.893,1421.57 689.64,1394.12 715.386,1356.95 \n",
       "  741.132,1310.62 764.868,1260.43 788.604,1203.73 812.34,1141.27 836.075,1073.87 886.97,916.929 937.865,750.927 996.831,560.462 1055.8,386.688 1082,318.582 \n",
       "  1108.2,257.674 1134.4,204.941 1160.6,161.231 1183.58,130.883 1206.55,108.389 1229.53,94.0277 1252.51,87.9763 1277.56,90.9323 1302.61,103.81 1327.66,126.419 \n",
       "  1352.71,158.429 1377.91,199.638 1403.1,249.272 1428.3,306.593 1453.5,370.75 1509.22,532.008 1564.95,710.239 1617.96,883.816 1670.98,1049.73 1698.54,1129.32 \n",
       "  1726.11,1202.47 1753.67,1267.87 1781.23,1324.37 1804.43,1364.3 1827.64,1396.69 1850.84,1421.15 1874.04,1437.37 1902.37,1445.72 1930.69,1441.32 1959.02,1424.27 \n",
       "  1987.35,1394.88 2013.98,1356.49 2040.61,1308.32 2067.23,1251.18 2093.86,1186 2136.52,1067.58 2179.18,936.394 2221.84,798.002 2264.51,658.286 2271.07,637.046 \n",
       "  2277.64,615.938 2284.2,594.981 2290.77,574.199 \n",
       "  \"/>\n",
       "<path clip-path=\"url(#clip010)\" d=\"\n",
       "M1989.74 312.204 L2280.76 312.204 L2280.76 130.764 L1989.74 130.764  Z\n",
       "  \" fill=\"#ffffff\" fill-rule=\"evenodd\" fill-opacity=\"1\"/>\n",
       "<polyline clip-path=\"url(#clip010)\" style=\"stroke:#000000; stroke-width:4; stroke-opacity:1; fill:none\" points=\"\n",
       "  1989.74,312.204 2280.76,312.204 2280.76,130.764 1989.74,130.764 1989.74,312.204 \n",
       "  \"/>\n",
       "<polyline clip-path=\"url(#clip010)\" style=\"stroke:#009af9; stroke-width:4; stroke-opacity:1; fill:none\" points=\"\n",
       "  2013.74,191.244 2157.74,191.244 \n",
       "  \"/>\n",
       "<path clip-path=\"url(#clip010)\" d=\"M 0 0 M2195.58 210.931 Q2193.77 215.561 2192.06 216.973 Q2190.35 218.385 2187.48 218.385 L2184.08 218.385 L2184.08 214.82 L2186.58 214.82 Q2188.33 214.82 2189.31 213.987 Q2190.28 213.154 2191.46 210.052 L2192.22 208.107 L2181.74 182.598 L2186.25 182.598 L2194.35 202.876 L2202.46 182.598 L2206.97 182.598 L2195.58 210.931 Z\" fill=\"#000000\" fill-rule=\"evenodd\" fill-opacity=\"1\" /><path clip-path=\"url(#clip010)\" d=\"M 0 0 M2212.85 204.589 L2220.49 204.589 L2220.49 178.223 L2212.18 179.89 L2212.18 175.631 L2220.44 173.964 L2225.12 173.964 L2225.12 204.589 L2232.76 204.589 L2232.76 208.524 L2212.85 208.524 L2212.85 204.589 Z\" fill=\"#000000\" fill-rule=\"evenodd\" fill-opacity=\"1\" /><polyline clip-path=\"url(#clip010)\" style=\"stroke:#e26f46; stroke-width:4; stroke-opacity:1; fill:none\" points=\"\n",
       "  2013.74,251.724 2157.74,251.724 \n",
       "  \"/>\n",
       "<path clip-path=\"url(#clip010)\" d=\"M 0 0 M2195.58 271.411 Q2193.77 276.041 2192.06 277.453 Q2190.35 278.865 2187.48 278.865 L2184.08 278.865 L2184.08 275.3 L2186.58 275.3 Q2188.33 275.3 2189.31 274.467 Q2190.28 273.634 2191.46 270.532 L2192.22 268.587 L2181.74 243.078 L2186.25 243.078 L2194.35 263.356 L2202.46 243.078 L2206.97 243.078 L2195.58 271.411 Z\" fill=\"#000000\" fill-rule=\"evenodd\" fill-opacity=\"1\" /><path clip-path=\"url(#clip010)\" d=\"M 0 0 M2216.07 265.069 L2232.39 265.069 L2232.39 269.004 L2210.44 269.004 L2210.44 265.069 Q2213.1 262.314 2217.69 257.685 Q2222.29 253.032 2223.47 251.689 Q2225.72 249.166 2226.6 247.43 Q2227.5 245.671 2227.5 243.981 Q2227.5 241.226 2225.56 239.49 Q2223.64 237.754 2220.53 237.754 Q2218.33 237.754 2215.88 238.518 Q2213.45 239.282 2210.67 240.833 L2210.67 236.111 Q2213.5 234.976 2215.95 234.398 Q2218.4 233.819 2220.44 233.819 Q2225.81 233.819 2229.01 236.504 Q2232.2 239.189 2232.2 243.68 Q2232.2 245.81 2231.39 247.731 Q2230.6 249.629 2228.5 252.222 Q2227.92 252.893 2224.82 256.111 Q2221.71 259.305 2216.07 265.069 Z\" fill=\"#000000\" fill-rule=\"evenodd\" fill-opacity=\"1\" /></svg>\n"
      ]
     },
     "execution_count": 78,
     "metadata": {},
     "output_type": "execute_result"
    }
   ],
   "source": [
    "plot!(p,cos)"
   ]
  },
  {
   "cell_type": "code",
   "execution_count": 79,
   "metadata": {},
   "outputs": [
    {
     "data": {
      "image/svg+xml": [
       "<?xml version=\"1.0\" encoding=\"utf-8\"?>\n",
       "<svg xmlns=\"http://www.w3.org/2000/svg\" xmlns:xlink=\"http://www.w3.org/1999/xlink\" width=\"600\" height=\"400\" viewBox=\"0 0 2400 1600\">\n",
       "<defs>\n",
       "  <clipPath id=\"clip050\">\n",
       "    <rect x=\"0\" y=\"0\" width=\"2400\" height=\"1600\"/>\n",
       "  </clipPath>\n",
       "</defs>\n",
       "<path clip-path=\"url(#clip050)\" d=\"\n",
       "M0 1600 L2400 1600 L2400 0 L0 0  Z\n",
       "  \" fill=\"#ffffff\" fill-rule=\"evenodd\" fill-opacity=\"1\"/>\n",
       "<defs>\n",
       "  <clipPath id=\"clip051\">\n",
       "    <rect x=\"480\" y=\"0\" width=\"1681\" height=\"1600\"/>\n",
       "  </clipPath>\n",
       "</defs>\n",
       "<path clip-path=\"url(#clip050)\" d=\"\n",
       "M162.455 1486.45 L2352.76 1486.45 L2352.76 123.472 L162.455 123.472  Z\n",
       "  \" fill=\"#ffffff\" fill-rule=\"evenodd\" fill-opacity=\"1\"/>\n",
       "<defs>\n",
       "  <clipPath id=\"clip052\">\n",
       "    <rect x=\"162\" y=\"123\" width=\"2191\" height=\"1364\"/>\n",
       "  </clipPath>\n",
       "</defs>\n",
       "<polyline clip-path=\"url(#clip052)\" style=\"stroke:#000000; stroke-width:2; stroke-opacity:0.1; fill:none\" points=\"\n",
       "  431.077,1486.45 431.077,123.472 \n",
       "  \"/>\n",
       "<polyline clip-path=\"url(#clip052)\" style=\"stroke:#000000; stroke-width:2; stroke-opacity:0.1; fill:none\" points=\"\n",
       "  844.341,1486.45 844.341,123.472 \n",
       "  \"/>\n",
       "<polyline clip-path=\"url(#clip052)\" style=\"stroke:#000000; stroke-width:2; stroke-opacity:0.1; fill:none\" points=\"\n",
       "  1257.61,1486.45 1257.61,123.472 \n",
       "  \"/>\n",
       "<polyline clip-path=\"url(#clip052)\" style=\"stroke:#000000; stroke-width:2; stroke-opacity:0.1; fill:none\" points=\"\n",
       "  1670.87,1486.45 1670.87,123.472 \n",
       "  \"/>\n",
       "<polyline clip-path=\"url(#clip052)\" style=\"stroke:#000000; stroke-width:2; stroke-opacity:0.1; fill:none\" points=\"\n",
       "  2084.13,1486.45 2084.13,123.472 \n",
       "  \"/>\n",
       "<polyline clip-path=\"url(#clip052)\" style=\"stroke:#000000; stroke-width:2; stroke-opacity:0.1; fill:none\" points=\"\n",
       "  162.455,1448.02 2352.76,1448.02 \n",
       "  \"/>\n",
       "<polyline clip-path=\"url(#clip052)\" style=\"stroke:#000000; stroke-width:2; stroke-opacity:0.1; fill:none\" points=\"\n",
       "  162.455,1126.48 2352.76,1126.48 \n",
       "  \"/>\n",
       "<polyline clip-path=\"url(#clip052)\" style=\"stroke:#000000; stroke-width:2; stroke-opacity:0.1; fill:none\" points=\"\n",
       "  162.455,804.935 2352.76,804.935 \n",
       "  \"/>\n",
       "<polyline clip-path=\"url(#clip052)\" style=\"stroke:#000000; stroke-width:2; stroke-opacity:0.1; fill:none\" points=\"\n",
       "  162.455,483.393 2352.76,483.393 \n",
       "  \"/>\n",
       "<polyline clip-path=\"url(#clip052)\" style=\"stroke:#000000; stroke-width:2; stroke-opacity:0.1; fill:none\" points=\"\n",
       "  162.455,161.851 2352.76,161.851 \n",
       "  \"/>\n",
       "<polyline clip-path=\"url(#clip050)\" style=\"stroke:#000000; stroke-width:4; stroke-opacity:1; fill:none\" points=\"\n",
       "  162.455,1486.45 2352.76,1486.45 \n",
       "  \"/>\n",
       "<polyline clip-path=\"url(#clip050)\" style=\"stroke:#000000; stroke-width:4; stroke-opacity:1; fill:none\" points=\"\n",
       "  162.455,1486.45 162.455,123.472 \n",
       "  \"/>\n",
       "<polyline clip-path=\"url(#clip050)\" style=\"stroke:#000000; stroke-width:4; stroke-opacity:1; fill:none\" points=\"\n",
       "  431.077,1486.45 431.077,1470.09 \n",
       "  \"/>\n",
       "<polyline clip-path=\"url(#clip050)\" style=\"stroke:#000000; stroke-width:4; stroke-opacity:1; fill:none\" points=\"\n",
       "  844.341,1486.45 844.341,1470.09 \n",
       "  \"/>\n",
       "<polyline clip-path=\"url(#clip050)\" style=\"stroke:#000000; stroke-width:4; stroke-opacity:1; fill:none\" points=\"\n",
       "  1257.61,1486.45 1257.61,1470.09 \n",
       "  \"/>\n",
       "<polyline clip-path=\"url(#clip050)\" style=\"stroke:#000000; stroke-width:4; stroke-opacity:1; fill:none\" points=\"\n",
       "  1670.87,1486.45 1670.87,1470.09 \n",
       "  \"/>\n",
       "<polyline clip-path=\"url(#clip050)\" style=\"stroke:#000000; stroke-width:4; stroke-opacity:1; fill:none\" points=\"\n",
       "  2084.13,1486.45 2084.13,1470.09 \n",
       "  \"/>\n",
       "<polyline clip-path=\"url(#clip050)\" style=\"stroke:#000000; stroke-width:4; stroke-opacity:1; fill:none\" points=\"\n",
       "  162.455,1448.02 188.738,1448.02 \n",
       "  \"/>\n",
       "<polyline clip-path=\"url(#clip050)\" style=\"stroke:#000000; stroke-width:4; stroke-opacity:1; fill:none\" points=\"\n",
       "  162.455,1126.48 188.738,1126.48 \n",
       "  \"/>\n",
       "<polyline clip-path=\"url(#clip050)\" style=\"stroke:#000000; stroke-width:4; stroke-opacity:1; fill:none\" points=\"\n",
       "  162.455,804.935 188.738,804.935 \n",
       "  \"/>\n",
       "<polyline clip-path=\"url(#clip050)\" style=\"stroke:#000000; stroke-width:4; stroke-opacity:1; fill:none\" points=\"\n",
       "  162.455,483.393 188.738,483.393 \n",
       "  \"/>\n",
       "<polyline clip-path=\"url(#clip050)\" style=\"stroke:#000000; stroke-width:4; stroke-opacity:1; fill:none\" points=\"\n",
       "  162.455,161.851 188.738,161.851 \n",
       "  \"/>\n",
       "<path clip-path=\"url(#clip050)\" d=\"M 0 0 M411.088 1525.04 L423.565 1525.04 L423.565 1528.83 L411.088 1528.83 L411.088 1525.04 Z\" fill=\"#000000\" fill-rule=\"evenodd\" fill-opacity=\"1\" /><path clip-path=\"url(#clip050)\" d=\"M 0 0 M441.482 1509.43 L429.676 1527.88 L441.482 1527.88 L441.482 1509.43 M440.255 1505.36 L446.134 1505.36 L446.134 1527.88 L451.065 1527.88 L451.065 1531.77 L446.134 1531.77 L446.134 1539.92 L441.482 1539.92 L441.482 1531.77 L425.88 1531.77 L425.88 1527.26 L440.255 1505.36 Z\" fill=\"#000000\" fill-rule=\"evenodd\" fill-opacity=\"1\" /><path clip-path=\"url(#clip050)\" d=\"M 0 0 M825.394 1525.04 L837.871 1525.04 L837.871 1528.83 L825.394 1528.83 L825.394 1525.04 Z\" fill=\"#000000\" fill-rule=\"evenodd\" fill-opacity=\"1\" /><path clip-path=\"url(#clip050)\" d=\"M 0 0 M846.968 1535.98 L863.288 1535.98 L863.288 1539.92 L841.343 1539.92 L841.343 1535.98 Q844.005 1533.23 848.589 1528.6 Q853.195 1523.95 854.376 1522.61 Q856.621 1520.08 857.501 1518.35 Q858.403 1516.59 858.403 1514.9 Q858.403 1512.14 856.459 1510.41 Q854.538 1508.67 851.436 1508.67 Q849.237 1508.67 846.783 1509.43 Q844.352 1510.2 841.575 1511.75 L841.575 1507.03 Q844.399 1505.89 846.852 1505.31 Q849.306 1504.73 851.343 1504.73 Q856.714 1504.73 859.908 1507.42 Q863.102 1510.11 863.102 1514.6 Q863.102 1516.73 862.292 1518.65 Q861.505 1520.54 859.399 1523.14 Q858.82 1523.81 855.718 1527.03 Q852.616 1530.22 846.968 1535.98 Z\" fill=\"#000000\" fill-rule=\"evenodd\" fill-opacity=\"1\" /><path clip-path=\"url(#clip050)\" d=\"M 0 0 M1257.61 1508.44 Q1253.99 1508.44 1252.17 1512 Q1250.36 1515.55 1250.36 1522.67 Q1250.36 1529.78 1252.17 1533.35 Q1253.99 1536.89 1257.61 1536.89 Q1261.24 1536.89 1263.05 1533.35 Q1264.87 1529.78 1264.87 1522.67 Q1264.87 1515.55 1263.05 1512 Q1261.24 1508.44 1257.61 1508.44 M1257.61 1504.73 Q1263.42 1504.73 1266.47 1509.34 Q1269.55 1513.92 1269.55 1522.67 Q1269.55 1531.4 1266.47 1536.01 Q1263.42 1540.59 1257.61 1540.59 Q1251.8 1540.59 1248.72 1536.01 Q1245.66 1531.4 1245.66 1522.67 Q1245.66 1513.92 1248.72 1509.34 Q1251.8 1504.73 1257.61 1504.73 Z\" fill=\"#000000\" fill-rule=\"evenodd\" fill-opacity=\"1\" /><path clip-path=\"url(#clip050)\" d=\"M 0 0 M1665.52 1535.98 L1681.84 1535.98 L1681.84 1539.92 L1659.9 1539.92 L1659.9 1535.98 Q1662.56 1533.23 1667.14 1528.6 Q1671.75 1523.95 1672.93 1522.61 Q1675.18 1520.08 1676.05 1518.35 Q1676.96 1516.59 1676.96 1514.9 Q1676.96 1512.14 1675.01 1510.41 Q1673.09 1508.67 1669.99 1508.67 Q1667.79 1508.67 1665.34 1509.43 Q1662.91 1510.2 1660.13 1511.75 L1660.13 1507.03 Q1662.95 1505.89 1665.41 1505.31 Q1667.86 1504.73 1669.9 1504.73 Q1675.27 1504.73 1678.46 1507.42 Q1681.66 1510.11 1681.66 1514.6 Q1681.66 1516.73 1680.85 1518.65 Q1680.06 1520.54 1677.95 1523.14 Q1677.37 1523.81 1674.27 1527.03 Q1671.17 1530.22 1665.52 1535.98 Z\" fill=\"#000000\" fill-rule=\"evenodd\" fill-opacity=\"1\" /><path clip-path=\"url(#clip050)\" d=\"M 0 0 M2087.14 1509.43 L2075.34 1527.88 L2087.14 1527.88 L2087.14 1509.43 M2085.92 1505.36 L2091.8 1505.36 L2091.8 1527.88 L2096.73 1527.88 L2096.73 1531.77 L2091.8 1531.77 L2091.8 1539.92 L2087.14 1539.92 L2087.14 1531.77 L2071.54 1531.77 L2071.54 1527.26 L2085.92 1505.36 Z\" fill=\"#000000\" fill-rule=\"evenodd\" fill-opacity=\"1\" /><path clip-path=\"url(#clip050)\" d=\"M 0 0 M63.2236 1450.41 L75.7004 1450.41 L75.7004 1454.21 L63.2236 1454.21 L63.2236 1450.41 Z\" fill=\"#000000\" fill-rule=\"evenodd\" fill-opacity=\"1\" /><path clip-path=\"url(#clip050)\" d=\"M 0 0 M81.58 1461.36 L89.2188 1461.36 L89.2188 1435 L80.9087 1436.66 L80.9087 1432.41 L89.1725 1430.74 L93.8484 1430.74 L93.8484 1461.36 L101.487 1461.36 L101.487 1465.3 L81.58 1465.3 L81.58 1461.36 Z\" fill=\"#000000\" fill-rule=\"evenodd\" fill-opacity=\"1\" /><path clip-path=\"url(#clip050)\" d=\"M 0 0 M106.557 1459.42 L111.441 1459.42 L111.441 1465.3 L106.557 1465.3 L106.557 1459.42 Z\" fill=\"#000000\" fill-rule=\"evenodd\" fill-opacity=\"1\" /><path clip-path=\"url(#clip050)\" d=\"M 0 0 M126.51 1433.82 Q122.899 1433.82 121.071 1437.38 Q119.265 1440.92 119.265 1448.05 Q119.265 1455.16 121.071 1458.72 Q122.899 1462.27 126.51 1462.27 Q130.145 1462.27 131.95 1458.72 Q133.779 1455.16 133.779 1448.05 Q133.779 1440.92 131.95 1437.38 Q130.145 1433.82 126.51 1433.82 M126.51 1430.11 Q132.32 1430.11 135.376 1434.72 Q138.455 1439.3 138.455 1448.05 Q138.455 1456.78 135.376 1461.39 Q132.32 1465.97 126.51 1465.97 Q120.7 1465.97 117.621 1461.39 Q114.566 1456.78 114.566 1448.05 Q114.566 1439.3 117.621 1434.72 Q120.7 1430.11 126.51 1430.11 Z\" fill=\"#000000\" fill-rule=\"evenodd\" fill-opacity=\"1\" /><path clip-path=\"url(#clip050)\" d=\"M 0 0 M62.9921 1128.87 L75.4689 1128.87 L75.4689 1132.67 L62.9921 1132.67 L62.9921 1128.87 Z\" fill=\"#000000\" fill-rule=\"evenodd\" fill-opacity=\"1\" /><path clip-path=\"url(#clip050)\" d=\"M 0 0 M90.5383 1112.28 Q86.9272 1112.28 85.0985 1115.84 Q83.2929 1119.38 83.2929 1126.51 Q83.2929 1133.62 85.0985 1137.18 Q86.9272 1140.72 90.5383 1140.72 Q94.1725 1140.72 95.9781 1137.18 Q97.8068 1133.62 97.8068 1126.51 Q97.8068 1119.38 95.9781 1115.84 Q94.1725 1112.28 90.5383 1112.28 M90.5383 1108.57 Q96.3484 1108.57 99.404 1113.18 Q102.483 1117.76 102.483 1126.51 Q102.483 1135.24 99.404 1139.84 Q96.3484 1144.43 90.5383 1144.43 Q84.7281 1144.43 81.6494 1139.84 Q78.5939 1135.24 78.5939 1126.51 Q78.5939 1117.76 81.6494 1113.18 Q84.7281 1108.57 90.5383 1108.57 Z\" fill=\"#000000\" fill-rule=\"evenodd\" fill-opacity=\"1\" /><path clip-path=\"url(#clip050)\" d=\"M 0 0 M107.552 1137.88 L112.436 1137.88 L112.436 1143.76 L107.552 1143.76 L107.552 1137.88 Z\" fill=\"#000000\" fill-rule=\"evenodd\" fill-opacity=\"1\" /><path clip-path=\"url(#clip050)\" d=\"M 0 0 M117.552 1109.2 L135.908 1109.2 L135.908 1113.13 L121.834 1113.13 L121.834 1121.6 Q122.853 1121.26 123.871 1121.09 Q124.89 1120.91 125.908 1120.91 Q131.695 1120.91 135.075 1124.08 Q138.455 1127.25 138.455 1132.67 Q138.455 1138.25 134.982 1141.35 Q131.51 1144.43 125.191 1144.43 Q123.015 1144.43 120.746 1144.06 Q118.501 1143.69 116.094 1142.95 L116.094 1138.25 Q118.177 1139.38 120.399 1139.94 Q122.621 1140.49 125.098 1140.49 Q129.103 1140.49 131.441 1138.39 Q133.779 1136.28 133.779 1132.67 Q133.779 1129.06 131.441 1126.95 Q129.103 1124.84 125.098 1124.84 Q123.223 1124.84 121.348 1125.26 Q119.496 1125.68 117.552 1126.56 L117.552 1109.2 Z\" fill=\"#000000\" fill-rule=\"evenodd\" fill-opacity=\"1\" /><path clip-path=\"url(#clip050)\" d=\"M 0 0 M89.5429 790.733 Q85.9318 790.733 84.1031 794.298 Q82.2976 797.84 82.2976 804.969 Q82.2976 812.076 84.1031 815.641 Q85.9318 819.182 89.5429 819.182 Q93.1771 819.182 94.9827 815.641 Q96.8114 812.076 96.8114 804.969 Q96.8114 797.84 94.9827 794.298 Q93.1771 790.733 89.5429 790.733 M89.5429 787.03 Q95.3531 787.03 98.4086 791.636 Q101.487 796.22 101.487 804.969 Q101.487 813.696 98.4086 818.303 Q95.3531 822.886 89.5429 822.886 Q83.7328 822.886 80.6541 818.303 Q77.5985 813.696 77.5985 804.969 Q77.5985 796.22 80.6541 791.636 Q83.7328 787.03 89.5429 787.03 Z\" fill=\"#000000\" fill-rule=\"evenodd\" fill-opacity=\"1\" /><path clip-path=\"url(#clip050)\" d=\"M 0 0 M106.557 816.335 L111.441 816.335 L111.441 822.215 L106.557 822.215 L106.557 816.335 Z\" fill=\"#000000\" fill-rule=\"evenodd\" fill-opacity=\"1\" /><path clip-path=\"url(#clip050)\" d=\"M 0 0 M126.51 790.733 Q122.899 790.733 121.071 794.298 Q119.265 797.84 119.265 804.969 Q119.265 812.076 121.071 815.641 Q122.899 819.182 126.51 819.182 Q130.145 819.182 131.95 815.641 Q133.779 812.076 133.779 804.969 Q133.779 797.84 131.95 794.298 Q130.145 790.733 126.51 790.733 M126.51 787.03 Q132.32 787.03 135.376 791.636 Q138.455 796.22 138.455 804.969 Q138.455 813.696 135.376 818.303 Q132.32 822.886 126.51 822.886 Q120.7 822.886 117.621 818.303 Q114.566 813.696 114.566 804.969 Q114.566 796.22 117.621 791.636 Q120.7 787.03 126.51 787.03 Z\" fill=\"#000000\" fill-rule=\"evenodd\" fill-opacity=\"1\" /><path clip-path=\"url(#clip050)\" d=\"M 0 0 M90.5383 469.192 Q86.9272 469.192 85.0985 472.756 Q83.2929 476.298 83.2929 483.428 Q83.2929 490.534 85.0985 494.099 Q86.9272 497.641 90.5383 497.641 Q94.1725 497.641 95.9781 494.099 Q97.8068 490.534 97.8068 483.428 Q97.8068 476.298 95.9781 472.756 Q94.1725 469.192 90.5383 469.192 M90.5383 465.488 Q96.3484 465.488 99.404 470.094 Q102.483 474.678 102.483 483.428 Q102.483 492.154 99.404 496.761 Q96.3484 501.344 90.5383 501.344 Q84.7281 501.344 81.6494 496.761 Q78.5939 492.154 78.5939 483.428 Q78.5939 474.678 81.6494 470.094 Q84.7281 465.488 90.5383 465.488 Z\" fill=\"#000000\" fill-rule=\"evenodd\" fill-opacity=\"1\" /><path clip-path=\"url(#clip050)\" d=\"M 0 0 M107.552 494.793 L112.436 494.793 L112.436 500.673 L107.552 500.673 L107.552 494.793 Z\" fill=\"#000000\" fill-rule=\"evenodd\" fill-opacity=\"1\" /><path clip-path=\"url(#clip050)\" d=\"M 0 0 M117.552 466.113 L135.908 466.113 L135.908 470.048 L121.834 470.048 L121.834 478.52 Q122.853 478.173 123.871 478.011 Q124.89 477.826 125.908 477.826 Q131.695 477.826 135.075 480.997 Q138.455 484.168 138.455 489.585 Q138.455 495.164 134.982 498.266 Q131.51 501.344 125.191 501.344 Q123.015 501.344 120.746 500.974 Q118.501 500.603 116.094 499.863 L116.094 495.164 Q118.177 496.298 120.399 496.854 Q122.621 497.409 125.098 497.409 Q129.103 497.409 131.441 495.303 Q133.779 493.196 133.779 489.585 Q133.779 485.974 131.441 483.867 Q129.103 481.761 125.098 481.761 Q123.223 481.761 121.348 482.178 Q119.496 482.594 117.552 483.474 L117.552 466.113 Z\" fill=\"#000000\" fill-rule=\"evenodd\" fill-opacity=\"1\" /><path clip-path=\"url(#clip050)\" d=\"M 0 0 M81.58 175.196 L89.2188 175.196 L89.2188 148.83 L80.9087 150.497 L80.9087 146.238 L89.1725 144.571 L93.8484 144.571 L93.8484 175.196 L101.487 175.196 L101.487 179.131 L81.58 179.131 L81.58 175.196 Z\" fill=\"#000000\" fill-rule=\"evenodd\" fill-opacity=\"1\" /><path clip-path=\"url(#clip050)\" d=\"M 0 0 M106.557 173.252 L111.441 173.252 L111.441 179.131 L106.557 179.131 L106.557 173.252 Z\" fill=\"#000000\" fill-rule=\"evenodd\" fill-opacity=\"1\" /><path clip-path=\"url(#clip050)\" d=\"M 0 0 M126.51 147.65 Q122.899 147.65 121.071 151.215 Q119.265 154.756 119.265 161.886 Q119.265 168.992 121.071 172.557 Q122.899 176.099 126.51 176.099 Q130.145 176.099 131.95 172.557 Q133.779 168.992 133.779 161.886 Q133.779 154.756 131.95 151.215 Q130.145 147.65 126.51 147.65 M126.51 143.946 Q132.32 143.946 135.376 148.553 Q138.455 153.136 138.455 161.886 Q138.455 170.613 135.376 175.219 Q132.32 179.802 126.51 179.802 Q120.7 179.802 117.621 175.219 Q114.566 170.613 114.566 161.886 Q114.566 153.136 117.621 148.553 Q120.7 143.946 126.51 143.946 Z\" fill=\"#000000\" fill-rule=\"evenodd\" fill-opacity=\"1\" /><path clip-path=\"url(#clip050)\" d=\"M 0 0 M1067.86 12.096 L1102.62 12.096 L1102.62 18.9825 L1076.04 18.9825 L1076.04 36.8065 L1100.03 36.8065 L1100.03 43.6931 L1076.04 43.6931 L1076.04 72.576 L1067.86 72.576 L1067.86 12.096 Z\" fill=\"#000000\" fill-rule=\"evenodd\" fill-opacity=\"1\" /><path clip-path=\"url(#clip050)\" d=\"M 0 0 M1105.13 54.671 L1105.13 27.2059 L1112.58 27.2059 L1112.58 54.3874 Q1112.58 60.8284 1115.09 64.0691 Q1117.61 67.2693 1122.63 67.2693 Q1128.67 67.2693 1132.15 63.421 Q1135.67 59.5726 1135.67 52.9291 L1135.67 27.2059 L1143.13 27.2059 L1143.13 72.576 L1135.67 72.576 L1135.67 65.6084 Q1132.96 69.7404 1129.35 71.7658 Q1125.79 73.7508 1121.05 73.7508 Q1113.23 73.7508 1109.18 68.8897 Q1105.13 64.0286 1105.13 54.671 M1123.88 26.1121 L1123.88 26.1121 Z\" fill=\"#000000\" fill-rule=\"evenodd\" fill-opacity=\"1\" /><path clip-path=\"url(#clip050)\" d=\"M 0 0 M1188.66 45.1919 L1188.66 72.576 L1181.21 72.576 L1181.21 45.4349 Q1181.21 38.994 1178.69 35.7938 Q1176.18 32.5936 1171.16 32.5936 Q1165.12 32.5936 1161.64 36.4419 Q1158.16 40.2903 1158.16 46.9338 L1158.16 72.576 L1150.66 72.576 L1150.66 27.2059 L1158.16 27.2059 L1158.16 34.2544 Q1160.83 30.163 1164.43 28.1376 Q1168.08 26.1121 1172.82 26.1121 Q1180.64 26.1121 1184.65 30.9732 Q1188.66 35.7938 1188.66 45.1919 Z\" fill=\"#000000\" fill-rule=\"evenodd\" fill-opacity=\"1\" /><path clip-path=\"url(#clip050)\" d=\"M 0 0 M1234.19 45.1919 L1234.19 72.576 L1226.74 72.576 L1226.74 45.4349 Q1226.74 38.994 1224.23 35.7938 Q1221.71 32.5936 1216.69 32.5936 Q1210.66 32.5936 1207.17 36.4419 Q1203.69 40.2903 1203.69 46.9338 L1203.69 72.576 L1196.19 72.576 L1196.19 27.2059 L1203.69 27.2059 L1203.69 34.2544 Q1206.36 30.163 1209.97 28.1376 Q1213.61 26.1121 1218.35 26.1121 Q1226.17 26.1121 1230.18 30.9732 Q1234.19 35.7938 1234.19 45.1919 Z\" fill=\"#000000\" fill-rule=\"evenodd\" fill-opacity=\"1\" /><path clip-path=\"url(#clip050)\" d=\"M 0 0 M1260.89 76.7889 Q1257.73 84.8907 1254.73 87.3618 Q1251.73 89.8329 1246.71 89.8329 L1240.75 89.8329 L1240.75 83.5945 L1245.13 83.5945 Q1248.21 83.5945 1249.91 82.1361 Q1251.61 80.6778 1253.68 75.2496 L1255.01 71.8468 L1236.66 27.2059 L1244.56 27.2059 L1258.74 62.6918 L1272.92 27.2059 L1280.82 27.2059 L1260.89 76.7889 Z\" fill=\"#000000\" fill-rule=\"evenodd\" fill-opacity=\"1\" /><path clip-path=\"url(#clip050)\" d=\"M 0 0 M1322.22 65.7705 L1322.22 89.8329 L1314.72 89.8329 L1314.72 27.2059 L1322.22 27.2059 L1322.22 34.0924 Q1324.57 30.0415 1328.13 28.0971 Q1331.74 26.1121 1336.72 26.1121 Q1344.98 26.1121 1350.13 32.6746 Q1355.31 39.2371 1355.31 49.9314 Q1355.31 60.6258 1350.13 67.1883 Q1344.98 73.7508 1336.72 73.7508 Q1331.74 73.7508 1328.13 71.8063 Q1324.57 69.8214 1322.22 65.7705 M1347.58 49.9314 Q1347.58 41.7081 1344.17 37.0496 Q1340.81 32.3505 1334.9 32.3505 Q1328.98 32.3505 1325.58 37.0496 Q1322.22 41.7081 1322.22 49.9314 Q1322.22 58.1548 1325.58 62.8538 Q1328.98 67.5124 1334.9 67.5124 Q1340.81 67.5124 1344.17 62.8538 Q1347.58 58.1548 1347.58 49.9314 Z\" fill=\"#000000\" fill-rule=\"evenodd\" fill-opacity=\"1\" /><path clip-path=\"url(#clip050)\" d=\"M 0 0 M1363.13 9.54393 L1370.59 9.54393 L1370.59 72.576 L1363.13 72.576 L1363.13 9.54393 Z\" fill=\"#000000\" fill-rule=\"evenodd\" fill-opacity=\"1\" /><path clip-path=\"url(#clip050)\" d=\"M 0 0 M1395.98 32.4315 Q1389.99 32.4315 1386.51 37.1306 Q1383.02 41.7891 1383.02 49.9314 Q1383.02 58.0738 1386.46 62.7728 Q1389.95 67.4314 1395.98 67.4314 Q1401.94 67.4314 1405.42 62.7323 Q1408.91 58.0333 1408.91 49.9314 Q1408.91 41.8701 1405.42 37.1711 Q1401.94 32.4315 1395.98 32.4315 M1395.98 26.1121 Q1405.71 26.1121 1411.26 32.4315 Q1416.81 38.7509 1416.81 49.9314 Q1416.81 61.0714 1411.26 67.4314 Q1405.71 73.7508 1395.98 73.7508 Q1386.22 73.7508 1380.67 67.4314 Q1375.16 61.0714 1375.16 49.9314 Q1375.16 38.7509 1380.67 32.4315 Q1386.22 26.1121 1395.98 26.1121 Z\" fill=\"#000000\" fill-rule=\"evenodd\" fill-opacity=\"1\" /><path clip-path=\"url(#clip050)\" d=\"M 0 0 M1432 14.324 L1432 27.2059 L1447.35 27.2059 L1447.35 32.9987 L1432 32.9987 L1432 57.6282 Q1432 63.1779 1433.5 64.7578 Q1435.03 66.3376 1439.69 66.3376 L1447.35 66.3376 L1447.35 72.576 L1439.69 72.576 Q1431.07 72.576 1427.78 69.3758 Q1424.5 66.1351 1424.5 57.6282 L1424.5 32.9987 L1419.03 32.9987 L1419.03 27.2059 L1424.5 27.2059 L1424.5 14.324 L1432 14.324 Z\" fill=\"#000000\" fill-rule=\"evenodd\" fill-opacity=\"1\" /><polyline clip-path=\"url(#clip052)\" style=\"stroke:#009af9; stroke-width:4; stroke-opacity:1; fill:none\" points=\"\n",
       "  224.444,188.266 229.489,183.997 234.534,180.097 239.579,176.571 244.624,173.418 267.947,163.761 291.27,162.263 314.594,168.945 337.917,183.721 361.241,206.403 \n",
       "  384.564,236.703 407.887,274.235 431.211,318.52 459.243,379.884 487.276,449.059 515.309,524.774 543.342,605.637 590.744,749.895 638.147,897.037 689.64,1051.16 \n",
       "  741.132,1190.07 764.868,1246.56 788.604,1297.23 812.34,1341.41 836.075,1378.52 861.523,1409.9 886.97,1432.11 912.417,1444.82 937.865,1447.84 967.348,1439.17 \n",
       "  996.831,1417.6 1026.31,1383.59 1055.8,1337.81 1082,1288.01 1108.2,1230.45 1134.4,1166.05 1160.6,1095.86 1206.55,962.205 1252.51,820.802 1302.61,665.986 \n",
       "  1352.71,519.298 1377.91,451.329 1403.1,388.613 1428.3,332.081 1453.5,282.572 1481.36,236.892 1509.22,201.522 1537.08,177.107 1564.95,164.087 1591.45,162.498 \n",
       "  1617.96,171.468 1644.47,190.849 1670.98,220.324 1698.54,261.15 1726.11,311.639 1753.67,370.891 1781.23,437.856 1827.64,564.66 1874.04,703.531 1930.69,879.259 \n",
       "  1987.35,1049.44 2013.98,1123.85 2040.61,1192.97 2067.23,1255.65 2093.86,1310.87 2115.19,1349.08 2136.52,1381.5 2157.85,1407.78 2179.18,1427.64 2200.51,1440.88 \n",
       "  2221.84,1447.34 2243.17,1446.96 2264.51,1439.75 2271.07,1436.17 2277.64,1431.94 2284.2,1427.09 2290.77,1421.6 \n",
       "  \"/>\n",
       "<polyline clip-path=\"url(#clip052)\" style=\"stroke:#e26f46; stroke-width:4; stroke-opacity:1; fill:none\" points=\"\n",
       "  224.444,622.516 229.489,637.625 234.534,652.833 239.579,668.132 244.624,683.512 291.27,827.949 337.917,971.218 384.564,1106.05 431.211,1225.6 459.243,1287.52 \n",
       "  487.276,1340.57 515.309,1383.78 543.342,1416.36 567.043,1435.15 590.744,1445.66 614.446,1447.75 638.147,1441.39 663.893,1425.01 689.64,1399.01 715.386,1363.81 \n",
       "  741.132,1319.94 764.868,1272.4 788.604,1218.7 812.34,1159.55 836.075,1095.72 886.97,947.094 937.865,789.884 996.831,609.507 1055.8,444.937 1082,380.439 \n",
       "  1108.2,322.757 1134.4,272.817 1160.6,231.421 1183.58,202.681 1206.55,181.378 1229.53,167.778 1252.51,162.047 1277.56,164.846 1302.61,177.042 1327.66,198.454 \n",
       "  1352.71,228.768 1377.91,267.794 1403.1,314.799 1428.3,369.084 1453.5,429.843 1509.22,582.561 1564.95,751.351 1617.96,915.735 1670.98,1072.86 1698.54,1148.24 \n",
       "  1726.11,1217.51 1753.67,1279.45 1781.23,1332.96 1804.43,1370.77 1827.64,1401.44 1850.84,1424.61 1874.04,1439.97 1902.37,1447.87 1930.69,1443.71 1959.02,1427.56 \n",
       "  1987.35,1399.73 2013.98,1363.37 2040.61,1317.76 2067.23,1263.64 2093.86,1201.91 2136.52,1089.77 2179.18,965.528 2221.84,834.466 2264.51,702.15 2271.07,682.035 \n",
       "  2277.64,662.045 2284.2,642.198 2290.77,622.516 \n",
       "  \"/>\n",
       "<path clip-path=\"url(#clip050)\" d=\"\n",
       "M1989.74 388.432 L2280.76 388.432 L2280.76 206.992 L1989.74 206.992  Z\n",
       "  \" fill=\"#ffffff\" fill-rule=\"evenodd\" fill-opacity=\"1\"/>\n",
       "<polyline clip-path=\"url(#clip050)\" style=\"stroke:#000000; stroke-width:4; stroke-opacity:1; fill:none\" points=\"\n",
       "  1989.74,388.432 2280.76,388.432 2280.76,206.992 1989.74,206.992 1989.74,388.432 \n",
       "  \"/>\n",
       "<polyline clip-path=\"url(#clip050)\" style=\"stroke:#009af9; stroke-width:4; stroke-opacity:1; fill:none\" points=\"\n",
       "  2013.74,267.472 2157.74,267.472 \n",
       "  \"/>\n",
       "<path clip-path=\"url(#clip050)\" d=\"M 0 0 M2195.58 287.16 Q2193.77 291.789 2192.06 293.201 Q2190.35 294.613 2187.48 294.613 L2184.08 294.613 L2184.08 291.048 L2186.58 291.048 Q2188.33 291.048 2189.31 290.215 Q2190.28 289.382 2191.46 286.28 L2192.22 284.335 L2181.74 258.826 L2186.25 258.826 L2194.35 279.104 L2202.46 258.826 L2206.97 258.826 L2195.58 287.16 Z\" fill=\"#000000\" fill-rule=\"evenodd\" fill-opacity=\"1\" /><path clip-path=\"url(#clip050)\" d=\"M 0 0 M2212.85 280.817 L2220.49 280.817 L2220.49 254.451 L2212.18 256.118 L2212.18 251.859 L2220.44 250.192 L2225.12 250.192 L2225.12 280.817 L2232.76 280.817 L2232.76 284.752 L2212.85 284.752 L2212.85 280.817 Z\" fill=\"#000000\" fill-rule=\"evenodd\" fill-opacity=\"1\" /><polyline clip-path=\"url(#clip050)\" style=\"stroke:#e26f46; stroke-width:4; stroke-opacity:1; fill:none\" points=\"\n",
       "  2013.74,327.952 2157.74,327.952 \n",
       "  \"/>\n",
       "<path clip-path=\"url(#clip050)\" d=\"M 0 0 M2195.58 347.64 Q2193.77 352.269 2192.06 353.681 Q2190.35 355.093 2187.48 355.093 L2184.08 355.093 L2184.08 351.528 L2186.58 351.528 Q2188.33 351.528 2189.31 350.695 Q2190.28 349.862 2191.46 346.76 L2192.22 344.815 L2181.74 319.306 L2186.25 319.306 L2194.35 339.584 L2202.46 319.306 L2206.97 319.306 L2195.58 347.64 Z\" fill=\"#000000\" fill-rule=\"evenodd\" fill-opacity=\"1\" /><path clip-path=\"url(#clip050)\" d=\"M 0 0 M2216.07 341.297 L2232.39 341.297 L2232.39 345.232 L2210.44 345.232 L2210.44 341.297 Q2213.1 338.542 2217.69 333.913 Q2222.29 329.26 2223.47 327.917 Q2225.72 325.394 2226.6 323.658 Q2227.5 321.899 2227.5 320.209 Q2227.5 317.454 2225.56 315.718 Q2223.64 313.982 2220.53 313.982 Q2218.33 313.982 2215.88 314.746 Q2213.45 315.51 2210.67 317.061 L2210.67 312.339 Q2213.5 311.205 2215.95 310.626 Q2218.4 310.047 2220.44 310.047 Q2225.81 310.047 2229.01 312.732 Q2232.2 315.417 2232.2 319.908 Q2232.2 322.038 2231.39 323.959 Q2230.6 325.857 2228.5 328.45 Q2227.92 329.121 2224.82 332.339 Q2221.71 335.533 2216.07 341.297 Z\" fill=\"#000000\" fill-rule=\"evenodd\" fill-opacity=\"1\" /></svg>\n"
      ]
     },
     "execution_count": 79,
     "metadata": {},
     "output_type": "execute_result"
    }
   ],
   "source": [
    "title!(\"Funny plot\")"
   ]
  },
  {
   "cell_type": "markdown",
   "metadata": {},
   "source": [
    "### Some basis regression "
   ]
  },
  {
   "cell_type": "code",
   "execution_count": 80,
   "metadata": {},
   "outputs": [],
   "source": [
    "x=rand(100)*10\n",
    "y=3*x+randn(length(x)) .+5;"
   ]
  },
  {
   "cell_type": "code",
   "execution_count": 81,
   "metadata": {},
   "outputs": [
    {
     "data": {
      "image/svg+xml": [
       "<?xml version=\"1.0\" encoding=\"utf-8\"?>\n",
       "<svg xmlns=\"http://www.w3.org/2000/svg\" xmlns:xlink=\"http://www.w3.org/1999/xlink\" width=\"600\" height=\"400\" viewBox=\"0 0 2400 1600\">\n",
       "<defs>\n",
       "  <clipPath id=\"clip090\">\n",
       "    <rect x=\"0\" y=\"0\" width=\"2400\" height=\"1600\"/>\n",
       "  </clipPath>\n",
       "</defs>\n",
       "<path clip-path=\"url(#clip090)\" d=\"\n",
       "M0 1600 L2400 1600 L2400 0 L0 0  Z\n",
       "  \" fill=\"#ffffff\" fill-rule=\"evenodd\" fill-opacity=\"1\"/>\n",
       "<defs>\n",
       "  <clipPath id=\"clip091\">\n",
       "    <rect x=\"480\" y=\"0\" width=\"1681\" height=\"1600\"/>\n",
       "  </clipPath>\n",
       "</defs>\n",
       "<path clip-path=\"url(#clip090)\" d=\"\n",
       "M136.76 1486.45 L2352.76 1486.45 L2352.76 47.2441 L136.76 47.2441  Z\n",
       "  \" fill=\"#ffffff\" fill-rule=\"evenodd\" fill-opacity=\"1\"/>\n",
       "<defs>\n",
       "  <clipPath id=\"clip092\">\n",
       "    <rect x=\"136\" y=\"47\" width=\"2217\" height=\"1440\"/>\n",
       "  </clipPath>\n",
       "</defs>\n",
       "<polyline clip-path=\"url(#clip092)\" style=\"stroke:#000000; stroke-width:2; stroke-opacity:0.1; fill:none\" points=\"\n",
       "  192.601,1486.45 192.601,47.2441 \n",
       "  \"/>\n",
       "<polyline clip-path=\"url(#clip092)\" style=\"stroke:#000000; stroke-width:2; stroke-opacity:0.1; fill:none\" points=\"\n",
       "  723.589,1486.45 723.589,47.2441 \n",
       "  \"/>\n",
       "<polyline clip-path=\"url(#clip092)\" style=\"stroke:#000000; stroke-width:2; stroke-opacity:0.1; fill:none\" points=\"\n",
       "  1254.58,1486.45 1254.58,47.2441 \n",
       "  \"/>\n",
       "<polyline clip-path=\"url(#clip092)\" style=\"stroke:#000000; stroke-width:2; stroke-opacity:0.1; fill:none\" points=\"\n",
       "  1785.57,1486.45 1785.57,47.2441 \n",
       "  \"/>\n",
       "<polyline clip-path=\"url(#clip092)\" style=\"stroke:#000000; stroke-width:2; stroke-opacity:0.1; fill:none\" points=\"\n",
       "  2316.55,1486.45 2316.55,47.2441 \n",
       "  \"/>\n",
       "<polyline clip-path=\"url(#clip092)\" style=\"stroke:#000000; stroke-width:2; stroke-opacity:0.1; fill:none\" points=\"\n",
       "  136.76,1396.58 2352.76,1396.58 \n",
       "  \"/>\n",
       "<polyline clip-path=\"url(#clip092)\" style=\"stroke:#000000; stroke-width:2; stroke-opacity:0.1; fill:none\" points=\"\n",
       "  136.76,1176.18 2352.76,1176.18 \n",
       "  \"/>\n",
       "<polyline clip-path=\"url(#clip092)\" style=\"stroke:#000000; stroke-width:2; stroke-opacity:0.1; fill:none\" points=\"\n",
       "  136.76,955.776 2352.76,955.776 \n",
       "  \"/>\n",
       "<polyline clip-path=\"url(#clip092)\" style=\"stroke:#000000; stroke-width:2; stroke-opacity:0.1; fill:none\" points=\"\n",
       "  136.76,735.372 2352.76,735.372 \n",
       "  \"/>\n",
       "<polyline clip-path=\"url(#clip092)\" style=\"stroke:#000000; stroke-width:2; stroke-opacity:0.1; fill:none\" points=\"\n",
       "  136.76,514.967 2352.76,514.967 \n",
       "  \"/>\n",
       "<polyline clip-path=\"url(#clip092)\" style=\"stroke:#000000; stroke-width:2; stroke-opacity:0.1; fill:none\" points=\"\n",
       "  136.76,294.563 2352.76,294.563 \n",
       "  \"/>\n",
       "<polyline clip-path=\"url(#clip092)\" style=\"stroke:#000000; stroke-width:2; stroke-opacity:0.1; fill:none\" points=\"\n",
       "  136.76,74.1591 2352.76,74.1591 \n",
       "  \"/>\n",
       "<polyline clip-path=\"url(#clip090)\" style=\"stroke:#000000; stroke-width:4; stroke-opacity:1; fill:none\" points=\"\n",
       "  136.76,1486.45 2352.76,1486.45 \n",
       "  \"/>\n",
       "<polyline clip-path=\"url(#clip090)\" style=\"stroke:#000000; stroke-width:4; stroke-opacity:1; fill:none\" points=\"\n",
       "  136.76,1486.45 136.76,47.2441 \n",
       "  \"/>\n",
       "<polyline clip-path=\"url(#clip090)\" style=\"stroke:#000000; stroke-width:4; stroke-opacity:1; fill:none\" points=\"\n",
       "  192.601,1486.45 192.601,1469.18 \n",
       "  \"/>\n",
       "<polyline clip-path=\"url(#clip090)\" style=\"stroke:#000000; stroke-width:4; stroke-opacity:1; fill:none\" points=\"\n",
       "  723.589,1486.45 723.589,1469.18 \n",
       "  \"/>\n",
       "<polyline clip-path=\"url(#clip090)\" style=\"stroke:#000000; stroke-width:4; stroke-opacity:1; fill:none\" points=\"\n",
       "  1254.58,1486.45 1254.58,1469.18 \n",
       "  \"/>\n",
       "<polyline clip-path=\"url(#clip090)\" style=\"stroke:#000000; stroke-width:4; stroke-opacity:1; fill:none\" points=\"\n",
       "  1785.57,1486.45 1785.57,1469.18 \n",
       "  \"/>\n",
       "<polyline clip-path=\"url(#clip090)\" style=\"stroke:#000000; stroke-width:4; stroke-opacity:1; fill:none\" points=\"\n",
       "  2316.55,1486.45 2316.55,1469.18 \n",
       "  \"/>\n",
       "<polyline clip-path=\"url(#clip090)\" style=\"stroke:#000000; stroke-width:4; stroke-opacity:1; fill:none\" points=\"\n",
       "  136.76,1396.58 163.352,1396.58 \n",
       "  \"/>\n",
       "<polyline clip-path=\"url(#clip090)\" style=\"stroke:#000000; stroke-width:4; stroke-opacity:1; fill:none\" points=\"\n",
       "  136.76,1176.18 163.352,1176.18 \n",
       "  \"/>\n",
       "<polyline clip-path=\"url(#clip090)\" style=\"stroke:#000000; stroke-width:4; stroke-opacity:1; fill:none\" points=\"\n",
       "  136.76,955.776 163.352,955.776 \n",
       "  \"/>\n",
       "<polyline clip-path=\"url(#clip090)\" style=\"stroke:#000000; stroke-width:4; stroke-opacity:1; fill:none\" points=\"\n",
       "  136.76,735.372 163.352,735.372 \n",
       "  \"/>\n",
       "<polyline clip-path=\"url(#clip090)\" style=\"stroke:#000000; stroke-width:4; stroke-opacity:1; fill:none\" points=\"\n",
       "  136.76,514.967 163.352,514.967 \n",
       "  \"/>\n",
       "<polyline clip-path=\"url(#clip090)\" style=\"stroke:#000000; stroke-width:4; stroke-opacity:1; fill:none\" points=\"\n",
       "  136.76,294.563 163.352,294.563 \n",
       "  \"/>\n",
       "<polyline clip-path=\"url(#clip090)\" style=\"stroke:#000000; stroke-width:4; stroke-opacity:1; fill:none\" points=\"\n",
       "  136.76,74.1591 163.352,74.1591 \n",
       "  \"/>\n",
       "<path clip-path=\"url(#clip090)\" d=\"M 0 0 M174.117 1508.44 Q170.506 1508.44 168.677 1512 Q166.872 1515.55 166.872 1522.67 Q166.872 1529.78 168.677 1533.35 Q170.506 1536.89 174.117 1536.89 Q177.751 1536.89 179.557 1533.35 Q181.386 1529.78 181.386 1522.67 Q181.386 1515.55 179.557 1512 Q177.751 1508.44 174.117 1508.44 M174.117 1504.73 Q179.927 1504.73 182.983 1509.34 Q186.062 1513.92 186.062 1522.67 Q186.062 1531.4 182.983 1536.01 Q179.927 1540.59 174.117 1540.59 Q168.307 1540.59 165.228 1536.01 Q162.173 1531.4 162.173 1522.67 Q162.173 1513.92 165.228 1509.34 Q168.307 1504.73 174.117 1504.73 Z\" fill=\"#000000\" fill-rule=\"evenodd\" fill-opacity=\"1\" /><path clip-path=\"url(#clip090)\" d=\"M 0 0 M191.131 1534.04 L196.015 1534.04 L196.015 1539.92 L191.131 1539.92 L191.131 1534.04 Z\" fill=\"#000000\" fill-rule=\"evenodd\" fill-opacity=\"1\" /><path clip-path=\"url(#clip090)\" d=\"M 0 0 M211.085 1508.44 Q207.473 1508.44 205.645 1512 Q203.839 1515.55 203.839 1522.67 Q203.839 1529.78 205.645 1533.35 Q207.473 1536.89 211.085 1536.89 Q214.719 1536.89 216.524 1533.35 Q218.353 1529.78 218.353 1522.67 Q218.353 1515.55 216.524 1512 Q214.719 1508.44 211.085 1508.44 M211.085 1504.73 Q216.895 1504.73 219.95 1509.34 Q223.029 1513.92 223.029 1522.67 Q223.029 1531.4 219.95 1536.01 Q216.895 1540.59 211.085 1540.59 Q205.274 1540.59 202.196 1536.01 Q199.14 1531.4 199.14 1522.67 Q199.14 1513.92 202.196 1509.34 Q205.274 1504.73 211.085 1504.73 Z\" fill=\"#000000\" fill-rule=\"evenodd\" fill-opacity=\"1\" /><path clip-path=\"url(#clip090)\" d=\"M 0 0 M700.256 1535.98 L716.575 1535.98 L716.575 1539.92 L694.631 1539.92 L694.631 1535.98 Q697.293 1533.23 701.876 1528.6 Q706.483 1523.95 707.663 1522.61 Q709.909 1520.08 710.788 1518.35 Q711.691 1516.59 711.691 1514.9 Q711.691 1512.14 709.747 1510.41 Q707.825 1508.67 704.723 1508.67 Q702.524 1508.67 700.071 1509.43 Q697.64 1510.2 694.862 1511.75 L694.862 1507.03 Q697.686 1505.89 700.14 1505.31 Q702.594 1504.73 704.631 1504.73 Q710.001 1504.73 713.196 1507.42 Q716.39 1510.11 716.39 1514.6 Q716.39 1516.73 715.58 1518.65 Q714.793 1520.54 712.686 1523.14 Q712.108 1523.81 709.006 1527.03 Q705.904 1530.22 700.256 1535.98 Z\" fill=\"#000000\" fill-rule=\"evenodd\" fill-opacity=\"1\" /><path clip-path=\"url(#clip090)\" d=\"M 0 0 M721.645 1534.04 L726.529 1534.04 L726.529 1539.92 L721.645 1539.92 L721.645 1534.04 Z\" fill=\"#000000\" fill-rule=\"evenodd\" fill-opacity=\"1\" /><path clip-path=\"url(#clip090)\" d=\"M 0 0 M731.645 1505.36 L750.001 1505.36 L750.001 1509.3 L735.927 1509.3 L735.927 1517.77 Q736.946 1517.42 737.964 1517.26 Q738.983 1517.07 740.001 1517.07 Q745.788 1517.07 749.168 1520.24 Q752.547 1523.42 752.547 1528.83 Q752.547 1534.41 749.075 1537.51 Q745.603 1540.59 739.283 1540.59 Q737.108 1540.59 734.839 1540.22 Q732.594 1539.85 730.186 1539.11 L730.186 1534.41 Q732.27 1535.54 734.492 1536.1 Q736.714 1536.66 739.191 1536.66 Q743.196 1536.66 745.533 1534.55 Q747.871 1532.44 747.871 1528.83 Q747.871 1525.22 745.533 1523.11 Q743.196 1521.01 739.191 1521.01 Q737.316 1521.01 735.441 1521.42 Q733.589 1521.84 731.645 1522.72 L731.645 1505.36 Z\" fill=\"#000000\" fill-rule=\"evenodd\" fill-opacity=\"1\" /><path clip-path=\"url(#clip090)\" d=\"M 0 0 M1226.37 1505.36 L1244.73 1505.36 L1244.73 1509.3 L1230.65 1509.3 L1230.65 1517.77 Q1231.67 1517.42 1232.69 1517.26 Q1233.71 1517.07 1234.73 1517.07 Q1240.52 1517.07 1243.89 1520.24 Q1247.27 1523.42 1247.27 1528.83 Q1247.27 1534.41 1243.8 1537.51 Q1240.33 1540.59 1234.01 1540.59 Q1231.83 1540.59 1229.57 1540.22 Q1227.32 1539.85 1224.91 1539.11 L1224.91 1534.41 Q1227 1535.54 1229.22 1536.1 Q1231.44 1536.66 1233.92 1536.66 Q1237.92 1536.66 1240.26 1534.55 Q1242.6 1532.44 1242.6 1528.83 Q1242.6 1525.22 1240.26 1523.11 Q1237.92 1521.01 1233.92 1521.01 Q1232.04 1521.01 1230.17 1521.42 Q1228.32 1521.84 1226.37 1522.72 L1226.37 1505.36 Z\" fill=\"#000000\" fill-rule=\"evenodd\" fill-opacity=\"1\" /><path clip-path=\"url(#clip090)\" d=\"M 0 0 M1252.34 1534.04 L1257.23 1534.04 L1257.23 1539.92 L1252.34 1539.92 L1252.34 1534.04 Z\" fill=\"#000000\" fill-rule=\"evenodd\" fill-opacity=\"1\" /><path clip-path=\"url(#clip090)\" d=\"M 0 0 M1272.3 1508.44 Q1268.69 1508.44 1266.86 1512 Q1265.05 1515.55 1265.05 1522.67 Q1265.05 1529.78 1266.86 1533.35 Q1268.69 1536.89 1272.3 1536.89 Q1275.93 1536.89 1277.74 1533.35 Q1279.57 1529.78 1279.57 1522.67 Q1279.57 1515.55 1277.74 1512 Q1275.93 1508.44 1272.3 1508.44 M1272.3 1504.73 Q1278.11 1504.73 1281.16 1509.34 Q1284.24 1513.92 1284.24 1522.67 Q1284.24 1531.4 1281.16 1536.01 Q1278.11 1540.59 1272.3 1540.59 Q1266.49 1540.59 1263.41 1536.01 Q1260.35 1531.4 1260.35 1522.67 Q1260.35 1513.92 1263.41 1509.34 Q1266.49 1504.73 1272.3 1504.73 Z\" fill=\"#000000\" fill-rule=\"evenodd\" fill-opacity=\"1\" /><path clip-path=\"url(#clip090)\" d=\"M 0 0 M1756.47 1505.36 L1778.69 1505.36 L1778.69 1507.35 L1766.14 1539.92 L1761.26 1539.92 L1773.07 1509.3 L1756.47 1509.3 L1756.47 1505.36 Z\" fill=\"#000000\" fill-rule=\"evenodd\" fill-opacity=\"1\" /><path clip-path=\"url(#clip090)\" d=\"M 0 0 M1783.76 1534.04 L1788.64 1534.04 L1788.64 1539.92 L1783.76 1539.92 L1783.76 1534.04 Z\" fill=\"#000000\" fill-rule=\"evenodd\" fill-opacity=\"1\" /><path clip-path=\"url(#clip090)\" d=\"M 0 0 M1793.76 1505.36 L1812.12 1505.36 L1812.12 1509.3 L1798.04 1509.3 L1798.04 1517.77 Q1799.06 1517.42 1800.08 1517.26 Q1801.1 1517.07 1802.12 1517.07 Q1807.9 1517.07 1811.28 1520.24 Q1814.66 1523.42 1814.66 1528.83 Q1814.66 1534.41 1811.19 1537.51 Q1807.72 1540.59 1801.4 1540.59 Q1799.22 1540.59 1796.95 1540.22 Q1794.71 1539.85 1792.3 1539.11 L1792.3 1534.41 Q1794.39 1535.54 1796.61 1536.1 Q1798.83 1536.66 1801.31 1536.66 Q1805.31 1536.66 1807.65 1534.55 Q1809.99 1532.44 1809.99 1528.83 Q1809.99 1525.22 1807.65 1523.11 Q1805.31 1521.01 1801.31 1521.01 Q1799.43 1521.01 1797.56 1521.42 Q1795.7 1521.84 1793.76 1522.72 L1793.76 1505.36 Z\" fill=\"#000000\" fill-rule=\"evenodd\" fill-opacity=\"1\" /><path clip-path=\"url(#clip090)\" d=\"M 0 0 M2274.95 1535.98 L2282.58 1535.98 L2282.58 1509.62 L2274.27 1511.29 L2274.27 1507.03 L2282.54 1505.36 L2287.21 1505.36 L2287.21 1535.98 L2294.85 1535.98 L2294.85 1539.92 L2274.95 1539.92 L2274.95 1535.98 Z\" fill=\"#000000\" fill-rule=\"evenodd\" fill-opacity=\"1\" /><path clip-path=\"url(#clip090)\" d=\"M 0 0 M2309.92 1508.44 Q2306.31 1508.44 2304.48 1512 Q2302.68 1515.55 2302.68 1522.67 Q2302.68 1529.78 2304.48 1533.35 Q2306.31 1536.89 2309.92 1536.89 Q2313.56 1536.89 2315.36 1533.35 Q2317.19 1529.78 2317.19 1522.67 Q2317.19 1515.55 2315.36 1512 Q2313.56 1508.44 2309.92 1508.44 M2309.92 1504.73 Q2315.73 1504.73 2318.79 1509.34 Q2321.87 1513.92 2321.87 1522.67 Q2321.87 1531.4 2318.79 1536.01 Q2315.73 1540.59 2309.92 1540.59 Q2304.11 1540.59 2301.03 1536.01 Q2297.98 1531.4 2297.98 1522.67 Q2297.98 1513.92 2301.03 1509.34 Q2304.11 1504.73 2309.92 1504.73 Z\" fill=\"#000000\" fill-rule=\"evenodd\" fill-opacity=\"1\" /><path clip-path=\"url(#clip090)\" d=\"M 0 0 M2326.94 1534.04 L2331.82 1534.04 L2331.82 1539.92 L2326.94 1539.92 L2326.94 1534.04 Z\" fill=\"#000000\" fill-rule=\"evenodd\" fill-opacity=\"1\" /><path clip-path=\"url(#clip090)\" d=\"M 0 0 M2346.89 1508.44 Q2343.28 1508.44 2341.45 1512 Q2339.64 1515.55 2339.64 1522.67 Q2339.64 1529.78 2341.45 1533.35 Q2343.28 1536.89 2346.89 1536.89 Q2350.52 1536.89 2352.33 1533.35 Q2354.16 1529.78 2354.16 1522.67 Q2354.16 1515.55 2352.33 1512 Q2350.52 1508.44 2346.89 1508.44 M2346.89 1504.73 Q2352.7 1504.73 2355.76 1509.34 Q2358.83 1513.92 2358.83 1522.67 Q2358.83 1531.4 2355.76 1536.01 Q2352.7 1540.59 2346.89 1540.59 Q2341.08 1540.59 2338 1536.01 Q2334.95 1531.4 2334.95 1522.67 Q2334.95 1513.92 2338 1509.34 Q2341.08 1504.73 2346.89 1504.73 Z\" fill=\"#000000\" fill-rule=\"evenodd\" fill-opacity=\"1\" /><path clip-path=\"url(#clip090)\" d=\"M 0 0 M91.8577 1379.3 L110.214 1379.3 L110.214 1383.24 L96.1401 1383.24 L96.1401 1391.71 Q97.1586 1391.36 98.1771 1391.2 Q99.1956 1391.02 100.214 1391.02 Q106.001 1391.02 109.381 1394.19 Q112.76 1397.36 112.76 1402.78 Q112.76 1408.36 109.288 1411.46 Q105.816 1414.54 99.4966 1414.54 Q97.3206 1414.54 95.0521 1414.17 Q92.8068 1413.79 90.3994 1413.05 L90.3994 1408.36 Q92.4827 1409.49 94.7049 1410.04 Q96.9271 1410.6 99.404 1410.6 Q103.409 1410.6 105.747 1408.49 Q108.084 1406.39 108.084 1402.78 Q108.084 1399.17 105.747 1397.06 Q103.409 1394.95 99.404 1394.95 Q97.529 1394.95 95.654 1395.37 Q93.8021 1395.79 91.8577 1396.67 L91.8577 1379.3 Z\" fill=\"#000000\" fill-rule=\"evenodd\" fill-opacity=\"1\" /><path clip-path=\"url(#clip090)\" d=\"M 0 0 M65.8393 1189.52 L73.4782 1189.52 L73.4782 1163.16 L65.168 1164.83 L65.168 1160.57 L73.4319 1158.9 L78.1078 1158.9 L78.1078 1189.52 L85.7466 1189.52 L85.7466 1193.46 L65.8393 1193.46 L65.8393 1189.52 Z\" fill=\"#000000\" fill-rule=\"evenodd\" fill-opacity=\"1\" /><path clip-path=\"url(#clip090)\" d=\"M 0 0 M100.816 1161.98 Q97.2049 1161.98 95.3762 1165.54 Q93.5707 1169.09 93.5707 1176.21 Q93.5707 1183.32 95.3762 1186.89 Q97.2049 1190.43 100.816 1190.43 Q104.45 1190.43 106.256 1186.89 Q108.084 1183.32 108.084 1176.21 Q108.084 1169.09 106.256 1165.54 Q104.45 1161.98 100.816 1161.98 M100.816 1158.28 Q106.626 1158.28 109.682 1162.88 Q112.76 1167.46 112.76 1176.21 Q112.76 1184.94 109.682 1189.55 Q106.626 1194.13 100.816 1194.13 Q95.0058 1194.13 91.9272 1189.55 Q88.8716 1184.94 88.8716 1176.21 Q88.8716 1167.46 91.9272 1162.88 Q95.0058 1158.28 100.816 1158.28 Z\" fill=\"#000000\" fill-rule=\"evenodd\" fill-opacity=\"1\" /><path clip-path=\"url(#clip090)\" d=\"M 0 0 M66.8347 969.121 L74.4735 969.121 L74.4735 942.755 L66.1634 944.422 L66.1634 940.163 L74.4272 938.496 L79.1032 938.496 L79.1032 969.121 L86.742 969.121 L86.742 973.056 L66.8347 973.056 L66.8347 969.121 Z\" fill=\"#000000\" fill-rule=\"evenodd\" fill-opacity=\"1\" /><path clip-path=\"url(#clip090)\" d=\"M 0 0 M91.8577 938.496 L110.214 938.496 L110.214 942.431 L96.1401 942.431 L96.1401 950.903 Q97.1586 950.556 98.1771 950.394 Q99.1956 950.209 100.214 950.209 Q106.001 950.209 109.381 953.38 Q112.76 956.551 112.76 961.968 Q112.76 967.547 109.288 970.648 Q105.816 973.727 99.4966 973.727 Q97.3206 973.727 95.0521 973.357 Q92.8068 972.986 90.3994 972.246 L90.3994 967.547 Q92.4827 968.681 94.7049 969.236 Q96.9271 969.792 99.404 969.792 Q103.409 969.792 105.747 967.686 Q108.084 965.579 108.084 961.968 Q108.084 958.357 105.747 956.25 Q103.409 954.144 99.404 954.144 Q97.529 954.144 95.654 954.561 Q93.8021 954.977 91.8577 955.857 L91.8577 938.496 Z\" fill=\"#000000\" fill-rule=\"evenodd\" fill-opacity=\"1\" /><path clip-path=\"url(#clip090)\" d=\"M 0 0 M69.4273 748.717 L85.7466 748.717 L85.7466 752.652 L63.8023 752.652 L63.8023 748.717 Q66.4643 745.962 71.0476 741.332 Q75.6541 736.68 76.8346 735.337 Q79.08 732.814 79.9596 731.078 Q80.8624 729.318 80.8624 727.629 Q80.8624 724.874 78.918 723.138 Q76.9967 721.402 73.8948 721.402 Q71.6958 721.402 69.2421 722.166 Q66.8115 722.93 64.0338 724.481 L64.0338 719.758 Q66.8578 718.624 69.3115 718.045 Q71.7652 717.467 73.8023 717.467 Q79.1726 717.467 82.367 720.152 Q85.5614 722.837 85.5614 727.328 Q85.5614 729.457 84.7513 731.379 Q83.9642 733.277 81.8578 735.869 Q81.2791 736.541 78.1772 739.758 Q75.0754 742.953 69.4273 748.717 Z\" fill=\"#000000\" fill-rule=\"evenodd\" fill-opacity=\"1\" /><path clip-path=\"url(#clip090)\" d=\"M 0 0 M100.816 721.17 Q97.2049 721.17 95.3762 724.735 Q93.5707 728.277 93.5707 735.406 Q93.5707 742.513 95.3762 746.078 Q97.2049 749.619 100.816 749.619 Q104.45 749.619 106.256 746.078 Q108.084 742.513 108.084 735.406 Q108.084 728.277 106.256 724.735 Q104.45 721.17 100.816 721.17 M100.816 717.467 Q106.626 717.467 109.682 722.073 Q112.76 726.656 112.76 735.406 Q112.76 744.133 109.682 748.74 Q106.626 753.323 100.816 753.323 Q95.0058 753.323 91.9272 748.74 Q88.8716 744.133 88.8716 735.406 Q88.8716 726.656 91.9272 722.073 Q95.0058 717.467 100.816 717.467 Z\" fill=\"#000000\" fill-rule=\"evenodd\" fill-opacity=\"1\" /><path clip-path=\"url(#clip090)\" d=\"M 0 0 M70.4226 528.312 L86.742 528.312 L86.742 532.247 L64.7977 532.247 L64.7977 528.312 Q67.4597 525.558 72.043 520.928 Q76.6495 516.275 77.83 514.933 Q80.0754 512.41 80.955 510.674 Q81.8578 508.914 81.8578 507.224 Q81.8578 504.47 79.9133 502.734 Q77.992 500.998 74.8902 500.998 Q72.6911 500.998 70.2375 501.762 Q67.8069 502.525 65.0292 504.076 L65.0292 499.354 Q67.8532 498.22 70.3069 497.641 Q72.7606 497.062 74.7976 497.062 Q80.168 497.062 83.3624 499.748 Q86.5568 502.433 86.5568 506.924 Q86.5568 509.053 85.7466 510.974 Q84.9596 512.873 82.8531 515.465 Q82.2744 516.136 79.1726 519.354 Q76.0708 522.548 70.4226 528.312 Z\" fill=\"#000000\" fill-rule=\"evenodd\" fill-opacity=\"1\" /><path clip-path=\"url(#clip090)\" d=\"M 0 0 M91.8577 497.687 L110.214 497.687 L110.214 501.623 L96.1401 501.623 L96.1401 510.095 Q97.1586 509.748 98.1771 509.586 Q99.1956 509.4 100.214 509.4 Q106.001 509.4 109.381 512.572 Q112.76 515.743 112.76 521.16 Q112.76 526.738 109.288 529.84 Q105.816 532.919 99.4966 532.919 Q97.3206 532.919 95.0521 532.548 Q92.8068 532.178 90.3994 531.437 L90.3994 526.738 Q92.4827 527.873 94.7049 528.428 Q96.9271 528.984 99.404 528.984 Q103.409 528.984 105.747 526.877 Q108.084 524.771 108.084 521.16 Q108.084 517.548 105.747 515.442 Q103.409 513.336 99.404 513.336 Q97.529 513.336 95.654 513.752 Q93.8021 514.169 91.8577 515.049 L91.8577 497.687 Z\" fill=\"#000000\" fill-rule=\"evenodd\" fill-opacity=\"1\" /><path clip-path=\"url(#clip090)\" d=\"M 0 0 M78.617 293.209 Q81.9735 293.927 83.8485 296.195 Q85.7466 298.464 85.7466 301.797 Q85.7466 306.913 82.2281 309.714 Q78.7096 312.515 72.2282 312.515 Q70.0523 312.515 67.7375 312.075 Q65.4458 311.658 62.9921 310.802 L62.9921 306.288 Q64.9366 307.422 67.2514 308.001 Q69.5662 308.579 72.0893 308.579 Q76.4874 308.579 78.7791 306.843 Q81.0939 305.107 81.0939 301.797 Q81.0939 298.741 78.9411 297.029 Q76.8115 295.292 72.9921 295.292 L68.9643 295.292 L68.9643 291.45 L73.1773 291.45 Q76.6263 291.45 78.455 290.084 Q80.2837 288.695 80.2837 286.103 Q80.2837 283.441 78.3856 282.029 Q76.5106 280.593 72.9921 280.593 Q71.0708 280.593 68.8717 281.01 Q66.6727 281.427 64.0338 282.306 L64.0338 278.14 Q66.6958 277.399 69.0106 277.029 Q71.3486 276.658 73.4087 276.658 Q78.7328 276.658 81.8346 279.089 Q84.9365 281.496 84.9365 285.617 Q84.9365 288.487 83.2929 290.478 Q81.6494 292.445 78.617 293.209 Z\" fill=\"#000000\" fill-rule=\"evenodd\" fill-opacity=\"1\" /><path clip-path=\"url(#clip090)\" d=\"M 0 0 M100.816 280.362 Q97.2049 280.362 95.3762 283.927 Q93.5707 287.468 93.5707 294.598 Q93.5707 301.704 95.3762 305.269 Q97.2049 308.811 100.816 308.811 Q104.45 308.811 106.256 305.269 Q108.084 301.704 108.084 294.598 Q108.084 287.468 106.256 283.927 Q104.45 280.362 100.816 280.362 M100.816 276.658 Q106.626 276.658 109.682 281.265 Q112.76 285.848 112.76 294.598 Q112.76 303.325 109.682 307.931 Q106.626 312.515 100.816 312.515 Q95.0058 312.515 91.9272 307.931 Q88.8716 303.325 88.8716 294.598 Q88.8716 285.848 91.9272 281.265 Q95.0058 276.658 100.816 276.658 Z\" fill=\"#000000\" fill-rule=\"evenodd\" fill-opacity=\"1\" /><path clip-path=\"url(#clip090)\" d=\"M 0 0 M79.6124 72.8049 Q82.9689 73.5225 84.8439 75.791 Q86.742 78.0595 86.742 81.3928 Q86.742 86.5085 83.2235 89.3095 Q79.705 92.1104 73.2236 92.1104 Q71.0476 92.1104 68.7328 91.6706 Q66.4412 91.2539 63.9875 90.3974 L63.9875 85.8835 Q65.9319 87.0178 68.2467 87.5965 Q70.5615 88.1752 73.0847 88.1752 Q77.4828 88.1752 79.7744 86.4391 Q82.0892 84.703 82.0892 81.3928 Q82.0892 78.3373 79.9365 76.6243 Q77.8069 74.8882 73.9874 74.8882 L69.9597 74.8882 L69.9597 71.0457 L74.1726 71.0457 Q77.6217 71.0457 79.4504 69.6799 Q81.2791 68.291 81.2791 65.6985 Q81.2791 63.0364 79.3809 61.6244 Q77.5059 60.1892 73.9874 60.1892 Q72.0662 60.1892 69.8671 60.6059 Q67.668 61.0226 65.0292 61.9022 L65.0292 57.7356 Q67.6912 56.9948 70.006 56.6244 Q72.3439 56.2541 74.4041 56.2541 Q79.7281 56.2541 82.83 58.6846 Q85.9318 61.092 85.9318 65.2124 Q85.9318 68.0827 84.2883 70.0734 Q82.6448 72.041 79.6124 72.8049 Z\" fill=\"#000000\" fill-rule=\"evenodd\" fill-opacity=\"1\" /><path clip-path=\"url(#clip090)\" d=\"M 0 0 M91.8577 56.8791 L110.214 56.8791 L110.214 60.8142 L96.1401 60.8142 L96.1401 69.2864 Q97.1586 68.9392 98.1771 68.7772 Q99.1956 68.592 100.214 68.592 Q106.001 68.592 109.381 71.7633 Q112.76 74.9345 112.76 80.3512 Q112.76 85.9298 109.288 89.0317 Q105.816 92.1104 99.4966 92.1104 Q97.3206 92.1104 95.0521 91.74 Q92.8068 91.3696 90.3994 90.6289 L90.3994 85.9298 Q92.4827 87.0641 94.7049 87.6196 Q96.9271 88.1752 99.404 88.1752 Q103.409 88.1752 105.747 86.0687 Q108.084 83.9623 108.084 80.3512 Q108.084 76.7401 105.747 74.6336 Q103.409 72.5271 99.404 72.5271 Q97.529 72.5271 95.654 72.9438 Q93.8021 73.3605 91.8577 74.2401 L91.8577 56.8791 Z\" fill=\"#000000\" fill-rule=\"evenodd\" fill-opacity=\"1\" /><circle clip-path=\"url(#clip092)\" cx=\"737.494\" cy=\"1058.13\" r=\"14\" fill=\"#009af9\" fill-rule=\"evenodd\" fill-opacity=\"1\" stroke=\"#000000\" stroke-opacity=\"1\" stroke-width=\"3.2\"/>\n",
       "<circle clip-path=\"url(#clip092)\" cx=\"1632.34\" cy=\"433.102\" r=\"14\" fill=\"#009af9\" fill-rule=\"evenodd\" fill-opacity=\"1\" stroke=\"#000000\" stroke-opacity=\"1\" stroke-width=\"3.2\"/>\n",
       "<circle clip-path=\"url(#clip092)\" cx=\"1457.7\" cy=\"735.696\" r=\"14\" fill=\"#009af9\" fill-rule=\"evenodd\" fill-opacity=\"1\" stroke=\"#000000\" stroke-opacity=\"1\" stroke-width=\"3.2\"/>\n",
       "<circle clip-path=\"url(#clip092)\" cx=\"1866.68\" cy=\"420.733\" r=\"14\" fill=\"#009af9\" fill-rule=\"evenodd\" fill-opacity=\"1\" stroke=\"#000000\" stroke-opacity=\"1\" stroke-width=\"3.2\"/>\n",
       "<circle clip-path=\"url(#clip092)\" cx=\"1365.81\" cy=\"612.554\" r=\"14\" fill=\"#009af9\" fill-rule=\"evenodd\" fill-opacity=\"1\" stroke=\"#000000\" stroke-opacity=\"1\" stroke-width=\"3.2\"/>\n",
       "<circle clip-path=\"url(#clip092)\" cx=\"1088.82\" cy=\"775.021\" r=\"14\" fill=\"#009af9\" fill-rule=\"evenodd\" fill-opacity=\"1\" stroke=\"#000000\" stroke-opacity=\"1\" stroke-width=\"3.2\"/>\n",
       "<circle clip-path=\"url(#clip092)\" cx=\"693.174\" cy=\"1143.39\" r=\"14\" fill=\"#009af9\" fill-rule=\"evenodd\" fill-opacity=\"1\" stroke=\"#000000\" stroke-opacity=\"1\" stroke-width=\"3.2\"/>\n",
       "<circle clip-path=\"url(#clip092)\" cx=\"1891.17\" cy=\"364.333\" r=\"14\" fill=\"#009af9\" fill-rule=\"evenodd\" fill-opacity=\"1\" stroke=\"#000000\" stroke-opacity=\"1\" stroke-width=\"3.2\"/>\n",
       "<circle clip-path=\"url(#clip092)\" cx=\"506.324\" cy=\"1136.94\" r=\"14\" fill=\"#009af9\" fill-rule=\"evenodd\" fill-opacity=\"1\" stroke=\"#000000\" stroke-opacity=\"1\" stroke-width=\"3.2\"/>\n",
       "<circle clip-path=\"url(#clip092)\" cx=\"1841.06\" cy=\"391.135\" r=\"14\" fill=\"#009af9\" fill-rule=\"evenodd\" fill-opacity=\"1\" stroke=\"#000000\" stroke-opacity=\"1\" stroke-width=\"3.2\"/>\n",
       "<circle clip-path=\"url(#clip092)\" cx=\"2214.49\" cy=\"171.426\" r=\"14\" fill=\"#009af9\" fill-rule=\"evenodd\" fill-opacity=\"1\" stroke=\"#000000\" stroke-opacity=\"1\" stroke-width=\"3.2\"/>\n",
       "<circle clip-path=\"url(#clip092)\" cx=\"1836.89\" cy=\"412.557\" r=\"14\" fill=\"#009af9\" fill-rule=\"evenodd\" fill-opacity=\"1\" stroke=\"#000000\" stroke-opacity=\"1\" stroke-width=\"3.2\"/>\n",
       "<circle clip-path=\"url(#clip092)\" cx=\"415.616\" cy=\"1205.67\" r=\"14\" fill=\"#009af9\" fill-rule=\"evenodd\" fill-opacity=\"1\" stroke=\"#000000\" stroke-opacity=\"1\" stroke-width=\"3.2\"/>\n",
       "<circle clip-path=\"url(#clip092)\" cx=\"2157.3\" cy=\"206.409\" r=\"14\" fill=\"#009af9\" fill-rule=\"evenodd\" fill-opacity=\"1\" stroke=\"#000000\" stroke-opacity=\"1\" stroke-width=\"3.2\"/>\n",
       "<circle clip-path=\"url(#clip092)\" cx=\"1590.55\" cy=\"566.594\" r=\"14\" fill=\"#009af9\" fill-rule=\"evenodd\" fill-opacity=\"1\" stroke=\"#000000\" stroke-opacity=\"1\" stroke-width=\"3.2\"/>\n",
       "<circle clip-path=\"url(#clip092)\" cx=\"2224.44\" cy=\"127.18\" r=\"14\" fill=\"#009af9\" fill-rule=\"evenodd\" fill-opacity=\"1\" stroke=\"#000000\" stroke-opacity=\"1\" stroke-width=\"3.2\"/>\n",
       "<circle clip-path=\"url(#clip092)\" cx=\"431.978\" cy=\"1242.38\" r=\"14\" fill=\"#009af9\" fill-rule=\"evenodd\" fill-opacity=\"1\" stroke=\"#000000\" stroke-opacity=\"1\" stroke-width=\"3.2\"/>\n",
       "<circle clip-path=\"url(#clip092)\" cx=\"856.557\" cy=\"996.173\" r=\"14\" fill=\"#009af9\" fill-rule=\"evenodd\" fill-opacity=\"1\" stroke=\"#000000\" stroke-opacity=\"1\" stroke-width=\"3.2\"/>\n",
       "<circle clip-path=\"url(#clip092)\" cx=\"339.116\" cy=\"1328.63\" r=\"14\" fill=\"#009af9\" fill-rule=\"evenodd\" fill-opacity=\"1\" stroke=\"#000000\" stroke-opacity=\"1\" stroke-width=\"3.2\"/>\n",
       "<circle clip-path=\"url(#clip092)\" cx=\"2191.06\" cy=\"132.765\" r=\"14\" fill=\"#009af9\" fill-rule=\"evenodd\" fill-opacity=\"1\" stroke=\"#000000\" stroke-opacity=\"1\" stroke-width=\"3.2\"/>\n",
       "<circle clip-path=\"url(#clip092)\" cx=\"1763.83\" cy=\"401.603\" r=\"14\" fill=\"#009af9\" fill-rule=\"evenodd\" fill-opacity=\"1\" stroke=\"#000000\" stroke-opacity=\"1\" stroke-width=\"3.2\"/>\n",
       "<circle clip-path=\"url(#clip092)\" cx=\"1150.3\" cy=\"796.665\" r=\"14\" fill=\"#009af9\" fill-rule=\"evenodd\" fill-opacity=\"1\" stroke=\"#000000\" stroke-opacity=\"1\" stroke-width=\"3.2\"/>\n",
       "<circle clip-path=\"url(#clip092)\" cx=\"1189.46\" cy=\"791.169\" r=\"14\" fill=\"#009af9\" fill-rule=\"evenodd\" fill-opacity=\"1\" stroke=\"#000000\" stroke-opacity=\"1\" stroke-width=\"3.2\"/>\n",
       "<circle clip-path=\"url(#clip092)\" cx=\"819.943\" cy=\"1028.12\" r=\"14\" fill=\"#009af9\" fill-rule=\"evenodd\" fill-opacity=\"1\" stroke=\"#000000\" stroke-opacity=\"1\" stroke-width=\"3.2\"/>\n",
       "<circle clip-path=\"url(#clip092)\" cx=\"2112.48\" cy=\"266.379\" r=\"14\" fill=\"#009af9\" fill-rule=\"evenodd\" fill-opacity=\"1\" stroke=\"#000000\" stroke-opacity=\"1\" stroke-width=\"3.2\"/>\n",
       "<circle clip-path=\"url(#clip092)\" cx=\"381.018\" cy=\"1294.39\" r=\"14\" fill=\"#009af9\" fill-rule=\"evenodd\" fill-opacity=\"1\" stroke=\"#000000\" stroke-opacity=\"1\" stroke-width=\"3.2\"/>\n",
       "<circle clip-path=\"url(#clip092)\" cx=\"1466.02\" cy=\"591.331\" r=\"14\" fill=\"#009af9\" fill-rule=\"evenodd\" fill-opacity=\"1\" stroke=\"#000000\" stroke-opacity=\"1\" stroke-width=\"3.2\"/>\n",
       "<circle clip-path=\"url(#clip092)\" cx=\"199.477\" cy=\"1390.81\" r=\"14\" fill=\"#009af9\" fill-rule=\"evenodd\" fill-opacity=\"1\" stroke=\"#000000\" stroke-opacity=\"1\" stroke-width=\"3.2\"/>\n",
       "<circle clip-path=\"url(#clip092)\" cx=\"2252.51\" cy=\"99.0902\" r=\"14\" fill=\"#009af9\" fill-rule=\"evenodd\" fill-opacity=\"1\" stroke=\"#000000\" stroke-opacity=\"1\" stroke-width=\"3.2\"/>\n",
       "<circle clip-path=\"url(#clip092)\" cx=\"506.461\" cy=\"1255.37\" r=\"14\" fill=\"#009af9\" fill-rule=\"evenodd\" fill-opacity=\"1\" stroke=\"#000000\" stroke-opacity=\"1\" stroke-width=\"3.2\"/>\n",
       "<circle clip-path=\"url(#clip092)\" cx=\"978.811\" cy=\"925.544\" r=\"14\" fill=\"#009af9\" fill-rule=\"evenodd\" fill-opacity=\"1\" stroke=\"#000000\" stroke-opacity=\"1\" stroke-width=\"3.2\"/>\n",
       "<circle clip-path=\"url(#clip092)\" cx=\"2175.15\" cy=\"151.656\" r=\"14\" fill=\"#009af9\" fill-rule=\"evenodd\" fill-opacity=\"1\" stroke=\"#000000\" stroke-opacity=\"1\" stroke-width=\"3.2\"/>\n",
       "<circle clip-path=\"url(#clip092)\" cx=\"1146.31\" cy=\"822.162\" r=\"14\" fill=\"#009af9\" fill-rule=\"evenodd\" fill-opacity=\"1\" stroke=\"#000000\" stroke-opacity=\"1\" stroke-width=\"3.2\"/>\n",
       "<circle clip-path=\"url(#clip092)\" cx=\"1161.14\" cy=\"709.697\" r=\"14\" fill=\"#009af9\" fill-rule=\"evenodd\" fill-opacity=\"1\" stroke=\"#000000\" stroke-opacity=\"1\" stroke-width=\"3.2\"/>\n",
       "<circle clip-path=\"url(#clip092)\" cx=\"1933.29\" cy=\"387.67\" r=\"14\" fill=\"#009af9\" fill-rule=\"evenodd\" fill-opacity=\"1\" stroke=\"#000000\" stroke-opacity=\"1\" stroke-width=\"3.2\"/>\n",
       "<circle clip-path=\"url(#clip092)\" cx=\"1496.83\" cy=\"518.198\" r=\"14\" fill=\"#009af9\" fill-rule=\"evenodd\" fill-opacity=\"1\" stroke=\"#000000\" stroke-opacity=\"1\" stroke-width=\"3.2\"/>\n",
       "<circle clip-path=\"url(#clip092)\" cx=\"208.832\" cy=\"1445.72\" r=\"14\" fill=\"#009af9\" fill-rule=\"evenodd\" fill-opacity=\"1\" stroke=\"#000000\" stroke-opacity=\"1\" stroke-width=\"3.2\"/>\n",
       "<circle clip-path=\"url(#clip092)\" cx=\"1380.64\" cy=\"652.179\" r=\"14\" fill=\"#009af9\" fill-rule=\"evenodd\" fill-opacity=\"1\" stroke=\"#000000\" stroke-opacity=\"1\" stroke-width=\"3.2\"/>\n",
       "<circle clip-path=\"url(#clip092)\" cx=\"1601.81\" cy=\"478.976\" r=\"14\" fill=\"#009af9\" fill-rule=\"evenodd\" fill-opacity=\"1\" stroke=\"#000000\" stroke-opacity=\"1\" stroke-width=\"3.2\"/>\n",
       "<circle clip-path=\"url(#clip092)\" cx=\"1103.22\" cy=\"856.1\" r=\"14\" fill=\"#009af9\" fill-rule=\"evenodd\" fill-opacity=\"1\" stroke=\"#000000\" stroke-opacity=\"1\" stroke-width=\"3.2\"/>\n",
       "<circle clip-path=\"url(#clip092)\" cx=\"862.702\" cy=\"984.954\" r=\"14\" fill=\"#009af9\" fill-rule=\"evenodd\" fill-opacity=\"1\" stroke=\"#000000\" stroke-opacity=\"1\" stroke-width=\"3.2\"/>\n",
       "<circle clip-path=\"url(#clip092)\" cx=\"2218.07\" cy=\"147.995\" r=\"14\" fill=\"#009af9\" fill-rule=\"evenodd\" fill-opacity=\"1\" stroke=\"#000000\" stroke-opacity=\"1\" stroke-width=\"3.2\"/>\n",
       "<circle clip-path=\"url(#clip092)\" cx=\"866.994\" cy=\"908.871\" r=\"14\" fill=\"#009af9\" fill-rule=\"evenodd\" fill-opacity=\"1\" stroke=\"#000000\" stroke-opacity=\"1\" stroke-width=\"3.2\"/>\n",
       "<circle clip-path=\"url(#clip092)\" cx=\"2025.32\" cy=\"193.773\" r=\"14\" fill=\"#009af9\" fill-rule=\"evenodd\" fill-opacity=\"1\" stroke=\"#000000\" stroke-opacity=\"1\" stroke-width=\"3.2\"/>\n",
       "<circle clip-path=\"url(#clip092)\" cx=\"1328.81\" cy=\"720.145\" r=\"14\" fill=\"#009af9\" fill-rule=\"evenodd\" fill-opacity=\"1\" stroke=\"#000000\" stroke-opacity=\"1\" stroke-width=\"3.2\"/>\n",
       "<circle clip-path=\"url(#clip092)\" cx=\"1953.32\" cy=\"284.131\" r=\"14\" fill=\"#009af9\" fill-rule=\"evenodd\" fill-opacity=\"1\" stroke=\"#000000\" stroke-opacity=\"1\" stroke-width=\"3.2\"/>\n",
       "<circle clip-path=\"url(#clip092)\" cx=\"567.305\" cy=\"1136.58\" r=\"14\" fill=\"#009af9\" fill-rule=\"evenodd\" fill-opacity=\"1\" stroke=\"#000000\" stroke-opacity=\"1\" stroke-width=\"3.2\"/>\n",
       "<circle clip-path=\"url(#clip092)\" cx=\"901.93\" cy=\"877.244\" r=\"14\" fill=\"#009af9\" fill-rule=\"evenodd\" fill-opacity=\"1\" stroke=\"#000000\" stroke-opacity=\"1\" stroke-width=\"3.2\"/>\n",
       "<circle clip-path=\"url(#clip092)\" cx=\"963.237\" cy=\"916.263\" r=\"14\" fill=\"#009af9\" fill-rule=\"evenodd\" fill-opacity=\"1\" stroke=\"#000000\" stroke-opacity=\"1\" stroke-width=\"3.2\"/>\n",
       "<circle clip-path=\"url(#clip092)\" cx=\"2164.49\" cy=\"95.257\" r=\"14\" fill=\"#009af9\" fill-rule=\"evenodd\" fill-opacity=\"1\" stroke=\"#000000\" stroke-opacity=\"1\" stroke-width=\"3.2\"/>\n",
       "<circle clip-path=\"url(#clip092)\" cx=\"580.185\" cy=\"1232.02\" r=\"14\" fill=\"#009af9\" fill-rule=\"evenodd\" fill-opacity=\"1\" stroke=\"#000000\" stroke-opacity=\"1\" stroke-width=\"3.2\"/>\n",
       "<circle clip-path=\"url(#clip092)\" cx=\"2290.04\" cy=\"95.2698\" r=\"14\" fill=\"#009af9\" fill-rule=\"evenodd\" fill-opacity=\"1\" stroke=\"#000000\" stroke-opacity=\"1\" stroke-width=\"3.2\"/>\n",
       "<circle clip-path=\"url(#clip092)\" cx=\"249.866\" cy=\"1331.39\" r=\"14\" fill=\"#009af9\" fill-rule=\"evenodd\" fill-opacity=\"1\" stroke=\"#000000\" stroke-opacity=\"1\" stroke-width=\"3.2\"/>\n",
       "<circle clip-path=\"url(#clip092)\" cx=\"818.501\" cy=\"978.87\" r=\"14\" fill=\"#009af9\" fill-rule=\"evenodd\" fill-opacity=\"1\" stroke=\"#000000\" stroke-opacity=\"1\" stroke-width=\"3.2\"/>\n",
       "<circle clip-path=\"url(#clip092)\" cx=\"1981.85\" cy=\"247.662\" r=\"14\" fill=\"#009af9\" fill-rule=\"evenodd\" fill-opacity=\"1\" stroke=\"#000000\" stroke-opacity=\"1\" stroke-width=\"3.2\"/>\n",
       "<circle clip-path=\"url(#clip092)\" cx=\"1883.98\" cy=\"352.197\" r=\"14\" fill=\"#009af9\" fill-rule=\"evenodd\" fill-opacity=\"1\" stroke=\"#000000\" stroke-opacity=\"1\" stroke-width=\"3.2\"/>\n",
       "<circle clip-path=\"url(#clip092)\" cx=\"1392.9\" cy=\"684.603\" r=\"14\" fill=\"#009af9\" fill-rule=\"evenodd\" fill-opacity=\"1\" stroke=\"#000000\" stroke-opacity=\"1\" stroke-width=\"3.2\"/>\n",
       "<circle clip-path=\"url(#clip092)\" cx=\"1048.3\" cy=\"924.209\" r=\"14\" fill=\"#009af9\" fill-rule=\"evenodd\" fill-opacity=\"1\" stroke=\"#000000\" stroke-opacity=\"1\" stroke-width=\"3.2\"/>\n",
       "<circle clip-path=\"url(#clip092)\" cx=\"1073.58\" cy=\"859.197\" r=\"14\" fill=\"#009af9\" fill-rule=\"evenodd\" fill-opacity=\"1\" stroke=\"#000000\" stroke-opacity=\"1\" stroke-width=\"3.2\"/>\n",
       "<circle clip-path=\"url(#clip092)\" cx=\"2135.69\" cy=\"224.667\" r=\"14\" fill=\"#009af9\" fill-rule=\"evenodd\" fill-opacity=\"1\" stroke=\"#000000\" stroke-opacity=\"1\" stroke-width=\"3.2\"/>\n",
       "<circle clip-path=\"url(#clip092)\" cx=\"1560.4\" cy=\"529.235\" r=\"14\" fill=\"#009af9\" fill-rule=\"evenodd\" fill-opacity=\"1\" stroke=\"#000000\" stroke-opacity=\"1\" stroke-width=\"3.2\"/>\n",
       "<circle clip-path=\"url(#clip092)\" cx=\"1244.76\" cy=\"776.631\" r=\"14\" fill=\"#009af9\" fill-rule=\"evenodd\" fill-opacity=\"1\" stroke=\"#000000\" stroke-opacity=\"1\" stroke-width=\"3.2\"/>\n",
       "<circle clip-path=\"url(#clip092)\" cx=\"801.949\" cy=\"1036.53\" r=\"14\" fill=\"#009af9\" fill-rule=\"evenodd\" fill-opacity=\"1\" stroke=\"#000000\" stroke-opacity=\"1\" stroke-width=\"3.2\"/>\n",
       "<circle clip-path=\"url(#clip092)\" cx=\"2185.47\" cy=\"118.197\" r=\"14\" fill=\"#009af9\" fill-rule=\"evenodd\" fill-opacity=\"1\" stroke=\"#000000\" stroke-opacity=\"1\" stroke-width=\"3.2\"/>\n",
       "<circle clip-path=\"url(#clip092)\" cx=\"575.002\" cy=\"1103.86\" r=\"14\" fill=\"#009af9\" fill-rule=\"evenodd\" fill-opacity=\"1\" stroke=\"#000000\" stroke-opacity=\"1\" stroke-width=\"3.2\"/>\n",
       "<circle clip-path=\"url(#clip092)\" cx=\"2177.45\" cy=\"152.318\" r=\"14\" fill=\"#009af9\" fill-rule=\"evenodd\" fill-opacity=\"1\" stroke=\"#000000\" stroke-opacity=\"1\" stroke-width=\"3.2\"/>\n",
       "<circle clip-path=\"url(#clip092)\" cx=\"465.509\" cy=\"1211.05\" r=\"14\" fill=\"#009af9\" fill-rule=\"evenodd\" fill-opacity=\"1\" stroke=\"#000000\" stroke-opacity=\"1\" stroke-width=\"3.2\"/>\n",
       "<circle clip-path=\"url(#clip092)\" cx=\"851.491\" cy=\"965.806\" r=\"14\" fill=\"#009af9\" fill-rule=\"evenodd\" fill-opacity=\"1\" stroke=\"#000000\" stroke-opacity=\"1\" stroke-width=\"3.2\"/>\n",
       "<circle clip-path=\"url(#clip092)\" cx=\"2052.58\" cy=\"200.108\" r=\"14\" fill=\"#009af9\" fill-rule=\"evenodd\" fill-opacity=\"1\" stroke=\"#000000\" stroke-opacity=\"1\" stroke-width=\"3.2\"/>\n",
       "<circle clip-path=\"url(#clip092)\" cx=\"721.461\" cy=\"1035.06\" r=\"14\" fill=\"#009af9\" fill-rule=\"evenodd\" fill-opacity=\"1\" stroke=\"#000000\" stroke-opacity=\"1\" stroke-width=\"3.2\"/>\n",
       "<circle clip-path=\"url(#clip092)\" cx=\"1781.69\" cy=\"414.505\" r=\"14\" fill=\"#009af9\" fill-rule=\"evenodd\" fill-opacity=\"1\" stroke=\"#000000\" stroke-opacity=\"1\" stroke-width=\"3.2\"/>\n",
       "<circle clip-path=\"url(#clip092)\" cx=\"1882.92\" cy=\"297.971\" r=\"14\" fill=\"#009af9\" fill-rule=\"evenodd\" fill-opacity=\"1\" stroke=\"#000000\" stroke-opacity=\"1\" stroke-width=\"3.2\"/>\n",
       "<circle clip-path=\"url(#clip092)\" cx=\"1945.25\" cy=\"324.616\" r=\"14\" fill=\"#009af9\" fill-rule=\"evenodd\" fill-opacity=\"1\" stroke=\"#000000\" stroke-opacity=\"1\" stroke-width=\"3.2\"/>\n",
       "<circle clip-path=\"url(#clip092)\" cx=\"1316.92\" cy=\"742.451\" r=\"14\" fill=\"#009af9\" fill-rule=\"evenodd\" fill-opacity=\"1\" stroke=\"#000000\" stroke-opacity=\"1\" stroke-width=\"3.2\"/>\n",
       "<circle clip-path=\"url(#clip092)\" cx=\"2012.69\" cy=\"185.982\" r=\"14\" fill=\"#009af9\" fill-rule=\"evenodd\" fill-opacity=\"1\" stroke=\"#000000\" stroke-opacity=\"1\" stroke-width=\"3.2\"/>\n",
       "<circle clip-path=\"url(#clip092)\" cx=\"1495.51\" cy=\"618.28\" r=\"14\" fill=\"#009af9\" fill-rule=\"evenodd\" fill-opacity=\"1\" stroke=\"#000000\" stroke-opacity=\"1\" stroke-width=\"3.2\"/>\n",
       "<circle clip-path=\"url(#clip092)\" cx=\"1669.86\" cy=\"527.502\" r=\"14\" fill=\"#009af9\" fill-rule=\"evenodd\" fill-opacity=\"1\" stroke=\"#000000\" stroke-opacity=\"1\" stroke-width=\"3.2\"/>\n",
       "<circle clip-path=\"url(#clip092)\" cx=\"2217.56\" cy=\"87.9763\" r=\"14\" fill=\"#009af9\" fill-rule=\"evenodd\" fill-opacity=\"1\" stroke=\"#000000\" stroke-opacity=\"1\" stroke-width=\"3.2\"/>\n",
       "<circle clip-path=\"url(#clip092)\" cx=\"2215.11\" cy=\"103.072\" r=\"14\" fill=\"#009af9\" fill-rule=\"evenodd\" fill-opacity=\"1\" stroke=\"#000000\" stroke-opacity=\"1\" stroke-width=\"3.2\"/>\n",
       "<circle clip-path=\"url(#clip092)\" cx=\"995.504\" cy=\"879.24\" r=\"14\" fill=\"#009af9\" fill-rule=\"evenodd\" fill-opacity=\"1\" stroke=\"#000000\" stroke-opacity=\"1\" stroke-width=\"3.2\"/>\n",
       "<circle clip-path=\"url(#clip092)\" cx=\"1709.6\" cy=\"472.759\" r=\"14\" fill=\"#009af9\" fill-rule=\"evenodd\" fill-opacity=\"1\" stroke=\"#000000\" stroke-opacity=\"1\" stroke-width=\"3.2\"/>\n",
       "<circle clip-path=\"url(#clip092)\" cx=\"1538.68\" cy=\"578.863\" r=\"14\" fill=\"#009af9\" fill-rule=\"evenodd\" fill-opacity=\"1\" stroke=\"#000000\" stroke-opacity=\"1\" stroke-width=\"3.2\"/>\n",
       "<circle clip-path=\"url(#clip092)\" cx=\"1174.97\" cy=\"794.36\" r=\"14\" fill=\"#009af9\" fill-rule=\"evenodd\" fill-opacity=\"1\" stroke=\"#000000\" stroke-opacity=\"1\" stroke-width=\"3.2\"/>\n",
       "<circle clip-path=\"url(#clip092)\" cx=\"527.916\" cy=\"1211.59\" r=\"14\" fill=\"#009af9\" fill-rule=\"evenodd\" fill-opacity=\"1\" stroke=\"#000000\" stroke-opacity=\"1\" stroke-width=\"3.2\"/>\n",
       "<circle clip-path=\"url(#clip092)\" cx=\"1086.52\" cy=\"850.979\" r=\"14\" fill=\"#009af9\" fill-rule=\"evenodd\" fill-opacity=\"1\" stroke=\"#000000\" stroke-opacity=\"1\" stroke-width=\"3.2\"/>\n",
       "<circle clip-path=\"url(#clip092)\" cx=\"1718.16\" cy=\"569.646\" r=\"14\" fill=\"#009af9\" fill-rule=\"evenodd\" fill-opacity=\"1\" stroke=\"#000000\" stroke-opacity=\"1\" stroke-width=\"3.2\"/>\n",
       "<circle clip-path=\"url(#clip092)\" cx=\"1352.8\" cy=\"645.135\" r=\"14\" fill=\"#009af9\" fill-rule=\"evenodd\" fill-opacity=\"1\" stroke=\"#000000\" stroke-opacity=\"1\" stroke-width=\"3.2\"/>\n",
       "<circle clip-path=\"url(#clip092)\" cx=\"2109.88\" cy=\"249.985\" r=\"14\" fill=\"#009af9\" fill-rule=\"evenodd\" fill-opacity=\"1\" stroke=\"#000000\" stroke-opacity=\"1\" stroke-width=\"3.2\"/>\n",
       "<circle clip-path=\"url(#clip092)\" cx=\"1561.59\" cy=\"504.816\" r=\"14\" fill=\"#009af9\" fill-rule=\"evenodd\" fill-opacity=\"1\" stroke=\"#000000\" stroke-opacity=\"1\" stroke-width=\"3.2\"/>\n",
       "<circle clip-path=\"url(#clip092)\" cx=\"2033.35\" cy=\"250.724\" r=\"14\" fill=\"#009af9\" fill-rule=\"evenodd\" fill-opacity=\"1\" stroke=\"#000000\" stroke-opacity=\"1\" stroke-width=\"3.2\"/>\n",
       "<circle clip-path=\"url(#clip092)\" cx=\"838.46\" cy=\"1094.07\" r=\"14\" fill=\"#009af9\" fill-rule=\"evenodd\" fill-opacity=\"1\" stroke=\"#000000\" stroke-opacity=\"1\" stroke-width=\"3.2\"/>\n",
       "<circle clip-path=\"url(#clip092)\" cx=\"1497.99\" cy=\"535.679\" r=\"14\" fill=\"#009af9\" fill-rule=\"evenodd\" fill-opacity=\"1\" stroke=\"#000000\" stroke-opacity=\"1\" stroke-width=\"3.2\"/>\n",
       "<circle clip-path=\"url(#clip092)\" cx=\"277.419\" cy=\"1375.39\" r=\"14\" fill=\"#009af9\" fill-rule=\"evenodd\" fill-opacity=\"1\" stroke=\"#000000\" stroke-opacity=\"1\" stroke-width=\"3.2\"/>\n",
       "<circle clip-path=\"url(#clip092)\" cx=\"2079.8\" cy=\"186.195\" r=\"14\" fill=\"#009af9\" fill-rule=\"evenodd\" fill-opacity=\"1\" stroke=\"#000000\" stroke-opacity=\"1\" stroke-width=\"3.2\"/>\n",
       "<circle clip-path=\"url(#clip092)\" cx=\"1180.77\" cy=\"768.832\" r=\"14\" fill=\"#009af9\" fill-rule=\"evenodd\" fill-opacity=\"1\" stroke=\"#000000\" stroke-opacity=\"1\" stroke-width=\"3.2\"/>\n",
       "<circle clip-path=\"url(#clip092)\" cx=\"1632.52\" cy=\"482.799\" r=\"14\" fill=\"#009af9\" fill-rule=\"evenodd\" fill-opacity=\"1\" stroke=\"#000000\" stroke-opacity=\"1\" stroke-width=\"3.2\"/>\n",
       "<circle clip-path=\"url(#clip092)\" cx=\"1478.01\" cy=\"572.011\" r=\"14\" fill=\"#009af9\" fill-rule=\"evenodd\" fill-opacity=\"1\" stroke=\"#000000\" stroke-opacity=\"1\" stroke-width=\"3.2\"/>\n",
       "<circle clip-path=\"url(#clip092)\" cx=\"949.802\" cy=\"901.557\" r=\"14\" fill=\"#009af9\" fill-rule=\"evenodd\" fill-opacity=\"1\" stroke=\"#000000\" stroke-opacity=\"1\" stroke-width=\"3.2\"/>\n",
       "<circle clip-path=\"url(#clip092)\" cx=\"480.625\" cy=\"1239.29\" r=\"14\" fill=\"#009af9\" fill-rule=\"evenodd\" fill-opacity=\"1\" stroke=\"#000000\" stroke-opacity=\"1\" stroke-width=\"3.2\"/>\n",
       "<circle clip-path=\"url(#clip092)\" cx=\"241.161\" cy=\"1389.31\" r=\"14\" fill=\"#009af9\" fill-rule=\"evenodd\" fill-opacity=\"1\" stroke=\"#000000\" stroke-opacity=\"1\" stroke-width=\"3.2\"/>\n",
       "</svg>\n"
      ]
     },
     "execution_count": 81,
     "metadata": {},
     "output_type": "execute_result"
    }
   ],
   "source": [
    "scatter(x,y, label=\"\")"
   ]
  },
  {
   "cell_type": "markdown",
   "metadata": {},
   "source": [
    "In a point by point approach \n",
    "\n",
    "$y=mx+b$\n",
    "\n",
    "Expressing this is matrix notation \n",
    "\n",
    "$\\mathbf{y}=[\\mathbf{x} \\quad \\mathbf{1}] \\Phi $. \n",
    "\n",
    "$\\Phi=[m \\quad b]$\n"
   ]
  },
  {
   "cell_type": "markdown",
   "metadata": {},
   "source": [
    "We use below the inverse divide to extract the $\\Phi$ parameter. Here we are using implicitly doing pseduo inverse. \n",
    "See for referance [slide 7](https://stanford.edu/class/ee103/julia_slides/julia_inverses_slides.pdf)\n",
    "\n",
    "$$x=A^T(AA^T)^{-1}b$$\n",
    "\n",
    "or what we expressed earlier \n",
    "$A=[\\mathbf{x} \\quad \\mathbf{1}]$ and $b=y$ and $x=\\Phi$"
   ]
  },
  {
   "cell_type": "code",
   "execution_count": 82,
   "metadata": {},
   "outputs": [
    {
     "data": {
      "text/plain": [
       "2-element Array{Float64,1}:\n",
       " 3.0200626885826827\n",
       " 4.867282644878186"
      ]
     },
     "execution_count": 82,
     "metadata": {},
     "output_type": "execute_result"
    }
   ],
   "source": [
    "Φ=[x ones(length(x))]\\y"
   ]
  },
  {
   "cell_type": "code",
   "execution_count": 83,
   "metadata": {},
   "outputs": [
    {
     "data": {
      "text/plain": [
       "u (generic function with 1 method)"
      ]
     },
     "execution_count": 83,
     "metadata": {},
     "output_type": "execute_result"
    }
   ],
   "source": [
    "u(x)=Φ[1]*x+Φ[2]"
   ]
  },
  {
   "cell_type": "code",
   "execution_count": 84,
   "metadata": {},
   "outputs": [
    {
     "data": {
      "image/svg+xml": [
       "<?xml version=\"1.0\" encoding=\"utf-8\"?>\n",
       "<svg xmlns=\"http://www.w3.org/2000/svg\" xmlns:xlink=\"http://www.w3.org/1999/xlink\" width=\"600\" height=\"400\" viewBox=\"0 0 2400 1600\">\n",
       "<defs>\n",
       "  <clipPath id=\"clip130\">\n",
       "    <rect x=\"0\" y=\"0\" width=\"2400\" height=\"1600\"/>\n",
       "  </clipPath>\n",
       "</defs>\n",
       "<path clip-path=\"url(#clip130)\" d=\"\n",
       "M0 1600 L2400 1600 L2400 0 L0 0  Z\n",
       "  \" fill=\"#ffffff\" fill-rule=\"evenodd\" fill-opacity=\"1\"/>\n",
       "<defs>\n",
       "  <clipPath id=\"clip131\">\n",
       "    <rect x=\"480\" y=\"0\" width=\"1681\" height=\"1600\"/>\n",
       "  </clipPath>\n",
       "</defs>\n",
       "<path clip-path=\"url(#clip130)\" d=\"\n",
       "M136.76 1486.45 L2352.76 1486.45 L2352.76 47.2441 L136.76 47.2441  Z\n",
       "  \" fill=\"#ffffff\" fill-rule=\"evenodd\" fill-opacity=\"1\"/>\n",
       "<defs>\n",
       "  <clipPath id=\"clip132\">\n",
       "    <rect x=\"136\" y=\"47\" width=\"2217\" height=\"1440\"/>\n",
       "  </clipPath>\n",
       "</defs>\n",
       "<polyline clip-path=\"url(#clip132)\" style=\"stroke:#000000; stroke-width:2; stroke-opacity:0.1; fill:none\" points=\"\n",
       "  199.477,1486.45 199.477,47.2441 \n",
       "  \"/>\n",
       "<polyline clip-path=\"url(#clip132)\" style=\"stroke:#000000; stroke-width:2; stroke-opacity:0.1; fill:none\" points=\"\n",
       "  722.118,1486.45 722.118,47.2441 \n",
       "  \"/>\n",
       "<polyline clip-path=\"url(#clip132)\" style=\"stroke:#000000; stroke-width:2; stroke-opacity:0.1; fill:none\" points=\"\n",
       "  1244.76,1486.45 1244.76,47.2441 \n",
       "  \"/>\n",
       "<polyline clip-path=\"url(#clip132)\" style=\"stroke:#000000; stroke-width:2; stroke-opacity:0.1; fill:none\" points=\"\n",
       "  1767.4,1486.45 1767.4,47.2441 \n",
       "  \"/>\n",
       "<polyline clip-path=\"url(#clip132)\" style=\"stroke:#000000; stroke-width:2; stroke-opacity:0.1; fill:none\" points=\"\n",
       "  2290.04,1486.45 2290.04,47.2441 \n",
       "  \"/>\n",
       "<polyline clip-path=\"url(#clip132)\" style=\"stroke:#000000; stroke-width:2; stroke-opacity:0.1; fill:none\" points=\"\n",
       "  136.76,1397.19 2352.76,1397.19 \n",
       "  \"/>\n",
       "<polyline clip-path=\"url(#clip132)\" style=\"stroke:#000000; stroke-width:2; stroke-opacity:0.1; fill:none\" points=\"\n",
       "  136.76,1179.48 2352.76,1179.48 \n",
       "  \"/>\n",
       "<polyline clip-path=\"url(#clip132)\" style=\"stroke:#000000; stroke-width:2; stroke-opacity:0.1; fill:none\" points=\"\n",
       "  136.76,961.768 2352.76,961.768 \n",
       "  \"/>\n",
       "<polyline clip-path=\"url(#clip132)\" style=\"stroke:#000000; stroke-width:2; stroke-opacity:0.1; fill:none\" points=\"\n",
       "  136.76,744.059 2352.76,744.059 \n",
       "  \"/>\n",
       "<polyline clip-path=\"url(#clip132)\" style=\"stroke:#000000; stroke-width:2; stroke-opacity:0.1; fill:none\" points=\"\n",
       "  136.76,526.351 2352.76,526.351 \n",
       "  \"/>\n",
       "<polyline clip-path=\"url(#clip132)\" style=\"stroke:#000000; stroke-width:2; stroke-opacity:0.1; fill:none\" points=\"\n",
       "  136.76,308.642 2352.76,308.642 \n",
       "  \"/>\n",
       "<polyline clip-path=\"url(#clip132)\" style=\"stroke:#000000; stroke-width:2; stroke-opacity:0.1; fill:none\" points=\"\n",
       "  136.76,90.9332 2352.76,90.9332 \n",
       "  \"/>\n",
       "<polyline clip-path=\"url(#clip130)\" style=\"stroke:#000000; stroke-width:4; stroke-opacity:1; fill:none\" points=\"\n",
       "  136.76,1486.45 2352.76,1486.45 \n",
       "  \"/>\n",
       "<polyline clip-path=\"url(#clip130)\" style=\"stroke:#000000; stroke-width:4; stroke-opacity:1; fill:none\" points=\"\n",
       "  136.76,1486.45 136.76,47.2441 \n",
       "  \"/>\n",
       "<polyline clip-path=\"url(#clip130)\" style=\"stroke:#000000; stroke-width:4; stroke-opacity:1; fill:none\" points=\"\n",
       "  199.477,1486.45 199.477,1469.18 \n",
       "  \"/>\n",
       "<polyline clip-path=\"url(#clip130)\" style=\"stroke:#000000; stroke-width:4; stroke-opacity:1; fill:none\" points=\"\n",
       "  722.118,1486.45 722.118,1469.18 \n",
       "  \"/>\n",
       "<polyline clip-path=\"url(#clip130)\" style=\"stroke:#000000; stroke-width:4; stroke-opacity:1; fill:none\" points=\"\n",
       "  1244.76,1486.45 1244.76,1469.18 \n",
       "  \"/>\n",
       "<polyline clip-path=\"url(#clip130)\" style=\"stroke:#000000; stroke-width:4; stroke-opacity:1; fill:none\" points=\"\n",
       "  1767.4,1486.45 1767.4,1469.18 \n",
       "  \"/>\n",
       "<polyline clip-path=\"url(#clip130)\" style=\"stroke:#000000; stroke-width:4; stroke-opacity:1; fill:none\" points=\"\n",
       "  2290.04,1486.45 2290.04,1469.18 \n",
       "  \"/>\n",
       "<polyline clip-path=\"url(#clip130)\" style=\"stroke:#000000; stroke-width:4; stroke-opacity:1; fill:none\" points=\"\n",
       "  136.76,1397.19 163.352,1397.19 \n",
       "  \"/>\n",
       "<polyline clip-path=\"url(#clip130)\" style=\"stroke:#000000; stroke-width:4; stroke-opacity:1; fill:none\" points=\"\n",
       "  136.76,1179.48 163.352,1179.48 \n",
       "  \"/>\n",
       "<polyline clip-path=\"url(#clip130)\" style=\"stroke:#000000; stroke-width:4; stroke-opacity:1; fill:none\" points=\"\n",
       "  136.76,961.768 163.352,961.768 \n",
       "  \"/>\n",
       "<polyline clip-path=\"url(#clip130)\" style=\"stroke:#000000; stroke-width:4; stroke-opacity:1; fill:none\" points=\"\n",
       "  136.76,744.059 163.352,744.059 \n",
       "  \"/>\n",
       "<polyline clip-path=\"url(#clip130)\" style=\"stroke:#000000; stroke-width:4; stroke-opacity:1; fill:none\" points=\"\n",
       "  136.76,526.351 163.352,526.351 \n",
       "  \"/>\n",
       "<polyline clip-path=\"url(#clip130)\" style=\"stroke:#000000; stroke-width:4; stroke-opacity:1; fill:none\" points=\"\n",
       "  136.76,308.642 163.352,308.642 \n",
       "  \"/>\n",
       "<polyline clip-path=\"url(#clip130)\" style=\"stroke:#000000; stroke-width:4; stroke-opacity:1; fill:none\" points=\"\n",
       "  136.76,90.9332 163.352,90.9332 \n",
       "  \"/>\n",
       "<path clip-path=\"url(#clip130)\" d=\"M 0 0 M180.994 1508.44 Q177.382 1508.44 175.554 1512 Q173.748 1515.55 173.748 1522.67 Q173.748 1529.78 175.554 1533.35 Q177.382 1536.89 180.994 1536.89 Q184.628 1536.89 186.433 1533.35 Q188.262 1529.78 188.262 1522.67 Q188.262 1515.55 186.433 1512 Q184.628 1508.44 180.994 1508.44 M180.994 1504.73 Q186.804 1504.73 189.859 1509.34 Q192.938 1513.92 192.938 1522.67 Q192.938 1531.4 189.859 1536.01 Q186.804 1540.59 180.994 1540.59 Q175.183 1540.59 172.105 1536.01 Q169.049 1531.4 169.049 1522.67 Q169.049 1513.92 172.105 1509.34 Q175.183 1504.73 180.994 1504.73 Z\" fill=\"#000000\" fill-rule=\"evenodd\" fill-opacity=\"1\" /><path clip-path=\"url(#clip130)\" d=\"M 0 0 M198.007 1534.04 L202.892 1534.04 L202.892 1539.92 L198.007 1539.92 L198.007 1534.04 Z\" fill=\"#000000\" fill-rule=\"evenodd\" fill-opacity=\"1\" /><path clip-path=\"url(#clip130)\" d=\"M 0 0 M217.961 1508.44 Q214.35 1508.44 212.521 1512 Q210.716 1515.55 210.716 1522.67 Q210.716 1529.78 212.521 1533.35 Q214.35 1536.89 217.961 1536.89 Q221.595 1536.89 223.401 1533.35 Q225.229 1529.78 225.229 1522.67 Q225.229 1515.55 223.401 1512 Q221.595 1508.44 217.961 1508.44 M217.961 1504.73 Q223.771 1504.73 226.827 1509.34 Q229.905 1513.92 229.905 1522.67 Q229.905 1531.4 226.827 1536.01 Q223.771 1540.59 217.961 1540.59 Q212.151 1540.59 209.072 1536.01 Q206.017 1531.4 206.017 1522.67 Q206.017 1513.92 209.072 1509.34 Q212.151 1504.73 217.961 1504.73 Z\" fill=\"#000000\" fill-rule=\"evenodd\" fill-opacity=\"1\" /><path clip-path=\"url(#clip130)\" d=\"M 0 0 M698.784 1535.98 L715.104 1535.98 L715.104 1539.92 L693.16 1539.92 L693.16 1535.98 Q695.822 1533.23 700.405 1528.6 Q705.011 1523.95 706.192 1522.61 Q708.437 1520.08 709.317 1518.35 Q710.22 1516.59 710.22 1514.9 Q710.22 1512.14 708.275 1510.41 Q706.354 1508.67 703.252 1508.67 Q701.053 1508.67 698.599 1509.43 Q696.169 1510.2 693.391 1511.75 L693.391 1507.03 Q696.215 1505.89 698.669 1505.31 Q701.122 1504.73 703.159 1504.73 Q708.53 1504.73 711.724 1507.42 Q714.919 1510.11 714.919 1514.6 Q714.919 1516.73 714.108 1518.65 Q713.321 1520.54 711.215 1523.14 Q710.636 1523.81 707.534 1527.03 Q704.433 1530.22 698.784 1535.98 Z\" fill=\"#000000\" fill-rule=\"evenodd\" fill-opacity=\"1\" /><path clip-path=\"url(#clip130)\" d=\"M 0 0 M720.173 1534.04 L725.057 1534.04 L725.057 1539.92 L720.173 1539.92 L720.173 1534.04 Z\" fill=\"#000000\" fill-rule=\"evenodd\" fill-opacity=\"1\" /><path clip-path=\"url(#clip130)\" d=\"M 0 0 M730.173 1505.36 L748.53 1505.36 L748.53 1509.3 L734.456 1509.3 L734.456 1517.77 Q735.474 1517.42 736.493 1517.26 Q737.511 1517.07 738.53 1517.07 Q744.317 1517.07 747.696 1520.24 Q751.076 1523.42 751.076 1528.83 Q751.076 1534.41 747.604 1537.51 Q744.131 1540.59 737.812 1540.59 Q735.636 1540.59 733.368 1540.22 Q731.122 1539.85 728.715 1539.11 L728.715 1534.41 Q730.798 1535.54 733.02 1536.1 Q735.243 1536.66 737.719 1536.66 Q741.724 1536.66 744.062 1534.55 Q746.4 1532.44 746.4 1528.83 Q746.4 1525.22 744.062 1523.11 Q741.724 1521.01 737.719 1521.01 Q735.844 1521.01 733.969 1521.42 Q732.118 1521.84 730.173 1522.72 L730.173 1505.36 Z\" fill=\"#000000\" fill-rule=\"evenodd\" fill-opacity=\"1\" /><path clip-path=\"url(#clip130)\" d=\"M 0 0 M1216.55 1505.36 L1234.91 1505.36 L1234.91 1509.3 L1220.83 1509.3 L1220.83 1517.77 Q1221.85 1517.42 1222.87 1517.26 Q1223.89 1517.07 1224.91 1517.07 Q1230.7 1517.07 1234.08 1520.24 Q1237.45 1523.42 1237.45 1528.83 Q1237.45 1534.41 1233.98 1537.51 Q1230.51 1540.59 1224.19 1540.59 Q1222.02 1540.59 1219.75 1540.22 Q1217.5 1539.85 1215.09 1539.11 L1215.09 1534.41 Q1217.18 1535.54 1219.4 1536.1 Q1221.62 1536.66 1224.1 1536.66 Q1228.1 1536.66 1230.44 1534.55 Q1232.78 1532.44 1232.78 1528.83 Q1232.78 1525.22 1230.44 1523.11 Q1228.1 1521.01 1224.1 1521.01 Q1222.22 1521.01 1220.35 1521.42 Q1218.5 1521.84 1216.55 1522.72 L1216.55 1505.36 Z\" fill=\"#000000\" fill-rule=\"evenodd\" fill-opacity=\"1\" /><path clip-path=\"url(#clip130)\" d=\"M 0 0 M1242.52 1534.04 L1247.41 1534.04 L1247.41 1539.92 L1242.52 1539.92 L1242.52 1534.04 Z\" fill=\"#000000\" fill-rule=\"evenodd\" fill-opacity=\"1\" /><path clip-path=\"url(#clip130)\" d=\"M 0 0 M1262.48 1508.44 Q1258.87 1508.44 1257.04 1512 Q1255.23 1515.55 1255.23 1522.67 Q1255.23 1529.78 1257.04 1533.35 Q1258.87 1536.89 1262.48 1536.89 Q1266.11 1536.89 1267.92 1533.35 Q1269.75 1529.78 1269.75 1522.67 Q1269.75 1515.55 1267.92 1512 Q1266.11 1508.44 1262.48 1508.44 M1262.48 1504.73 Q1268.29 1504.73 1271.34 1509.34 Q1274.42 1513.92 1274.42 1522.67 Q1274.42 1531.4 1271.34 1536.01 Q1268.29 1540.59 1262.48 1540.59 Q1256.67 1540.59 1253.59 1536.01 Q1250.53 1531.4 1250.53 1522.67 Q1250.53 1513.92 1253.59 1509.34 Q1256.67 1504.73 1262.48 1504.73 Z\" fill=\"#000000\" fill-rule=\"evenodd\" fill-opacity=\"1\" /><path clip-path=\"url(#clip130)\" d=\"M 0 0 M1738.3 1505.36 L1760.52 1505.36 L1760.52 1507.35 L1747.98 1539.92 L1743.09 1539.92 L1754.9 1509.3 L1738.3 1509.3 L1738.3 1505.36 Z\" fill=\"#000000\" fill-rule=\"evenodd\" fill-opacity=\"1\" /><path clip-path=\"url(#clip130)\" d=\"M 0 0 M1765.59 1534.04 L1770.48 1534.04 L1770.48 1539.92 L1765.59 1539.92 L1765.59 1534.04 Z\" fill=\"#000000\" fill-rule=\"evenodd\" fill-opacity=\"1\" /><path clip-path=\"url(#clip130)\" d=\"M 0 0 M1775.59 1505.36 L1793.95 1505.36 L1793.95 1509.3 L1779.88 1509.3 L1779.88 1517.77 Q1780.89 1517.42 1781.91 1517.26 Q1782.93 1517.07 1783.95 1517.07 Q1789.74 1517.07 1793.12 1520.24 Q1796.5 1523.42 1796.5 1528.83 Q1796.5 1534.41 1793.02 1537.51 Q1789.55 1540.59 1783.23 1540.59 Q1781.06 1540.59 1778.79 1540.22 Q1776.54 1539.85 1774.13 1539.11 L1774.13 1534.41 Q1776.22 1535.54 1778.44 1536.1 Q1780.66 1536.66 1783.14 1536.66 Q1787.14 1536.66 1789.48 1534.55 Q1791.82 1532.44 1791.82 1528.83 Q1791.82 1525.22 1789.48 1523.11 Q1787.14 1521.01 1783.14 1521.01 Q1781.26 1521.01 1779.39 1521.42 Q1777.54 1521.84 1775.59 1522.72 L1775.59 1505.36 Z\" fill=\"#000000\" fill-rule=\"evenodd\" fill-opacity=\"1\" /><path clip-path=\"url(#clip130)\" d=\"M 0 0 M2248.43 1535.98 L2256.07 1535.98 L2256.07 1509.62 L2247.76 1511.29 L2247.76 1507.03 L2256.02 1505.36 L2260.7 1505.36 L2260.7 1535.98 L2268.34 1535.98 L2268.34 1539.92 L2248.43 1539.92 L2248.43 1535.98 Z\" fill=\"#000000\" fill-rule=\"evenodd\" fill-opacity=\"1\" /><path clip-path=\"url(#clip130)\" d=\"M 0 0 M2283.41 1508.44 Q2279.8 1508.44 2277.97 1512 Q2276.16 1515.55 2276.16 1522.67 Q2276.16 1529.78 2277.97 1533.35 Q2279.8 1536.89 2283.41 1536.89 Q2287.04 1536.89 2288.85 1533.35 Q2290.68 1529.78 2290.68 1522.67 Q2290.68 1515.55 2288.85 1512 Q2287.04 1508.44 2283.41 1508.44 M2283.41 1504.73 Q2289.22 1504.73 2292.27 1509.34 Q2295.35 1513.92 2295.35 1522.67 Q2295.35 1531.4 2292.27 1536.01 Q2289.22 1540.59 2283.41 1540.59 Q2277.6 1540.59 2274.52 1536.01 Q2271.46 1531.4 2271.46 1522.67 Q2271.46 1513.92 2274.52 1509.34 Q2277.6 1504.73 2283.41 1504.73 Z\" fill=\"#000000\" fill-rule=\"evenodd\" fill-opacity=\"1\" /><path clip-path=\"url(#clip130)\" d=\"M 0 0 M2300.42 1534.04 L2305.31 1534.04 L2305.31 1539.92 L2300.42 1539.92 L2300.42 1534.04 Z\" fill=\"#000000\" fill-rule=\"evenodd\" fill-opacity=\"1\" /><path clip-path=\"url(#clip130)\" d=\"M 0 0 M2320.37 1508.44 Q2316.76 1508.44 2314.93 1512 Q2313.13 1515.55 2313.13 1522.67 Q2313.13 1529.78 2314.93 1533.35 Q2316.76 1536.89 2320.37 1536.89 Q2324.01 1536.89 2325.81 1533.35 Q2327.64 1529.78 2327.64 1522.67 Q2327.64 1515.55 2325.81 1512 Q2324.01 1508.44 2320.37 1508.44 M2320.37 1504.73 Q2326.18 1504.73 2329.24 1509.34 Q2332.32 1513.92 2332.32 1522.67 Q2332.32 1531.4 2329.24 1536.01 Q2326.18 1540.59 2320.37 1540.59 Q2314.56 1540.59 2311.49 1536.01 Q2308.43 1531.4 2308.43 1522.67 Q2308.43 1513.92 2311.49 1509.34 Q2314.56 1504.73 2320.37 1504.73 Z\" fill=\"#000000\" fill-rule=\"evenodd\" fill-opacity=\"1\" /><path clip-path=\"url(#clip130)\" d=\"M 0 0 M91.8577 1379.91 L110.214 1379.91 L110.214 1383.84 L96.1401 1383.84 L96.1401 1392.31 Q97.1586 1391.97 98.1771 1391.8 Q99.1956 1391.62 100.214 1391.62 Q106.001 1391.62 109.381 1394.79 Q112.76 1397.96 112.76 1403.38 Q112.76 1408.96 109.288 1412.06 Q105.816 1415.14 99.4966 1415.14 Q97.3206 1415.14 95.0521 1414.77 Q92.8068 1414.4 90.3994 1413.65 L90.3994 1408.96 Q92.4827 1410.09 94.7049 1410.65 Q96.9271 1411.2 99.404 1411.2 Q103.409 1411.2 105.747 1409.09 Q108.084 1406.99 108.084 1403.38 Q108.084 1399.77 105.747 1397.66 Q103.409 1395.55 99.404 1395.55 Q97.529 1395.55 95.654 1395.97 Q93.8021 1396.39 91.8577 1397.27 L91.8577 1379.91 Z\" fill=\"#000000\" fill-rule=\"evenodd\" fill-opacity=\"1\" /><path clip-path=\"url(#clip130)\" d=\"M 0 0 M65.8393 1192.82 L73.4782 1192.82 L73.4782 1166.46 L65.168 1168.12 L65.168 1163.86 L73.4319 1162.2 L78.1078 1162.2 L78.1078 1192.82 L85.7466 1192.82 L85.7466 1196.76 L65.8393 1196.76 L65.8393 1192.82 Z\" fill=\"#000000\" fill-rule=\"evenodd\" fill-opacity=\"1\" /><path clip-path=\"url(#clip130)\" d=\"M 0 0 M100.816 1165.28 Q97.2049 1165.28 95.3762 1168.84 Q93.5707 1172.38 93.5707 1179.51 Q93.5707 1186.62 95.3762 1190.18 Q97.2049 1193.72 100.816 1193.72 Q104.45 1193.72 106.256 1190.18 Q108.084 1186.62 108.084 1179.51 Q108.084 1172.38 106.256 1168.84 Q104.45 1165.28 100.816 1165.28 M100.816 1161.57 Q106.626 1161.57 109.682 1166.18 Q112.76 1170.76 112.76 1179.51 Q112.76 1188.24 109.682 1192.84 Q106.626 1197.43 100.816 1197.43 Q95.0058 1197.43 91.9272 1192.84 Q88.8716 1188.24 88.8716 1179.51 Q88.8716 1170.76 91.9272 1166.18 Q95.0058 1161.57 100.816 1161.57 Z\" fill=\"#000000\" fill-rule=\"evenodd\" fill-opacity=\"1\" /><path clip-path=\"url(#clip130)\" d=\"M 0 0 M66.8347 975.113 L74.4735 975.113 L74.4735 948.747 L66.1634 950.414 L66.1634 946.155 L74.4272 944.488 L79.1032 944.488 L79.1032 975.113 L86.742 975.113 L86.742 979.048 L66.8347 979.048 L66.8347 975.113 Z\" fill=\"#000000\" fill-rule=\"evenodd\" fill-opacity=\"1\" /><path clip-path=\"url(#clip130)\" d=\"M 0 0 M91.8577 944.488 L110.214 944.488 L110.214 948.423 L96.1401 948.423 L96.1401 956.895 Q97.1586 956.548 98.1771 956.386 Q99.1956 956.201 100.214 956.201 Q106.001 956.201 109.381 959.372 Q112.76 962.543 112.76 967.96 Q112.76 973.539 109.288 976.64 Q105.816 979.719 99.4966 979.719 Q97.3206 979.719 95.0521 979.349 Q92.8068 978.978 90.3994 978.238 L90.3994 973.539 Q92.4827 974.673 94.7049 975.228 Q96.9271 975.784 99.404 975.784 Q103.409 975.784 105.747 973.678 Q108.084 971.571 108.084 967.96 Q108.084 964.349 105.747 962.242 Q103.409 960.136 99.404 960.136 Q97.529 960.136 95.654 960.553 Q93.8021 960.969 91.8577 961.849 L91.8577 944.488 Z\" fill=\"#000000\" fill-rule=\"evenodd\" fill-opacity=\"1\" /><path clip-path=\"url(#clip130)\" d=\"M 0 0 M69.4273 757.404 L85.7466 757.404 L85.7466 761.339 L63.8023 761.339 L63.8023 757.404 Q66.4643 754.649 71.0476 750.02 Q75.6541 745.367 76.8346 744.024 Q79.08 741.501 79.9596 739.765 Q80.8624 738.006 80.8624 736.316 Q80.8624 733.562 78.918 731.825 Q76.9967 730.089 73.8948 730.089 Q71.6958 730.089 69.2421 730.853 Q66.8115 731.617 64.0338 733.168 L64.0338 728.446 Q66.8578 727.312 69.3115 726.733 Q71.7652 726.154 73.8023 726.154 Q79.1726 726.154 82.367 728.839 Q85.5614 731.525 85.5614 736.015 Q85.5614 738.145 84.7513 740.066 Q83.9642 741.964 81.8578 744.557 Q81.2791 745.228 78.1772 748.446 Q75.0754 751.64 69.4273 757.404 Z\" fill=\"#000000\" fill-rule=\"evenodd\" fill-opacity=\"1\" /><path clip-path=\"url(#clip130)\" d=\"M 0 0 M100.816 729.858 Q97.2049 729.858 95.3762 733.423 Q93.5707 736.964 93.5707 744.094 Q93.5707 751.2 95.3762 754.765 Q97.2049 758.307 100.816 758.307 Q104.45 758.307 106.256 754.765 Q108.084 751.2 108.084 744.094 Q108.084 736.964 106.256 733.423 Q104.45 729.858 100.816 729.858 M100.816 726.154 Q106.626 726.154 109.682 730.761 Q112.76 735.344 112.76 744.094 Q112.76 752.821 109.682 757.427 Q106.626 762.01 100.816 762.01 Q95.0058 762.01 91.9272 757.427 Q88.8716 752.821 88.8716 744.094 Q88.8716 735.344 91.9272 730.761 Q95.0058 726.154 100.816 726.154 Z\" fill=\"#000000\" fill-rule=\"evenodd\" fill-opacity=\"1\" /><path clip-path=\"url(#clip130)\" d=\"M 0 0 M70.4226 539.695 L86.742 539.695 L86.742 543.631 L64.7977 543.631 L64.7977 539.695 Q67.4597 536.941 72.043 532.311 Q76.6495 527.658 77.83 526.316 Q80.0754 523.793 80.955 522.057 Q81.8578 520.297 81.8578 518.607 Q81.8578 515.853 79.9133 514.117 Q77.992 512.381 74.8902 512.381 Q72.6911 512.381 70.2375 513.145 Q67.8069 513.908 65.0292 515.459 L65.0292 510.737 Q67.8532 509.603 70.3069 509.024 Q72.7606 508.446 74.7976 508.446 Q80.168 508.446 83.3624 511.131 Q86.5568 513.816 86.5568 518.307 Q86.5568 520.436 85.7466 522.357 Q84.9596 524.256 82.8531 526.848 Q82.2744 527.519 79.1726 530.737 Q76.0708 533.931 70.4226 539.695 Z\" fill=\"#000000\" fill-rule=\"evenodd\" fill-opacity=\"1\" /><path clip-path=\"url(#clip130)\" d=\"M 0 0 M91.8577 509.071 L110.214 509.071 L110.214 513.006 L96.1401 513.006 L96.1401 521.478 Q97.1586 521.131 98.1771 520.969 Q99.1956 520.783 100.214 520.783 Q106.001 520.783 109.381 523.955 Q112.76 527.126 112.76 532.543 Q112.76 538.121 109.288 541.223 Q105.816 544.302 99.4966 544.302 Q97.3206 544.302 95.0521 543.931 Q92.8068 543.561 90.3994 542.82 L90.3994 538.121 Q92.4827 539.256 94.7049 539.811 Q96.9271 540.367 99.404 540.367 Q103.409 540.367 105.747 538.26 Q108.084 536.154 108.084 532.543 Q108.084 528.932 105.747 526.825 Q103.409 524.719 99.404 524.719 Q97.529 524.719 95.654 525.135 Q93.8021 525.552 91.8577 526.432 L91.8577 509.071 Z\" fill=\"#000000\" fill-rule=\"evenodd\" fill-opacity=\"1\" /><path clip-path=\"url(#clip130)\" d=\"M 0 0 M78.617 307.288 Q81.9735 308.005 83.8485 310.274 Q85.7466 312.542 85.7466 315.876 Q85.7466 320.991 82.2281 323.792 Q78.7096 326.593 72.2282 326.593 Q70.0523 326.593 67.7375 326.153 Q65.4458 325.737 62.9921 324.88 L62.9921 320.366 Q64.9366 321.501 67.2514 322.079 Q69.5662 322.658 72.0893 322.658 Q76.4874 322.658 78.7791 320.922 Q81.0939 319.186 81.0939 315.876 Q81.0939 312.82 78.9411 311.107 Q76.8115 309.371 72.9921 309.371 L68.9643 309.371 L68.9643 305.528 L73.1773 305.528 Q76.6263 305.528 78.455 304.163 Q80.2837 302.774 80.2837 300.181 Q80.2837 297.519 78.3856 296.107 Q76.5106 294.672 72.9921 294.672 Q71.0708 294.672 68.8717 295.089 Q66.6727 295.505 64.0338 296.385 L64.0338 292.218 Q66.6958 291.478 69.0106 291.107 Q71.3486 290.737 73.4087 290.737 Q78.7328 290.737 81.8346 293.167 Q84.9365 295.575 84.9365 299.695 Q84.9365 302.565 83.2929 304.556 Q81.6494 306.524 78.617 307.288 Z\" fill=\"#000000\" fill-rule=\"evenodd\" fill-opacity=\"1\" /><path clip-path=\"url(#clip130)\" d=\"M 0 0 M100.816 294.441 Q97.2049 294.441 95.3762 298.005 Q93.5707 301.547 93.5707 308.677 Q93.5707 315.783 95.3762 319.348 Q97.2049 322.889 100.816 322.889 Q104.45 322.889 106.256 319.348 Q108.084 315.783 108.084 308.677 Q108.084 301.547 106.256 298.005 Q104.45 294.441 100.816 294.441 M100.816 290.737 Q106.626 290.737 109.682 295.343 Q112.76 299.927 112.76 308.677 Q112.76 317.403 109.682 322.01 Q106.626 326.593 100.816 326.593 Q95.0058 326.593 91.9272 322.01 Q88.8716 317.403 88.8716 308.677 Q88.8716 299.927 91.9272 295.343 Q95.0058 290.737 100.816 290.737 Z\" fill=\"#000000\" fill-rule=\"evenodd\" fill-opacity=\"1\" /><path clip-path=\"url(#clip130)\" d=\"M 0 0 M79.6124 89.579 Q82.9689 90.2966 84.8439 92.5651 Q86.742 94.8336 86.742 98.1669 Q86.742 103.283 83.2235 106.084 Q79.705 108.884 73.2236 108.884 Q71.0476 108.884 68.7328 108.445 Q66.4412 108.028 63.9875 107.172 L63.9875 102.658 Q65.9319 103.792 68.2467 104.371 Q70.5615 104.949 73.0847 104.949 Q77.4828 104.949 79.7744 103.213 Q82.0892 101.477 82.0892 98.1669 Q82.0892 95.1114 79.9365 93.3984 Q77.8069 91.6623 73.9874 91.6623 L69.9597 91.6623 L69.9597 87.8198 L74.1726 87.8198 Q77.6217 87.8198 79.4504 86.454 Q81.2791 85.0652 81.2791 82.4726 Q81.2791 79.8106 79.3809 78.3985 Q77.5059 76.9633 73.9874 76.9633 Q72.0662 76.9633 69.8671 77.38 Q67.668 77.7967 65.0292 78.6763 L65.0292 74.5097 Q67.6912 73.7689 70.006 73.3985 Q72.3439 73.0282 74.4041 73.0282 Q79.7281 73.0282 82.83 75.4587 Q85.9318 77.8661 85.9318 81.9865 Q85.9318 84.8568 84.2883 86.8475 Q82.6448 88.8151 79.6124 89.579 Z\" fill=\"#000000\" fill-rule=\"evenodd\" fill-opacity=\"1\" /><path clip-path=\"url(#clip130)\" d=\"M 0 0 M91.8577 73.6532 L110.214 73.6532 L110.214 77.5883 L96.1401 77.5883 L96.1401 86.0605 Q97.1586 85.7133 98.1771 85.5513 Q99.1956 85.3661 100.214 85.3661 Q106.001 85.3661 109.381 88.5374 Q112.76 91.7086 112.76 97.1253 Q112.76 102.704 109.288 105.806 Q105.816 108.884 99.4966 108.884 Q97.3206 108.884 95.0521 108.514 Q92.8068 108.144 90.3994 107.403 L90.3994 102.704 Q92.4827 103.838 94.7049 104.394 Q96.9271 104.949 99.404 104.949 Q103.409 104.949 105.747 102.843 Q108.084 100.736 108.084 97.1253 Q108.084 93.5142 105.747 91.4077 Q103.409 89.3012 99.404 89.3012 Q97.529 89.3012 95.654 89.7179 Q93.8021 90.1346 91.8577 91.0142 L91.8577 73.6532 Z\" fill=\"#000000\" fill-rule=\"evenodd\" fill-opacity=\"1\" /><circle clip-path=\"url(#clip132)\" cx=\"735.804\" cy=\"1062.87\" r=\"14\" fill=\"#009af9\" fill-rule=\"evenodd\" fill-opacity=\"1\" stroke=\"#000000\" stroke-opacity=\"1\" stroke-width=\"3.2\"/>\n",
       "<circle clip-path=\"url(#clip132)\" cx=\"1616.58\" cy=\"445.486\" r=\"14\" fill=\"#009af9\" fill-rule=\"evenodd\" fill-opacity=\"1\" stroke=\"#000000\" stroke-opacity=\"1\" stroke-width=\"3.2\"/>\n",
       "<circle clip-path=\"url(#clip132)\" cx=\"1444.69\" cy=\"744.379\" r=\"14\" fill=\"#009af9\" fill-rule=\"evenodd\" fill-opacity=\"1\" stroke=\"#000000\" stroke-opacity=\"1\" stroke-width=\"3.2\"/>\n",
       "<circle clip-path=\"url(#clip132)\" cx=\"1847.23\" cy=\"433.269\" r=\"14\" fill=\"#009af9\" fill-rule=\"evenodd\" fill-opacity=\"1\" stroke=\"#000000\" stroke-opacity=\"1\" stroke-width=\"3.2\"/>\n",
       "<circle clip-path=\"url(#clip132)\" cx=\"1354.24\" cy=\"622.744\" r=\"14\" fill=\"#009af9\" fill-rule=\"evenodd\" fill-opacity=\"1\" stroke=\"#000000\" stroke-opacity=\"1\" stroke-width=\"3.2\"/>\n",
       "<circle clip-path=\"url(#clip132)\" cx=\"1081.6\" cy=\"783.224\" r=\"14\" fill=\"#009af9\" fill-rule=\"evenodd\" fill-opacity=\"1\" stroke=\"#000000\" stroke-opacity=\"1\" stroke-width=\"3.2\"/>\n",
       "<circle clip-path=\"url(#clip132)\" cx=\"692.181\" cy=\"1147.08\" r=\"14\" fill=\"#009af9\" fill-rule=\"evenodd\" fill-opacity=\"1\" stroke=\"#000000\" stroke-opacity=\"1\" stroke-width=\"3.2\"/>\n",
       "<circle clip-path=\"url(#clip132)\" cx=\"1871.34\" cy=\"377.558\" r=\"14\" fill=\"#009af9\" fill-rule=\"evenodd\" fill-opacity=\"1\" stroke=\"#000000\" stroke-opacity=\"1\" stroke-width=\"3.2\"/>\n",
       "<circle clip-path=\"url(#clip132)\" cx=\"508.268\" cy=\"1140.71\" r=\"14\" fill=\"#009af9\" fill-rule=\"evenodd\" fill-opacity=\"1\" stroke=\"#000000\" stroke-opacity=\"1\" stroke-width=\"3.2\"/>\n",
       "<circle clip-path=\"url(#clip132)\" cx=\"1822.02\" cy=\"404.032\" r=\"14\" fill=\"#009af9\" fill-rule=\"evenodd\" fill-opacity=\"1\" stroke=\"#000000\" stroke-opacity=\"1\" stroke-width=\"3.2\"/>\n",
       "<circle clip-path=\"url(#clip132)\" cx=\"2189.58\" cy=\"187.011\" r=\"14\" fill=\"#009af9\" fill-rule=\"evenodd\" fill-opacity=\"1\" stroke=\"#000000\" stroke-opacity=\"1\" stroke-width=\"3.2\"/>\n",
       "<circle clip-path=\"url(#clip132)\" cx=\"1817.92\" cy=\"425.192\" r=\"14\" fill=\"#009af9\" fill-rule=\"evenodd\" fill-opacity=\"1\" stroke=\"#000000\" stroke-opacity=\"1\" stroke-width=\"3.2\"/>\n",
       "<circle clip-path=\"url(#clip132)\" cx=\"418.986\" cy=\"1208.61\" r=\"14\" fill=\"#009af9\" fill-rule=\"evenodd\" fill-opacity=\"1\" stroke=\"#000000\" stroke-opacity=\"1\" stroke-width=\"3.2\"/>\n",
       "<circle clip-path=\"url(#clip132)\" cx=\"2133.29\" cy=\"221.566\" r=\"14\" fill=\"#009af9\" fill-rule=\"evenodd\" fill-opacity=\"1\" stroke=\"#000000\" stroke-opacity=\"1\" stroke-width=\"3.2\"/>\n",
       "<circle clip-path=\"url(#clip132)\" cx=\"1575.45\" cy=\"577.346\" r=\"14\" fill=\"#009af9\" fill-rule=\"evenodd\" fill-opacity=\"1\" stroke=\"#000000\" stroke-opacity=\"1\" stroke-width=\"3.2\"/>\n",
       "<circle clip-path=\"url(#clip132)\" cx=\"2199.37\" cy=\"143.306\" r=\"14\" fill=\"#009af9\" fill-rule=\"evenodd\" fill-opacity=\"1\" stroke=\"#000000\" stroke-opacity=\"1\" stroke-width=\"3.2\"/>\n",
       "<circle clip-path=\"url(#clip132)\" cx=\"435.092\" cy=\"1244.86\" r=\"14\" fill=\"#009af9\" fill-rule=\"evenodd\" fill-opacity=\"1\" stroke=\"#000000\" stroke-opacity=\"1\" stroke-width=\"3.2\"/>\n",
       "<circle clip-path=\"url(#clip132)\" cx=\"852.995\" cy=\"1001.67\" r=\"14\" fill=\"#009af9\" fill-rule=\"evenodd\" fill-opacity=\"1\" stroke=\"#000000\" stroke-opacity=\"1\" stroke-width=\"3.2\"/>\n",
       "<circle clip-path=\"url(#clip132)\" cx=\"343.689\" cy=\"1330.06\" r=\"14\" fill=\"#009af9\" fill-rule=\"evenodd\" fill-opacity=\"1\" stroke=\"#000000\" stroke-opacity=\"1\" stroke-width=\"3.2\"/>\n",
       "<circle clip-path=\"url(#clip132)\" cx=\"2166.51\" cy=\"148.822\" r=\"14\" fill=\"#009af9\" fill-rule=\"evenodd\" fill-opacity=\"1\" stroke=\"#000000\" stroke-opacity=\"1\" stroke-width=\"3.2\"/>\n",
       "<circle clip-path=\"url(#clip132)\" cx=\"1746.01\" cy=\"414.373\" r=\"14\" fill=\"#009af9\" fill-rule=\"evenodd\" fill-opacity=\"1\" stroke=\"#000000\" stroke-opacity=\"1\" stroke-width=\"3.2\"/>\n",
       "<circle clip-path=\"url(#clip132)\" cx=\"1142.12\" cy=\"804.603\" r=\"14\" fill=\"#009af9\" fill-rule=\"evenodd\" fill-opacity=\"1\" stroke=\"#000000\" stroke-opacity=\"1\" stroke-width=\"3.2\"/>\n",
       "<circle clip-path=\"url(#clip132)\" cx=\"1180.66\" cy=\"799.174\" r=\"14\" fill=\"#009af9\" fill-rule=\"evenodd\" fill-opacity=\"1\" stroke=\"#000000\" stroke-opacity=\"1\" stroke-width=\"3.2\"/>\n",
       "<circle clip-path=\"url(#clip132)\" cx=\"816.957\" cy=\"1033.23\" r=\"14\" fill=\"#009af9\" fill-rule=\"evenodd\" fill-opacity=\"1\" stroke=\"#000000\" stroke-opacity=\"1\" stroke-width=\"3.2\"/>\n",
       "<circle clip-path=\"url(#clip132)\" cx=\"2089.18\" cy=\"280.802\" r=\"14\" fill=\"#009af9\" fill-rule=\"evenodd\" fill-opacity=\"1\" stroke=\"#000000\" stroke-opacity=\"1\" stroke-width=\"3.2\"/>\n",
       "<circle clip-path=\"url(#clip132)\" cx=\"384.932\" cy=\"1296.24\" r=\"14\" fill=\"#009af9\" fill-rule=\"evenodd\" fill-opacity=\"1\" stroke=\"#000000\" stroke-opacity=\"1\" stroke-width=\"3.2\"/>\n",
       "<circle clip-path=\"url(#clip132)\" cx=\"1452.88\" cy=\"601.781\" r=\"14\" fill=\"#009af9\" fill-rule=\"evenodd\" fill-opacity=\"1\" stroke=\"#000000\" stroke-opacity=\"1\" stroke-width=\"3.2\"/>\n",
       "<circle clip-path=\"url(#clip132)\" cx=\"206.246\" cy=\"1391.48\" r=\"14\" fill=\"#009af9\" fill-rule=\"evenodd\" fill-opacity=\"1\" stroke=\"#000000\" stroke-opacity=\"1\" stroke-width=\"3.2\"/>\n",
       "<circle clip-path=\"url(#clip132)\" cx=\"2227.01\" cy=\"115.559\" r=\"14\" fill=\"#009af9\" fill-rule=\"evenodd\" fill-opacity=\"1\" stroke=\"#000000\" stroke-opacity=\"1\" stroke-width=\"3.2\"/>\n",
       "<circle clip-path=\"url(#clip132)\" cx=\"508.403\" cy=\"1257.7\" r=\"14\" fill=\"#009af9\" fill-rule=\"evenodd\" fill-opacity=\"1\" stroke=\"#000000\" stroke-opacity=\"1\" stroke-width=\"3.2\"/>\n",
       "<circle clip-path=\"url(#clip132)\" cx=\"973.327\" cy=\"931.906\" r=\"14\" fill=\"#009af9\" fill-rule=\"evenodd\" fill-opacity=\"1\" stroke=\"#000000\" stroke-opacity=\"1\" stroke-width=\"3.2\"/>\n",
       "<circle clip-path=\"url(#clip132)\" cx=\"2150.86\" cy=\"167.483\" r=\"14\" fill=\"#009af9\" fill-rule=\"evenodd\" fill-opacity=\"1\" stroke=\"#000000\" stroke-opacity=\"1\" stroke-width=\"3.2\"/>\n",
       "<circle clip-path=\"url(#clip132)\" cx=\"1138.19\" cy=\"829.788\" r=\"14\" fill=\"#009af9\" fill-rule=\"evenodd\" fill-opacity=\"1\" stroke=\"#000000\" stroke-opacity=\"1\" stroke-width=\"3.2\"/>\n",
       "<circle clip-path=\"url(#clip132)\" cx=\"1152.79\" cy=\"718.699\" r=\"14\" fill=\"#009af9\" fill-rule=\"evenodd\" fill-opacity=\"1\" stroke=\"#000000\" stroke-opacity=\"1\" stroke-width=\"3.2\"/>\n",
       "<circle clip-path=\"url(#clip132)\" cx=\"1912.8\" cy=\"400.61\" r=\"14\" fill=\"#009af9\" fill-rule=\"evenodd\" fill-opacity=\"1\" stroke=\"#000000\" stroke-opacity=\"1\" stroke-width=\"3.2\"/>\n",
       "<circle clip-path=\"url(#clip132)\" cx=\"1483.21\" cy=\"529.541\" r=\"14\" fill=\"#009af9\" fill-rule=\"evenodd\" fill-opacity=\"1\" stroke=\"#000000\" stroke-opacity=\"1\" stroke-width=\"3.2\"/>\n",
       "<circle clip-path=\"url(#clip132)\" cx=\"215.453\" cy=\"1445.72\" r=\"14\" fill=\"#009af9\" fill-rule=\"evenodd\" fill-opacity=\"1\" stroke=\"#000000\" stroke-opacity=\"1\" stroke-width=\"3.2\"/>\n",
       "<circle clip-path=\"url(#clip132)\" cx=\"1368.84\" cy=\"661.883\" r=\"14\" fill=\"#009af9\" fill-rule=\"evenodd\" fill-opacity=\"1\" stroke=\"#000000\" stroke-opacity=\"1\" stroke-width=\"3.2\"/>\n",
       "<circle clip-path=\"url(#clip132)\" cx=\"1586.53\" cy=\"490.799\" r=\"14\" fill=\"#009af9\" fill-rule=\"evenodd\" fill-opacity=\"1\" stroke=\"#000000\" stroke-opacity=\"1\" stroke-width=\"3.2\"/>\n",
       "<circle clip-path=\"url(#clip132)\" cx=\"1095.78\" cy=\"863.311\" r=\"14\" fill=\"#009af9\" fill-rule=\"evenodd\" fill-opacity=\"1\" stroke=\"#000000\" stroke-opacity=\"1\" stroke-width=\"3.2\"/>\n",
       "<circle clip-path=\"url(#clip132)\" cx=\"859.043\" cy=\"990.589\" r=\"14\" fill=\"#009af9\" fill-rule=\"evenodd\" fill-opacity=\"1\" stroke=\"#000000\" stroke-opacity=\"1\" stroke-width=\"3.2\"/>\n",
       "<circle clip-path=\"url(#clip132)\" cx=\"2193.11\" cy=\"163.866\" r=\"14\" fill=\"#009af9\" fill-rule=\"evenodd\" fill-opacity=\"1\" stroke=\"#000000\" stroke-opacity=\"1\" stroke-width=\"3.2\"/>\n",
       "<circle clip-path=\"url(#clip132)\" cx=\"863.268\" cy=\"915.436\" r=\"14\" fill=\"#009af9\" fill-rule=\"evenodd\" fill-opacity=\"1\" stroke=\"#000000\" stroke-opacity=\"1\" stroke-width=\"3.2\"/>\n",
       "<circle clip-path=\"url(#clip132)\" cx=\"2003.38\" cy=\"209.084\" r=\"14\" fill=\"#009af9\" fill-rule=\"evenodd\" fill-opacity=\"1\" stroke=\"#000000\" stroke-opacity=\"1\" stroke-width=\"3.2\"/>\n",
       "<circle clip-path=\"url(#clip132)\" cx=\"1317.83\" cy=\"729.019\" r=\"14\" fill=\"#009af9\" fill-rule=\"evenodd\" fill-opacity=\"1\" stroke=\"#000000\" stroke-opacity=\"1\" stroke-width=\"3.2\"/>\n",
       "<circle clip-path=\"url(#clip132)\" cx=\"1932.51\" cy=\"298.337\" r=\"14\" fill=\"#009af9\" fill-rule=\"evenodd\" fill-opacity=\"1\" stroke=\"#000000\" stroke-opacity=\"1\" stroke-width=\"3.2\"/>\n",
       "<circle clip-path=\"url(#clip132)\" cx=\"568.291\" cy=\"1140.36\" r=\"14\" fill=\"#009af9\" fill-rule=\"evenodd\" fill-opacity=\"1\" stroke=\"#000000\" stroke-opacity=\"1\" stroke-width=\"3.2\"/>\n",
       "<circle clip-path=\"url(#clip132)\" cx=\"897.654\" cy=\"884.196\" r=\"14\" fill=\"#009af9\" fill-rule=\"evenodd\" fill-opacity=\"1\" stroke=\"#000000\" stroke-opacity=\"1\" stroke-width=\"3.2\"/>\n",
       "<circle clip-path=\"url(#clip132)\" cx=\"957.998\" cy=\"922.738\" r=\"14\" fill=\"#009af9\" fill-rule=\"evenodd\" fill-opacity=\"1\" stroke=\"#000000\" stroke-opacity=\"1\" stroke-width=\"3.2\"/>\n",
       "<circle clip-path=\"url(#clip132)\" cx=\"2140.36\" cy=\"111.773\" r=\"14\" fill=\"#009af9\" fill-rule=\"evenodd\" fill-opacity=\"1\" stroke=\"#000000\" stroke-opacity=\"1\" stroke-width=\"3.2\"/>\n",
       "<circle clip-path=\"url(#clip132)\" cx=\"580.968\" cy=\"1234.63\" r=\"14\" fill=\"#009af9\" fill-rule=\"evenodd\" fill-opacity=\"1\" stroke=\"#000000\" stroke-opacity=\"1\" stroke-width=\"3.2\"/>\n",
       "<circle clip-path=\"url(#clip132)\" cx=\"2263.94\" cy=\"111.786\" r=\"14\" fill=\"#009af9\" fill-rule=\"evenodd\" fill-opacity=\"1\" stroke=\"#000000\" stroke-opacity=\"1\" stroke-width=\"3.2\"/>\n",
       "<circle clip-path=\"url(#clip132)\" cx=\"255.842\" cy=\"1332.79\" r=\"14\" fill=\"#009af9\" fill-rule=\"evenodd\" fill-opacity=\"1\" stroke=\"#000000\" stroke-opacity=\"1\" stroke-width=\"3.2\"/>\n",
       "<circle clip-path=\"url(#clip132)\" cx=\"815.538\" cy=\"984.58\" r=\"14\" fill=\"#009af9\" fill-rule=\"evenodd\" fill-opacity=\"1\" stroke=\"#000000\" stroke-opacity=\"1\" stroke-width=\"3.2\"/>\n",
       "<circle clip-path=\"url(#clip132)\" cx=\"1960.59\" cy=\"262.314\" r=\"14\" fill=\"#009af9\" fill-rule=\"evenodd\" fill-opacity=\"1\" stroke=\"#000000\" stroke-opacity=\"1\" stroke-width=\"3.2\"/>\n",
       "<circle clip-path=\"url(#clip132)\" cx=\"1864.27\" cy=\"365.571\" r=\"14\" fill=\"#009af9\" fill-rule=\"evenodd\" fill-opacity=\"1\" stroke=\"#000000\" stroke-opacity=\"1\" stroke-width=\"3.2\"/>\n",
       "<circle clip-path=\"url(#clip132)\" cx=\"1380.91\" cy=\"693.911\" r=\"14\" fill=\"#009af9\" fill-rule=\"evenodd\" fill-opacity=\"1\" stroke=\"#000000\" stroke-opacity=\"1\" stroke-width=\"3.2\"/>\n",
       "<circle clip-path=\"url(#clip132)\" cx=\"1041.72\" cy=\"930.587\" r=\"14\" fill=\"#009af9\" fill-rule=\"evenodd\" fill-opacity=\"1\" stroke=\"#000000\" stroke-opacity=\"1\" stroke-width=\"3.2\"/>\n",
       "<circle clip-path=\"url(#clip132)\" cx=\"1066.61\" cy=\"866.37\" r=\"14\" fill=\"#009af9\" fill-rule=\"evenodd\" fill-opacity=\"1\" stroke=\"#000000\" stroke-opacity=\"1\" stroke-width=\"3.2\"/>\n",
       "<circle clip-path=\"url(#clip132)\" cx=\"2112.01\" cy=\"239.6\" r=\"14\" fill=\"#009af9\" fill-rule=\"evenodd\" fill-opacity=\"1\" stroke=\"#000000\" stroke-opacity=\"1\" stroke-width=\"3.2\"/>\n",
       "<circle clip-path=\"url(#clip132)\" cx=\"1545.77\" cy=\"540.443\" r=\"14\" fill=\"#009af9\" fill-rule=\"evenodd\" fill-opacity=\"1\" stroke=\"#000000\" stroke-opacity=\"1\" stroke-width=\"3.2\"/>\n",
       "<circle clip-path=\"url(#clip132)\" cx=\"1235.1\" cy=\"784.814\" r=\"14\" fill=\"#009af9\" fill-rule=\"evenodd\" fill-opacity=\"1\" stroke=\"#000000\" stroke-opacity=\"1\" stroke-width=\"3.2\"/>\n",
       "<circle clip-path=\"url(#clip132)\" cx=\"799.245\" cy=\"1041.54\" r=\"14\" fill=\"#009af9\" fill-rule=\"evenodd\" fill-opacity=\"1\" stroke=\"#000000\" stroke-opacity=\"1\" stroke-width=\"3.2\"/>\n",
       "<circle clip-path=\"url(#clip132)\" cx=\"2161.02\" cy=\"134.432\" r=\"14\" fill=\"#009af9\" fill-rule=\"evenodd\" fill-opacity=\"1\" stroke=\"#000000\" stroke-opacity=\"1\" stroke-width=\"3.2\"/>\n",
       "<circle clip-path=\"url(#clip132)\" cx=\"575.867\" cy=\"1108.04\" r=\"14\" fill=\"#009af9\" fill-rule=\"evenodd\" fill-opacity=\"1\" stroke=\"#000000\" stroke-opacity=\"1\" stroke-width=\"3.2\"/>\n",
       "<circle clip-path=\"url(#clip132)\" cx=\"2153.12\" cy=\"168.136\" r=\"14\" fill=\"#009af9\" fill-rule=\"evenodd\" fill-opacity=\"1\" stroke=\"#000000\" stroke-opacity=\"1\" stroke-width=\"3.2\"/>\n",
       "<circle clip-path=\"url(#clip132)\" cx=\"468.095\" cy=\"1213.92\" r=\"14\" fill=\"#009af9\" fill-rule=\"evenodd\" fill-opacity=\"1\" stroke=\"#000000\" stroke-opacity=\"1\" stroke-width=\"3.2\"/>\n",
       "<circle clip-path=\"url(#clip132)\" cx=\"848.008\" cy=\"971.675\" r=\"14\" fill=\"#009af9\" fill-rule=\"evenodd\" fill-opacity=\"1\" stroke=\"#000000\" stroke-opacity=\"1\" stroke-width=\"3.2\"/>\n",
       "<circle clip-path=\"url(#clip132)\" cx=\"2030.21\" cy=\"215.342\" r=\"14\" fill=\"#009af9\" fill-rule=\"evenodd\" fill-opacity=\"1\" stroke=\"#000000\" stroke-opacity=\"1\" stroke-width=\"3.2\"/>\n",
       "<circle clip-path=\"url(#clip132)\" cx=\"720.023\" cy=\"1040.08\" r=\"14\" fill=\"#009af9\" fill-rule=\"evenodd\" fill-opacity=\"1\" stroke=\"#000000\" stroke-opacity=\"1\" stroke-width=\"3.2\"/>\n",
       "<circle clip-path=\"url(#clip132)\" cx=\"1763.59\" cy=\"427.116\" r=\"14\" fill=\"#009af9\" fill-rule=\"evenodd\" fill-opacity=\"1\" stroke=\"#000000\" stroke-opacity=\"1\" stroke-width=\"3.2\"/>\n",
       "<circle clip-path=\"url(#clip132)\" cx=\"1863.22\" cy=\"312.008\" r=\"14\" fill=\"#009af9\" fill-rule=\"evenodd\" fill-opacity=\"1\" stroke=\"#000000\" stroke-opacity=\"1\" stroke-width=\"3.2\"/>\n",
       "<circle clip-path=\"url(#clip132)\" cx=\"1924.57\" cy=\"338.327\" r=\"14\" fill=\"#009af9\" fill-rule=\"evenodd\" fill-opacity=\"1\" stroke=\"#000000\" stroke-opacity=\"1\" stroke-width=\"3.2\"/>\n",
       "<circle clip-path=\"url(#clip132)\" cx=\"1306.12\" cy=\"751.052\" r=\"14\" fill=\"#009af9\" fill-rule=\"evenodd\" fill-opacity=\"1\" stroke=\"#000000\" stroke-opacity=\"1\" stroke-width=\"3.2\"/>\n",
       "<circle clip-path=\"url(#clip132)\" cx=\"1990.95\" cy=\"201.389\" r=\"14\" fill=\"#009af9\" fill-rule=\"evenodd\" fill-opacity=\"1\" stroke=\"#000000\" stroke-opacity=\"1\" stroke-width=\"3.2\"/>\n",
       "<circle clip-path=\"url(#clip132)\" cx=\"1481.91\" cy=\"628.399\" r=\"14\" fill=\"#009af9\" fill-rule=\"evenodd\" fill-opacity=\"1\" stroke=\"#000000\" stroke-opacity=\"1\" stroke-width=\"3.2\"/>\n",
       "<circle clip-path=\"url(#clip132)\" cx=\"1653.51\" cy=\"538.732\" r=\"14\" fill=\"#009af9\" fill-rule=\"evenodd\" fill-opacity=\"1\" stroke=\"#000000\" stroke-opacity=\"1\" stroke-width=\"3.2\"/>\n",
       "<circle clip-path=\"url(#clip132)\" cx=\"2192.6\" cy=\"104.581\" r=\"14\" fill=\"#009af9\" fill-rule=\"evenodd\" fill-opacity=\"1\" stroke=\"#000000\" stroke-opacity=\"1\" stroke-width=\"3.2\"/>\n",
       "<circle clip-path=\"url(#clip132)\" cx=\"2190.19\" cy=\"119.493\" r=\"14\" fill=\"#009af9\" fill-rule=\"evenodd\" fill-opacity=\"1\" stroke=\"#000000\" stroke-opacity=\"1\" stroke-width=\"3.2\"/>\n",
       "<circle clip-path=\"url(#clip132)\" cx=\"989.758\" cy=\"886.168\" r=\"14\" fill=\"#009af9\" fill-rule=\"evenodd\" fill-opacity=\"1\" stroke=\"#000000\" stroke-opacity=\"1\" stroke-width=\"3.2\"/>\n",
       "<circle clip-path=\"url(#clip132)\" cx=\"1692.63\" cy=\"484.658\" r=\"14\" fill=\"#009af9\" fill-rule=\"evenodd\" fill-opacity=\"1\" stroke=\"#000000\" stroke-opacity=\"1\" stroke-width=\"3.2\"/>\n",
       "<circle clip-path=\"url(#clip132)\" cx=\"1524.39\" cy=\"589.465\" r=\"14\" fill=\"#009af9\" fill-rule=\"evenodd\" fill-opacity=\"1\" stroke=\"#000000\" stroke-opacity=\"1\" stroke-width=\"3.2\"/>\n",
       "<circle clip-path=\"url(#clip132)\" cx=\"1166.4\" cy=\"802.326\" r=\"14\" fill=\"#009af9\" fill-rule=\"evenodd\" fill-opacity=\"1\" stroke=\"#000000\" stroke-opacity=\"1\" stroke-width=\"3.2\"/>\n",
       "<circle clip-path=\"url(#clip132)\" cx=\"529.521\" cy=\"1214.46\" r=\"14\" fill=\"#009af9\" fill-rule=\"evenodd\" fill-opacity=\"1\" stroke=\"#000000\" stroke-opacity=\"1\" stroke-width=\"3.2\"/>\n",
       "<circle clip-path=\"url(#clip132)\" cx=\"1079.34\" cy=\"858.252\" r=\"14\" fill=\"#009af9\" fill-rule=\"evenodd\" fill-opacity=\"1\" stroke=\"#000000\" stroke-opacity=\"1\" stroke-width=\"3.2\"/>\n",
       "<circle clip-path=\"url(#clip132)\" cx=\"1701.05\" cy=\"580.36\" r=\"14\" fill=\"#009af9\" fill-rule=\"evenodd\" fill-opacity=\"1\" stroke=\"#000000\" stroke-opacity=\"1\" stroke-width=\"3.2\"/>\n",
       "<circle clip-path=\"url(#clip132)\" cx=\"1341.44\" cy=\"654.926\" r=\"14\" fill=\"#009af9\" fill-rule=\"evenodd\" fill-opacity=\"1\" stroke=\"#000000\" stroke-opacity=\"1\" stroke-width=\"3.2\"/>\n",
       "<circle clip-path=\"url(#clip132)\" cx=\"2086.62\" cy=\"264.609\" r=\"14\" fill=\"#009af9\" fill-rule=\"evenodd\" fill-opacity=\"1\" stroke=\"#000000\" stroke-opacity=\"1\" stroke-width=\"3.2\"/>\n",
       "<circle clip-path=\"url(#clip132)\" cx=\"1546.94\" cy=\"516.323\" r=\"14\" fill=\"#009af9\" fill-rule=\"evenodd\" fill-opacity=\"1\" stroke=\"#000000\" stroke-opacity=\"1\" stroke-width=\"3.2\"/>\n",
       "<circle clip-path=\"url(#clip132)\" cx=\"2011.29\" cy=\"265.339\" r=\"14\" fill=\"#009af9\" fill-rule=\"evenodd\" fill-opacity=\"1\" stroke=\"#000000\" stroke-opacity=\"1\" stroke-width=\"3.2\"/>\n",
       "<circle clip-path=\"url(#clip132)\" cx=\"835.182\" cy=\"1098.37\" r=\"14\" fill=\"#009af9\" fill-rule=\"evenodd\" fill-opacity=\"1\" stroke=\"#000000\" stroke-opacity=\"1\" stroke-width=\"3.2\"/>\n",
       "<circle clip-path=\"url(#clip132)\" cx=\"1484.34\" cy=\"546.808\" r=\"14\" fill=\"#009af9\" fill-rule=\"evenodd\" fill-opacity=\"1\" stroke=\"#000000\" stroke-opacity=\"1\" stroke-width=\"3.2\"/>\n",
       "<circle clip-path=\"url(#clip132)\" cx=\"282.962\" cy=\"1376.25\" r=\"14\" fill=\"#009af9\" fill-rule=\"evenodd\" fill-opacity=\"1\" stroke=\"#000000\" stroke-opacity=\"1\" stroke-width=\"3.2\"/>\n",
       "<circle clip-path=\"url(#clip132)\" cx=\"2057.01\" cy=\"201.599\" r=\"14\" fill=\"#009af9\" fill-rule=\"evenodd\" fill-opacity=\"1\" stroke=\"#000000\" stroke-opacity=\"1\" stroke-width=\"3.2\"/>\n",
       "<circle clip-path=\"url(#clip132)\" cx=\"1172.11\" cy=\"777.11\" r=\"14\" fill=\"#009af9\" fill-rule=\"evenodd\" fill-opacity=\"1\" stroke=\"#000000\" stroke-opacity=\"1\" stroke-width=\"3.2\"/>\n",
       "<circle clip-path=\"url(#clip132)\" cx=\"1616.76\" cy=\"494.576\" r=\"14\" fill=\"#009af9\" fill-rule=\"evenodd\" fill-opacity=\"1\" stroke=\"#000000\" stroke-opacity=\"1\" stroke-width=\"3.2\"/>\n",
       "<circle clip-path=\"url(#clip132)\" cx=\"1464.68\" cy=\"582.697\" r=\"14\" fill=\"#009af9\" fill-rule=\"evenodd\" fill-opacity=\"1\" stroke=\"#000000\" stroke-opacity=\"1\" stroke-width=\"3.2\"/>\n",
       "<circle clip-path=\"url(#clip132)\" cx=\"944.775\" cy=\"908.212\" r=\"14\" fill=\"#009af9\" fill-rule=\"evenodd\" fill-opacity=\"1\" stroke=\"#000000\" stroke-opacity=\"1\" stroke-width=\"3.2\"/>\n",
       "<circle clip-path=\"url(#clip132)\" cx=\"482.973\" cy=\"1241.82\" r=\"14\" fill=\"#009af9\" fill-rule=\"evenodd\" fill-opacity=\"1\" stroke=\"#000000\" stroke-opacity=\"1\" stroke-width=\"3.2\"/>\n",
       "<circle clip-path=\"url(#clip132)\" cx=\"247.274\" cy=\"1390\" r=\"14\" fill=\"#009af9\" fill-rule=\"evenodd\" fill-opacity=\"1\" stroke=\"#000000\" stroke-opacity=\"1\" stroke-width=\"3.2\"/>\n",
       "<polyline clip-path=\"url(#clip132)\" style=\"stroke:#e26f46; stroke-width:4; stroke-opacity:1; fill:none\" points=\"\n",
       "  199.477,1402.96 220.383,1389.81 241.288,1376.66 262.194,1363.51 283.1,1350.36 304.005,1337.21 324.911,1324.06 345.817,1310.91 366.722,1297.76 387.628,1284.62 \n",
       "  408.533,1271.47 429.439,1258.32 450.345,1245.17 471.25,1232.02 492.156,1218.87 513.062,1205.72 533.967,1192.57 554.873,1179.42 575.778,1166.27 596.684,1153.12 \n",
       "  617.59,1139.97 638.495,1126.82 659.401,1113.67 680.306,1100.52 701.212,1087.37 722.118,1074.22 743.023,1061.07 763.929,1047.92 784.835,1034.77 805.74,1021.62 \n",
       "  826.646,1008.47 847.551,995.318 868.457,982.168 889.363,969.018 910.268,955.868 931.174,942.718 952.079,929.568 972.985,916.418 993.891,903.269 1014.8,890.119 \n",
       "  1035.7,876.969 1056.61,863.819 1077.51,850.669 1098.42,837.519 1119.32,824.369 1140.23,811.219 1161.14,798.07 1182.04,784.92 1202.95,771.77 1223.85,758.62 \n",
       "  1244.76,745.47 1265.66,732.32 1286.57,719.17 1307.47,706.02 1328.38,692.871 1349.29,679.721 1370.19,666.571 1391.1,653.421 1412,640.271 1432.91,627.121 \n",
       "  1453.81,613.971 1474.72,600.821 1495.63,587.672 1516.53,574.522 1537.44,561.372 1558.34,548.222 1579.25,535.072 1600.15,521.922 1621.06,508.772 1641.96,495.622 \n",
       "  1662.87,482.473 1683.78,469.323 1704.68,456.173 1725.59,443.023 1746.49,429.873 1767.4,416.723 1788.3,403.573 1809.21,390.423 1830.12,377.274 1851.02,364.124 \n",
       "  1871.93,350.974 1892.83,337.824 1913.74,324.674 1934.64,311.524 1955.55,298.374 1976.45,285.224 1997.36,272.075 2018.27,258.925 2039.17,245.775 2060.08,232.625 \n",
       "  2080.98,219.475 2101.89,206.325 2122.79,193.175 2143.7,180.025 2164.61,166.876 2185.51,153.726 2206.42,140.576 2227.32,127.426 2248.23,114.276 2269.13,101.126 \n",
       "  2290.04,87.9763 \n",
       "  \"/>\n",
       "<path clip-path=\"url(#clip130)\" d=\"\n",
       "M1990.11 251.724 L2280.76 251.724 L2280.76 130.764 L1990.11 130.764  Z\n",
       "  \" fill=\"#ffffff\" fill-rule=\"evenodd\" fill-opacity=\"1\"/>\n",
       "<polyline clip-path=\"url(#clip130)\" style=\"stroke:#000000; stroke-width:4; stroke-opacity:1; fill:none\" points=\"\n",
       "  1990.11,251.724 2280.76,251.724 2280.76,130.764 1990.11,130.764 1990.11,251.724 \n",
       "  \"/>\n",
       "<polyline clip-path=\"url(#clip130)\" style=\"stroke:#e26f46; stroke-width:4; stroke-opacity:1; fill:none\" points=\"\n",
       "  2014.11,191.244 2158.11,191.244 \n",
       "  \"/>\n",
       "<path clip-path=\"url(#clip130)\" d=\"M 0 0 M2195.95 210.931 Q2194.15 215.561 2192.43 216.973 Q2190.72 218.385 2187.85 218.385 L2184.45 218.385 L2184.45 214.82 L2186.95 214.82 Q2188.71 214.82 2189.68 213.987 Q2190.65 213.154 2191.83 210.052 L2192.59 208.107 L2182.11 182.598 L2186.62 182.598 L2194.72 202.876 L2202.83 182.598 L2207.34 182.598 L2195.95 210.931 Z\" fill=\"#000000\" fill-rule=\"evenodd\" fill-opacity=\"1\" /><path clip-path=\"url(#clip130)\" d=\"M 0 0 M2216.44 204.589 L2232.76 204.589 L2232.76 208.524 L2210.81 208.524 L2210.81 204.589 Q2213.47 201.834 2218.06 197.205 Q2222.66 192.552 2223.84 191.209 Q2226.09 188.686 2226.97 186.95 Q2227.87 185.191 2227.87 183.501 Q2227.87 180.746 2225.93 179.01 Q2224.01 177.274 2220.9 177.274 Q2218.71 177.274 2216.25 178.038 Q2213.82 178.802 2211.04 180.353 L2211.04 175.631 Q2213.87 174.496 2216.32 173.918 Q2218.77 173.339 2220.81 173.339 Q2226.18 173.339 2229.38 176.024 Q2232.57 178.709 2232.57 183.2 Q2232.57 185.33 2231.76 187.251 Q2230.97 189.149 2228.87 191.742 Q2228.29 192.413 2225.19 195.631 Q2222.08 198.825 2216.44 204.589 Z\" fill=\"#000000\" fill-rule=\"evenodd\" fill-opacity=\"1\" /></svg>\n"
      ]
     },
     "execution_count": 84,
     "metadata": {},
     "output_type": "execute_result"
    }
   ],
   "source": [
    "scatter(x,y, label=\"\")\n",
    "plot!(0:0.1:10,u)"
   ]
  },
  {
   "cell_type": "markdown",
   "metadata": {},
   "source": [
    "If we want to fit a second order polynomial \n",
    "$$y=w_0+w_1*x+w_2*x^2$$"
   ]
  },
  {
   "cell_type": "code",
   "execution_count": 85,
   "metadata": {},
   "outputs": [
    {
     "data": {
      "text/plain": [
       "3-element Array{Float64,1}:\n",
       "  0.7888349785468046\n",
       " -0.3939850133440459\n",
       "  0.04189954499506511"
      ]
     },
     "execution_count": 85,
     "metadata": {},
     "output_type": "execute_result"
    }
   ],
   "source": [
    "x=rand(100)*10\n",
    "y=sin.(x)+randn(length(x))*0.2\n",
    "w=[ones(length(x)) x x.^2]\\y"
   ]
  },
  {
   "cell_type": "code",
   "execution_count": 86,
   "metadata": {},
   "outputs": [
    {
     "data": {
      "image/svg+xml": [
       "<?xml version=\"1.0\" encoding=\"utf-8\"?>\n",
       "<svg xmlns=\"http://www.w3.org/2000/svg\" xmlns:xlink=\"http://www.w3.org/1999/xlink\" width=\"600\" height=\"400\" viewBox=\"0 0 2400 1600\">\n",
       "<defs>\n",
       "  <clipPath id=\"clip170\">\n",
       "    <rect x=\"0\" y=\"0\" width=\"2400\" height=\"1600\"/>\n",
       "  </clipPath>\n",
       "</defs>\n",
       "<path clip-path=\"url(#clip170)\" d=\"\n",
       "M0 1600 L2400 1600 L2400 0 L0 0  Z\n",
       "  \" fill=\"#ffffff\" fill-rule=\"evenodd\" fill-opacity=\"1\"/>\n",
       "<defs>\n",
       "  <clipPath id=\"clip171\">\n",
       "    <rect x=\"480\" y=\"0\" width=\"1681\" height=\"1600\"/>\n",
       "  </clipPath>\n",
       "</defs>\n",
       "<path clip-path=\"url(#clip170)\" d=\"\n",
       "M162.455 1486.45 L2352.76 1486.45 L2352.76 47.2441 L162.455 47.2441  Z\n",
       "  \" fill=\"#ffffff\" fill-rule=\"evenodd\" fill-opacity=\"1\"/>\n",
       "<defs>\n",
       "  <clipPath id=\"clip172\">\n",
       "    <rect x=\"162\" y=\"47\" width=\"2191\" height=\"1440\"/>\n",
       "  </clipPath>\n",
       "</defs>\n",
       "<polyline clip-path=\"url(#clip172)\" style=\"stroke:#000000; stroke-width:2; stroke-opacity:0.1; fill:none\" points=\"\n",
       "  224.444,1486.45 224.444,47.2441 \n",
       "  \"/>\n",
       "<polyline clip-path=\"url(#clip172)\" style=\"stroke:#000000; stroke-width:2; stroke-opacity:0.1; fill:none\" points=\"\n",
       "  741.025,1486.45 741.025,47.2441 \n",
       "  \"/>\n",
       "<polyline clip-path=\"url(#clip172)\" style=\"stroke:#000000; stroke-width:2; stroke-opacity:0.1; fill:none\" points=\"\n",
       "  1257.61,1486.45 1257.61,47.2441 \n",
       "  \"/>\n",
       "<polyline clip-path=\"url(#clip172)\" style=\"stroke:#000000; stroke-width:2; stroke-opacity:0.1; fill:none\" points=\"\n",
       "  1774.19,1486.45 1774.19,47.2441 \n",
       "  \"/>\n",
       "<polyline clip-path=\"url(#clip172)\" style=\"stroke:#000000; stroke-width:2; stroke-opacity:0.1; fill:none\" points=\"\n",
       "  2290.77,1486.45 2290.77,47.2441 \n",
       "  \"/>\n",
       "<polyline clip-path=\"url(#clip172)\" style=\"stroke:#000000; stroke-width:2; stroke-opacity:0.1; fill:none\" points=\"\n",
       "  162.455,1370.58 2352.76,1370.58 \n",
       "  \"/>\n",
       "<polyline clip-path=\"url(#clip172)\" style=\"stroke:#000000; stroke-width:2; stroke-opacity:0.1; fill:none\" points=\"\n",
       "  162.455,1077.21 2352.76,1077.21 \n",
       "  \"/>\n",
       "<polyline clip-path=\"url(#clip172)\" style=\"stroke:#000000; stroke-width:2; stroke-opacity:0.1; fill:none\" points=\"\n",
       "  162.455,783.84 2352.76,783.84 \n",
       "  \"/>\n",
       "<polyline clip-path=\"url(#clip172)\" style=\"stroke:#000000; stroke-width:2; stroke-opacity:0.1; fill:none\" points=\"\n",
       "  162.455,490.467 2352.76,490.467 \n",
       "  \"/>\n",
       "<polyline clip-path=\"url(#clip172)\" style=\"stroke:#000000; stroke-width:2; stroke-opacity:0.1; fill:none\" points=\"\n",
       "  162.455,197.095 2352.76,197.095 \n",
       "  \"/>\n",
       "<polyline clip-path=\"url(#clip170)\" style=\"stroke:#000000; stroke-width:4; stroke-opacity:1; fill:none\" points=\"\n",
       "  162.455,1486.45 2352.76,1486.45 \n",
       "  \"/>\n",
       "<polyline clip-path=\"url(#clip170)\" style=\"stroke:#000000; stroke-width:4; stroke-opacity:1; fill:none\" points=\"\n",
       "  162.455,1486.45 162.455,47.2441 \n",
       "  \"/>\n",
       "<polyline clip-path=\"url(#clip170)\" style=\"stroke:#000000; stroke-width:4; stroke-opacity:1; fill:none\" points=\"\n",
       "  224.444,1486.45 224.444,1469.18 \n",
       "  \"/>\n",
       "<polyline clip-path=\"url(#clip170)\" style=\"stroke:#000000; stroke-width:4; stroke-opacity:1; fill:none\" points=\"\n",
       "  741.025,1486.45 741.025,1469.18 \n",
       "  \"/>\n",
       "<polyline clip-path=\"url(#clip170)\" style=\"stroke:#000000; stroke-width:4; stroke-opacity:1; fill:none\" points=\"\n",
       "  1257.61,1486.45 1257.61,1469.18 \n",
       "  \"/>\n",
       "<polyline clip-path=\"url(#clip170)\" style=\"stroke:#000000; stroke-width:4; stroke-opacity:1; fill:none\" points=\"\n",
       "  1774.19,1486.45 1774.19,1469.18 \n",
       "  \"/>\n",
       "<polyline clip-path=\"url(#clip170)\" style=\"stroke:#000000; stroke-width:4; stroke-opacity:1; fill:none\" points=\"\n",
       "  2290.77,1486.45 2290.77,1469.18 \n",
       "  \"/>\n",
       "<polyline clip-path=\"url(#clip170)\" style=\"stroke:#000000; stroke-width:4; stroke-opacity:1; fill:none\" points=\"\n",
       "  162.455,1370.58 188.738,1370.58 \n",
       "  \"/>\n",
       "<polyline clip-path=\"url(#clip170)\" style=\"stroke:#000000; stroke-width:4; stroke-opacity:1; fill:none\" points=\"\n",
       "  162.455,1077.21 188.738,1077.21 \n",
       "  \"/>\n",
       "<polyline clip-path=\"url(#clip170)\" style=\"stroke:#000000; stroke-width:4; stroke-opacity:1; fill:none\" points=\"\n",
       "  162.455,783.84 188.738,783.84 \n",
       "  \"/>\n",
       "<polyline clip-path=\"url(#clip170)\" style=\"stroke:#000000; stroke-width:4; stroke-opacity:1; fill:none\" points=\"\n",
       "  162.455,490.467 188.738,490.467 \n",
       "  \"/>\n",
       "<polyline clip-path=\"url(#clip170)\" style=\"stroke:#000000; stroke-width:4; stroke-opacity:1; fill:none\" points=\"\n",
       "  162.455,197.095 188.738,197.095 \n",
       "  \"/>\n",
       "<path clip-path=\"url(#clip170)\" d=\"M 0 0 M205.961 1508.44 Q202.35 1508.44 200.521 1512 Q198.715 1515.55 198.715 1522.67 Q198.715 1529.78 200.521 1533.35 Q202.35 1536.89 205.961 1536.89 Q209.595 1536.89 211.4 1533.35 Q213.229 1529.78 213.229 1522.67 Q213.229 1515.55 211.4 1512 Q209.595 1508.44 205.961 1508.44 M205.961 1504.73 Q211.771 1504.73 214.826 1509.34 Q217.905 1513.92 217.905 1522.67 Q217.905 1531.4 214.826 1536.01 Q211.771 1540.59 205.961 1540.59 Q200.15 1540.59 197.072 1536.01 Q194.016 1531.4 194.016 1522.67 Q194.016 1513.92 197.072 1509.34 Q200.15 1504.73 205.961 1504.73 Z\" fill=\"#000000\" fill-rule=\"evenodd\" fill-opacity=\"1\" /><path clip-path=\"url(#clip170)\" d=\"M 0 0 M222.974 1534.04 L227.859 1534.04 L227.859 1539.92 L222.974 1539.92 L222.974 1534.04 Z\" fill=\"#000000\" fill-rule=\"evenodd\" fill-opacity=\"1\" /><path clip-path=\"url(#clip170)\" d=\"M 0 0 M242.928 1508.44 Q239.317 1508.44 237.488 1512 Q235.683 1515.55 235.683 1522.67 Q235.683 1529.78 237.488 1533.35 Q239.317 1536.89 242.928 1536.89 Q246.562 1536.89 248.368 1533.35 Q250.197 1529.78 250.197 1522.67 Q250.197 1515.55 248.368 1512 Q246.562 1508.44 242.928 1508.44 M242.928 1504.73 Q248.738 1504.73 251.794 1509.34 Q254.872 1513.92 254.872 1522.67 Q254.872 1531.4 251.794 1536.01 Q248.738 1540.59 242.928 1540.59 Q237.118 1540.59 234.039 1536.01 Q230.984 1531.4 230.984 1522.67 Q230.984 1513.92 234.039 1509.34 Q237.118 1504.73 242.928 1504.73 Z\" fill=\"#000000\" fill-rule=\"evenodd\" fill-opacity=\"1\" /><path clip-path=\"url(#clip170)\" d=\"M 0 0 M717.692 1535.98 L734.011 1535.98 L734.011 1539.92 L712.067 1539.92 L712.067 1535.98 Q714.729 1533.23 719.312 1528.6 Q723.918 1523.95 725.099 1522.61 Q727.344 1520.08 728.224 1518.35 Q729.127 1516.59 729.127 1514.9 Q729.127 1512.14 727.182 1510.41 Q725.261 1508.67 722.159 1508.67 Q719.96 1508.67 717.506 1509.43 Q715.076 1510.2 712.298 1511.75 L712.298 1507.03 Q715.122 1505.89 717.576 1505.31 Q720.03 1504.73 722.067 1504.73 Q727.437 1504.73 730.631 1507.42 Q733.826 1510.11 733.826 1514.6 Q733.826 1516.73 733.016 1518.65 Q732.229 1520.54 730.122 1523.14 Q729.543 1523.81 726.442 1527.03 Q723.34 1530.22 717.692 1535.98 Z\" fill=\"#000000\" fill-rule=\"evenodd\" fill-opacity=\"1\" /><path clip-path=\"url(#clip170)\" d=\"M 0 0 M739.08 1534.04 L743.965 1534.04 L743.965 1539.92 L739.08 1539.92 L739.08 1534.04 Z\" fill=\"#000000\" fill-rule=\"evenodd\" fill-opacity=\"1\" /><path clip-path=\"url(#clip170)\" d=\"M 0 0 M749.08 1505.36 L767.437 1505.36 L767.437 1509.3 L753.363 1509.3 L753.363 1517.77 Q754.381 1517.42 755.4 1517.26 Q756.418 1517.07 757.437 1517.07 Q763.224 1517.07 766.603 1520.24 Q769.983 1523.42 769.983 1528.83 Q769.983 1534.41 766.511 1537.51 Q763.039 1540.59 756.719 1540.59 Q754.543 1540.59 752.275 1540.22 Q750.029 1539.85 747.622 1539.11 L747.622 1534.41 Q749.705 1535.54 751.928 1536.1 Q754.15 1536.66 756.627 1536.66 Q760.631 1536.66 762.969 1534.55 Q765.307 1532.44 765.307 1528.83 Q765.307 1525.22 762.969 1523.11 Q760.631 1521.01 756.627 1521.01 Q754.752 1521.01 752.877 1521.42 Q751.025 1521.84 749.08 1522.72 L749.08 1505.36 Z\" fill=\"#000000\" fill-rule=\"evenodd\" fill-opacity=\"1\" /><path clip-path=\"url(#clip170)\" d=\"M 0 0 M1229.4 1505.36 L1247.76 1505.36 L1247.76 1509.3 L1233.68 1509.3 L1233.68 1517.77 Q1234.7 1517.42 1235.72 1517.26 Q1236.74 1517.07 1237.76 1517.07 Q1243.54 1517.07 1246.92 1520.24 Q1250.3 1523.42 1250.3 1528.83 Q1250.3 1534.41 1246.83 1537.51 Q1243.36 1540.59 1237.04 1540.59 Q1234.86 1540.59 1232.59 1540.22 Q1230.35 1539.85 1227.94 1539.11 L1227.94 1534.41 Q1230.02 1535.54 1232.25 1536.1 Q1234.47 1536.66 1236.95 1536.66 Q1240.95 1536.66 1243.29 1534.55 Q1245.63 1532.44 1245.63 1528.83 Q1245.63 1525.22 1243.29 1523.11 Q1240.95 1521.01 1236.95 1521.01 Q1235.07 1521.01 1233.2 1521.42 Q1231.34 1521.84 1229.4 1522.72 L1229.4 1505.36 Z\" fill=\"#000000\" fill-rule=\"evenodd\" fill-opacity=\"1\" /><path clip-path=\"url(#clip170)\" d=\"M 0 0 M1255.37 1534.04 L1260.26 1534.04 L1260.26 1539.92 L1255.37 1539.92 L1255.37 1534.04 Z\" fill=\"#000000\" fill-rule=\"evenodd\" fill-opacity=\"1\" /><path clip-path=\"url(#clip170)\" d=\"M 0 0 M1275.33 1508.44 Q1271.71 1508.44 1269.89 1512 Q1268.08 1515.55 1268.08 1522.67 Q1268.08 1529.78 1269.89 1533.35 Q1271.71 1536.89 1275.33 1536.89 Q1278.96 1536.89 1280.76 1533.35 Q1282.59 1529.78 1282.59 1522.67 Q1282.59 1515.55 1280.76 1512 Q1278.96 1508.44 1275.33 1508.44 M1275.33 1504.73 Q1281.14 1504.73 1284.19 1509.34 Q1287.27 1513.92 1287.27 1522.67 Q1287.27 1531.4 1284.19 1536.01 Q1281.14 1540.59 1275.33 1540.59 Q1269.51 1540.59 1266.44 1536.01 Q1263.38 1531.4 1263.38 1522.67 Q1263.38 1513.92 1266.44 1509.34 Q1269.51 1504.73 1275.33 1504.73 Z\" fill=\"#000000\" fill-rule=\"evenodd\" fill-opacity=\"1\" /><path clip-path=\"url(#clip170)\" d=\"M 0 0 M1745.09 1505.36 L1767.31 1505.36 L1767.31 1507.35 L1754.76 1539.92 L1749.88 1539.92 L1761.69 1509.3 L1745.09 1509.3 L1745.09 1505.36 Z\" fill=\"#000000\" fill-rule=\"evenodd\" fill-opacity=\"1\" /><path clip-path=\"url(#clip170)\" d=\"M 0 0 M1772.38 1534.04 L1777.26 1534.04 L1777.26 1539.92 L1772.38 1539.92 L1772.38 1534.04 Z\" fill=\"#000000\" fill-rule=\"evenodd\" fill-opacity=\"1\" /><path clip-path=\"url(#clip170)\" d=\"M 0 0 M1782.38 1505.36 L1800.74 1505.36 L1800.74 1509.3 L1786.66 1509.3 L1786.66 1517.77 Q1787.68 1517.42 1788.7 1517.26 Q1789.72 1517.07 1790.74 1517.07 Q1796.52 1517.07 1799.9 1520.24 Q1803.28 1523.42 1803.28 1528.83 Q1803.28 1534.41 1799.81 1537.51 Q1796.34 1540.59 1790.02 1540.59 Q1787.84 1540.59 1785.57 1540.22 Q1783.33 1539.85 1780.92 1539.11 L1780.92 1534.41 Q1783.01 1535.54 1785.23 1536.1 Q1787.45 1536.66 1789.93 1536.66 Q1793.93 1536.66 1796.27 1534.55 Q1798.61 1532.44 1798.61 1528.83 Q1798.61 1525.22 1796.27 1523.11 Q1793.93 1521.01 1789.93 1521.01 Q1788.05 1521.01 1786.18 1521.42 Q1784.32 1521.84 1782.38 1522.72 L1782.38 1505.36 Z\" fill=\"#000000\" fill-rule=\"evenodd\" fill-opacity=\"1\" /><path clip-path=\"url(#clip170)\" d=\"M 0 0 M2249.16 1535.98 L2256.8 1535.98 L2256.8 1509.62 L2248.49 1511.29 L2248.49 1507.03 L2256.75 1505.36 L2261.43 1505.36 L2261.43 1535.98 L2269.06 1535.98 L2269.06 1539.92 L2249.16 1539.92 L2249.16 1535.98 Z\" fill=\"#000000\" fill-rule=\"evenodd\" fill-opacity=\"1\" /><path clip-path=\"url(#clip170)\" d=\"M 0 0 M2284.13 1508.44 Q2280.52 1508.44 2278.69 1512 Q2276.89 1515.55 2276.89 1522.67 Q2276.89 1529.78 2278.69 1533.35 Q2280.52 1536.89 2284.13 1536.89 Q2287.77 1536.89 2289.57 1533.35 Q2291.4 1529.78 2291.4 1522.67 Q2291.4 1515.55 2289.57 1512 Q2287.77 1508.44 2284.13 1508.44 M2284.13 1504.73 Q2289.94 1504.73 2293 1509.34 Q2296.08 1513.92 2296.08 1522.67 Q2296.08 1531.4 2293 1536.01 Q2289.94 1540.59 2284.13 1540.59 Q2278.32 1540.59 2275.25 1536.01 Q2272.19 1531.4 2272.19 1522.67 Q2272.19 1513.92 2275.25 1509.34 Q2278.32 1504.73 2284.13 1504.73 Z\" fill=\"#000000\" fill-rule=\"evenodd\" fill-opacity=\"1\" /><path clip-path=\"url(#clip170)\" d=\"M 0 0 M2301.15 1534.04 L2306.03 1534.04 L2306.03 1539.92 L2301.15 1539.92 L2301.15 1534.04 Z\" fill=\"#000000\" fill-rule=\"evenodd\" fill-opacity=\"1\" /><path clip-path=\"url(#clip170)\" d=\"M 0 0 M2321.1 1508.44 Q2317.49 1508.44 2315.66 1512 Q2313.86 1515.55 2313.86 1522.67 Q2313.86 1529.78 2315.66 1533.35 Q2317.49 1536.89 2321.1 1536.89 Q2324.74 1536.89 2326.54 1533.35 Q2328.37 1529.78 2328.37 1522.67 Q2328.37 1515.55 2326.54 1512 Q2324.74 1508.44 2321.1 1508.44 M2321.1 1504.73 Q2326.91 1504.73 2329.97 1509.34 Q2333.05 1513.92 2333.05 1522.67 Q2333.05 1531.4 2329.97 1536.01 Q2326.91 1540.59 2321.1 1540.59 Q2315.29 1540.59 2312.21 1536.01 Q2309.16 1531.4 2309.16 1522.67 Q2309.16 1513.92 2312.21 1509.34 Q2315.29 1504.73 2321.1 1504.73 Z\" fill=\"#000000\" fill-rule=\"evenodd\" fill-opacity=\"1\" /><path clip-path=\"url(#clip170)\" d=\"M 0 0 M63.2236 1372.98 L75.7004 1372.98 L75.7004 1376.78 L63.2236 1376.78 L63.2236 1372.98 Z\" fill=\"#000000\" fill-rule=\"evenodd\" fill-opacity=\"1\" /><path clip-path=\"url(#clip170)\" d=\"M 0 0 M81.58 1383.93 L89.2188 1383.93 L89.2188 1357.56 L80.9087 1359.23 L80.9087 1354.97 L89.1725 1353.3 L93.8484 1353.3 L93.8484 1383.93 L101.487 1383.93 L101.487 1387.86 L81.58 1387.86 L81.58 1383.93 Z\" fill=\"#000000\" fill-rule=\"evenodd\" fill-opacity=\"1\" /><path clip-path=\"url(#clip170)\" d=\"M 0 0 M106.557 1381.99 L111.441 1381.99 L111.441 1387.86 L106.557 1387.86 L106.557 1381.99 Z\" fill=\"#000000\" fill-rule=\"evenodd\" fill-opacity=\"1\" /><path clip-path=\"url(#clip170)\" d=\"M 0 0 M126.51 1356.38 Q122.899 1356.38 121.071 1359.95 Q119.265 1363.49 119.265 1370.62 Q119.265 1377.73 121.071 1381.29 Q122.899 1384.83 126.51 1384.83 Q130.145 1384.83 131.95 1381.29 Q133.779 1377.73 133.779 1370.62 Q133.779 1363.49 131.95 1359.95 Q130.145 1356.38 126.51 1356.38 M126.51 1352.68 Q132.32 1352.68 135.376 1357.29 Q138.455 1361.87 138.455 1370.62 Q138.455 1379.35 135.376 1383.95 Q132.32 1388.54 126.51 1388.54 Q120.7 1388.54 117.621 1383.95 Q114.566 1379.35 114.566 1370.62 Q114.566 1361.87 117.621 1357.29 Q120.7 1352.68 126.51 1352.68 Z\" fill=\"#000000\" fill-rule=\"evenodd\" fill-opacity=\"1\" /><path clip-path=\"url(#clip170)\" d=\"M 0 0 M62.9921 1079.61 L75.4689 1079.61 L75.4689 1083.4 L62.9921 1083.4 L62.9921 1079.61 Z\" fill=\"#000000\" fill-rule=\"evenodd\" fill-opacity=\"1\" /><path clip-path=\"url(#clip170)\" d=\"M 0 0 M90.5383 1063.01 Q86.9272 1063.01 85.0985 1066.58 Q83.2929 1070.12 83.2929 1077.25 Q83.2929 1084.35 85.0985 1087.92 Q86.9272 1091.46 90.5383 1091.46 Q94.1725 1091.46 95.9781 1087.92 Q97.8068 1084.35 97.8068 1077.25 Q97.8068 1070.12 95.9781 1066.58 Q94.1725 1063.01 90.5383 1063.01 M90.5383 1059.31 Q96.3484 1059.31 99.404 1063.91 Q102.483 1068.5 102.483 1077.25 Q102.483 1085.97 99.404 1090.58 Q96.3484 1095.16 90.5383 1095.16 Q84.7281 1095.16 81.6494 1090.58 Q78.5939 1085.97 78.5939 1077.25 Q78.5939 1068.5 81.6494 1063.91 Q84.7281 1059.31 90.5383 1059.31 Z\" fill=\"#000000\" fill-rule=\"evenodd\" fill-opacity=\"1\" /><path clip-path=\"url(#clip170)\" d=\"M 0 0 M107.552 1088.61 L112.436 1088.61 L112.436 1094.49 L107.552 1094.49 L107.552 1088.61 Z\" fill=\"#000000\" fill-rule=\"evenodd\" fill-opacity=\"1\" /><path clip-path=\"url(#clip170)\" d=\"M 0 0 M117.552 1059.93 L135.908 1059.93 L135.908 1063.87 L121.834 1063.87 L121.834 1072.34 Q122.853 1071.99 123.871 1071.83 Q124.89 1071.65 125.908 1071.65 Q131.695 1071.65 135.075 1074.82 Q138.455 1077.99 138.455 1083.4 Q138.455 1088.98 134.982 1092.08 Q131.51 1095.16 125.191 1095.16 Q123.015 1095.16 120.746 1094.79 Q118.501 1094.42 116.094 1093.68 L116.094 1088.98 Q118.177 1090.12 120.399 1090.67 Q122.621 1091.23 125.098 1091.23 Q129.103 1091.23 131.441 1089.12 Q133.779 1087.02 133.779 1083.4 Q133.779 1079.79 131.441 1077.69 Q129.103 1075.58 125.098 1075.58 Q123.223 1075.58 121.348 1076 Q119.496 1076.41 117.552 1077.29 L117.552 1059.93 Z\" fill=\"#000000\" fill-rule=\"evenodd\" fill-opacity=\"1\" /><path clip-path=\"url(#clip170)\" d=\"M 0 0 M89.5429 769.638 Q85.9318 769.638 84.1031 773.203 Q82.2976 776.745 82.2976 783.874 Q82.2976 790.981 84.1031 794.546 Q85.9318 798.087 89.5429 798.087 Q93.1771 798.087 94.9827 794.546 Q96.8114 790.981 96.8114 783.874 Q96.8114 776.745 94.9827 773.203 Q93.1771 769.638 89.5429 769.638 M89.5429 765.935 Q95.3531 765.935 98.4086 770.541 Q101.487 775.124 101.487 783.874 Q101.487 792.601 98.4086 797.208 Q95.3531 801.791 89.5429 801.791 Q83.7328 801.791 80.6541 797.208 Q77.5985 792.601 77.5985 783.874 Q77.5985 775.124 80.6541 770.541 Q83.7328 765.935 89.5429 765.935 Z\" fill=\"#000000\" fill-rule=\"evenodd\" fill-opacity=\"1\" /><path clip-path=\"url(#clip170)\" d=\"M 0 0 M106.557 795.24 L111.441 795.24 L111.441 801.12 L106.557 801.12 L106.557 795.24 Z\" fill=\"#000000\" fill-rule=\"evenodd\" fill-opacity=\"1\" /><path clip-path=\"url(#clip170)\" d=\"M 0 0 M126.51 769.638 Q122.899 769.638 121.071 773.203 Q119.265 776.745 119.265 783.874 Q119.265 790.981 121.071 794.546 Q122.899 798.087 126.51 798.087 Q130.145 798.087 131.95 794.546 Q133.779 790.981 133.779 783.874 Q133.779 776.745 131.95 773.203 Q130.145 769.638 126.51 769.638 M126.51 765.935 Q132.32 765.935 135.376 770.541 Q138.455 775.124 138.455 783.874 Q138.455 792.601 135.376 797.208 Q132.32 801.791 126.51 801.791 Q120.7 801.791 117.621 797.208 Q114.566 792.601 114.566 783.874 Q114.566 775.124 117.621 770.541 Q120.7 765.935 126.51 765.935 Z\" fill=\"#000000\" fill-rule=\"evenodd\" fill-opacity=\"1\" /><path clip-path=\"url(#clip170)\" d=\"M 0 0 M90.5383 476.266 Q86.9272 476.266 85.0985 479.831 Q83.2929 483.372 83.2929 490.502 Q83.2929 497.608 85.0985 501.173 Q86.9272 504.715 90.5383 504.715 Q94.1725 504.715 95.9781 501.173 Q97.8068 497.608 97.8068 490.502 Q97.8068 483.372 95.9781 479.831 Q94.1725 476.266 90.5383 476.266 M90.5383 472.562 Q96.3484 472.562 99.404 477.169 Q102.483 481.752 102.483 490.502 Q102.483 499.229 99.404 503.835 Q96.3484 508.418 90.5383 508.418 Q84.7281 508.418 81.6494 503.835 Q78.5939 499.229 78.5939 490.502 Q78.5939 481.752 81.6494 477.169 Q84.7281 472.562 90.5383 472.562 Z\" fill=\"#000000\" fill-rule=\"evenodd\" fill-opacity=\"1\" /><path clip-path=\"url(#clip170)\" d=\"M 0 0 M107.552 501.868 L112.436 501.868 L112.436 507.747 L107.552 507.747 L107.552 501.868 Z\" fill=\"#000000\" fill-rule=\"evenodd\" fill-opacity=\"1\" /><path clip-path=\"url(#clip170)\" d=\"M 0 0 M117.552 473.187 L135.908 473.187 L135.908 477.122 L121.834 477.122 L121.834 485.595 Q122.853 485.247 123.871 485.085 Q124.89 484.9 125.908 484.9 Q131.695 484.9 135.075 488.071 Q138.455 491.243 138.455 496.659 Q138.455 502.238 134.982 505.34 Q131.51 508.418 125.191 508.418 Q123.015 508.418 120.746 508.048 Q118.501 507.678 116.094 506.937 L116.094 502.238 Q118.177 503.372 120.399 503.928 Q122.621 504.483 125.098 504.483 Q129.103 504.483 131.441 502.377 Q133.779 500.27 133.779 496.659 Q133.779 493.048 131.441 490.942 Q129.103 488.835 125.098 488.835 Q123.223 488.835 121.348 489.252 Q119.496 489.669 117.552 490.548 L117.552 473.187 Z\" fill=\"#000000\" fill-rule=\"evenodd\" fill-opacity=\"1\" /><path clip-path=\"url(#clip170)\" d=\"M 0 0 M81.58 210.44 L89.2188 210.44 L89.2188 184.074 L80.9087 185.741 L80.9087 181.481 L89.1725 179.815 L93.8484 179.815 L93.8484 210.44 L101.487 210.44 L101.487 214.375 L81.58 214.375 L81.58 210.44 Z\" fill=\"#000000\" fill-rule=\"evenodd\" fill-opacity=\"1\" /><path clip-path=\"url(#clip170)\" d=\"M 0 0 M106.557 208.495 L111.441 208.495 L111.441 214.375 L106.557 214.375 L106.557 208.495 Z\" fill=\"#000000\" fill-rule=\"evenodd\" fill-opacity=\"1\" /><path clip-path=\"url(#clip170)\" d=\"M 0 0 M126.51 182.893 Q122.899 182.893 121.071 186.458 Q119.265 190 119.265 197.129 Q119.265 204.236 121.071 207.801 Q122.899 211.342 126.51 211.342 Q130.145 211.342 131.95 207.801 Q133.779 204.236 133.779 197.129 Q133.779 190 131.95 186.458 Q130.145 182.893 126.51 182.893 M126.51 179.19 Q132.32 179.19 135.376 183.796 Q138.455 188.379 138.455 197.129 Q138.455 205.856 135.376 210.463 Q132.32 215.046 126.51 215.046 Q120.7 215.046 117.621 210.463 Q114.566 205.856 114.566 197.129 Q114.566 188.379 117.621 183.796 Q120.7 179.19 126.51 179.19 Z\" fill=\"#000000\" fill-rule=\"evenodd\" fill-opacity=\"1\" /><circle clip-path=\"url(#clip172)\" cx=\"572.246\" cy=\"320.858\" r=\"14\" fill=\"#009af9\" fill-rule=\"evenodd\" fill-opacity=\"1\" stroke=\"#000000\" stroke-opacity=\"1\" stroke-width=\"3.2\"/>\n",
       "<circle clip-path=\"url(#clip172)\" cx=\"954.23\" cy=\"817.446\" r=\"14\" fill=\"#009af9\" fill-rule=\"evenodd\" fill-opacity=\"1\" stroke=\"#000000\" stroke-opacity=\"1\" stroke-width=\"3.2\"/>\n",
       "<circle clip-path=\"url(#clip172)\" cx=\"1359.23\" cy=\"1091.97\" r=\"14\" fill=\"#009af9\" fill-rule=\"evenodd\" fill-opacity=\"1\" stroke=\"#000000\" stroke-opacity=\"1\" stroke-width=\"3.2\"/>\n",
       "<circle clip-path=\"url(#clip172)\" cx=\"1369.68\" cy=\"1167.15\" r=\"14\" fill=\"#009af9\" fill-rule=\"evenodd\" fill-opacity=\"1\" stroke=\"#000000\" stroke-opacity=\"1\" stroke-width=\"3.2\"/>\n",
       "<circle clip-path=\"url(#clip172)\" cx=\"1608.73\" cy=\"445.169\" r=\"14\" fill=\"#009af9\" fill-rule=\"evenodd\" fill-opacity=\"1\" stroke=\"#000000\" stroke-opacity=\"1\" stroke-width=\"3.2\"/>\n",
       "<circle clip-path=\"url(#clip172)\" cx=\"329.897\" cy=\"571.482\" r=\"14\" fill=\"#009af9\" fill-rule=\"evenodd\" fill-opacity=\"1\" stroke=\"#000000\" stroke-opacity=\"1\" stroke-width=\"3.2\"/>\n",
       "<circle clip-path=\"url(#clip172)\" cx=\"657.384\" cy=\"428.697\" r=\"14\" fill=\"#009af9\" fill-rule=\"evenodd\" fill-opacity=\"1\" stroke=\"#000000\" stroke-opacity=\"1\" stroke-width=\"3.2\"/>\n",
       "<circle clip-path=\"url(#clip172)\" cx=\"304.176\" cy=\"586.072\" r=\"14\" fill=\"#009af9\" fill-rule=\"evenodd\" fill-opacity=\"1\" stroke=\"#000000\" stroke-opacity=\"1\" stroke-width=\"3.2\"/>\n",
       "<circle clip-path=\"url(#clip172)\" cx=\"1871.37\" cy=\"110.364\" r=\"14\" fill=\"#009af9\" fill-rule=\"evenodd\" fill-opacity=\"1\" stroke=\"#000000\" stroke-opacity=\"1\" stroke-width=\"3.2\"/>\n",
       "<circle clip-path=\"url(#clip172)\" cx=\"1824.9\" cy=\"265.516\" r=\"14\" fill=\"#009af9\" fill-rule=\"evenodd\" fill-opacity=\"1\" stroke=\"#000000\" stroke-opacity=\"1\" stroke-width=\"3.2\"/>\n",
       "<circle clip-path=\"url(#clip172)\" cx=\"1595.57\" cy=\"509.255\" r=\"14\" fill=\"#009af9\" fill-rule=\"evenodd\" fill-opacity=\"1\" stroke=\"#000000\" stroke-opacity=\"1\" stroke-width=\"3.2\"/>\n",
       "<circle clip-path=\"url(#clip172)\" cx=\"1516.62\" cy=\"1030.72\" r=\"14\" fill=\"#009af9\" fill-rule=\"evenodd\" fill-opacity=\"1\" stroke=\"#000000\" stroke-opacity=\"1\" stroke-width=\"3.2\"/>\n",
       "<circle clip-path=\"url(#clip172)\" cx=\"1116.3\" cy=\"1245.94\" r=\"14\" fill=\"#009af9\" fill-rule=\"evenodd\" fill-opacity=\"1\" stroke=\"#000000\" stroke-opacity=\"1\" stroke-width=\"3.2\"/>\n",
       "<circle clip-path=\"url(#clip172)\" cx=\"1350.53\" cy=\"1228.3\" r=\"14\" fill=\"#009af9\" fill-rule=\"evenodd\" fill-opacity=\"1\" stroke=\"#000000\" stroke-opacity=\"1\" stroke-width=\"3.2\"/>\n",
       "<circle clip-path=\"url(#clip172)\" cx=\"811.632\" cy=\"724.655\" r=\"14\" fill=\"#009af9\" fill-rule=\"evenodd\" fill-opacity=\"1\" stroke=\"#000000\" stroke-opacity=\"1\" stroke-width=\"3.2\"/>\n",
       "<circle clip-path=\"url(#clip172)\" cx=\"1372.9\" cy=\"1168.15\" r=\"14\" fill=\"#009af9\" fill-rule=\"evenodd\" fill-opacity=\"1\" stroke=\"#000000\" stroke-opacity=\"1\" stroke-width=\"3.2\"/>\n",
       "<circle clip-path=\"url(#clip172)\" cx=\"1488.44\" cy=\"913.969\" r=\"14\" fill=\"#009af9\" fill-rule=\"evenodd\" fill-opacity=\"1\" stroke=\"#000000\" stroke-opacity=\"1\" stroke-width=\"3.2\"/>\n",
       "<circle clip-path=\"url(#clip172)\" cx=\"1009.91\" cy=\"1138.53\" r=\"14\" fill=\"#009af9\" fill-rule=\"evenodd\" fill-opacity=\"1\" stroke=\"#000000\" stroke-opacity=\"1\" stroke-width=\"3.2\"/>\n",
       "<circle clip-path=\"url(#clip172)\" cx=\"667.294\" cy=\"378.127\" r=\"14\" fill=\"#009af9\" fill-rule=\"evenodd\" fill-opacity=\"1\" stroke=\"#000000\" stroke-opacity=\"1\" stroke-width=\"3.2\"/>\n",
       "<circle clip-path=\"url(#clip172)\" cx=\"899.684\" cy=\"996.728\" r=\"14\" fill=\"#009af9\" fill-rule=\"evenodd\" fill-opacity=\"1\" stroke=\"#000000\" stroke-opacity=\"1\" stroke-width=\"3.2\"/>\n",
       "<circle clip-path=\"url(#clip172)\" cx=\"585.12\" cy=\"241.628\" r=\"14\" fill=\"#009af9\" fill-rule=\"evenodd\" fill-opacity=\"1\" stroke=\"#000000\" stroke-opacity=\"1\" stroke-width=\"3.2\"/>\n",
       "<circle clip-path=\"url(#clip172)\" cx=\"980.867\" cy=\"1247.97\" r=\"14\" fill=\"#009af9\" fill-rule=\"evenodd\" fill-opacity=\"1\" stroke=\"#000000\" stroke-opacity=\"1\" stroke-width=\"3.2\"/>\n",
       "<circle clip-path=\"url(#clip172)\" cx=\"1641.71\" cy=\"359.665\" r=\"14\" fill=\"#009af9\" fill-rule=\"evenodd\" fill-opacity=\"1\" stroke=\"#000000\" stroke-opacity=\"1\" stroke-width=\"3.2\"/>\n",
       "<circle clip-path=\"url(#clip172)\" cx=\"1684.03\" cy=\"616.657\" r=\"14\" fill=\"#009af9\" fill-rule=\"evenodd\" fill-opacity=\"1\" stroke=\"#000000\" stroke-opacity=\"1\" stroke-width=\"3.2\"/>\n",
       "<circle clip-path=\"url(#clip172)\" cx=\"1952.09\" cy=\"374.776\" r=\"14\" fill=\"#009af9\" fill-rule=\"evenodd\" fill-opacity=\"1\" stroke=\"#000000\" stroke-opacity=\"1\" stroke-width=\"3.2\"/>\n",
       "<circle clip-path=\"url(#clip172)\" cx=\"903.752\" cy=\"983.016\" r=\"14\" fill=\"#009af9\" fill-rule=\"evenodd\" fill-opacity=\"1\" stroke=\"#000000\" stroke-opacity=\"1\" stroke-width=\"3.2\"/>\n",
       "<circle clip-path=\"url(#clip172)\" cx=\"1912.82\" cy=\"309.853\" r=\"14\" fill=\"#009af9\" fill-rule=\"evenodd\" fill-opacity=\"1\" stroke=\"#000000\" stroke-opacity=\"1\" stroke-width=\"3.2\"/>\n",
       "<circle clip-path=\"url(#clip172)\" cx=\"1398.5\" cy=\"1098.92\" r=\"14\" fill=\"#009af9\" fill-rule=\"evenodd\" fill-opacity=\"1\" stroke=\"#000000\" stroke-opacity=\"1\" stroke-width=\"3.2\"/>\n",
       "<circle clip-path=\"url(#clip172)\" cx=\"2037.61\" cy=\"401.929\" r=\"14\" fill=\"#009af9\" fill-rule=\"evenodd\" fill-opacity=\"1\" stroke=\"#000000\" stroke-opacity=\"1\" stroke-width=\"3.2\"/>\n",
       "<circle clip-path=\"url(#clip172)\" cx=\"1459.71\" cy=\"897.4\" r=\"14\" fill=\"#009af9\" fill-rule=\"evenodd\" fill-opacity=\"1\" stroke=\"#000000\" stroke-opacity=\"1\" stroke-width=\"3.2\"/>\n",
       "<circle clip-path=\"url(#clip172)\" cx=\"927.56\" cy=\"1071.45\" r=\"14\" fill=\"#009af9\" fill-rule=\"evenodd\" fill-opacity=\"1\" stroke=\"#000000\" stroke-opacity=\"1\" stroke-width=\"3.2\"/>\n",
       "<circle clip-path=\"url(#clip172)\" cx=\"368.802\" cy=\"427.226\" r=\"14\" fill=\"#009af9\" fill-rule=\"evenodd\" fill-opacity=\"1\" stroke=\"#000000\" stroke-opacity=\"1\" stroke-width=\"3.2\"/>\n",
       "<circle clip-path=\"url(#clip172)\" cx=\"1893.97\" cy=\"186.192\" r=\"14\" fill=\"#009af9\" fill-rule=\"evenodd\" fill-opacity=\"1\" stroke=\"#000000\" stroke-opacity=\"1\" stroke-width=\"3.2\"/>\n",
       "<circle clip-path=\"url(#clip172)\" cx=\"2054.46\" cy=\"376.032\" r=\"14\" fill=\"#009af9\" fill-rule=\"evenodd\" fill-opacity=\"1\" stroke=\"#000000\" stroke-opacity=\"1\" stroke-width=\"3.2\"/>\n",
       "<circle clip-path=\"url(#clip172)\" cx=\"1080.69\" cy=\"1210.4\" r=\"14\" fill=\"#009af9\" fill-rule=\"evenodd\" fill-opacity=\"1\" stroke=\"#000000\" stroke-opacity=\"1\" stroke-width=\"3.2\"/>\n",
       "<circle clip-path=\"url(#clip172)\" cx=\"398.582\" cy=\"286.256\" r=\"14\" fill=\"#009af9\" fill-rule=\"evenodd\" fill-opacity=\"1\" stroke=\"#000000\" stroke-opacity=\"1\" stroke-width=\"3.2\"/>\n",
       "<circle clip-path=\"url(#clip172)\" cx=\"721.533\" cy=\"624.893\" r=\"14\" fill=\"#009af9\" fill-rule=\"evenodd\" fill-opacity=\"1\" stroke=\"#000000\" stroke-opacity=\"1\" stroke-width=\"3.2\"/>\n",
       "<circle clip-path=\"url(#clip172)\" cx=\"1456.88\" cy=\"798.497\" r=\"14\" fill=\"#009af9\" fill-rule=\"evenodd\" fill-opacity=\"1\" stroke=\"#000000\" stroke-opacity=\"1\" stroke-width=\"3.2\"/>\n",
       "<circle clip-path=\"url(#clip172)\" cx=\"1085.16\" cy=\"1348.82\" r=\"14\" fill=\"#009af9\" fill-rule=\"evenodd\" fill-opacity=\"1\" stroke=\"#000000\" stroke-opacity=\"1\" stroke-width=\"3.2\"/>\n",
       "<circle clip-path=\"url(#clip172)\" cx=\"1882.34\" cy=\"180.448\" r=\"14\" fill=\"#009af9\" fill-rule=\"evenodd\" fill-opacity=\"1\" stroke=\"#000000\" stroke-opacity=\"1\" stroke-width=\"3.2\"/>\n",
       "<circle clip-path=\"url(#clip172)\" cx=\"1347.44\" cy=\"816.377\" r=\"14\" fill=\"#009af9\" fill-rule=\"evenodd\" fill-opacity=\"1\" stroke=\"#000000\" stroke-opacity=\"1\" stroke-width=\"3.2\"/>\n",
       "<circle clip-path=\"url(#clip172)\" cx=\"745.881\" cy=\"465.727\" r=\"14\" fill=\"#009af9\" fill-rule=\"evenodd\" fill-opacity=\"1\" stroke=\"#000000\" stroke-opacity=\"1\" stroke-width=\"3.2\"/>\n",
       "<circle clip-path=\"url(#clip172)\" cx=\"1562.98\" cy=\"501.896\" r=\"14\" fill=\"#009af9\" fill-rule=\"evenodd\" fill-opacity=\"1\" stroke=\"#000000\" stroke-opacity=\"1\" stroke-width=\"3.2\"/>\n",
       "<circle clip-path=\"url(#clip172)\" cx=\"1635.59\" cy=\"691.836\" r=\"14\" fill=\"#009af9\" fill-rule=\"evenodd\" fill-opacity=\"1\" stroke=\"#000000\" stroke-opacity=\"1\" stroke-width=\"3.2\"/>\n",
       "<circle clip-path=\"url(#clip172)\" cx=\"1290.47\" cy=\"1349.02\" r=\"14\" fill=\"#009af9\" fill-rule=\"evenodd\" fill-opacity=\"1\" stroke=\"#000000\" stroke-opacity=\"1\" stroke-width=\"3.2\"/>\n",
       "<circle clip-path=\"url(#clip172)\" cx=\"2153.97\" cy=\"721.054\" r=\"14\" fill=\"#009af9\" fill-rule=\"evenodd\" fill-opacity=\"1\" stroke=\"#000000\" stroke-opacity=\"1\" stroke-width=\"3.2\"/>\n",
       "<circle clip-path=\"url(#clip172)\" cx=\"2073.28\" cy=\"369.349\" r=\"14\" fill=\"#009af9\" fill-rule=\"evenodd\" fill-opacity=\"1\" stroke=\"#000000\" stroke-opacity=\"1\" stroke-width=\"3.2\"/>\n",
       "<circle clip-path=\"url(#clip172)\" cx=\"953.923\" cy=\"1047.76\" r=\"14\" fill=\"#009af9\" fill-rule=\"evenodd\" fill-opacity=\"1\" stroke=\"#000000\" stroke-opacity=\"1\" stroke-width=\"3.2\"/>\n",
       "<circle clip-path=\"url(#clip172)\" cx=\"2030.43\" cy=\"638.413\" r=\"14\" fill=\"#009af9\" fill-rule=\"evenodd\" fill-opacity=\"1\" stroke=\"#000000\" stroke-opacity=\"1\" stroke-width=\"3.2\"/>\n",
       "<circle clip-path=\"url(#clip172)\" cx=\"2288.08\" cy=\"1083\" r=\"14\" fill=\"#009af9\" fill-rule=\"evenodd\" fill-opacity=\"1\" stroke=\"#000000\" stroke-opacity=\"1\" stroke-width=\"3.2\"/>\n",
       "<circle clip-path=\"url(#clip172)\" cx=\"1914.33\" cy=\"130.372\" r=\"14\" fill=\"#009af9\" fill-rule=\"evenodd\" fill-opacity=\"1\" stroke=\"#000000\" stroke-opacity=\"1\" stroke-width=\"3.2\"/>\n",
       "<circle clip-path=\"url(#clip172)\" cx=\"1990.19\" cy=\"355.463\" r=\"14\" fill=\"#009af9\" fill-rule=\"evenodd\" fill-opacity=\"1\" stroke=\"#000000\" stroke-opacity=\"1\" stroke-width=\"3.2\"/>\n",
       "<circle clip-path=\"url(#clip172)\" cx=\"2201.33\" cy=\"580.806\" r=\"14\" fill=\"#009af9\" fill-rule=\"evenodd\" fill-opacity=\"1\" stroke=\"#000000\" stroke-opacity=\"1\" stroke-width=\"3.2\"/>\n",
       "<circle clip-path=\"url(#clip172)\" cx=\"1520.98\" cy=\"948.816\" r=\"14\" fill=\"#009af9\" fill-rule=\"evenodd\" fill-opacity=\"1\" stroke=\"#000000\" stroke-opacity=\"1\" stroke-width=\"3.2\"/>\n",
       "<circle clip-path=\"url(#clip172)\" cx=\"1350.15\" cy=\"1297.9\" r=\"14\" fill=\"#009af9\" fill-rule=\"evenodd\" fill-opacity=\"1\" stroke=\"#000000\" stroke-opacity=\"1\" stroke-width=\"3.2\"/>\n",
       "<circle clip-path=\"url(#clip172)\" cx=\"228.291\" cy=\"474.966\" r=\"14\" fill=\"#009af9\" fill-rule=\"evenodd\" fill-opacity=\"1\" stroke=\"#000000\" stroke-opacity=\"1\" stroke-width=\"3.2\"/>\n",
       "<circle clip-path=\"url(#clip172)\" cx=\"506.24\" cy=\"168.522\" r=\"14\" fill=\"#009af9\" fill-rule=\"evenodd\" fill-opacity=\"1\" stroke=\"#000000\" stroke-opacity=\"1\" stroke-width=\"3.2\"/>\n",
       "<circle clip-path=\"url(#clip172)\" cx=\"1651.46\" cy=\"451.465\" r=\"14\" fill=\"#009af9\" fill-rule=\"evenodd\" fill-opacity=\"1\" stroke=\"#000000\" stroke-opacity=\"1\" stroke-width=\"3.2\"/>\n",
       "<circle clip-path=\"url(#clip172)\" cx=\"347.295\" cy=\"597.697\" r=\"14\" fill=\"#009af9\" fill-rule=\"evenodd\" fill-opacity=\"1\" stroke=\"#000000\" stroke-opacity=\"1\" stroke-width=\"3.2\"/>\n",
       "<circle clip-path=\"url(#clip172)\" cx=\"391.826\" cy=\"386.269\" r=\"14\" fill=\"#009af9\" fill-rule=\"evenodd\" fill-opacity=\"1\" stroke=\"#000000\" stroke-opacity=\"1\" stroke-width=\"3.2\"/>\n",
       "<circle clip-path=\"url(#clip172)\" cx=\"1946.02\" cy=\"295.743\" r=\"14\" fill=\"#009af9\" fill-rule=\"evenodd\" fill-opacity=\"1\" stroke=\"#000000\" stroke-opacity=\"1\" stroke-width=\"3.2\"/>\n",
       "<circle clip-path=\"url(#clip172)\" cx=\"812.747\" cy=\"721.382\" r=\"14\" fill=\"#009af9\" fill-rule=\"evenodd\" fill-opacity=\"1\" stroke=\"#000000\" stroke-opacity=\"1\" stroke-width=\"3.2\"/>\n",
       "<circle clip-path=\"url(#clip172)\" cx=\"1534.79\" cy=\"757.771\" r=\"14\" fill=\"#009af9\" fill-rule=\"evenodd\" fill-opacity=\"1\" stroke=\"#000000\" stroke-opacity=\"1\" stroke-width=\"3.2\"/>\n",
       "<circle clip-path=\"url(#clip172)\" cx=\"1979.06\" cy=\"151.951\" r=\"14\" fill=\"#009af9\" fill-rule=\"evenodd\" fill-opacity=\"1\" stroke=\"#000000\" stroke-opacity=\"1\" stroke-width=\"3.2\"/>\n",
       "<circle clip-path=\"url(#clip172)\" cx=\"1605.64\" cy=\"602.085\" r=\"14\" fill=\"#009af9\" fill-rule=\"evenodd\" fill-opacity=\"1\" stroke=\"#000000\" stroke-opacity=\"1\" stroke-width=\"3.2\"/>\n",
       "<circle clip-path=\"url(#clip172)\" cx=\"671.07\" cy=\"217.192\" r=\"14\" fill=\"#009af9\" fill-rule=\"evenodd\" fill-opacity=\"1\" stroke=\"#000000\" stroke-opacity=\"1\" stroke-width=\"3.2\"/>\n",
       "<circle clip-path=\"url(#clip172)\" cx=\"1645.31\" cy=\"468.886\" r=\"14\" fill=\"#009af9\" fill-rule=\"evenodd\" fill-opacity=\"1\" stroke=\"#000000\" stroke-opacity=\"1\" stroke-width=\"3.2\"/>\n",
       "<circle clip-path=\"url(#clip172)\" cx=\"694.884\" cy=\"451.424\" r=\"14\" fill=\"#009af9\" fill-rule=\"evenodd\" fill-opacity=\"1\" stroke=\"#000000\" stroke-opacity=\"1\" stroke-width=\"3.2\"/>\n",
       "<circle clip-path=\"url(#clip172)\" cx=\"1926.25\" cy=\"248.57\" r=\"14\" fill=\"#009af9\" fill-rule=\"evenodd\" fill-opacity=\"1\" stroke=\"#000000\" stroke-opacity=\"1\" stroke-width=\"3.2\"/>\n",
       "<circle clip-path=\"url(#clip172)\" cx=\"921.99\" cy=\"1095.36\" r=\"14\" fill=\"#009af9\" fill-rule=\"evenodd\" fill-opacity=\"1\" stroke=\"#000000\" stroke-opacity=\"1\" stroke-width=\"3.2\"/>\n",
       "<circle clip-path=\"url(#clip172)\" cx=\"1266.56\" cy=\"1386.54\" r=\"14\" fill=\"#009af9\" fill-rule=\"evenodd\" fill-opacity=\"1\" stroke=\"#000000\" stroke-opacity=\"1\" stroke-width=\"3.2\"/>\n",
       "<circle clip-path=\"url(#clip172)\" cx=\"2019.26\" cy=\"557.776\" r=\"14\" fill=\"#009af9\" fill-rule=\"evenodd\" fill-opacity=\"1\" stroke=\"#000000\" stroke-opacity=\"1\" stroke-width=\"3.2\"/>\n",
       "<circle clip-path=\"url(#clip172)\" cx=\"1784.19\" cy=\"165.095\" r=\"14\" fill=\"#009af9\" fill-rule=\"evenodd\" fill-opacity=\"1\" stroke=\"#000000\" stroke-opacity=\"1\" stroke-width=\"3.2\"/>\n",
       "<circle clip-path=\"url(#clip172)\" cx=\"1303.72\" cy=\"1036.27\" r=\"14\" fill=\"#009af9\" fill-rule=\"evenodd\" fill-opacity=\"1\" stroke=\"#000000\" stroke-opacity=\"1\" stroke-width=\"3.2\"/>\n",
       "<circle clip-path=\"url(#clip172)\" cx=\"1358.97\" cy=\"871.215\" r=\"14\" fill=\"#009af9\" fill-rule=\"evenodd\" fill-opacity=\"1\" stroke=\"#000000\" stroke-opacity=\"1\" stroke-width=\"3.2\"/>\n",
       "<circle clip-path=\"url(#clip172)\" cx=\"1490.03\" cy=\"840.227\" r=\"14\" fill=\"#009af9\" fill-rule=\"evenodd\" fill-opacity=\"1\" stroke=\"#000000\" stroke-opacity=\"1\" stroke-width=\"3.2\"/>\n",
       "<circle clip-path=\"url(#clip172)\" cx=\"674.458\" cy=\"162.956\" r=\"14\" fill=\"#009af9\" fill-rule=\"evenodd\" fill-opacity=\"1\" stroke=\"#000000\" stroke-opacity=\"1\" stroke-width=\"3.2\"/>\n",
       "<circle clip-path=\"url(#clip172)\" cx=\"810.726\" cy=\"690.227\" r=\"14\" fill=\"#009af9\" fill-rule=\"evenodd\" fill-opacity=\"1\" stroke=\"#000000\" stroke-opacity=\"1\" stroke-width=\"3.2\"/>\n",
       "<circle clip-path=\"url(#clip172)\" cx=\"2148.33\" cy=\"739.044\" r=\"14\" fill=\"#009af9\" fill-rule=\"evenodd\" fill-opacity=\"1\" stroke=\"#000000\" stroke-opacity=\"1\" stroke-width=\"3.2\"/>\n",
       "<circle clip-path=\"url(#clip172)\" cx=\"415.127\" cy=\"348.387\" r=\"14\" fill=\"#009af9\" fill-rule=\"evenodd\" fill-opacity=\"1\" stroke=\"#000000\" stroke-opacity=\"1\" stroke-width=\"3.2\"/>\n",
       "<circle clip-path=\"url(#clip172)\" cx=\"1273.16\" cy=\"1445.72\" r=\"14\" fill=\"#009af9\" fill-rule=\"evenodd\" fill-opacity=\"1\" stroke=\"#000000\" stroke-opacity=\"1\" stroke-width=\"3.2\"/>\n",
       "<circle clip-path=\"url(#clip172)\" cx=\"251.34\" cy=\"796.091\" r=\"14\" fill=\"#009af9\" fill-rule=\"evenodd\" fill-opacity=\"1\" stroke=\"#000000\" stroke-opacity=\"1\" stroke-width=\"3.2\"/>\n",
       "<circle clip-path=\"url(#clip172)\" cx=\"273.027\" cy=\"822.364\" r=\"14\" fill=\"#009af9\" fill-rule=\"evenodd\" fill-opacity=\"1\" stroke=\"#000000\" stroke-opacity=\"1\" stroke-width=\"3.2\"/>\n",
       "<circle clip-path=\"url(#clip172)\" cx=\"1922.35\" cy=\"87.9763\" r=\"14\" fill=\"#009af9\" fill-rule=\"evenodd\" fill-opacity=\"1\" stroke=\"#000000\" stroke-opacity=\"1\" stroke-width=\"3.2\"/>\n",
       "<circle clip-path=\"url(#clip172)\" cx=\"1749.99\" cy=\"441.06\" r=\"14\" fill=\"#009af9\" fill-rule=\"evenodd\" fill-opacity=\"1\" stroke=\"#000000\" stroke-opacity=\"1\" stroke-width=\"3.2\"/>\n",
       "<circle clip-path=\"url(#clip172)\" cx=\"1034.6\" cy=\"1177.99\" r=\"14\" fill=\"#009af9\" fill-rule=\"evenodd\" fill-opacity=\"1\" stroke=\"#000000\" stroke-opacity=\"1\" stroke-width=\"3.2\"/>\n",
       "<circle clip-path=\"url(#clip172)\" cx=\"1765.66\" cy=\"553.898\" r=\"14\" fill=\"#009af9\" fill-rule=\"evenodd\" fill-opacity=\"1\" stroke=\"#000000\" stroke-opacity=\"1\" stroke-width=\"3.2\"/>\n",
       "<circle clip-path=\"url(#clip172)\" cx=\"1012.51\" cy=\"1252.22\" r=\"14\" fill=\"#009af9\" fill-rule=\"evenodd\" fill-opacity=\"1\" stroke=\"#000000\" stroke-opacity=\"1\" stroke-width=\"3.2\"/>\n",
       "<circle clip-path=\"url(#clip172)\" cx=\"1076.92\" cy=\"1166.78\" r=\"14\" fill=\"#009af9\" fill-rule=\"evenodd\" fill-opacity=\"1\" stroke=\"#000000\" stroke-opacity=\"1\" stroke-width=\"3.2\"/>\n",
       "<circle clip-path=\"url(#clip172)\" cx=\"2036.05\" cy=\"521.587\" r=\"14\" fill=\"#009af9\" fill-rule=\"evenodd\" fill-opacity=\"1\" stroke=\"#000000\" stroke-opacity=\"1\" stroke-width=\"3.2\"/>\n",
       "<circle clip-path=\"url(#clip172)\" cx=\"504.602\" cy=\"192.432\" r=\"14\" fill=\"#009af9\" fill-rule=\"evenodd\" fill-opacity=\"1\" stroke=\"#000000\" stroke-opacity=\"1\" stroke-width=\"3.2\"/>\n",
       "<circle clip-path=\"url(#clip172)\" cx=\"1728.66\" cy=\"249.126\" r=\"14\" fill=\"#009af9\" fill-rule=\"evenodd\" fill-opacity=\"1\" stroke=\"#000000\" stroke-opacity=\"1\" stroke-width=\"3.2\"/>\n",
       "<circle clip-path=\"url(#clip172)\" cx=\"1448.04\" cy=\"974.81\" r=\"14\" fill=\"#009af9\" fill-rule=\"evenodd\" fill-opacity=\"1\" stroke=\"#000000\" stroke-opacity=\"1\" stroke-width=\"3.2\"/>\n",
       "<circle clip-path=\"url(#clip172)\" cx=\"397.907\" cy=\"154.44\" r=\"14\" fill=\"#009af9\" fill-rule=\"evenodd\" fill-opacity=\"1\" stroke=\"#000000\" stroke-opacity=\"1\" stroke-width=\"3.2\"/>\n",
       "<circle clip-path=\"url(#clip172)\" cx=\"1569.99\" cy=\"515.354\" r=\"14\" fill=\"#009af9\" fill-rule=\"evenodd\" fill-opacity=\"1\" stroke=\"#000000\" stroke-opacity=\"1\" stroke-width=\"3.2\"/>\n",
       "<circle clip-path=\"url(#clip172)\" cx=\"1682.66\" cy=\"444.197\" r=\"14\" fill=\"#009af9\" fill-rule=\"evenodd\" fill-opacity=\"1\" stroke=\"#000000\" stroke-opacity=\"1\" stroke-width=\"3.2\"/>\n",
       "<circle clip-path=\"url(#clip172)\" cx=\"1560.92\" cy=\"580.362\" r=\"14\" fill=\"#009af9\" fill-rule=\"evenodd\" fill-opacity=\"1\" stroke=\"#000000\" stroke-opacity=\"1\" stroke-width=\"3.2\"/>\n",
       "<circle clip-path=\"url(#clip172)\" cx=\"2273.13\" cy=\"1208.01\" r=\"14\" fill=\"#009af9\" fill-rule=\"evenodd\" fill-opacity=\"1\" stroke=\"#000000\" stroke-opacity=\"1\" stroke-width=\"3.2\"/>\n",
       "<circle clip-path=\"url(#clip172)\" cx=\"1443.92\" cy=\"1028.14\" r=\"14\" fill=\"#009af9\" fill-rule=\"evenodd\" fill-opacity=\"1\" stroke=\"#000000\" stroke-opacity=\"1\" stroke-width=\"3.2\"/>\n",
       "<circle clip-path=\"url(#clip172)\" cx=\"334.1\" cy=\"357.525\" r=\"14\" fill=\"#009af9\" fill-rule=\"evenodd\" fill-opacity=\"1\" stroke=\"#000000\" stroke-opacity=\"1\" stroke-width=\"3.2\"/>\n",
       "<polyline clip-path=\"url(#clip172)\" style=\"stroke:#e26f46; stroke-width:4; stroke-opacity:1; fill:none\" points=\"\n",
       "  224.444,320.995 245.108,343.866 265.771,366.245 286.434,388.133 307.097,409.529 327.76,430.433 348.424,450.846 369.087,470.767 389.75,490.196 410.413,509.133 \n",
       "  431.077,527.579 451.74,545.533 472.403,562.996 493.066,579.967 513.729,596.446 534.393,612.433 555.056,627.929 575.719,642.933 596.382,657.445 617.046,671.466 \n",
       "  637.709,684.995 658.372,698.032 679.035,710.578 699.698,722.632 720.362,734.194 741.025,745.264 761.688,755.843 782.351,765.93 803.014,775.526 823.678,784.63 \n",
       "  844.341,793.242 865.004,801.362 885.667,808.991 906.331,816.128 926.994,822.773 947.657,828.927 968.32,834.589 988.983,839.759 1009.65,844.438 1030.31,848.625 \n",
       "  1050.97,852.32 1071.64,855.524 1092.3,858.235 1112.96,860.456 1133.63,862.184 1154.29,863.421 1174.95,864.166 1195.62,864.419 1216.28,864.181 1236.94,863.451 \n",
       "  1257.61,862.23 1278.27,860.516 1298.93,858.311 1319.59,855.615 1340.26,852.426 1360.92,848.746 1381.58,844.574 1402.25,839.911 1422.91,834.756 1443.57,829.109 \n",
       "  1464.24,822.971 1484.9,816.34 1505.56,809.219 1526.23,801.605 1546.89,793.5 1567.55,784.903 1588.22,775.814 1608.88,766.234 1629.54,756.162 1650.21,745.598 \n",
       "  1670.87,734.543 1691.53,722.996 1712.2,710.957 1732.86,698.427 1753.52,685.404 1774.19,671.891 1794.85,657.885 1815.51,643.388 1836.18,628.399 1856.84,612.919 \n",
       "  1877.5,596.946 1898.17,580.482 1918.83,563.527 1939.49,546.079 1960.15,528.14 1980.82,509.71 2001.48,490.787 2022.14,471.373 2042.81,451.468 2063.47,431.07 \n",
       "  2084.13,410.181 2104.8,388.8 2125.46,366.928 2146.12,344.564 2166.79,321.708 2187.45,298.36 2208.11,274.521 2228.78,250.19 2249.44,225.368 2270.1,200.053 \n",
       "  2290.77,174.247 \n",
       "  \"/>\n",
       "</svg>\n"
      ]
     },
     "execution_count": 86,
     "metadata": {},
     "output_type": "execute_result"
    }
   ],
   "source": [
    "scatter(x,y, legend=false)\n",
    "plot!(0:0.1:10, x->sum(w[i]*x^(i-1) for i in eachindex(w)))"
   ]
  },
  {
   "cell_type": "markdown",
   "metadata": {},
   "source": [
    "We can now write very concise code to fitting any $n$ order polynomial"
   ]
  },
  {
   "cell_type": "code",
   "execution_count": 87,
   "metadata": {},
   "outputs": [
    {
     "data": {
      "text/plain": [
       "6-element Array{Float64,1}:\n",
       " -0.421364279985419\n",
       "  2.9298782580878844\n",
       " -1.8412021262235392\n",
       "  0.3874323068530052\n",
       " -0.03210588694967306\n",
       "  0.0008805531921161098"
      ]
     },
     "execution_count": 87,
     "metadata": {},
     "output_type": "execute_result"
    }
   ],
   "source": [
    "n=5\n",
    "w=hcat(ones(length(x)), [x.^i for i=1:n]...)\\y"
   ]
  },
  {
   "cell_type": "code",
   "execution_count": 88,
   "metadata": {},
   "outputs": [
    {
     "data": {
      "image/svg+xml": [
       "<?xml version=\"1.0\" encoding=\"utf-8\"?>\n",
       "<svg xmlns=\"http://www.w3.org/2000/svg\" xmlns:xlink=\"http://www.w3.org/1999/xlink\" width=\"600\" height=\"400\" viewBox=\"0 0 2400 1600\">\n",
       "<defs>\n",
       "  <clipPath id=\"clip210\">\n",
       "    <rect x=\"0\" y=\"0\" width=\"2400\" height=\"1600\"/>\n",
       "  </clipPath>\n",
       "</defs>\n",
       "<path clip-path=\"url(#clip210)\" d=\"\n",
       "M0 1600 L2400 1600 L2400 0 L0 0  Z\n",
       "  \" fill=\"#ffffff\" fill-rule=\"evenodd\" fill-opacity=\"1\"/>\n",
       "<defs>\n",
       "  <clipPath id=\"clip211\">\n",
       "    <rect x=\"480\" y=\"0\" width=\"1681\" height=\"1600\"/>\n",
       "  </clipPath>\n",
       "</defs>\n",
       "<path clip-path=\"url(#clip210)\" d=\"\n",
       "M162.455 1486.45 L2352.76 1486.45 L2352.76 47.2441 L162.455 47.2441  Z\n",
       "  \" fill=\"#ffffff\" fill-rule=\"evenodd\" fill-opacity=\"1\"/>\n",
       "<defs>\n",
       "  <clipPath id=\"clip212\">\n",
       "    <rect x=\"162\" y=\"47\" width=\"2191\" height=\"1440\"/>\n",
       "  </clipPath>\n",
       "</defs>\n",
       "<polyline clip-path=\"url(#clip212)\" style=\"stroke:#000000; stroke-width:2; stroke-opacity:0.1; fill:none\" points=\"\n",
       "  224.444,1486.45 224.444,47.2441 \n",
       "  \"/>\n",
       "<polyline clip-path=\"url(#clip212)\" style=\"stroke:#000000; stroke-width:2; stroke-opacity:0.1; fill:none\" points=\"\n",
       "  741.025,1486.45 741.025,47.2441 \n",
       "  \"/>\n",
       "<polyline clip-path=\"url(#clip212)\" style=\"stroke:#000000; stroke-width:2; stroke-opacity:0.1; fill:none\" points=\"\n",
       "  1257.61,1486.45 1257.61,47.2441 \n",
       "  \"/>\n",
       "<polyline clip-path=\"url(#clip212)\" style=\"stroke:#000000; stroke-width:2; stroke-opacity:0.1; fill:none\" points=\"\n",
       "  1774.19,1486.45 1774.19,47.2441 \n",
       "  \"/>\n",
       "<polyline clip-path=\"url(#clip212)\" style=\"stroke:#000000; stroke-width:2; stroke-opacity:0.1; fill:none\" points=\"\n",
       "  2290.77,1486.45 2290.77,47.2441 \n",
       "  \"/>\n",
       "<polyline clip-path=\"url(#clip212)\" style=\"stroke:#000000; stroke-width:2; stroke-opacity:0.1; fill:none\" points=\"\n",
       "  162.455,1370.58 2352.76,1370.58 \n",
       "  \"/>\n",
       "<polyline clip-path=\"url(#clip212)\" style=\"stroke:#000000; stroke-width:2; stroke-opacity:0.1; fill:none\" points=\"\n",
       "  162.455,1077.21 2352.76,1077.21 \n",
       "  \"/>\n",
       "<polyline clip-path=\"url(#clip212)\" style=\"stroke:#000000; stroke-width:2; stroke-opacity:0.1; fill:none\" points=\"\n",
       "  162.455,783.84 2352.76,783.84 \n",
       "  \"/>\n",
       "<polyline clip-path=\"url(#clip212)\" style=\"stroke:#000000; stroke-width:2; stroke-opacity:0.1; fill:none\" points=\"\n",
       "  162.455,490.467 2352.76,490.467 \n",
       "  \"/>\n",
       "<polyline clip-path=\"url(#clip212)\" style=\"stroke:#000000; stroke-width:2; stroke-opacity:0.1; fill:none\" points=\"\n",
       "  162.455,197.095 2352.76,197.095 \n",
       "  \"/>\n",
       "<polyline clip-path=\"url(#clip210)\" style=\"stroke:#000000; stroke-width:4; stroke-opacity:1; fill:none\" points=\"\n",
       "  162.455,1486.45 2352.76,1486.45 \n",
       "  \"/>\n",
       "<polyline clip-path=\"url(#clip210)\" style=\"stroke:#000000; stroke-width:4; stroke-opacity:1; fill:none\" points=\"\n",
       "  162.455,1486.45 162.455,47.2441 \n",
       "  \"/>\n",
       "<polyline clip-path=\"url(#clip210)\" style=\"stroke:#000000; stroke-width:4; stroke-opacity:1; fill:none\" points=\"\n",
       "  224.444,1486.45 224.444,1469.18 \n",
       "  \"/>\n",
       "<polyline clip-path=\"url(#clip210)\" style=\"stroke:#000000; stroke-width:4; stroke-opacity:1; fill:none\" points=\"\n",
       "  741.025,1486.45 741.025,1469.18 \n",
       "  \"/>\n",
       "<polyline clip-path=\"url(#clip210)\" style=\"stroke:#000000; stroke-width:4; stroke-opacity:1; fill:none\" points=\"\n",
       "  1257.61,1486.45 1257.61,1469.18 \n",
       "  \"/>\n",
       "<polyline clip-path=\"url(#clip210)\" style=\"stroke:#000000; stroke-width:4; stroke-opacity:1; fill:none\" points=\"\n",
       "  1774.19,1486.45 1774.19,1469.18 \n",
       "  \"/>\n",
       "<polyline clip-path=\"url(#clip210)\" style=\"stroke:#000000; stroke-width:4; stroke-opacity:1; fill:none\" points=\"\n",
       "  2290.77,1486.45 2290.77,1469.18 \n",
       "  \"/>\n",
       "<polyline clip-path=\"url(#clip210)\" style=\"stroke:#000000; stroke-width:4; stroke-opacity:1; fill:none\" points=\"\n",
       "  162.455,1370.58 188.738,1370.58 \n",
       "  \"/>\n",
       "<polyline clip-path=\"url(#clip210)\" style=\"stroke:#000000; stroke-width:4; stroke-opacity:1; fill:none\" points=\"\n",
       "  162.455,1077.21 188.738,1077.21 \n",
       "  \"/>\n",
       "<polyline clip-path=\"url(#clip210)\" style=\"stroke:#000000; stroke-width:4; stroke-opacity:1; fill:none\" points=\"\n",
       "  162.455,783.84 188.738,783.84 \n",
       "  \"/>\n",
       "<polyline clip-path=\"url(#clip210)\" style=\"stroke:#000000; stroke-width:4; stroke-opacity:1; fill:none\" points=\"\n",
       "  162.455,490.467 188.738,490.467 \n",
       "  \"/>\n",
       "<polyline clip-path=\"url(#clip210)\" style=\"stroke:#000000; stroke-width:4; stroke-opacity:1; fill:none\" points=\"\n",
       "  162.455,197.095 188.738,197.095 \n",
       "  \"/>\n",
       "<path clip-path=\"url(#clip210)\" d=\"M 0 0 M205.961 1508.44 Q202.35 1508.44 200.521 1512 Q198.715 1515.55 198.715 1522.67 Q198.715 1529.78 200.521 1533.35 Q202.35 1536.89 205.961 1536.89 Q209.595 1536.89 211.4 1533.35 Q213.229 1529.78 213.229 1522.67 Q213.229 1515.55 211.4 1512 Q209.595 1508.44 205.961 1508.44 M205.961 1504.73 Q211.771 1504.73 214.826 1509.34 Q217.905 1513.92 217.905 1522.67 Q217.905 1531.4 214.826 1536.01 Q211.771 1540.59 205.961 1540.59 Q200.15 1540.59 197.072 1536.01 Q194.016 1531.4 194.016 1522.67 Q194.016 1513.92 197.072 1509.34 Q200.15 1504.73 205.961 1504.73 Z\" fill=\"#000000\" fill-rule=\"evenodd\" fill-opacity=\"1\" /><path clip-path=\"url(#clip210)\" d=\"M 0 0 M222.974 1534.04 L227.859 1534.04 L227.859 1539.92 L222.974 1539.92 L222.974 1534.04 Z\" fill=\"#000000\" fill-rule=\"evenodd\" fill-opacity=\"1\" /><path clip-path=\"url(#clip210)\" d=\"M 0 0 M242.928 1508.44 Q239.317 1508.44 237.488 1512 Q235.683 1515.55 235.683 1522.67 Q235.683 1529.78 237.488 1533.35 Q239.317 1536.89 242.928 1536.89 Q246.562 1536.89 248.368 1533.35 Q250.197 1529.78 250.197 1522.67 Q250.197 1515.55 248.368 1512 Q246.562 1508.44 242.928 1508.44 M242.928 1504.73 Q248.738 1504.73 251.794 1509.34 Q254.872 1513.92 254.872 1522.67 Q254.872 1531.4 251.794 1536.01 Q248.738 1540.59 242.928 1540.59 Q237.118 1540.59 234.039 1536.01 Q230.984 1531.4 230.984 1522.67 Q230.984 1513.92 234.039 1509.34 Q237.118 1504.73 242.928 1504.73 Z\" fill=\"#000000\" fill-rule=\"evenodd\" fill-opacity=\"1\" /><path clip-path=\"url(#clip210)\" d=\"M 0 0 M717.692 1535.98 L734.011 1535.98 L734.011 1539.92 L712.067 1539.92 L712.067 1535.98 Q714.729 1533.23 719.312 1528.6 Q723.918 1523.95 725.099 1522.61 Q727.344 1520.08 728.224 1518.35 Q729.127 1516.59 729.127 1514.9 Q729.127 1512.14 727.182 1510.41 Q725.261 1508.67 722.159 1508.67 Q719.96 1508.67 717.506 1509.43 Q715.076 1510.2 712.298 1511.75 L712.298 1507.03 Q715.122 1505.89 717.576 1505.31 Q720.03 1504.73 722.067 1504.73 Q727.437 1504.73 730.631 1507.42 Q733.826 1510.11 733.826 1514.6 Q733.826 1516.73 733.016 1518.65 Q732.229 1520.54 730.122 1523.14 Q729.543 1523.81 726.442 1527.03 Q723.34 1530.22 717.692 1535.98 Z\" fill=\"#000000\" fill-rule=\"evenodd\" fill-opacity=\"1\" /><path clip-path=\"url(#clip210)\" d=\"M 0 0 M739.08 1534.04 L743.965 1534.04 L743.965 1539.92 L739.08 1539.92 L739.08 1534.04 Z\" fill=\"#000000\" fill-rule=\"evenodd\" fill-opacity=\"1\" /><path clip-path=\"url(#clip210)\" d=\"M 0 0 M749.08 1505.36 L767.437 1505.36 L767.437 1509.3 L753.363 1509.3 L753.363 1517.77 Q754.381 1517.42 755.4 1517.26 Q756.418 1517.07 757.437 1517.07 Q763.224 1517.07 766.603 1520.24 Q769.983 1523.42 769.983 1528.83 Q769.983 1534.41 766.511 1537.51 Q763.039 1540.59 756.719 1540.59 Q754.543 1540.59 752.275 1540.22 Q750.029 1539.85 747.622 1539.11 L747.622 1534.41 Q749.705 1535.54 751.928 1536.1 Q754.15 1536.66 756.627 1536.66 Q760.631 1536.66 762.969 1534.55 Q765.307 1532.44 765.307 1528.83 Q765.307 1525.22 762.969 1523.11 Q760.631 1521.01 756.627 1521.01 Q754.752 1521.01 752.877 1521.42 Q751.025 1521.84 749.08 1522.72 L749.08 1505.36 Z\" fill=\"#000000\" fill-rule=\"evenodd\" fill-opacity=\"1\" /><path clip-path=\"url(#clip210)\" d=\"M 0 0 M1229.4 1505.36 L1247.76 1505.36 L1247.76 1509.3 L1233.68 1509.3 L1233.68 1517.77 Q1234.7 1517.42 1235.72 1517.26 Q1236.74 1517.07 1237.76 1517.07 Q1243.54 1517.07 1246.92 1520.24 Q1250.3 1523.42 1250.3 1528.83 Q1250.3 1534.41 1246.83 1537.51 Q1243.36 1540.59 1237.04 1540.59 Q1234.86 1540.59 1232.59 1540.22 Q1230.35 1539.85 1227.94 1539.11 L1227.94 1534.41 Q1230.02 1535.54 1232.25 1536.1 Q1234.47 1536.66 1236.95 1536.66 Q1240.95 1536.66 1243.29 1534.55 Q1245.63 1532.44 1245.63 1528.83 Q1245.63 1525.22 1243.29 1523.11 Q1240.95 1521.01 1236.95 1521.01 Q1235.07 1521.01 1233.2 1521.42 Q1231.34 1521.84 1229.4 1522.72 L1229.4 1505.36 Z\" fill=\"#000000\" fill-rule=\"evenodd\" fill-opacity=\"1\" /><path clip-path=\"url(#clip210)\" d=\"M 0 0 M1255.37 1534.04 L1260.26 1534.04 L1260.26 1539.92 L1255.37 1539.92 L1255.37 1534.04 Z\" fill=\"#000000\" fill-rule=\"evenodd\" fill-opacity=\"1\" /><path clip-path=\"url(#clip210)\" d=\"M 0 0 M1275.33 1508.44 Q1271.71 1508.44 1269.89 1512 Q1268.08 1515.55 1268.08 1522.67 Q1268.08 1529.78 1269.89 1533.35 Q1271.71 1536.89 1275.33 1536.89 Q1278.96 1536.89 1280.76 1533.35 Q1282.59 1529.78 1282.59 1522.67 Q1282.59 1515.55 1280.76 1512 Q1278.96 1508.44 1275.33 1508.44 M1275.33 1504.73 Q1281.14 1504.73 1284.19 1509.34 Q1287.27 1513.92 1287.27 1522.67 Q1287.27 1531.4 1284.19 1536.01 Q1281.14 1540.59 1275.33 1540.59 Q1269.51 1540.59 1266.44 1536.01 Q1263.38 1531.4 1263.38 1522.67 Q1263.38 1513.92 1266.44 1509.34 Q1269.51 1504.73 1275.33 1504.73 Z\" fill=\"#000000\" fill-rule=\"evenodd\" fill-opacity=\"1\" /><path clip-path=\"url(#clip210)\" d=\"M 0 0 M1745.09 1505.36 L1767.31 1505.36 L1767.31 1507.35 L1754.76 1539.92 L1749.88 1539.92 L1761.69 1509.3 L1745.09 1509.3 L1745.09 1505.36 Z\" fill=\"#000000\" fill-rule=\"evenodd\" fill-opacity=\"1\" /><path clip-path=\"url(#clip210)\" d=\"M 0 0 M1772.38 1534.04 L1777.26 1534.04 L1777.26 1539.92 L1772.38 1539.92 L1772.38 1534.04 Z\" fill=\"#000000\" fill-rule=\"evenodd\" fill-opacity=\"1\" /><path clip-path=\"url(#clip210)\" d=\"M 0 0 M1782.38 1505.36 L1800.74 1505.36 L1800.74 1509.3 L1786.66 1509.3 L1786.66 1517.77 Q1787.68 1517.42 1788.7 1517.26 Q1789.72 1517.07 1790.74 1517.07 Q1796.52 1517.07 1799.9 1520.24 Q1803.28 1523.42 1803.28 1528.83 Q1803.28 1534.41 1799.81 1537.51 Q1796.34 1540.59 1790.02 1540.59 Q1787.84 1540.59 1785.57 1540.22 Q1783.33 1539.85 1780.92 1539.11 L1780.92 1534.41 Q1783.01 1535.54 1785.23 1536.1 Q1787.45 1536.66 1789.93 1536.66 Q1793.93 1536.66 1796.27 1534.55 Q1798.61 1532.44 1798.61 1528.83 Q1798.61 1525.22 1796.27 1523.11 Q1793.93 1521.01 1789.93 1521.01 Q1788.05 1521.01 1786.18 1521.42 Q1784.32 1521.84 1782.38 1522.72 L1782.38 1505.36 Z\" fill=\"#000000\" fill-rule=\"evenodd\" fill-opacity=\"1\" /><path clip-path=\"url(#clip210)\" d=\"M 0 0 M2249.16 1535.98 L2256.8 1535.98 L2256.8 1509.62 L2248.49 1511.29 L2248.49 1507.03 L2256.75 1505.36 L2261.43 1505.36 L2261.43 1535.98 L2269.06 1535.98 L2269.06 1539.92 L2249.16 1539.92 L2249.16 1535.98 Z\" fill=\"#000000\" fill-rule=\"evenodd\" fill-opacity=\"1\" /><path clip-path=\"url(#clip210)\" d=\"M 0 0 M2284.13 1508.44 Q2280.52 1508.44 2278.69 1512 Q2276.89 1515.55 2276.89 1522.67 Q2276.89 1529.78 2278.69 1533.35 Q2280.52 1536.89 2284.13 1536.89 Q2287.77 1536.89 2289.57 1533.35 Q2291.4 1529.78 2291.4 1522.67 Q2291.4 1515.55 2289.57 1512 Q2287.77 1508.44 2284.13 1508.44 M2284.13 1504.73 Q2289.94 1504.73 2293 1509.34 Q2296.08 1513.92 2296.08 1522.67 Q2296.08 1531.4 2293 1536.01 Q2289.94 1540.59 2284.13 1540.59 Q2278.32 1540.59 2275.25 1536.01 Q2272.19 1531.4 2272.19 1522.67 Q2272.19 1513.92 2275.25 1509.34 Q2278.32 1504.73 2284.13 1504.73 Z\" fill=\"#000000\" fill-rule=\"evenodd\" fill-opacity=\"1\" /><path clip-path=\"url(#clip210)\" d=\"M 0 0 M2301.15 1534.04 L2306.03 1534.04 L2306.03 1539.92 L2301.15 1539.92 L2301.15 1534.04 Z\" fill=\"#000000\" fill-rule=\"evenodd\" fill-opacity=\"1\" /><path clip-path=\"url(#clip210)\" d=\"M 0 0 M2321.1 1508.44 Q2317.49 1508.44 2315.66 1512 Q2313.86 1515.55 2313.86 1522.67 Q2313.86 1529.78 2315.66 1533.35 Q2317.49 1536.89 2321.1 1536.89 Q2324.74 1536.89 2326.54 1533.35 Q2328.37 1529.78 2328.37 1522.67 Q2328.37 1515.55 2326.54 1512 Q2324.74 1508.44 2321.1 1508.44 M2321.1 1504.73 Q2326.91 1504.73 2329.97 1509.34 Q2333.05 1513.92 2333.05 1522.67 Q2333.05 1531.4 2329.97 1536.01 Q2326.91 1540.59 2321.1 1540.59 Q2315.29 1540.59 2312.21 1536.01 Q2309.16 1531.4 2309.16 1522.67 Q2309.16 1513.92 2312.21 1509.34 Q2315.29 1504.73 2321.1 1504.73 Z\" fill=\"#000000\" fill-rule=\"evenodd\" fill-opacity=\"1\" /><path clip-path=\"url(#clip210)\" d=\"M 0 0 M63.2236 1372.98 L75.7004 1372.98 L75.7004 1376.78 L63.2236 1376.78 L63.2236 1372.98 Z\" fill=\"#000000\" fill-rule=\"evenodd\" fill-opacity=\"1\" /><path clip-path=\"url(#clip210)\" d=\"M 0 0 M81.58 1383.93 L89.2188 1383.93 L89.2188 1357.56 L80.9087 1359.23 L80.9087 1354.97 L89.1725 1353.3 L93.8484 1353.3 L93.8484 1383.93 L101.487 1383.93 L101.487 1387.86 L81.58 1387.86 L81.58 1383.93 Z\" fill=\"#000000\" fill-rule=\"evenodd\" fill-opacity=\"1\" /><path clip-path=\"url(#clip210)\" d=\"M 0 0 M106.557 1381.99 L111.441 1381.99 L111.441 1387.86 L106.557 1387.86 L106.557 1381.99 Z\" fill=\"#000000\" fill-rule=\"evenodd\" fill-opacity=\"1\" /><path clip-path=\"url(#clip210)\" d=\"M 0 0 M126.51 1356.38 Q122.899 1356.38 121.071 1359.95 Q119.265 1363.49 119.265 1370.62 Q119.265 1377.73 121.071 1381.29 Q122.899 1384.83 126.51 1384.83 Q130.145 1384.83 131.95 1381.29 Q133.779 1377.73 133.779 1370.62 Q133.779 1363.49 131.95 1359.95 Q130.145 1356.38 126.51 1356.38 M126.51 1352.68 Q132.32 1352.68 135.376 1357.29 Q138.455 1361.87 138.455 1370.62 Q138.455 1379.35 135.376 1383.95 Q132.32 1388.54 126.51 1388.54 Q120.7 1388.54 117.621 1383.95 Q114.566 1379.35 114.566 1370.62 Q114.566 1361.87 117.621 1357.29 Q120.7 1352.68 126.51 1352.68 Z\" fill=\"#000000\" fill-rule=\"evenodd\" fill-opacity=\"1\" /><path clip-path=\"url(#clip210)\" d=\"M 0 0 M62.9921 1079.61 L75.4689 1079.61 L75.4689 1083.4 L62.9921 1083.4 L62.9921 1079.61 Z\" fill=\"#000000\" fill-rule=\"evenodd\" fill-opacity=\"1\" /><path clip-path=\"url(#clip210)\" d=\"M 0 0 M90.5383 1063.01 Q86.9272 1063.01 85.0985 1066.58 Q83.2929 1070.12 83.2929 1077.25 Q83.2929 1084.35 85.0985 1087.92 Q86.9272 1091.46 90.5383 1091.46 Q94.1725 1091.46 95.9781 1087.92 Q97.8068 1084.35 97.8068 1077.25 Q97.8068 1070.12 95.9781 1066.58 Q94.1725 1063.01 90.5383 1063.01 M90.5383 1059.31 Q96.3484 1059.31 99.404 1063.91 Q102.483 1068.5 102.483 1077.25 Q102.483 1085.97 99.404 1090.58 Q96.3484 1095.16 90.5383 1095.16 Q84.7281 1095.16 81.6494 1090.58 Q78.5939 1085.97 78.5939 1077.25 Q78.5939 1068.5 81.6494 1063.91 Q84.7281 1059.31 90.5383 1059.31 Z\" fill=\"#000000\" fill-rule=\"evenodd\" fill-opacity=\"1\" /><path clip-path=\"url(#clip210)\" d=\"M 0 0 M107.552 1088.61 L112.436 1088.61 L112.436 1094.49 L107.552 1094.49 L107.552 1088.61 Z\" fill=\"#000000\" fill-rule=\"evenodd\" fill-opacity=\"1\" /><path clip-path=\"url(#clip210)\" d=\"M 0 0 M117.552 1059.93 L135.908 1059.93 L135.908 1063.87 L121.834 1063.87 L121.834 1072.34 Q122.853 1071.99 123.871 1071.83 Q124.89 1071.65 125.908 1071.65 Q131.695 1071.65 135.075 1074.82 Q138.455 1077.99 138.455 1083.4 Q138.455 1088.98 134.982 1092.08 Q131.51 1095.16 125.191 1095.16 Q123.015 1095.16 120.746 1094.79 Q118.501 1094.42 116.094 1093.68 L116.094 1088.98 Q118.177 1090.12 120.399 1090.67 Q122.621 1091.23 125.098 1091.23 Q129.103 1091.23 131.441 1089.12 Q133.779 1087.02 133.779 1083.4 Q133.779 1079.79 131.441 1077.69 Q129.103 1075.58 125.098 1075.58 Q123.223 1075.58 121.348 1076 Q119.496 1076.41 117.552 1077.29 L117.552 1059.93 Z\" fill=\"#000000\" fill-rule=\"evenodd\" fill-opacity=\"1\" /><path clip-path=\"url(#clip210)\" d=\"M 0 0 M89.5429 769.638 Q85.9318 769.638 84.1031 773.203 Q82.2976 776.745 82.2976 783.874 Q82.2976 790.981 84.1031 794.546 Q85.9318 798.087 89.5429 798.087 Q93.1771 798.087 94.9827 794.546 Q96.8114 790.981 96.8114 783.874 Q96.8114 776.745 94.9827 773.203 Q93.1771 769.638 89.5429 769.638 M89.5429 765.935 Q95.3531 765.935 98.4086 770.541 Q101.487 775.124 101.487 783.874 Q101.487 792.601 98.4086 797.208 Q95.3531 801.791 89.5429 801.791 Q83.7328 801.791 80.6541 797.208 Q77.5985 792.601 77.5985 783.874 Q77.5985 775.124 80.6541 770.541 Q83.7328 765.935 89.5429 765.935 Z\" fill=\"#000000\" fill-rule=\"evenodd\" fill-opacity=\"1\" /><path clip-path=\"url(#clip210)\" d=\"M 0 0 M106.557 795.24 L111.441 795.24 L111.441 801.12 L106.557 801.12 L106.557 795.24 Z\" fill=\"#000000\" fill-rule=\"evenodd\" fill-opacity=\"1\" /><path clip-path=\"url(#clip210)\" d=\"M 0 0 M126.51 769.638 Q122.899 769.638 121.071 773.203 Q119.265 776.745 119.265 783.874 Q119.265 790.981 121.071 794.546 Q122.899 798.087 126.51 798.087 Q130.145 798.087 131.95 794.546 Q133.779 790.981 133.779 783.874 Q133.779 776.745 131.95 773.203 Q130.145 769.638 126.51 769.638 M126.51 765.935 Q132.32 765.935 135.376 770.541 Q138.455 775.124 138.455 783.874 Q138.455 792.601 135.376 797.208 Q132.32 801.791 126.51 801.791 Q120.7 801.791 117.621 797.208 Q114.566 792.601 114.566 783.874 Q114.566 775.124 117.621 770.541 Q120.7 765.935 126.51 765.935 Z\" fill=\"#000000\" fill-rule=\"evenodd\" fill-opacity=\"1\" /><path clip-path=\"url(#clip210)\" d=\"M 0 0 M90.5383 476.266 Q86.9272 476.266 85.0985 479.831 Q83.2929 483.372 83.2929 490.502 Q83.2929 497.608 85.0985 501.173 Q86.9272 504.715 90.5383 504.715 Q94.1725 504.715 95.9781 501.173 Q97.8068 497.608 97.8068 490.502 Q97.8068 483.372 95.9781 479.831 Q94.1725 476.266 90.5383 476.266 M90.5383 472.562 Q96.3484 472.562 99.404 477.169 Q102.483 481.752 102.483 490.502 Q102.483 499.229 99.404 503.835 Q96.3484 508.418 90.5383 508.418 Q84.7281 508.418 81.6494 503.835 Q78.5939 499.229 78.5939 490.502 Q78.5939 481.752 81.6494 477.169 Q84.7281 472.562 90.5383 472.562 Z\" fill=\"#000000\" fill-rule=\"evenodd\" fill-opacity=\"1\" /><path clip-path=\"url(#clip210)\" d=\"M 0 0 M107.552 501.868 L112.436 501.868 L112.436 507.747 L107.552 507.747 L107.552 501.868 Z\" fill=\"#000000\" fill-rule=\"evenodd\" fill-opacity=\"1\" /><path clip-path=\"url(#clip210)\" d=\"M 0 0 M117.552 473.187 L135.908 473.187 L135.908 477.122 L121.834 477.122 L121.834 485.595 Q122.853 485.247 123.871 485.085 Q124.89 484.9 125.908 484.9 Q131.695 484.9 135.075 488.071 Q138.455 491.243 138.455 496.659 Q138.455 502.238 134.982 505.34 Q131.51 508.418 125.191 508.418 Q123.015 508.418 120.746 508.048 Q118.501 507.678 116.094 506.937 L116.094 502.238 Q118.177 503.372 120.399 503.928 Q122.621 504.483 125.098 504.483 Q129.103 504.483 131.441 502.377 Q133.779 500.27 133.779 496.659 Q133.779 493.048 131.441 490.942 Q129.103 488.835 125.098 488.835 Q123.223 488.835 121.348 489.252 Q119.496 489.669 117.552 490.548 L117.552 473.187 Z\" fill=\"#000000\" fill-rule=\"evenodd\" fill-opacity=\"1\" /><path clip-path=\"url(#clip210)\" d=\"M 0 0 M81.58 210.44 L89.2188 210.44 L89.2188 184.074 L80.9087 185.741 L80.9087 181.481 L89.1725 179.815 L93.8484 179.815 L93.8484 210.44 L101.487 210.44 L101.487 214.375 L81.58 214.375 L81.58 210.44 Z\" fill=\"#000000\" fill-rule=\"evenodd\" fill-opacity=\"1\" /><path clip-path=\"url(#clip210)\" d=\"M 0 0 M106.557 208.495 L111.441 208.495 L111.441 214.375 L106.557 214.375 L106.557 208.495 Z\" fill=\"#000000\" fill-rule=\"evenodd\" fill-opacity=\"1\" /><path clip-path=\"url(#clip210)\" d=\"M 0 0 M126.51 182.893 Q122.899 182.893 121.071 186.458 Q119.265 190 119.265 197.129 Q119.265 204.236 121.071 207.801 Q122.899 211.342 126.51 211.342 Q130.145 211.342 131.95 207.801 Q133.779 204.236 133.779 197.129 Q133.779 190 131.95 186.458 Q130.145 182.893 126.51 182.893 M126.51 179.19 Q132.32 179.19 135.376 183.796 Q138.455 188.379 138.455 197.129 Q138.455 205.856 135.376 210.463 Q132.32 215.046 126.51 215.046 Q120.7 215.046 117.621 210.463 Q114.566 205.856 114.566 197.129 Q114.566 188.379 117.621 183.796 Q120.7 179.19 126.51 179.19 Z\" fill=\"#000000\" fill-rule=\"evenodd\" fill-opacity=\"1\" /><circle clip-path=\"url(#clip212)\" cx=\"572.246\" cy=\"320.858\" r=\"14\" fill=\"#009af9\" fill-rule=\"evenodd\" fill-opacity=\"1\" stroke=\"#000000\" stroke-opacity=\"1\" stroke-width=\"3.2\"/>\n",
       "<circle clip-path=\"url(#clip212)\" cx=\"954.23\" cy=\"817.446\" r=\"14\" fill=\"#009af9\" fill-rule=\"evenodd\" fill-opacity=\"1\" stroke=\"#000000\" stroke-opacity=\"1\" stroke-width=\"3.2\"/>\n",
       "<circle clip-path=\"url(#clip212)\" cx=\"1359.23\" cy=\"1091.97\" r=\"14\" fill=\"#009af9\" fill-rule=\"evenodd\" fill-opacity=\"1\" stroke=\"#000000\" stroke-opacity=\"1\" stroke-width=\"3.2\"/>\n",
       "<circle clip-path=\"url(#clip212)\" cx=\"1369.68\" cy=\"1167.15\" r=\"14\" fill=\"#009af9\" fill-rule=\"evenodd\" fill-opacity=\"1\" stroke=\"#000000\" stroke-opacity=\"1\" stroke-width=\"3.2\"/>\n",
       "<circle clip-path=\"url(#clip212)\" cx=\"1608.73\" cy=\"445.169\" r=\"14\" fill=\"#009af9\" fill-rule=\"evenodd\" fill-opacity=\"1\" stroke=\"#000000\" stroke-opacity=\"1\" stroke-width=\"3.2\"/>\n",
       "<circle clip-path=\"url(#clip212)\" cx=\"329.897\" cy=\"571.482\" r=\"14\" fill=\"#009af9\" fill-rule=\"evenodd\" fill-opacity=\"1\" stroke=\"#000000\" stroke-opacity=\"1\" stroke-width=\"3.2\"/>\n",
       "<circle clip-path=\"url(#clip212)\" cx=\"657.384\" cy=\"428.697\" r=\"14\" fill=\"#009af9\" fill-rule=\"evenodd\" fill-opacity=\"1\" stroke=\"#000000\" stroke-opacity=\"1\" stroke-width=\"3.2\"/>\n",
       "<circle clip-path=\"url(#clip212)\" cx=\"304.176\" cy=\"586.072\" r=\"14\" fill=\"#009af9\" fill-rule=\"evenodd\" fill-opacity=\"1\" stroke=\"#000000\" stroke-opacity=\"1\" stroke-width=\"3.2\"/>\n",
       "<circle clip-path=\"url(#clip212)\" cx=\"1871.37\" cy=\"110.364\" r=\"14\" fill=\"#009af9\" fill-rule=\"evenodd\" fill-opacity=\"1\" stroke=\"#000000\" stroke-opacity=\"1\" stroke-width=\"3.2\"/>\n",
       "<circle clip-path=\"url(#clip212)\" cx=\"1824.9\" cy=\"265.516\" r=\"14\" fill=\"#009af9\" fill-rule=\"evenodd\" fill-opacity=\"1\" stroke=\"#000000\" stroke-opacity=\"1\" stroke-width=\"3.2\"/>\n",
       "<circle clip-path=\"url(#clip212)\" cx=\"1595.57\" cy=\"509.255\" r=\"14\" fill=\"#009af9\" fill-rule=\"evenodd\" fill-opacity=\"1\" stroke=\"#000000\" stroke-opacity=\"1\" stroke-width=\"3.2\"/>\n",
       "<circle clip-path=\"url(#clip212)\" cx=\"1516.62\" cy=\"1030.72\" r=\"14\" fill=\"#009af9\" fill-rule=\"evenodd\" fill-opacity=\"1\" stroke=\"#000000\" stroke-opacity=\"1\" stroke-width=\"3.2\"/>\n",
       "<circle clip-path=\"url(#clip212)\" cx=\"1116.3\" cy=\"1245.94\" r=\"14\" fill=\"#009af9\" fill-rule=\"evenodd\" fill-opacity=\"1\" stroke=\"#000000\" stroke-opacity=\"1\" stroke-width=\"3.2\"/>\n",
       "<circle clip-path=\"url(#clip212)\" cx=\"1350.53\" cy=\"1228.3\" r=\"14\" fill=\"#009af9\" fill-rule=\"evenodd\" fill-opacity=\"1\" stroke=\"#000000\" stroke-opacity=\"1\" stroke-width=\"3.2\"/>\n",
       "<circle clip-path=\"url(#clip212)\" cx=\"811.632\" cy=\"724.655\" r=\"14\" fill=\"#009af9\" fill-rule=\"evenodd\" fill-opacity=\"1\" stroke=\"#000000\" stroke-opacity=\"1\" stroke-width=\"3.2\"/>\n",
       "<circle clip-path=\"url(#clip212)\" cx=\"1372.9\" cy=\"1168.15\" r=\"14\" fill=\"#009af9\" fill-rule=\"evenodd\" fill-opacity=\"1\" stroke=\"#000000\" stroke-opacity=\"1\" stroke-width=\"3.2\"/>\n",
       "<circle clip-path=\"url(#clip212)\" cx=\"1488.44\" cy=\"913.969\" r=\"14\" fill=\"#009af9\" fill-rule=\"evenodd\" fill-opacity=\"1\" stroke=\"#000000\" stroke-opacity=\"1\" stroke-width=\"3.2\"/>\n",
       "<circle clip-path=\"url(#clip212)\" cx=\"1009.91\" cy=\"1138.53\" r=\"14\" fill=\"#009af9\" fill-rule=\"evenodd\" fill-opacity=\"1\" stroke=\"#000000\" stroke-opacity=\"1\" stroke-width=\"3.2\"/>\n",
       "<circle clip-path=\"url(#clip212)\" cx=\"667.294\" cy=\"378.127\" r=\"14\" fill=\"#009af9\" fill-rule=\"evenodd\" fill-opacity=\"1\" stroke=\"#000000\" stroke-opacity=\"1\" stroke-width=\"3.2\"/>\n",
       "<circle clip-path=\"url(#clip212)\" cx=\"899.684\" cy=\"996.728\" r=\"14\" fill=\"#009af9\" fill-rule=\"evenodd\" fill-opacity=\"1\" stroke=\"#000000\" stroke-opacity=\"1\" stroke-width=\"3.2\"/>\n",
       "<circle clip-path=\"url(#clip212)\" cx=\"585.12\" cy=\"241.628\" r=\"14\" fill=\"#009af9\" fill-rule=\"evenodd\" fill-opacity=\"1\" stroke=\"#000000\" stroke-opacity=\"1\" stroke-width=\"3.2\"/>\n",
       "<circle clip-path=\"url(#clip212)\" cx=\"980.867\" cy=\"1247.97\" r=\"14\" fill=\"#009af9\" fill-rule=\"evenodd\" fill-opacity=\"1\" stroke=\"#000000\" stroke-opacity=\"1\" stroke-width=\"3.2\"/>\n",
       "<circle clip-path=\"url(#clip212)\" cx=\"1641.71\" cy=\"359.665\" r=\"14\" fill=\"#009af9\" fill-rule=\"evenodd\" fill-opacity=\"1\" stroke=\"#000000\" stroke-opacity=\"1\" stroke-width=\"3.2\"/>\n",
       "<circle clip-path=\"url(#clip212)\" cx=\"1684.03\" cy=\"616.657\" r=\"14\" fill=\"#009af9\" fill-rule=\"evenodd\" fill-opacity=\"1\" stroke=\"#000000\" stroke-opacity=\"1\" stroke-width=\"3.2\"/>\n",
       "<circle clip-path=\"url(#clip212)\" cx=\"1952.09\" cy=\"374.776\" r=\"14\" fill=\"#009af9\" fill-rule=\"evenodd\" fill-opacity=\"1\" stroke=\"#000000\" stroke-opacity=\"1\" stroke-width=\"3.2\"/>\n",
       "<circle clip-path=\"url(#clip212)\" cx=\"903.752\" cy=\"983.016\" r=\"14\" fill=\"#009af9\" fill-rule=\"evenodd\" fill-opacity=\"1\" stroke=\"#000000\" stroke-opacity=\"1\" stroke-width=\"3.2\"/>\n",
       "<circle clip-path=\"url(#clip212)\" cx=\"1912.82\" cy=\"309.853\" r=\"14\" fill=\"#009af9\" fill-rule=\"evenodd\" fill-opacity=\"1\" stroke=\"#000000\" stroke-opacity=\"1\" stroke-width=\"3.2\"/>\n",
       "<circle clip-path=\"url(#clip212)\" cx=\"1398.5\" cy=\"1098.92\" r=\"14\" fill=\"#009af9\" fill-rule=\"evenodd\" fill-opacity=\"1\" stroke=\"#000000\" stroke-opacity=\"1\" stroke-width=\"3.2\"/>\n",
       "<circle clip-path=\"url(#clip212)\" cx=\"2037.61\" cy=\"401.929\" r=\"14\" fill=\"#009af9\" fill-rule=\"evenodd\" fill-opacity=\"1\" stroke=\"#000000\" stroke-opacity=\"1\" stroke-width=\"3.2\"/>\n",
       "<circle clip-path=\"url(#clip212)\" cx=\"1459.71\" cy=\"897.4\" r=\"14\" fill=\"#009af9\" fill-rule=\"evenodd\" fill-opacity=\"1\" stroke=\"#000000\" stroke-opacity=\"1\" stroke-width=\"3.2\"/>\n",
       "<circle clip-path=\"url(#clip212)\" cx=\"927.56\" cy=\"1071.45\" r=\"14\" fill=\"#009af9\" fill-rule=\"evenodd\" fill-opacity=\"1\" stroke=\"#000000\" stroke-opacity=\"1\" stroke-width=\"3.2\"/>\n",
       "<circle clip-path=\"url(#clip212)\" cx=\"368.802\" cy=\"427.226\" r=\"14\" fill=\"#009af9\" fill-rule=\"evenodd\" fill-opacity=\"1\" stroke=\"#000000\" stroke-opacity=\"1\" stroke-width=\"3.2\"/>\n",
       "<circle clip-path=\"url(#clip212)\" cx=\"1893.97\" cy=\"186.192\" r=\"14\" fill=\"#009af9\" fill-rule=\"evenodd\" fill-opacity=\"1\" stroke=\"#000000\" stroke-opacity=\"1\" stroke-width=\"3.2\"/>\n",
       "<circle clip-path=\"url(#clip212)\" cx=\"2054.46\" cy=\"376.032\" r=\"14\" fill=\"#009af9\" fill-rule=\"evenodd\" fill-opacity=\"1\" stroke=\"#000000\" stroke-opacity=\"1\" stroke-width=\"3.2\"/>\n",
       "<circle clip-path=\"url(#clip212)\" cx=\"1080.69\" cy=\"1210.4\" r=\"14\" fill=\"#009af9\" fill-rule=\"evenodd\" fill-opacity=\"1\" stroke=\"#000000\" stroke-opacity=\"1\" stroke-width=\"3.2\"/>\n",
       "<circle clip-path=\"url(#clip212)\" cx=\"398.582\" cy=\"286.256\" r=\"14\" fill=\"#009af9\" fill-rule=\"evenodd\" fill-opacity=\"1\" stroke=\"#000000\" stroke-opacity=\"1\" stroke-width=\"3.2\"/>\n",
       "<circle clip-path=\"url(#clip212)\" cx=\"721.533\" cy=\"624.893\" r=\"14\" fill=\"#009af9\" fill-rule=\"evenodd\" fill-opacity=\"1\" stroke=\"#000000\" stroke-opacity=\"1\" stroke-width=\"3.2\"/>\n",
       "<circle clip-path=\"url(#clip212)\" cx=\"1456.88\" cy=\"798.497\" r=\"14\" fill=\"#009af9\" fill-rule=\"evenodd\" fill-opacity=\"1\" stroke=\"#000000\" stroke-opacity=\"1\" stroke-width=\"3.2\"/>\n",
       "<circle clip-path=\"url(#clip212)\" cx=\"1085.16\" cy=\"1348.82\" r=\"14\" fill=\"#009af9\" fill-rule=\"evenodd\" fill-opacity=\"1\" stroke=\"#000000\" stroke-opacity=\"1\" stroke-width=\"3.2\"/>\n",
       "<circle clip-path=\"url(#clip212)\" cx=\"1882.34\" cy=\"180.448\" r=\"14\" fill=\"#009af9\" fill-rule=\"evenodd\" fill-opacity=\"1\" stroke=\"#000000\" stroke-opacity=\"1\" stroke-width=\"3.2\"/>\n",
       "<circle clip-path=\"url(#clip212)\" cx=\"1347.44\" cy=\"816.377\" r=\"14\" fill=\"#009af9\" fill-rule=\"evenodd\" fill-opacity=\"1\" stroke=\"#000000\" stroke-opacity=\"1\" stroke-width=\"3.2\"/>\n",
       "<circle clip-path=\"url(#clip212)\" cx=\"745.881\" cy=\"465.727\" r=\"14\" fill=\"#009af9\" fill-rule=\"evenodd\" fill-opacity=\"1\" stroke=\"#000000\" stroke-opacity=\"1\" stroke-width=\"3.2\"/>\n",
       "<circle clip-path=\"url(#clip212)\" cx=\"1562.98\" cy=\"501.896\" r=\"14\" fill=\"#009af9\" fill-rule=\"evenodd\" fill-opacity=\"1\" stroke=\"#000000\" stroke-opacity=\"1\" stroke-width=\"3.2\"/>\n",
       "<circle clip-path=\"url(#clip212)\" cx=\"1635.59\" cy=\"691.836\" r=\"14\" fill=\"#009af9\" fill-rule=\"evenodd\" fill-opacity=\"1\" stroke=\"#000000\" stroke-opacity=\"1\" stroke-width=\"3.2\"/>\n",
       "<circle clip-path=\"url(#clip212)\" cx=\"1290.47\" cy=\"1349.02\" r=\"14\" fill=\"#009af9\" fill-rule=\"evenodd\" fill-opacity=\"1\" stroke=\"#000000\" stroke-opacity=\"1\" stroke-width=\"3.2\"/>\n",
       "<circle clip-path=\"url(#clip212)\" cx=\"2153.97\" cy=\"721.054\" r=\"14\" fill=\"#009af9\" fill-rule=\"evenodd\" fill-opacity=\"1\" stroke=\"#000000\" stroke-opacity=\"1\" stroke-width=\"3.2\"/>\n",
       "<circle clip-path=\"url(#clip212)\" cx=\"2073.28\" cy=\"369.349\" r=\"14\" fill=\"#009af9\" fill-rule=\"evenodd\" fill-opacity=\"1\" stroke=\"#000000\" stroke-opacity=\"1\" stroke-width=\"3.2\"/>\n",
       "<circle clip-path=\"url(#clip212)\" cx=\"953.923\" cy=\"1047.76\" r=\"14\" fill=\"#009af9\" fill-rule=\"evenodd\" fill-opacity=\"1\" stroke=\"#000000\" stroke-opacity=\"1\" stroke-width=\"3.2\"/>\n",
       "<circle clip-path=\"url(#clip212)\" cx=\"2030.43\" cy=\"638.413\" r=\"14\" fill=\"#009af9\" fill-rule=\"evenodd\" fill-opacity=\"1\" stroke=\"#000000\" stroke-opacity=\"1\" stroke-width=\"3.2\"/>\n",
       "<circle clip-path=\"url(#clip212)\" cx=\"2288.08\" cy=\"1083\" r=\"14\" fill=\"#009af9\" fill-rule=\"evenodd\" fill-opacity=\"1\" stroke=\"#000000\" stroke-opacity=\"1\" stroke-width=\"3.2\"/>\n",
       "<circle clip-path=\"url(#clip212)\" cx=\"1914.33\" cy=\"130.372\" r=\"14\" fill=\"#009af9\" fill-rule=\"evenodd\" fill-opacity=\"1\" stroke=\"#000000\" stroke-opacity=\"1\" stroke-width=\"3.2\"/>\n",
       "<circle clip-path=\"url(#clip212)\" cx=\"1990.19\" cy=\"355.463\" r=\"14\" fill=\"#009af9\" fill-rule=\"evenodd\" fill-opacity=\"1\" stroke=\"#000000\" stroke-opacity=\"1\" stroke-width=\"3.2\"/>\n",
       "<circle clip-path=\"url(#clip212)\" cx=\"2201.33\" cy=\"580.806\" r=\"14\" fill=\"#009af9\" fill-rule=\"evenodd\" fill-opacity=\"1\" stroke=\"#000000\" stroke-opacity=\"1\" stroke-width=\"3.2\"/>\n",
       "<circle clip-path=\"url(#clip212)\" cx=\"1520.98\" cy=\"948.816\" r=\"14\" fill=\"#009af9\" fill-rule=\"evenodd\" fill-opacity=\"1\" stroke=\"#000000\" stroke-opacity=\"1\" stroke-width=\"3.2\"/>\n",
       "<circle clip-path=\"url(#clip212)\" cx=\"1350.15\" cy=\"1297.9\" r=\"14\" fill=\"#009af9\" fill-rule=\"evenodd\" fill-opacity=\"1\" stroke=\"#000000\" stroke-opacity=\"1\" stroke-width=\"3.2\"/>\n",
       "<circle clip-path=\"url(#clip212)\" cx=\"228.291\" cy=\"474.966\" r=\"14\" fill=\"#009af9\" fill-rule=\"evenodd\" fill-opacity=\"1\" stroke=\"#000000\" stroke-opacity=\"1\" stroke-width=\"3.2\"/>\n",
       "<circle clip-path=\"url(#clip212)\" cx=\"506.24\" cy=\"168.522\" r=\"14\" fill=\"#009af9\" fill-rule=\"evenodd\" fill-opacity=\"1\" stroke=\"#000000\" stroke-opacity=\"1\" stroke-width=\"3.2\"/>\n",
       "<circle clip-path=\"url(#clip212)\" cx=\"1651.46\" cy=\"451.465\" r=\"14\" fill=\"#009af9\" fill-rule=\"evenodd\" fill-opacity=\"1\" stroke=\"#000000\" stroke-opacity=\"1\" stroke-width=\"3.2\"/>\n",
       "<circle clip-path=\"url(#clip212)\" cx=\"347.295\" cy=\"597.697\" r=\"14\" fill=\"#009af9\" fill-rule=\"evenodd\" fill-opacity=\"1\" stroke=\"#000000\" stroke-opacity=\"1\" stroke-width=\"3.2\"/>\n",
       "<circle clip-path=\"url(#clip212)\" cx=\"391.826\" cy=\"386.269\" r=\"14\" fill=\"#009af9\" fill-rule=\"evenodd\" fill-opacity=\"1\" stroke=\"#000000\" stroke-opacity=\"1\" stroke-width=\"3.2\"/>\n",
       "<circle clip-path=\"url(#clip212)\" cx=\"1946.02\" cy=\"295.743\" r=\"14\" fill=\"#009af9\" fill-rule=\"evenodd\" fill-opacity=\"1\" stroke=\"#000000\" stroke-opacity=\"1\" stroke-width=\"3.2\"/>\n",
       "<circle clip-path=\"url(#clip212)\" cx=\"812.747\" cy=\"721.382\" r=\"14\" fill=\"#009af9\" fill-rule=\"evenodd\" fill-opacity=\"1\" stroke=\"#000000\" stroke-opacity=\"1\" stroke-width=\"3.2\"/>\n",
       "<circle clip-path=\"url(#clip212)\" cx=\"1534.79\" cy=\"757.771\" r=\"14\" fill=\"#009af9\" fill-rule=\"evenodd\" fill-opacity=\"1\" stroke=\"#000000\" stroke-opacity=\"1\" stroke-width=\"3.2\"/>\n",
       "<circle clip-path=\"url(#clip212)\" cx=\"1979.06\" cy=\"151.951\" r=\"14\" fill=\"#009af9\" fill-rule=\"evenodd\" fill-opacity=\"1\" stroke=\"#000000\" stroke-opacity=\"1\" stroke-width=\"3.2\"/>\n",
       "<circle clip-path=\"url(#clip212)\" cx=\"1605.64\" cy=\"602.085\" r=\"14\" fill=\"#009af9\" fill-rule=\"evenodd\" fill-opacity=\"1\" stroke=\"#000000\" stroke-opacity=\"1\" stroke-width=\"3.2\"/>\n",
       "<circle clip-path=\"url(#clip212)\" cx=\"671.07\" cy=\"217.192\" r=\"14\" fill=\"#009af9\" fill-rule=\"evenodd\" fill-opacity=\"1\" stroke=\"#000000\" stroke-opacity=\"1\" stroke-width=\"3.2\"/>\n",
       "<circle clip-path=\"url(#clip212)\" cx=\"1645.31\" cy=\"468.886\" r=\"14\" fill=\"#009af9\" fill-rule=\"evenodd\" fill-opacity=\"1\" stroke=\"#000000\" stroke-opacity=\"1\" stroke-width=\"3.2\"/>\n",
       "<circle clip-path=\"url(#clip212)\" cx=\"694.884\" cy=\"451.424\" r=\"14\" fill=\"#009af9\" fill-rule=\"evenodd\" fill-opacity=\"1\" stroke=\"#000000\" stroke-opacity=\"1\" stroke-width=\"3.2\"/>\n",
       "<circle clip-path=\"url(#clip212)\" cx=\"1926.25\" cy=\"248.57\" r=\"14\" fill=\"#009af9\" fill-rule=\"evenodd\" fill-opacity=\"1\" stroke=\"#000000\" stroke-opacity=\"1\" stroke-width=\"3.2\"/>\n",
       "<circle clip-path=\"url(#clip212)\" cx=\"921.99\" cy=\"1095.36\" r=\"14\" fill=\"#009af9\" fill-rule=\"evenodd\" fill-opacity=\"1\" stroke=\"#000000\" stroke-opacity=\"1\" stroke-width=\"3.2\"/>\n",
       "<circle clip-path=\"url(#clip212)\" cx=\"1266.56\" cy=\"1386.54\" r=\"14\" fill=\"#009af9\" fill-rule=\"evenodd\" fill-opacity=\"1\" stroke=\"#000000\" stroke-opacity=\"1\" stroke-width=\"3.2\"/>\n",
       "<circle clip-path=\"url(#clip212)\" cx=\"2019.26\" cy=\"557.776\" r=\"14\" fill=\"#009af9\" fill-rule=\"evenodd\" fill-opacity=\"1\" stroke=\"#000000\" stroke-opacity=\"1\" stroke-width=\"3.2\"/>\n",
       "<circle clip-path=\"url(#clip212)\" cx=\"1784.19\" cy=\"165.095\" r=\"14\" fill=\"#009af9\" fill-rule=\"evenodd\" fill-opacity=\"1\" stroke=\"#000000\" stroke-opacity=\"1\" stroke-width=\"3.2\"/>\n",
       "<circle clip-path=\"url(#clip212)\" cx=\"1303.72\" cy=\"1036.27\" r=\"14\" fill=\"#009af9\" fill-rule=\"evenodd\" fill-opacity=\"1\" stroke=\"#000000\" stroke-opacity=\"1\" stroke-width=\"3.2\"/>\n",
       "<circle clip-path=\"url(#clip212)\" cx=\"1358.97\" cy=\"871.215\" r=\"14\" fill=\"#009af9\" fill-rule=\"evenodd\" fill-opacity=\"1\" stroke=\"#000000\" stroke-opacity=\"1\" stroke-width=\"3.2\"/>\n",
       "<circle clip-path=\"url(#clip212)\" cx=\"1490.03\" cy=\"840.227\" r=\"14\" fill=\"#009af9\" fill-rule=\"evenodd\" fill-opacity=\"1\" stroke=\"#000000\" stroke-opacity=\"1\" stroke-width=\"3.2\"/>\n",
       "<circle clip-path=\"url(#clip212)\" cx=\"674.458\" cy=\"162.956\" r=\"14\" fill=\"#009af9\" fill-rule=\"evenodd\" fill-opacity=\"1\" stroke=\"#000000\" stroke-opacity=\"1\" stroke-width=\"3.2\"/>\n",
       "<circle clip-path=\"url(#clip212)\" cx=\"810.726\" cy=\"690.227\" r=\"14\" fill=\"#009af9\" fill-rule=\"evenodd\" fill-opacity=\"1\" stroke=\"#000000\" stroke-opacity=\"1\" stroke-width=\"3.2\"/>\n",
       "<circle clip-path=\"url(#clip212)\" cx=\"2148.33\" cy=\"739.044\" r=\"14\" fill=\"#009af9\" fill-rule=\"evenodd\" fill-opacity=\"1\" stroke=\"#000000\" stroke-opacity=\"1\" stroke-width=\"3.2\"/>\n",
       "<circle clip-path=\"url(#clip212)\" cx=\"415.127\" cy=\"348.387\" r=\"14\" fill=\"#009af9\" fill-rule=\"evenodd\" fill-opacity=\"1\" stroke=\"#000000\" stroke-opacity=\"1\" stroke-width=\"3.2\"/>\n",
       "<circle clip-path=\"url(#clip212)\" cx=\"1273.16\" cy=\"1445.72\" r=\"14\" fill=\"#009af9\" fill-rule=\"evenodd\" fill-opacity=\"1\" stroke=\"#000000\" stroke-opacity=\"1\" stroke-width=\"3.2\"/>\n",
       "<circle clip-path=\"url(#clip212)\" cx=\"251.34\" cy=\"796.091\" r=\"14\" fill=\"#009af9\" fill-rule=\"evenodd\" fill-opacity=\"1\" stroke=\"#000000\" stroke-opacity=\"1\" stroke-width=\"3.2\"/>\n",
       "<circle clip-path=\"url(#clip212)\" cx=\"273.027\" cy=\"822.364\" r=\"14\" fill=\"#009af9\" fill-rule=\"evenodd\" fill-opacity=\"1\" stroke=\"#000000\" stroke-opacity=\"1\" stroke-width=\"3.2\"/>\n",
       "<circle clip-path=\"url(#clip212)\" cx=\"1922.35\" cy=\"87.9763\" r=\"14\" fill=\"#009af9\" fill-rule=\"evenodd\" fill-opacity=\"1\" stroke=\"#000000\" stroke-opacity=\"1\" stroke-width=\"3.2\"/>\n",
       "<circle clip-path=\"url(#clip212)\" cx=\"1749.99\" cy=\"441.06\" r=\"14\" fill=\"#009af9\" fill-rule=\"evenodd\" fill-opacity=\"1\" stroke=\"#000000\" stroke-opacity=\"1\" stroke-width=\"3.2\"/>\n",
       "<circle clip-path=\"url(#clip212)\" cx=\"1034.6\" cy=\"1177.99\" r=\"14\" fill=\"#009af9\" fill-rule=\"evenodd\" fill-opacity=\"1\" stroke=\"#000000\" stroke-opacity=\"1\" stroke-width=\"3.2\"/>\n",
       "<circle clip-path=\"url(#clip212)\" cx=\"1765.66\" cy=\"553.898\" r=\"14\" fill=\"#009af9\" fill-rule=\"evenodd\" fill-opacity=\"1\" stroke=\"#000000\" stroke-opacity=\"1\" stroke-width=\"3.2\"/>\n",
       "<circle clip-path=\"url(#clip212)\" cx=\"1012.51\" cy=\"1252.22\" r=\"14\" fill=\"#009af9\" fill-rule=\"evenodd\" fill-opacity=\"1\" stroke=\"#000000\" stroke-opacity=\"1\" stroke-width=\"3.2\"/>\n",
       "<circle clip-path=\"url(#clip212)\" cx=\"1076.92\" cy=\"1166.78\" r=\"14\" fill=\"#009af9\" fill-rule=\"evenodd\" fill-opacity=\"1\" stroke=\"#000000\" stroke-opacity=\"1\" stroke-width=\"3.2\"/>\n",
       "<circle clip-path=\"url(#clip212)\" cx=\"2036.05\" cy=\"521.587\" r=\"14\" fill=\"#009af9\" fill-rule=\"evenodd\" fill-opacity=\"1\" stroke=\"#000000\" stroke-opacity=\"1\" stroke-width=\"3.2\"/>\n",
       "<circle clip-path=\"url(#clip212)\" cx=\"504.602\" cy=\"192.432\" r=\"14\" fill=\"#009af9\" fill-rule=\"evenodd\" fill-opacity=\"1\" stroke=\"#000000\" stroke-opacity=\"1\" stroke-width=\"3.2\"/>\n",
       "<circle clip-path=\"url(#clip212)\" cx=\"1728.66\" cy=\"249.126\" r=\"14\" fill=\"#009af9\" fill-rule=\"evenodd\" fill-opacity=\"1\" stroke=\"#000000\" stroke-opacity=\"1\" stroke-width=\"3.2\"/>\n",
       "<circle clip-path=\"url(#clip212)\" cx=\"1448.04\" cy=\"974.81\" r=\"14\" fill=\"#009af9\" fill-rule=\"evenodd\" fill-opacity=\"1\" stroke=\"#000000\" stroke-opacity=\"1\" stroke-width=\"3.2\"/>\n",
       "<circle clip-path=\"url(#clip212)\" cx=\"397.907\" cy=\"154.44\" r=\"14\" fill=\"#009af9\" fill-rule=\"evenodd\" fill-opacity=\"1\" stroke=\"#000000\" stroke-opacity=\"1\" stroke-width=\"3.2\"/>\n",
       "<circle clip-path=\"url(#clip212)\" cx=\"1569.99\" cy=\"515.354\" r=\"14\" fill=\"#009af9\" fill-rule=\"evenodd\" fill-opacity=\"1\" stroke=\"#000000\" stroke-opacity=\"1\" stroke-width=\"3.2\"/>\n",
       "<circle clip-path=\"url(#clip212)\" cx=\"1682.66\" cy=\"444.197\" r=\"14\" fill=\"#009af9\" fill-rule=\"evenodd\" fill-opacity=\"1\" stroke=\"#000000\" stroke-opacity=\"1\" stroke-width=\"3.2\"/>\n",
       "<circle clip-path=\"url(#clip212)\" cx=\"1560.92\" cy=\"580.362\" r=\"14\" fill=\"#009af9\" fill-rule=\"evenodd\" fill-opacity=\"1\" stroke=\"#000000\" stroke-opacity=\"1\" stroke-width=\"3.2\"/>\n",
       "<circle clip-path=\"url(#clip212)\" cx=\"2273.13\" cy=\"1208.01\" r=\"14\" fill=\"#009af9\" fill-rule=\"evenodd\" fill-opacity=\"1\" stroke=\"#000000\" stroke-opacity=\"1\" stroke-width=\"3.2\"/>\n",
       "<circle clip-path=\"url(#clip212)\" cx=\"1443.92\" cy=\"1028.14\" r=\"14\" fill=\"#009af9\" fill-rule=\"evenodd\" fill-opacity=\"1\" stroke=\"#000000\" stroke-opacity=\"1\" stroke-width=\"3.2\"/>\n",
       "<circle clip-path=\"url(#clip212)\" cx=\"334.1\" cy=\"357.525\" r=\"14\" fill=\"#009af9\" fill-rule=\"evenodd\" fill-opacity=\"1\" stroke=\"#000000\" stroke-opacity=\"1\" stroke-width=\"3.2\"/>\n",
       "<polyline clip-path=\"url(#clip212)\" style=\"stroke:#e26f46; stroke-width:4; stroke-opacity:1; fill:none\" points=\"\n",
       "  224.444,1031.07 245.108,869.742 265.771,728.679 286.434,606.588 307.097,502.215 327.76,414.352 348.424,341.831 369.087,283.528 389.75,238.359 410.413,205.282 \n",
       "  431.077,183.295 451.74,171.435 472.403,168.78 493.066,174.443 513.729,187.577 534.393,207.373 555.056,233.056 575.719,263.889 596.382,299.17 617.046,338.231 \n",
       "  637.709,380.437 658.372,425.19 679.035,471.92 699.698,520.094 720.362,569.207 741.025,618.786 761.688,668.39 782.351,717.605 803.014,766.048 823.678,813.363 \n",
       "  844.341,859.224 865.004,903.33 885.667,945.408 906.331,985.21 926.994,1022.51 947.657,1057.12 968.32,1088.86 988.983,1117.59 1009.65,1143.17 1030.31,1165.49 \n",
       "  1050.97,1184.49 1071.64,1200.09 1092.3,1212.26 1112.96,1220.97 1133.63,1226.22 1154.29,1228.03 1174.95,1226.43 1195.62,1221.46 1216.28,1213.21 1236.94,1201.75 \n",
       "  1257.61,1187.19 1278.27,1169.63 1298.93,1149.21 1319.59,1126.07 1340.26,1100.36 1360.92,1072.26 1381.58,1041.93 1402.25,1009.57 1422.91,975.389 1443.57,939.587 \n",
       "  1464.24,902.386 1484.9,864.016 1505.56,824.714 1526.23,784.722 1546.89,744.293 1567.55,703.683 1588.22,663.153 1608.88,622.973 1629.54,583.413 1650.21,544.748 \n",
       "  1670.87,507.258 1691.53,471.222 1712.2,436.924 1732.86,404.646 1753.52,374.675 1774.19,347.293 1794.85,322.785 1815.51,301.432 1836.18,283.516 1856.84,269.314 \n",
       "  1877.5,259.101 1898.17,253.149 1918.83,251.723 1939.49,255.085 1960.15,263.491 1980.82,277.192 2001.48,296.429 2022.14,321.439 2042.81,352.448 2063.47,389.675 \n",
       "  2084.13,433.33 2104.8,483.611 2125.46,540.707 2146.12,604.795 2166.79,676.042 2187.45,754.6 2208.11,840.61 2228.78,934.197 2249.44,1035.47 2270.1,1144.54 \n",
       "  2290.77,1261.47 \n",
       "  \"/>\n",
       "<polyline clip-path=\"url(#clip212)\" style=\"stroke:#3da44d; stroke-width:4; stroke-opacity:1; fill:none\" points=\"\n",
       "  224.444,783.84 245.108,725.263 265.771,667.271 286.434,610.445 307.097,555.35 327.76,502.539 348.424,452.539 369.087,405.848 389.75,362.935 410.413,324.227 \n",
       "  431.077,290.111 451.74,260.928 472.403,236.97 493.066,218.477 513.729,205.632 534.393,198.565 555.056,197.345 575.719,201.985 596.382,212.439 617.046,228.603 \n",
       "  637.709,250.314 658.372,277.356 679.035,309.458 699.698,346.301 720.362,387.515 741.025,432.689 761.688,481.372 782.351,533.077 803.014,587.287 823.678,643.461 \n",
       "  844.341,701.038 865.004,759.442 885.667,818.09 906.331,876.396 926.994,933.777 947.657,989.66 968.32,1043.49 988.983,1094.72 1009.65,1142.84 1030.31,1187.38 \n",
       "  1050.97,1227.89 1071.64,1263.96 1092.3,1295.23 1112.96,1321.4 1133.63,1342.19 1154.29,1357.4 1174.95,1366.88 1195.62,1370.54 1216.28,1368.33 1236.94,1360.29 \n",
       "  1257.61,1346.48 1278.27,1327.06 1298.93,1302.2 1319.59,1272.17 1340.26,1237.26 1360.92,1197.81 1381.58,1154.23 1402.25,1106.95 1422.91,1056.44 1443.57,1003.21 \n",
       "  1464.24,947.785 1484.9,890.723 1505.56,832.592 1526.23,773.974 1546.89,715.455 1567.55,657.619 1588.22,601.044 1608.88,546.296 1629.54,493.921 1650.21,444.443 \n",
       "  1670.87,398.356 1691.53,356.121 1712.2,318.159 1732.86,284.85 1753.52,256.527 1774.19,233.473 1794.85,215.918 1815.51,204.037 1836.18,197.949 1856.84,197.716 \n",
       "  1877.5,203.339 1898.17,214.762 1918.83,231.871 1939.49,254.495 1960.15,282.408 1980.82,315.331 2001.48,352.936 2022.14,394.846 2042.81,440.642 2063.47,489.868 \n",
       "  2084.13,542.031 2104.8,596.61 2125.46,653.06 2146.12,710.817 2166.79,769.303 2187.45,827.934 2208.11,886.125 2228.78,943.294 2249.44,998.869 2270.1,1052.3 \n",
       "  2290.77,1103.04 \n",
       "  \"/>\n",
       "</svg>\n"
      ]
     },
     "execution_count": 88,
     "metadata": {},
     "output_type": "execute_result"
    }
   ],
   "source": [
    "scatter(x,y, legend=false)\n",
    "plot!(0:0.1:10, x->sum(w[i]*x^(i-1) for i in eachindex(w)))\n",
    "plot!(0:0.1:10,sin)"
   ]
  },
  {
   "cell_type": "code",
   "execution_count": null,
   "metadata": {},
   "outputs": [],
   "source": []
  }
 ],
 "metadata": {
  "@webio": {
   "lastCommId": null,
   "lastKernelId": null
  },
  "kernelspec": {
   "display_name": "Julia 1.4.2",
   "language": "julia",
   "name": "julia-1.4"
  },
  "language_info": {
   "file_extension": ".jl",
   "mimetype": "application/julia",
   "name": "julia",
   "version": "1.4.2"
  }
 },
 "nbformat": 4,
 "nbformat_minor": 4
}

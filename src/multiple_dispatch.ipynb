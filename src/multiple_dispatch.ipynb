{
 "cells": [
  {
   "cell_type": "markdown",
   "metadata": {
    "slideshow": {
     "slide_type": "slide"
    }
   },
   "source": [
    "# The Design Impact of Multiple Dispatch\n",
    "## As the core paradigm of Julia\n",
    "[@StefanKarpinski](http://twitter.com/StefanKarpinski)\n",
    "presented at Strange Loop on September 19, 2013\n",
    "\n",
    "[Original notebok](https://gist.github.com/StefanKarpinski/b8fe9dbb36c1427b9f22#file-multiple_dispatch-ipynb)\n",
    "Converted by [@perfectionatic](http://twitter.com/perfectionatic) May 2020 to be Julia 1.x compatible "
   ]
  },
  {
   "cell_type": "markdown",
   "metadata": {
    "slideshow": {
     "slide_type": "slide"
    }
   },
   "source": [
    "# What is Multiple Dispatch?\n",
    "\n",
    "- **dynamic** — based on actual run-time type, not static type\n",
    "- **mulitple** — based on all arguments, not just the receiver\n",
    "\n",
    "Tends to be written as **function application**:\n",
    "\n",
    "- `f(a,b,c)` ⟸ LIKE THIS\n",
    "- `a.f(b,c)` ⟸ NOT THIS"
   ]
  },
  {
   "cell_type": "markdown",
   "metadata": {
    "slideshow": {
     "slide_type": "subslide"
    }
   },
   "source": [
    "## Multiple Dispatch ≠ Method Overloading\n",
    "\n",
    "In Java or C++ you can provide these virtual methods:\n",
    "\n",
    "    Parent this: f(Parent that)\n",
    "    Parent this: f(Child  that)\n",
    "    Child  this: f(Parent that)\n",
    "    Child  this: f(Child  that)\n",
    "\n",
    "Dispatched on `this` but not on `that`\n",
    "\n",
    "- can dispatch on both using the **double dispatch** pattern\n",
    "\n",
    "However, quoting [Double Dispatch is a Code Smell][1]:\n",
    "\n",
    "> The presence of Double Dispatch generally means that each type in a hierarchy has special handling code within another hierarchy of types. This approach to representing variant behavior leads to code that is less resilient to future changes as well as being more difficult to extend.\n",
    "\n",
    "Something smells, but it's not necessarily the double dispatch\n",
    "\n",
    "- *double dispatch is only a code smell in single dispatch languages*\n",
    "\n",
    "[1]: http://lostechies.com/derekgreer/2010/04/19/double-dispatch-is-a-code-smell/"
   ]
  },
  {
   "cell_type": "markdown",
   "metadata": {
    "slideshow": {
     "slide_type": "slide"
    }
   },
   "source": [
    "# Multiple Dispatch in Julia\n",
    "\n",
    "#### Basic dispatch:"
   ]
  },
  {
   "cell_type": "code",
   "execution_count": 1,
   "metadata": {},
   "outputs": [
    {
     "data": {
      "text/plain": [
       "f (generic function with 5 methods)"
      ]
     },
     "execution_count": 1,
     "metadata": {},
     "output_type": "execute_result"
    }
   ],
   "source": [
    "f(a::Any, b) = \"fallback\"\n",
    "f(a::Number, b::Number) = \"a and b are both numbers\"\n",
    "f(a::Number, b) = \"a is a number\"\n",
    "f(a, b::Number) = \"b is a number\"\n",
    "f(a::Integer, b::Integer) = \"a and b are both integers\""
   ]
  },
  {
   "cell_type": "code",
   "execution_count": 2,
   "metadata": {},
   "outputs": [
    {
     "data": {
      "text/plain": [
       "\"a and b are both numbers\""
      ]
     },
     "execution_count": 2,
     "metadata": {},
     "output_type": "execute_result"
    }
   ],
   "source": [
    "f(1.5,2)"
   ]
  },
  {
   "cell_type": "code",
   "execution_count": 3,
   "metadata": {},
   "outputs": [
    {
     "data": {
      "text/plain": [
       "\"a is a number\""
      ]
     },
     "execution_count": 3,
     "metadata": {},
     "output_type": "execute_result"
    }
   ],
   "source": [
    "f(1,\"bar\")"
   ]
  },
  {
   "cell_type": "code",
   "execution_count": 4,
   "metadata": {},
   "outputs": [
    {
     "data": {
      "text/plain": [
       "\"a and b are both integers\""
      ]
     },
     "execution_count": 4,
     "metadata": {},
     "output_type": "execute_result"
    }
   ],
   "source": [
    "f(1,2)"
   ]
  },
  {
   "cell_type": "code",
   "execution_count": 5,
   "metadata": {},
   "outputs": [
    {
     "data": {
      "text/plain": [
       "\"fallback\""
      ]
     },
     "execution_count": 5,
     "metadata": {},
     "output_type": "execute_result"
    }
   ],
   "source": [
    "f(\"foo\",[1,2])"
   ]
  },
  {
   "cell_type": "markdown",
   "metadata": {
    "slideshow": {
     "slide_type": "subslide"
    }
   },
   "source": [
    "#### \"Diagonal\" dispatch:"
   ]
  },
  {
   "cell_type": "code",
   "execution_count": 6,
   "metadata": {},
   "outputs": [
    {
     "data": {
      "text/plain": [
       "f (generic function with 6 methods)"
      ]
     },
     "execution_count": 6,
     "metadata": {},
     "output_type": "execute_result"
    }
   ],
   "source": [
    "f(a::T, b::T) where T<:Number = \"a and b are both $(T)s\""
   ]
  },
  {
   "cell_type": "code",
   "execution_count": 7,
   "metadata": {},
   "outputs": [
    {
     "data": {
      "text/plain": [
       "\"a and b are both BigFloats\""
      ]
     },
     "execution_count": 7,
     "metadata": {},
     "output_type": "execute_result"
    }
   ],
   "source": [
    "f(big(1.5),big(2.5))"
   ]
  },
  {
   "cell_type": "code",
   "execution_count": 8,
   "metadata": {},
   "outputs": [
    {
     "data": {
      "text/plain": [
       "\"a and b are both integers\""
      ]
     },
     "execution_count": 8,
     "metadata": {},
     "output_type": "execute_result"
    }
   ],
   "source": [
    "f(big(1),big(2)) #<== integer rule is more specific"
   ]
  },
  {
   "cell_type": "code",
   "execution_count": 9,
   "metadata": {},
   "outputs": [
    {
     "data": {
      "text/plain": [
       "\"fallback\""
      ]
     },
     "execution_count": 9,
     "metadata": {},
     "output_type": "execute_result"
    }
   ],
   "source": [
    "f(\"foo\",\"bar\") #<== still doesn't apply to non-numbers"
   ]
  },
  {
   "cell_type": "markdown",
   "metadata": {
    "slideshow": {
     "slide_type": "subslide"
    }
   },
   "source": [
    "#### Varargs methods:"
   ]
  },
  {
   "cell_type": "code",
   "execution_count": 10,
   "metadata": {},
   "outputs": [
    {
     "data": {
      "text/plain": [
       "f (generic function with 8 methods)"
      ]
     },
     "execution_count": 10,
     "metadata": {},
     "output_type": "execute_result"
    }
   ],
   "source": [
    "f(args::Number...) = \"$(length(args))-ary heterogeneous call\"\n",
    "f(args::T...) where {T<:Number}= \"$(length(args))-ary homogeneous call\""
   ]
  },
  {
   "cell_type": "code",
   "execution_count": 11,
   "metadata": {},
   "outputs": [
    {
     "data": {
      "text/plain": [
       "\"1-ary homogeneous call\""
      ]
     },
     "execution_count": 11,
     "metadata": {},
     "output_type": "execute_result"
    }
   ],
   "source": [
    "f(1)"
   ]
  },
  {
   "cell_type": "code",
   "execution_count": 12,
   "metadata": {},
   "outputs": [
    {
     "data": {
      "text/plain": [
       "\"3-ary homogeneous call\""
      ]
     },
     "execution_count": 12,
     "metadata": {},
     "output_type": "execute_result"
    }
   ],
   "source": [
    "f(1,2,3)"
   ]
  },
  {
   "cell_type": "code",
   "execution_count": 13,
   "metadata": {},
   "outputs": [
    {
     "data": {
      "text/plain": [
       "\"3-ary heterogeneous call\""
      ]
     },
     "execution_count": 13,
     "metadata": {},
     "output_type": "execute_result"
    }
   ],
   "source": [
    "f(1,1.5,2)"
   ]
  },
  {
   "cell_type": "code",
   "execution_count": 14,
   "metadata": {},
   "outputs": [
    {
     "data": {
      "text/plain": [
       "\"a and b are both integers\""
      ]
     },
     "execution_count": 14,
     "metadata": {},
     "output_type": "execute_result"
    }
   ],
   "source": [
    "f(1,2) # <== previous 2-arg method is more specific"
   ]
  },
  {
   "cell_type": "code",
   "execution_count": 15,
   "metadata": {},
   "outputs": [
    {
     "ename": "MethodError",
     "evalue": "MethodError: no method matching f(::String)\nClosest candidates are:\n  f(::Any, !Matched::Number) at In[1]:4\n  f(::Any, !Matched::Any) at In[1]:1\n  f(!Matched::Integer, !Matched::Integer) at In[1]:5\n  ...",
     "output_type": "error",
     "traceback": [
      "MethodError: no method matching f(::String)\nClosest candidates are:\n  f(::Any, !Matched::Number) at In[1]:4\n  f(::Any, !Matched::Any) at In[1]:1\n  f(!Matched::Integer, !Matched::Integer) at In[1]:5\n  ...",
      "",
      "Stacktrace:",
      " [1] top-level scope at In[15]:1"
     ]
    }
   ],
   "source": [
    "f(\"foo\") #<== doesn't apply to non-numbers"
   ]
  },
  {
   "cell_type": "markdown",
   "metadata": {
    "slideshow": {
     "slide_type": "slide"
    }
   },
   "source": [
    "# Multiple Dispatch in Ruby\n",
    "\n",
    "Arithmetic operators:\n",
    "\n",
    "    Number + Number    | String + String  | Array + Array\n",
    "    Number - Number    | Time - Time      | Time - Number     | Array - Array\n",
    "    Number * Number    | Array * Integer  | Array * String    | String * Integer\n",
    "    Integer << Integer | String << String | String << Integer\n",
    "\n",
    "Arrays, Hashes & Strings:\n",
    "\n",
    "    (Array|Hash).fetch(index,default|block)\n",
    "    (Array|Hash).new(object|block) | String.new(string)\n",
    "    (Array|Hash)[int|range]        | String[int|range|regex|string]\n",
    "    (Array|Hash)[int|range]=       | String[int|range|regex|string]=\n",
    "    Array.slice(int|range)         | String.slice(int|range|regex|string)\n",
    "    Array.slice!(int|range)        | String.slice!(int|range|regex|string)\n",
    "\n",
    "Just Strings:\n",
    "\n",
    "    String.index(string|int|regex)\n",
    "    String.rindex(string|int|regex)\n",
    "    String.sub(pattern,replacement|block)\n",
    "    String.sub!(pattern,replacement|block)\n",
    "    String.gsub(pattern,replacement|block)\n",
    "    String.gsub!(pattern,replacement|block)"
   ]
  },
  {
   "cell_type": "markdown",
   "metadata": {
    "slideshow": {
     "slide_type": "slide"
    }
   },
   "source": [
    "# Multiple Dispatch in English\n",
    "\n",
    "Related meanings:\n",
    "\n",
    "    \"she goes (home|away)\"     go(subj::Noun, where::PlaceAdverb)\n",
    "    \"it went (wrong|well)\"     go(subj::Noun, how::MannerAdverb)\n",
    "\n",
    "Default arguments:\n",
    "\n",
    "    \"go (home|away|well)\"      go(adv::Adverb) = go(Person(\"addressee\"), adv)\n",
    "    \"he goes\"                  go(subj::Noun)  = go(subj, PlaceAdverb(\"somewhere\"))\n",
    "    \"go\"                       go()            = go(PlaceAdverb(\"somewhere\"))\n",
    "\n",
    "Fragment of type hierarchy:\n",
    "\n",
    "    Person <: Noun\n",
    "    PlaceAdverb <: Adverb\n",
    "    MannerAdverb <: Adverb"
   ]
  },
  {
   "cell_type": "markdown",
   "metadata": {
    "slideshow": {
     "slide_type": "slide"
    }
   },
   "source": [
    "# Multiple Dispatch is Object-Oriented\n",
    "\n",
    "Not surprising that o.o. languages are emulating multiple dispatch\n",
    "\n",
    "- convenient, natural way to exress complex polymorphic behaviors\n",
    "- and it's all about dispatch and subtyping of data\n",
    "\n",
    "But they're missing a really crucial ingredient\n",
    "\n",
    "- a bit like having `eval` without being able to manipulate code as data"
   ]
  },
  {
   "cell_type": "markdown",
   "metadata": {
    "slideshow": {
     "slide_type": "slide"
    }
   },
   "source": [
    "# Generic Functions are Functional\n",
    "\n",
    "A generic function is a **first-class object**\n",
    "\n",
    "- can be passed around, e.g. to higher-order functions\n",
    "- but remains extensible unlike \"classical\" functions"
   ]
  },
  {
   "cell_type": "code",
   "execution_count": 16,
   "metadata": {},
   "outputs": [
    {
     "data": {
      "text/plain": [
       "f (generic function with 8 methods)"
      ]
     },
     "execution_count": 16,
     "metadata": {},
     "output_type": "execute_result"
    }
   ],
   "source": [
    "f"
   ]
  },
  {
   "cell_type": "code",
   "execution_count": 17,
   "metadata": {},
   "outputs": [
    {
     "data": {
      "text/html": [
       "# 8 methods for generic function <b>f</b>:<ul><li> f(a::<b>Integer</b>, b::<b>Integer</b>) in Main at In[1]:5</li> <li> f(a::<b>T</b>, b::<b>T</b>)<i> where T<:Number</i> in Main at In[6]:1</li> <li> f(a::<b>Number</b>, b::<b>Number</b>) in Main at In[1]:2</li> <li> f(args::<b>T...</b>)<i> where T<:Number</i> in Main at In[10]:2</li> <li> f(args::<b>Number...</b>) in Main at In[10]:1</li> <li> f(a::<b>Number</b>, b) in Main at In[1]:3</li> <li> f(a, b::<b>Number</b>) in Main at In[1]:4</li> <li> f(a, b) in Main at In[1]:1</li> </ul>"
      ],
      "text/plain": [
       "# 8 methods for generic function \"f\":\n",
       "[1] f(a::Integer, b::Integer) in Main at In[1]:5\n",
       "[2] f(a::T, b::T) where T<:Number in Main at In[6]:1\n",
       "[3] f(a::Number, b::Number) in Main at In[1]:2\n",
       "[4] f(args::T...) where T<:Number in Main at In[10]:2\n",
       "[5] f(args::Number...) in Main at In[10]:1\n",
       "[6] f(a::Number, b) in Main at In[1]:3\n",
       "[7] f(a, b::Number) in Main at In[1]:4\n",
       "[8] f(a, b) in Main at In[1]:1"
      ]
     },
     "execution_count": 17,
     "metadata": {},
     "output_type": "execute_result"
    }
   ],
   "source": [
    "methods(f)"
   ]
  },
  {
   "cell_type": "code",
   "execution_count": 18,
   "metadata": {},
   "outputs": [
    {
     "data": {
      "text/plain": [
       "\"fallback\""
      ]
     },
     "execution_count": 18,
     "metadata": {},
     "output_type": "execute_result"
    }
   ],
   "source": [
    "f2(x) = f(x,x)\n",
    "\n",
    "f2(\"foo\")"
   ]
  },
  {
   "cell_type": "code",
   "execution_count": 19,
   "metadata": {},
   "outputs": [
    {
     "data": {
      "text/plain": [
       "\"a and b are both strings\""
      ]
     },
     "execution_count": 19,
     "metadata": {},
     "output_type": "execute_result"
    }
   ],
   "source": [
    "f(a::String, b::String) = \"a and b are both strings\";\n",
    "\n",
    "f2(\"foo\")"
   ]
  },
  {
   "cell_type": "markdown",
   "metadata": {
    "slideshow": {
     "slide_type": "slide"
    }
   },
   "source": [
    "# The Expression Problem\n",
    "\n",
    "Mads Torgersen's paper [The Expression Problem Revisited][2]:\n",
    "\n",
    "> To which degree can your application be structured in such a way that both the data model and the set of virtual operations over it can be extended without the need to modify existing code, without the need for code repetition and without runtime type errors.\n",
    "\n",
    "[2]: http://www.daimi.au.dk/~madst/ecoop04/main.pdf\n",
    "\n",
    "Basically you want to be able to add:\n",
    "\n",
    "1. **new types** to which you can apply existing operations → easy in o.o., hard in functional\n",
    "2. **new operations** which you can apply to existing types → easy in function, hard in o.o."
   ]
  },
  {
   "cell_type": "markdown",
   "metadata": {
    "slideshow": {
     "slide_type": "slide"
    }
   },
   "source": [
    "# Interval Arithmetic"
   ]
  },
  {
   "cell_type": "code",
   "execution_count": 20,
   "metadata": {},
   "outputs": [],
   "source": [
    "struct Interval{T<:Real} <: Number\n",
    "  lo::T\n",
    "  hi::T\n",
    "end\n",
    "\n",
    "(a::Real)..(b::Real) = Interval(a,b)\n",
    "\n",
    "Base.show(io::IO, iv::Interval) = print(io, \"($(iv.lo))..($(iv.hi))\")"
   ]
  },
  {
   "cell_type": "code",
   "execution_count": 21,
   "metadata": {},
   "outputs": [
    {
     "data": {
      "text/plain": [
       "(1)..(2)"
      ]
     },
     "execution_count": 21,
     "metadata": {},
     "output_type": "execute_result"
    }
   ],
   "source": [
    "1..2"
   ]
  },
  {
   "cell_type": "code",
   "execution_count": 22,
   "metadata": {},
   "outputs": [
    {
     "data": {
      "text/plain": [
       "Interval{Int64}"
      ]
     },
     "execution_count": 22,
     "metadata": {},
     "output_type": "execute_result"
    }
   ],
   "source": [
    "typeof(ans)"
   ]
  },
  {
   "cell_type": "code",
   "execution_count": 23,
   "metadata": {},
   "outputs": [
    {
     "data": {
      "text/plain": [
       "16"
      ]
     },
     "execution_count": 23,
     "metadata": {},
     "output_type": "execute_result"
    }
   ],
   "source": [
    "sizeof(1..2) # ==> two 8-byte ints"
   ]
  },
  {
   "cell_type": "code",
   "execution_count": 24,
   "metadata": {},
   "outputs": [
    {
     "data": {
      "text/plain": [
       "(1.5)..(2.5)"
      ]
     },
     "execution_count": 24,
     "metadata": {},
     "output_type": "execute_result"
    }
   ],
   "source": [
    "(1.5)..(2.5)"
   ]
  },
  {
   "cell_type": "code",
   "execution_count": 25,
   "metadata": {},
   "outputs": [
    {
     "data": {
      "text/plain": [
       "Interval{Float64}"
      ]
     },
     "execution_count": 25,
     "metadata": {},
     "output_type": "execute_result"
    }
   ],
   "source": [
    "typeof(ans)"
   ]
  },
  {
   "cell_type": "code",
   "execution_count": 26,
   "metadata": {},
   "outputs": [
    {
     "data": {
      "text/plain": [
       "(1//2)..(2//3)"
      ]
     },
     "execution_count": 26,
     "metadata": {},
     "output_type": "execute_result"
    }
   ],
   "source": [
    "(1//2)..(2//3)"
   ]
  },
  {
   "cell_type": "code",
   "execution_count": 27,
   "metadata": {},
   "outputs": [
    {
     "data": {
      "text/plain": [
       "Interval{Rational{Int64}}"
      ]
     },
     "execution_count": 27,
     "metadata": {},
     "output_type": "execute_result"
    }
   ],
   "source": [
    "typeof(ans)"
   ]
  },
  {
   "cell_type": "code",
   "execution_count": 28,
   "metadata": {},
   "outputs": [
    {
     "data": {
      "text/plain": [
       "32"
      ]
     },
     "execution_count": 28,
     "metadata": {},
     "output_type": "execute_result"
    }
   ],
   "source": [
    "sizeof((1//2)..(2//3)) # ==> just four 8-byte ints"
   ]
  },
  {
   "cell_type": "markdown",
   "metadata": {
    "slideshow": {
     "slide_type": "subslide"
    }
   },
   "source": [
    "#### Allowing end-points of different types"
   ]
  },
  {
   "cell_type": "code",
   "execution_count": 29,
   "metadata": {},
   "outputs": [
    {
     "data": {
      "text/html": [
       "# 4 methods for type constructor:<ul><li> (::<b>Type{Interval}</b>)(lo::<b>T</b>, hi::<b>T</b>)<i> where T<:Real</i> in Main at In[20]:2</li> <li> (::<b>Type{T}</b>)(x::<b>T</b>)<i> where T<:Number</i> in Core at <a href=\"file:///home/elbeltagy/temp/juliaExpr/julia1.4.1/julia-1.4.1/bin/../share/julia/base/boot.jl\" target=\"_blank\">boot.jl:715</a></li> <li> (::<b>Type{T}</b>)(x::<b>Base.TwicePrecision</b>)<i> where T<:Number</i> in Base at <a href=\"https://github.com/JuliaLang/julia/tree/381693d3dfc9b7072707f6d544f82f6637fc5e7c/base/twiceprecision.jl#L243\" target=\"_blank\">twiceprecision.jl:243</a></li> <li> (::<b>Type{T}</b>)(x::<b>AbstractChar</b>)<i> where T<:Union{AbstractChar, Number}</i> in Base at <a href=\"https://github.com/JuliaLang/julia/tree/381693d3dfc9b7072707f6d544f82f6637fc5e7c/base/char.jl#L50\" target=\"_blank\">char.jl:50</a></li> </ul>"
      ],
      "text/plain": [
       "# 4 methods for type constructor:\n",
       "[1] (::Type{Interval})(lo::T, hi::T) where T<:Real in Main at In[20]:2\n",
       "[2] (::Type{T})(x::T) where T<:Number in Core at boot.jl:715\n",
       "[3] (::Type{T})(x::Base.TwicePrecision) where T<:Number in Base at twiceprecision.jl:243\n",
       "[4] (::Type{T})(x::AbstractChar) where T<:Union{AbstractChar, Number} in Base at char.jl:50"
      ]
     },
     "execution_count": 29,
     "metadata": {},
     "output_type": "execute_result"
    }
   ],
   "source": [
    "methods(Interval)"
   ]
  },
  {
   "cell_type": "code",
   "execution_count": 30,
   "metadata": {},
   "outputs": [],
   "source": [
    "#(0.5)..(1) #<== would be a no method error because of mixed types"
   ]
  },
  {
   "cell_type": "code",
   "execution_count": 31,
   "metadata": {},
   "outputs": [
    {
     "data": {
      "text/plain": [
       "Interval"
      ]
     },
     "execution_count": 31,
     "metadata": {},
     "output_type": "execute_result"
    }
   ],
   "source": [
    "Interval(lo::Real, hi::Real) = Interval(promote(lo,hi)...)"
   ]
  },
  {
   "cell_type": "code",
   "execution_count": 32,
   "metadata": {},
   "outputs": [
    {
     "data": {
      "text/plain": [
       "(0.5)..(1.0)"
      ]
     },
     "execution_count": 32,
     "metadata": {},
     "output_type": "execute_result"
    }
   ],
   "source": [
    "(0.5)..1"
   ]
  },
  {
   "cell_type": "code",
   "execution_count": 33,
   "metadata": {},
   "outputs": [
    {
     "data": {
      "text/plain": [
       "(1.0)..(3.141592653589793)"
      ]
     },
     "execution_count": 33,
     "metadata": {},
     "output_type": "execute_result"
    }
   ],
   "source": [
    "1..π"
   ]
  },
  {
   "cell_type": "code",
   "execution_count": 34,
   "metadata": {},
   "outputs": [
    {
     "data": {
      "text/plain": [
       "(2.718281828459045)..(3.141592653589793)"
      ]
     },
     "execution_count": 34,
     "metadata": {},
     "output_type": "execute_result"
    }
   ],
   "source": [
    "ℯ..π"
   ]
  },
  {
   "cell_type": "markdown",
   "metadata": {
    "slideshow": {
     "slide_type": "subslide"
    }
   },
   "source": [
    "#### Extending the `+` and `-` operators\n",
    "\n",
    "Adding and subtracting intervals:"
   ]
  },
  {
   "cell_type": "code",
   "execution_count": 35,
   "metadata": {},
   "outputs": [],
   "source": [
    "import Base:+,-"
   ]
  },
  {
   "cell_type": "code",
   "execution_count": 36,
   "metadata": {},
   "outputs": [
    {
     "data": {
      "text/plain": [
       "- (generic function with 175 methods)"
      ]
     },
     "execution_count": 36,
     "metadata": {},
     "output_type": "execute_result"
    }
   ],
   "source": [
    "a::Interval + b::Interval = (a.lo + b.lo)..(a.hi + b.hi)\n",
    "a::Interval - b::Interval = (a.lo - b.hi)..(a.hi - b.lo)"
   ]
  },
  {
   "cell_type": "code",
   "execution_count": 37,
   "metadata": {},
   "outputs": [
    {
     "data": {
      "text/plain": [
       "(1)..(4)"
      ]
     },
     "execution_count": 37,
     "metadata": {},
     "output_type": "execute_result"
    }
   ],
   "source": [
    "(2..3) + (-1..1)"
   ]
  },
  {
   "cell_type": "code",
   "execution_count": 38,
   "metadata": {},
   "outputs": [
    {
     "data": {
      "text/plain": [
       "(0)..(2)"
      ]
     },
     "execution_count": 38,
     "metadata": {},
     "output_type": "execute_result"
    }
   ],
   "source": [
    "(2..3) - (1..2)"
   ]
  },
  {
   "cell_type": "markdown",
   "metadata": {},
   "source": [
    "What about arithmetic mixing intervals and numbers?\n",
    "\n",
    "- It's tempting to implement start implementing all combinations\n",
    "- However, there's a better, more \"Julian\" way.\n",
    "\n",
    "Instead, we'll hook `Intervals` into Julia's promotion system:"
   ]
  },
  {
   "cell_type": "code",
   "execution_count": 69,
   "metadata": {},
   "outputs": [
    {
     "data": {
      "text/plain": [
       "promote_rule (generic function with 124 methods)"
      ]
     },
     "execution_count": 69,
     "metadata": {},
     "output_type": "execute_result"
    }
   ],
   "source": [
    "import Base: convert, promote_rule #<== allows extending them\n",
    "\n",
    "convert(::Type{Interval{T}}, x::Real) where {T<:Real}= (x = convert(T,x); x..x)\n",
    "convert(::Type{Interval{T}}, iv::Interval) where {T<:Real}=\n",
    "    convert(T,iv.lo)..convert(T,iv.hi)\n",
    "\n",
    "promote_rule(::Type{Interval{A}}, ::Type{B}) where {A<:Real,B<:Real}= \n",
    "    Interval{promote_type(A,B)}\n",
    "promote_rule(::Type{Interval{A}}, ::Type{Interval{B}}) where {A<:Real,B<:Real}=\n",
    "    Interval{promote_type(A,B)}"
   ]
  },
  {
   "cell_type": "markdown",
   "metadata": {},
   "source": [
    "Presto! Everything now Just Works™:"
   ]
  },
  {
   "cell_type": "code",
   "execution_count": 40,
   "metadata": {},
   "outputs": [
    {
     "data": {
      "text/plain": [
       "(1)..(3)"
      ]
     },
     "execution_count": 40,
     "metadata": {},
     "output_type": "execute_result"
    }
   ],
   "source": [
    "1..2 + 1"
   ]
  },
  {
   "cell_type": "code",
   "execution_count": 41,
   "metadata": {},
   "outputs": [
    {
     "data": {
      "text/plain": [
       "(1.0)..(3.5)"
      ]
     },
     "execution_count": 41,
     "metadata": {},
     "output_type": "execute_result"
    }
   ],
   "source": [
    "1..2 + 1.5"
   ]
  },
  {
   "cell_type": "code",
   "execution_count": 42,
   "metadata": {},
   "outputs": [
    {
     "data": {
      "text/plain": [
       "(2//1)..(8//3)"
      ]
     },
     "execution_count": 42,
     "metadata": {},
     "output_type": "execute_result"
    }
   ],
   "source": [
    "3 - 1..2 + 2//3"
   ]
  },
  {
   "cell_type": "code",
   "execution_count": 43,
   "metadata": {},
   "outputs": [
    {
     "data": {
      "text/plain": [
       "(3802951800684688204490109616129//3)..(2//3)"
      ]
     },
     "execution_count": 43,
     "metadata": {},
     "output_type": "execute_result"
    }
   ],
   "source": [
    "big(2)^100 + (1//3)..(2//3)"
   ]
  },
  {
   "cell_type": "markdown",
   "metadata": {
    "slideshow": {
     "slide_type": "subslide"
    }
   },
   "source": [
    "#### Wait? What's going on here?\n",
    "\n",
    "Let's examine the last computation in detail:"
   ]
  },
  {
   "cell_type": "code",
   "execution_count": 44,
   "metadata": {},
   "outputs": [
    {
     "data": {
      "text/plain": [
       "(3802951800684688204490109616129//3)..(2//3)"
      ]
     },
     "execution_count": 44,
     "metadata": {},
     "output_type": "execute_result"
    }
   ],
   "source": [
    "big(2)^100 + (1//3)..(2//3)"
   ]
  },
  {
   "cell_type": "code",
   "execution_count": 45,
   "metadata": {},
   "outputs": [
    {
     "data": {
      "text/plain": [
       "Interval{Rational{BigInt}}"
      ]
     },
     "execution_count": 45,
     "metadata": {},
     "output_type": "execute_result"
    }
   ],
   "source": [
    "typeof(ans)"
   ]
  },
  {
   "cell_type": "code",
   "execution_count": 46,
   "metadata": {},
   "outputs": [
    {
     "data": {
      "text/html": [
       "+(x::<b>Number</b>, y::<b>Number</b>) in Base at <a href=\"https://github.com/JuliaLang/julia/tree/381693d3dfc9b7072707f6d544f82f6637fc5e7c/base/promotion.jl#L311\" target=\"_blank\">promotion.jl:311</a>"
      ],
      "text/plain": [
       "+(x::Number, y::Number) in Base at promotion.jl:311"
      ]
     },
     "execution_count": 46,
     "metadata": {},
     "output_type": "execute_result"
    }
   ],
   "source": [
    "@which +(big(2)^100 ,(1//3)..(2//3))"
   ]
  },
  {
   "cell_type": "markdown",
   "metadata": {},
   "source": [
    "The left-hand-side is a `BigInt`:"
   ]
  },
  {
   "cell_type": "code",
   "execution_count": 47,
   "metadata": {},
   "outputs": [
    {
     "data": {
      "text/plain": [
       "1267650600228229401496703205376"
      ]
     },
     "execution_count": 47,
     "metadata": {},
     "output_type": "execute_result"
    }
   ],
   "source": [
    "big(2)^100"
   ]
  },
  {
   "cell_type": "code",
   "execution_count": 48,
   "metadata": {},
   "outputs": [
    {
     "data": {
      "text/plain": [
       "BigInt"
      ]
     },
     "execution_count": 48,
     "metadata": {},
     "output_type": "execute_result"
    }
   ],
   "source": [
    "typeof(ans)"
   ]
  },
  {
   "cell_type": "markdown",
   "metadata": {},
   "source": [
    "The right-hand-side is an interval of rationals of 64-bit integers:"
   ]
  },
  {
   "cell_type": "code",
   "execution_count": 49,
   "metadata": {},
   "outputs": [
    {
     "data": {
      "text/plain": [
       "Interval{Rational{Int64}}"
      ]
     },
     "execution_count": 49,
     "metadata": {},
     "output_type": "execute_result"
    }
   ],
   "source": [
    "typeof((1//3)..(2//3))"
   ]
  },
  {
   "cell_type": "markdown",
   "metadata": {},
   "source": [
    "There are no methods for adding these specific types\n",
    "\n",
    "- a very general fallback method defined for adding numbers is called\n",
    "\n",
    "This method is defined in `base/promote.jl`:\n",
    "\n",
    "    +(x::Number, y::Number) = +(promote(x,y)...)\n",
    "\n",
    "The `promote` function for two arguments looks like this:\n",
    "\n",
    "    promote(x::T, y::S) where {T,S} =\n",
    "        (convert(promote_type(T,S),x), convert(promote_type(T,S),y))\n",
    "\n",
    "where `promote_type` is defined in terms of `promote_rule` — it's a bit complicated.\n",
    "\n",
    "Now, the following promotion rules exist:\n",
    "\n",
    "```\n",
    "promote_rule(::Type{Interval{A}}, ::Type{B}) where {A<:Real,B<:Real} = \n",
    "    Interval{promote_type(A,B)}\n",
    "\n",
    "promote_rule(::Type{Rational{A}}, ::Type{B}) where {A<:Integer,B<:Integer} =\n",
    "    Rational{promote_type(A,B)}\n",
    "\n",
    "promote_rule(::Type{BigInt}, ::Type{T}) where {T<:Integer}= BigInt\n",
    "```\n",
    "\n",
    "These all kick in when computing `promote_type`, producing this result:"
   ]
  },
  {
   "cell_type": "code",
   "execution_count": 50,
   "metadata": {},
   "outputs": [
    {
     "data": {
      "text/plain": [
       "Interval{Rational{BigInt}}"
      ]
     },
     "execution_count": 50,
     "metadata": {},
     "output_type": "execute_result"
    }
   ],
   "source": [
    "promote_type(Interval{Rational{Int64}}, BigInt)"
   ]
  },
  {
   "cell_type": "markdown",
   "metadata": {},
   "source": [
    "So `promote` converts both `big(2)^100` and `(1//3)..(2//3)` to `Interval{Rational{Int64}}`:"
   ]
  },
  {
   "cell_type": "code",
   "execution_count": 51,
   "metadata": {},
   "outputs": [
    {
     "data": {
      "text/plain": [
       "(1267650600228229401496703205376//1)..(1267650600228229401496703205376//1)"
      ]
     },
     "execution_count": 51,
     "metadata": {},
     "output_type": "execute_result"
    }
   ],
   "source": [
    "convert(Interval{Rational{BigInt}}, big(2)^100)"
   ]
  },
  {
   "cell_type": "code",
   "execution_count": 52,
   "metadata": {},
   "outputs": [
    {
     "data": {
      "text/plain": [
       "(1//3)..(2//3)"
      ]
     },
     "execution_count": 52,
     "metadata": {},
     "output_type": "execute_result"
    }
   ],
   "source": [
    "convert(Interval{Rational{BigInt}}, (1//3)..(2//3))"
   ]
  },
  {
   "cell_type": "markdown",
   "metadata": {},
   "source": [
    "After that adding them is just a call to the `+` method for same-typed `Intervals`."
   ]
  },
  {
   "cell_type": "markdown",
   "metadata": {
    "slideshow": {
     "slide_type": "subslide"
    }
   },
   "source": [
    "#### Defining a new ± operator\n",
    "\n",
    "The syntax for ± already exists in the parser, but its behavior is undefined:"
   ]
  },
  {
   "cell_type": "code",
   "execution_count": 53,
   "metadata": {},
   "outputs": [
    {
     "data": {
      "text/plain": [
       ":(2 ± 1)"
      ]
     },
     "execution_count": 53,
     "metadata": {},
     "output_type": "execute_result"
    }
   ],
   "source": [
    ":(2 ± 1)"
   ]
  },
  {
   "cell_type": "code",
   "execution_count": 54,
   "metadata": {},
   "outputs": [
    {
     "ename": "UndefVarError",
     "evalue": "UndefVarError: ± not defined",
     "output_type": "error",
     "traceback": [
      "UndefVarError: ± not defined",
      "",
      "Stacktrace:",
      " [1] top-level scope at In[54]:1"
     ]
    }
   ],
   "source": [
    "2 ± 1"
   ]
  },
  {
   "cell_type": "markdown",
   "metadata": {},
   "source": [
    "Let's define it:"
   ]
  },
  {
   "cell_type": "code",
   "execution_count": 55,
   "metadata": {},
   "outputs": [
    {
     "data": {
      "text/plain": [
       "± (generic function with 3 methods)"
      ]
     },
     "execution_count": 55,
     "metadata": {},
     "output_type": "execute_result"
    }
   ],
   "source": [
    "a::Real     ± b::Real     = (a - b)..(a + b)\n",
    "a::Interval ± b::Interval = (a.lo - b.hi)..(a.hi + b.hi)\n",
    "a::Number   ± b::Number   = ±(promote(a,b)...)"
   ]
  },
  {
   "cell_type": "code",
   "execution_count": 56,
   "metadata": {},
   "outputs": [
    {
     "data": {
      "text/plain": [
       "(-1)..(3)"
      ]
     },
     "execution_count": 56,
     "metadata": {},
     "output_type": "execute_result"
    }
   ],
   "source": [
    "1 ± 2"
   ]
  },
  {
   "cell_type": "code",
   "execution_count": 57,
   "metadata": {},
   "outputs": [
    {
     "data": {
      "text/plain": [
       "(0.6415926535897931)..(1.6415926535897931)"
      ]
     },
     "execution_count": 57,
     "metadata": {},
     "output_type": "execute_result"
    }
   ],
   "source": [
    "float(π) - (2 ± 1//2)"
   ]
  },
  {
   "cell_type": "markdown",
   "metadata": {},
   "source": [
    "Notice that:\n",
    "\n",
    "- hooking into the promotion system requires a bit of thought\n",
    "- but it's a one-time cost – adding new promoting operations is easy\n",
    "- types can work together smoothly without knowing about each other"
   ]
  },
  {
   "cell_type": "markdown",
   "metadata": {
    "slideshow": {
     "slide_type": "subslide"
    }
   },
   "source": [
    "## Interval Arithmetic Recap\n",
    "\n",
    "#### Basic type definition\n",
    "\n",
    "    immutable Interval <: Number where {T<:Real}\n",
    "      lo::T\n",
    "      hi::T\n",
    "    end\n",
    "    Interval(lo::Real, hi::Real) = Interval(promote(lo,hi)...)\n",
    "    \n",
    "    (a::Real)..(b::Real) = Interval(a,b)\n",
    "    \n",
    "    Base.show(io::IO, iv::Interval) = print(io, \"($(iv.lo))..($(iv.hi))\")\n",
    "    \n",
    "#### Conversion & promotion rules\n",
    "\n",
    "    import Base: convert, promote_rule\n",
    "    \n",
    "    convert(::Type{Interval{T}}, x::Real) where {T<:Real}= (x = convert(T,x); x..x)\n",
    "    convert(::Type{Interval{T}}, iv::Interval) where {T<:Real} =\n",
    "        convert(T,iv.lo)..convert(T,iv.hi)\n",
    "    \n",
    "    promote_rule(::Type{Interval{A}}, ::Type{B}) where {A<:Real,B<:Real} = \n",
    "        Interval{promote_type(A,B)}\n",
    "    promote_rule(::Type{Interval{A}}, ::Type{Interval{B}}) where {A<:Real,B<:Real}=\n",
    "        Interval{promote_type(A,B)}\n",
    "    \n",
    "#### Core arithmetic\n",
    "\n",
    "    a::Interval + b::Interval = (a.lo + b.lo)..(a.hi + b.hi)\n",
    "    a::Interval - b::Interval = (a.lo - b.hi)..(a.hi - b.lo)\n",
    "    \n",
    "    a::Real     ± b::Real     = (a - b)..(a + b)\n",
    "    a::Interval ± b::Interval = (a.lo - b.hi)..(a.hi + b.hi)\n",
    "    a::Number   ± b::Number   = ±(promote(a,b)...)\n",
    "\n",
    "Generic functions elegantly and smoothly solve the expression problem:\n",
    "\n",
    "  - new `Interval` type works with built-in `+` and `-` operators\n",
    "  - new `±` operator works with built-in `Int` type"
   ]
  },
  {
   "cell_type": "markdown",
   "metadata": {
    "slideshow": {
     "slide_type": "slide"
    }
   },
   "source": [
    "# Taking Multiple Dispatch Seriously\n",
    "\n",
    "Generic function in Julia aren't special – they're the default\n",
    "\n",
    "- even really basic things like `+` are generic functions"
   ]
  },
  {
   "cell_type": "code",
   "execution_count": 58,
   "metadata": {},
   "outputs": [
    {
     "data": {
      "text/plain": [
       "+ (generic function with 167 methods)"
      ]
     },
     "execution_count": 58,
     "metadata": {},
     "output_type": "execute_result"
    }
   ],
   "source": [
    "+"
   ]
  },
  {
   "cell_type": "markdown",
   "metadata": {},
   "source": [
    "This means you're free to extend *everything*\n",
    "\n",
    "- not just functions that were planned to be extended"
   ]
  },
  {
   "cell_type": "markdown",
   "metadata": {
    "slideshow": {
     "slide_type": "slide"
    }
   },
   "source": [
    "# Performance"
   ]
  },
  {
   "cell_type": "code",
   "execution_count": 59,
   "metadata": {},
   "outputs": [
    {
     "name": "stdout",
     "output_type": "stream",
     "text": [
      "\n",
      ";  @ int.jl:53 within `+'\n",
      "define i64 @\"julia_+_16728\"(i64, i64) {\n",
      "top:\n",
      "  %2 = add i64 %1, %0\n",
      "  ret i64 %2\n",
      "}\n"
     ]
    }
   ],
   "source": [
    "code_llvm(+,(Int,Int))"
   ]
  },
  {
   "cell_type": "code",
   "execution_count": 60,
   "metadata": {},
   "outputs": [
    {
     "name": "stdout",
     "output_type": "stream",
     "text": [
      "\n",
      ";  @ promotion.jl:311 within `+'\n",
      "define double @\"julia_+_17958\"(i64, double) {\n",
      "top:\n",
      "; ┌ @ promotion.jl:282 within `promote'\n",
      "; │┌ @ promotion.jl:259 within `_promote'\n",
      "; ││┌ @ number.jl:7 within `convert'\n",
      "; │││┌ @ float.jl:60 within `Float64'\n",
      "      %2 = sitofp i64 %0 to double\n",
      "; └└└└\n",
      ";  @ promotion.jl:311 within `+' @ float.jl:401\n",
      "  %3 = fadd double %2, %1\n",
      ";  @ promotion.jl:311 within `+'\n",
      "  ret double %3\n",
      "}\n"
     ]
    }
   ],
   "source": [
    "code_llvm(+,(Int,Float64))"
   ]
  },
  {
   "cell_type": "markdown",
   "metadata": {
    "slideshow": {
     "slide_type": "subslide"
    }
   },
   "source": [
    "## User Code is Also Fast\n",
    "\n",
    "Let's define a scalar-valued function using the `Interval` type we just defined:"
   ]
  },
  {
   "cell_type": "code",
   "execution_count": 61,
   "metadata": {},
   "outputs": [
    {
     "data": {
      "text/plain": [
       "hi (generic function with 1 method)"
      ]
     },
     "execution_count": 61,
     "metadata": {},
     "output_type": "execute_result"
    }
   ],
   "source": [
    "lo(a,b) = (a ± b).lo\n",
    "hi(a,b) = (a ± b).hi"
   ]
  },
  {
   "cell_type": "code",
   "execution_count": 62,
   "metadata": {},
   "outputs": [
    {
     "data": {
      "text/plain": [
       "(1, 5)"
      ]
     },
     "execution_count": 62,
     "metadata": {},
     "output_type": "execute_result"
    }
   ],
   "source": [
    "lo(3,2), hi(3,2)"
   ]
  },
  {
   "cell_type": "code",
   "execution_count": 63,
   "metadata": {},
   "outputs": [
    {
     "name": "stdout",
     "output_type": "stream",
     "text": [
      "\n",
      ";  @ In[61]:1 within `lo'\n",
      "define i64 @julia_lo_18155(i64, i64) {\n",
      "top:\n",
      "; ┌ @ In[55]:1 within `±'\n",
      "; │┌ @ int.jl:52 within `-'\n",
      "    %2 = sub i64 %0, %1\n",
      "; └└\n",
      "  ret i64 %2\n",
      "}\n"
     ]
    }
   ],
   "source": [
    "code_llvm(lo,(Int,Int))"
   ]
  },
  {
   "cell_type": "code",
   "execution_count": 64,
   "metadata": {},
   "outputs": [
    {
     "name": "stdout",
     "output_type": "stream",
     "text": [
      "\n",
      ";  @ In[61]:2 within `hi'\n",
      "define i64 @julia_hi_18156(i64, i64) {\n",
      "top:\n",
      "; ┌ @ In[55]:1 within `±'\n",
      "; │┌ @ int.jl:53 within `+'\n",
      "    %2 = add i64 %1, %0\n",
      "; └└\n",
      "  ret i64 %2\n",
      "}\n"
     ]
    }
   ],
   "source": [
    "code_llvm(hi,(Int,Int))"
   ]
  },
  {
   "cell_type": "markdown",
   "metadata": {},
   "source": [
    "Even for complex combinations of types, generated code is very efficient:"
   ]
  },
  {
   "cell_type": "code",
   "execution_count": 65,
   "metadata": {},
   "outputs": [
    {
     "name": "stdout",
     "output_type": "stream",
     "text": [
      "\t.text\n",
      "; ┌ @ In[61]:2 within `hi'\n",
      "; │┌ @ In[55]:1 within `±'\n",
      "; ││┌ @ promotion.jl:311 within `+'\n",
      "; │││┌ @ promotion.jl:282 within `promote'\n",
      "; ││││┌ @ promotion.jl:259 within `_promote'\n",
      "; │││││┌ @ number.jl:7 within `convert'\n",
      "; ││││││┌ @ rational.jl:100 within `AbstractFloat'\n",
      "; │││││││┌ @ number.jl:7 within `convert'\n",
      "; ││││││││┌ @ In[61]:2 within `Float64'\n",
      "\tvcvtsi2sdq\t(%rdi), %xmm1, %xmm1\n",
      "\tvcvtsi2sdq\t8(%rdi), %xmm2, %xmm2\n",
      "; │││││││└└\n",
      "; │││││││┌ @ float.jl:407 within `/'\n",
      "\tvdivsd\t%xmm2, %xmm1, %xmm1\n",
      "; │││└└└└└\n",
      "; │││ @ promotion.jl:311 within `+' @ float.jl:401\n",
      "\tvaddsd\t%xmm0, %xmm1, %xmm0\n",
      "; │└└\n",
      "\tretq\n",
      "\tnopw\t%cs:(%rax,%rax)\n",
      "\tnop\n",
      "; └\n"
     ]
    }
   ],
   "source": [
    "code_native(hi,(Float64,Rational{Int}))"
   ]
  },
  {
   "cell_type": "markdown",
   "metadata": {
    "slideshow": {
     "slide_type": "slide"
    }
   },
   "source": [
    "# Design Impact\n",
    "\n",
    "Since generic functions are **open**:\n",
    "\n",
    "- functions are more like *protocols* which users can also implement\n",
    "\n",
    "We're forced to think much harder about the **meaning** of opearations\n",
    "\n",
    "- can't just describe their behavior.\n",
    "\n",
    "Example:\n",
    "\n",
    "> `search(string, pattern, [start])`\n",
    "> \n",
    "> Search for the first occurance of the given pattern within the given string (or byte array). The pattern may be a single character, a vector or a set of characters, a string, or a regular expression (regular expressions are only allowed on contiguous strings, such as ASCII or UTF-8 strings). The third argument optionally specifies a starting index. The return value is a range of indexes where the matching sequence is found, such that `s[search(s,x)] == x`. The return value when the pattern is not found is `0` when the pattern is a character, or `0:-1` when searching for a substring or regular expression match."
   ]
  },
  {
   "cell_type": "markdown",
   "metadata": {
    "slideshow": {
     "slide_type": "subslide"
    }
   },
   "source": [
    "# Meaning is Hard but Powerful\n",
    "\n",
    "The `split` function is defined generically in terms of the `search` abstraction:\n",
    "\n",
    "```\n",
    "function split(str::String, splitter, limit::Integer, keep_empty::Bool)\n",
    "    strs = String[]\n",
    "    i = start(str)\n",
    "    n = endof(str)\n",
    "    r = search(str,splitter,i)\n",
    "    j, k = first(r), nextind(str,last(r))\n",
    "    while 0 < j <= n && length(strs) != limit-1\n",
    "        if i < k\n",
    "            if keep_empty || i < j\n",
    "                push!(strs, str[i:prevind(str,j)])\n",
    "            end\n",
    "            i = k\n",
    "        end\n",
    "        if k <= j; k = nextind(str,j) end\n",
    "        r = search(str,splitter,k)\n",
    "        j, k = first(r), nextind(str,last(r))\n",
    "    end\n",
    "    if keep_empty || !done(str,i)\n",
    "        push!(strs, str[i:])\n",
    "    end\n",
    "    return strs\n",
    "end\n",
    "split(s::String, spl, n::Integer) = split(s, spl, n, true)\n",
    "split(s::String, spl, keep::Bool) = split(s, spl, 0, keep)\n",
    "split(s::String, spl)             = split(s, spl, 0, true)\n",
    "```\n",
    "\n",
    "This gives the ability to:\n",
    "\n",
    "- create a new pattern type for matching patterns in strings\n",
    "  - e.g. context-free grammars, etc.\n",
    "- define `search(str, pattern)` for the new pattern\n",
    "  - get `split` functionality for free"
   ]
  },
  {
   "cell_type": "markdown",
   "metadata": {
    "slideshow": {
     "slide_type": "subslide"
    }
   },
   "source": [
    "### Example: spliting on regular expressions\n",
    "\n",
    "Regex doesn't know anything about `split`:"
   ]
  },
  {
   "cell_type": "code",
   "execution_count": 66,
   "metadata": {},
   "outputs": [
    {
     "data": {
      "text/html": [
       "# 4 methods for generic function <b>split</b>:<ul><li> split(str::<b>AbstractString</b>; <i>limit, keepempty</i>) in Base at <a href=\"https://github.com/JuliaLang/julia/tree/381693d3dfc9b7072707f6d544f82f6637fc5e7c/base/strings/util.jl#L351\" target=\"_blank\">strings/util.jl:351</a></li> <li> split(str::<b>T</b>, splitter::<b>Union{Tuple{Vararg{AbstractChar,N} where N}, Set{#s63} where #s63<:AbstractChar, AbstractArray{#s64,1} where #s64<:AbstractChar}</b>; <i>limit, keepempty</i>)<i> where T<:AbstractString</i> in Base at <a href=\"https://github.com/JuliaLang/julia/tree/381693d3dfc9b7072707f6d544f82f6637fc5e7c/base/strings/util.jl#L317\" target=\"_blank\">strings/util.jl:317</a></li> <li> split(str::<b>T</b>, splitter::<b>AbstractChar</b>; <i>limit, keepempty</i>)<i> where T<:AbstractString</i> in Base at <a href=\"https://github.com/JuliaLang/julia/tree/381693d3dfc9b7072707f6d544f82f6637fc5e7c/base/strings/util.jl#L321\" target=\"_blank\">strings/util.jl:321</a></li> <li> split(str::<b>T</b>, splitter; <i>limit, keepempty</i>)<i> where T<:AbstractString</i> in Base at <a href=\"https://github.com/JuliaLang/julia/tree/381693d3dfc9b7072707f6d544f82f6637fc5e7c/base/strings/util.jl#L313\" target=\"_blank\">strings/util.jl:313</a></li> </ul>"
      ],
      "text/plain": [
       "# 4 methods for generic function \"split\":\n",
       "[1] split(str::AbstractString; limit, keepempty) in Base at strings/util.jl:351\n",
       "[2] split(str::T, splitter::Union{Tuple{Vararg{AbstractChar,N} where N}, Set{#s63} where #s63<:AbstractChar, AbstractArray{#s64,1} where #s64<:AbstractChar}; limit, keepempty) where T<:AbstractString in Base at strings/util.jl:317\n",
       "[3] split(str::T, splitter::AbstractChar; limit, keepempty) where T<:AbstractString in Base at strings/util.jl:321\n",
       "[4] split(str::T, splitter; limit, keepempty) where T<:AbstractString in Base at strings/util.jl:313"
      ]
     },
     "execution_count": 66,
     "metadata": {},
     "output_type": "execute_result"
    }
   ],
   "source": [
    "methods(split)"
   ]
  },
  {
   "cell_type": "markdown",
   "metadata": {},
   "source": [
    "Yet split works when with `Regex` patterns:"
   ]
  },
  {
   "cell_type": "code",
   "execution_count": 67,
   "metadata": {},
   "outputs": [
    {
     "data": {
      "text/plain": [
       "5-element Array{SubString{String},1}:\n",
       " \"f\"\n",
       " \"b\"\n",
       " \"rb\"\n",
       " \"zq\"\n",
       " \"x\""
      ]
     },
     "execution_count": 67,
     "metadata": {},
     "output_type": "execute_result"
    }
   ],
   "source": [
    "split(\"foobarbazqux\", r\"[aeiou]+\"i)"
   ]
  },
  {
   "cell_type": "markdown",
   "metadata": {},
   "source": [
    "Works because `Regex` provides the `search` function\n",
    "\n",
    "- and `split` is defined generically in terms of `search`"
   ]
  },
  {
   "cell_type": "markdown",
   "metadata": {
    "slideshow": {
     "slide_type": "subslide"
    }
   },
   "source": [
    "### *Editor note* @perfectionatic... we are pretty much there now in (2020)\n",
    "## We're Not There Yet\n",
    "\n",
    "Meaning is hard and there are a lot of \"protocols\" that we still need to abstract out.\n",
    "\n",
    "- There are separate `plot` functions in every plotting package\n",
    "- Ideally, there should be a single commong `plot` function\n",
    "\n",
    "These kinds of abstract protocols are \"narrow waists\"\n",
    "\n",
    "- like TCP/IP in networking or byte streams in UNIX\n",
    "\n",
    "Figuring out the right ones is hard but essential work."
   ]
  },
  {
   "cell_type": "code",
   "execution_count": null,
   "metadata": {},
   "outputs": [],
   "source": []
  }
 ],
 "metadata": {
  "@webio": {
   "lastCommId": null,
   "lastKernelId": null
  },
  "kernelspec": {
   "display_name": "Julia 1.4.1",
   "language": "julia",
   "name": "julia-1.4"
  },
  "language_info": {
   "file_extension": ".jl",
   "mimetype": "application/julia",
   "name": "julia",
   "version": "1.4.1"
  }
 },
 "nbformat": 4,
 "nbformat_minor": 1
}

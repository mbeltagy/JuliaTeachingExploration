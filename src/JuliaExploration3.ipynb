{
 "cells": [
  {
   "cell_type": "markdown",
   "metadata": {},
   "source": [
    "# More on Types "
   ]
  },
  {
   "cell_type": "code",
   "execution_count": 1,
   "metadata": {},
   "outputs": [],
   "source": [
    "struct Color{T} <: Number\n",
    "    R::T\n",
    "    G::T\n",
    "    B::T\n",
    "end"
   ]
  },
  {
   "cell_type": "code",
   "execution_count": 2,
   "metadata": {},
   "outputs": [
    {
     "data": {
      "text/plain": [
       "Color{Int64}(1, 2, 3)"
      ]
     },
     "execution_count": 2,
     "metadata": {},
     "output_type": "execute_result"
    }
   ],
   "source": [
    "c1=Color{Int}(1,2,3)"
   ]
  },
  {
   "cell_type": "code",
   "execution_count": 3,
   "metadata": {},
   "outputs": [
    {
     "data": {
      "text/plain": [
       "Color{String}(\"1\", \"2\", \"3\")"
      ]
     },
     "execution_count": 3,
     "metadata": {},
     "output_type": "execute_result"
    }
   ],
   "source": [
    "c2=Color{String}(\"1\",\"2\",\"3\")"
   ]
  },
  {
   "cell_type": "code",
   "execution_count": 4,
   "metadata": {},
   "outputs": [
    {
     "data": {
      "text/plain": [
       "Color{Int64}"
      ]
     },
     "execution_count": 4,
     "metadata": {},
     "output_type": "execute_result"
    }
   ],
   "source": [
    "typeof(c1)"
   ]
  },
  {
   "cell_type": "code",
   "execution_count": 5,
   "metadata": {},
   "outputs": [
    {
     "data": {
      "text/plain": [
       "Color{String}"
      ]
     },
     "execution_count": 5,
     "metadata": {},
     "output_type": "execute_result"
    }
   ],
   "source": [
    "typeof(c2)"
   ]
  },
  {
   "cell_type": "code",
   "execution_count": 6,
   "metadata": {},
   "outputs": [
    {
     "data": {
      "text/plain": [
       "false"
      ]
     },
     "execution_count": 6,
     "metadata": {},
     "output_type": "execute_result"
    }
   ],
   "source": [
    "typeof(c1)==typeof(c2)"
   ]
  },
  {
   "cell_type": "code",
   "execution_count": 7,
   "metadata": {},
   "outputs": [
    {
     "data": {
      "text/plain": [
       "3-element Array{Any,1}:\n",
       " Color\n",
       " Complex\n",
       " Real"
      ]
     },
     "execution_count": 7,
     "metadata": {},
     "output_type": "execute_result"
    }
   ],
   "source": [
    "subtypes(Number)"
   ]
  },
  {
   "cell_type": "code",
   "execution_count": 8,
   "metadata": {},
   "outputs": [
    {
     "data": {
      "text/plain": [
       "false"
      ]
     },
     "execution_count": 8,
     "metadata": {},
     "output_type": "execute_result"
    }
   ],
   "source": [
    "Color{Int} <: Integer"
   ]
  },
  {
   "cell_type": "code",
   "execution_count": 9,
   "metadata": {},
   "outputs": [
    {
     "data": {
      "text/plain": [
       "true"
      ]
     },
     "execution_count": 9,
     "metadata": {},
     "output_type": "execute_result"
    }
   ],
   "source": [
    "Color{Int} <: Number"
   ]
  },
  {
   "cell_type": "markdown",
   "metadata": {},
   "source": [
    "# Binary file reading"
   ]
  },
  {
   "cell_type": "code",
   "execution_count": 10,
   "metadata": {},
   "outputs": [
    {
     "name": "stdout",
     "output_type": "stream",
     "text": [
      "-2.3884733"
     ]
    }
   ],
   "source": [
    "open(\"../data/TEST.DAT\") do io\n",
    "    read(io,Float32) |> print\n",
    "end"
   ]
  },
  {
   "cell_type": "markdown",
   "metadata": {},
   "source": [
    "### A syntactical interlude "
   ]
  },
  {
   "cell_type": "code",
   "execution_count": 11,
   "metadata": {},
   "outputs": [
    {
     "data": {
      "text/plain": [
       "myfunction (generic function with 1 method)"
      ]
     },
     "execution_count": 11,
     "metadata": {},
     "output_type": "execute_result"
    }
   ],
   "source": [
    "function myfunction(f,x,y,z)\n",
    "    f(x)+f(y)+f(z)\n",
    "end"
   ]
  },
  {
   "cell_type": "code",
   "execution_count": 12,
   "metadata": {},
   "outputs": [
    {
     "data": {
      "text/plain": [
       "9"
      ]
     },
     "execution_count": 12,
     "metadata": {},
     "output_type": "execute_result"
    }
   ],
   "source": [
    "myfunction(x->x^2,1,2,2)"
   ]
  },
  {
   "cell_type": "code",
   "execution_count": 13,
   "metadata": {},
   "outputs": [
    {
     "data": {
      "text/plain": [
       "20"
      ]
     },
     "execution_count": 13,
     "metadata": {},
     "output_type": "execute_result"
    }
   ],
   "source": [
    "myfunction(1,2,2) do x\n",
    "    (x+5)\n",
    "end"
   ]
  },
  {
   "cell_type": "markdown",
   "metadata": {},
   "source": [
    "### back to the main topic"
   ]
  },
  {
   "cell_type": "code",
   "execution_count": 14,
   "metadata": {},
   "outputs": [
    {
     "name": "stdout",
     "output_type": "stream",
     "text": [
      "-2.3884733\n",
      "49.441597\n"
     ]
    }
   ],
   "source": [
    "open(\"../data/TEST.DAT\") do io\n",
    "    read(io,Float32) |> println\n",
    "    read(io,Float32) |> println\n",
    "end"
   ]
  },
  {
   "cell_type": "code",
   "execution_count": 15,
   "metadata": {},
   "outputs": [
    {
     "data": {
      "text/plain": [
       "9"
      ]
     },
     "execution_count": 15,
     "metadata": {},
     "output_type": "execute_result"
    }
   ],
   "source": [
    "\"49.441597\" |> sizeof"
   ]
  },
  {
   "cell_type": "markdown",
   "metadata": {},
   "source": [
    "This files containts and number of records \n",
    "* long, lat (32bit float)\n",
    "* speed (16bit Int) \n",
    "* COG (16 UInt)\n",
    "* time (32 Int)\n",
    "* data (elements 32 bit int) 6x600 (ch1, ch2....ch6)x600"
   ]
  },
  {
   "cell_type": "code",
   "execution_count": 16,
   "metadata": {},
   "outputs": [
    {
     "data": {
      "text/plain": [
       "14416"
      ]
     },
     "execution_count": 16,
     "metadata": {},
     "output_type": "execute_result"
    }
   ],
   "source": [
    "r_size=(32*2+16+16+32+6*600*32)÷8"
   ]
  },
  {
   "cell_type": "code",
   "execution_count": 17,
   "metadata": {},
   "outputs": [
    {
     "data": {
      "text/plain": [
       "636"
      ]
     },
     "execution_count": 17,
     "metadata": {},
     "output_type": "execute_result"
    }
   ],
   "source": [
    "n_rec=filesize(\"../data/TEST.DAT\")÷r_size"
   ]
  },
  {
   "cell_type": "code",
   "execution_count": 18,
   "metadata": {},
   "outputs": [],
   "source": [
    "struct RecHeader\n",
    "    long::Float32\n",
    "    lat::Float32\n",
    "    speed::Int16\n",
    "    COG::UInt16\n",
    "    time::Int32\n",
    "end"
   ]
  },
  {
   "cell_type": "code",
   "execution_count": 19,
   "metadata": {},
   "outputs": [
    {
     "data": {
      "text/plain": [
       "RecHeader(43.0f0, 53.0f0, 12, 0x0015, 89)"
      ]
     },
     "execution_count": 19,
     "metadata": {},
     "output_type": "execute_result"
    }
   ],
   "source": [
    "r=RecHeader(43,53,12,21,89)"
   ]
  },
  {
   "cell_type": "code",
   "execution_count": 20,
   "metadata": {},
   "outputs": [
    {
     "data": {
      "text/plain": [
       "true"
      ]
     },
     "execution_count": 20,
     "metadata": {},
     "output_type": "execute_result"
    }
   ],
   "source": [
    "isbits(r)"
   ]
  },
  {
   "cell_type": "code",
   "execution_count": 21,
   "metadata": {},
   "outputs": [],
   "source": [
    "struct RecHeaderExtended \n",
    "    long::Float32\n",
    "    lat::Float32\n",
    "    speed::Int16\n",
    "    COG::UInt16\n",
    "    time::Int32\n",
    "    data::Matrix{Int32}\n",
    "end"
   ]
  },
  {
   "cell_type": "code",
   "execution_count": 22,
   "metadata": {},
   "outputs": [
    {
     "data": {
      "text/plain": [
       "RecHeaderExtended(43.0f0, 53.0f0, 12, 0x0015, 89, Int32[1107358592 -1761135562 … 1097649913 774870181; 1854514384 -1038358468 … -284969805 -1589639252; … ; -1874322762 -1460206273 … -1810831345 -1543421872; -201348890 -902616549 … -529091103 1003438029])"
      ]
     },
     "execution_count": 22,
     "metadata": {},
     "output_type": "execute_result"
    }
   ],
   "source": [
    "r=RecHeaderExtended(43,53,12,21,89,rand(Int32,600,6))"
   ]
  },
  {
   "cell_type": "code",
   "execution_count": 23,
   "metadata": {},
   "outputs": [
    {
     "name": "stdout",
     "output_type": "stream",
     "text": [
      "RecHeader[RecHeader(-2.3884733f0, 49.441597f0, 522, 0x0ced, 23269524), RecHeader(5.93531f-40, 5.97339f-40, -20017, 0x0006, 604280)]\n"
     ]
    }
   ],
   "source": [
    "a=Array{RecHeader}(undef,2)\n",
    "open(\"../data/TEST.DAT\") do io\n",
    "    read!(io, a) |> println\n",
    "end"
   ]
  },
  {
   "cell_type": "code",
   "execution_count": 24,
   "metadata": {},
   "outputs": [
    {
     "name": "stdout",
     "output_type": "stream",
     "text": [
      "RecHeader[RecHeader(-2.3884733f0, 49.441597f0, 522, 0x0ced, 23269524)]\n"
     ]
    }
   ],
   "source": [
    "open(\"../data/TEST.DAT\") do io\n",
    "    read!(io, Array{RecHeader}(undef,1)) |> println\n",
    "end"
   ]
  },
  {
   "cell_type": "code",
   "execution_count": 25,
   "metadata": {},
   "outputs": [
    {
     "data": {
      "text/plain": [
       "RecHeader(5.93531f-40, 5.97339f-40, -20017, 0x0006, 604280)"
      ]
     },
     "execution_count": 25,
     "metadata": {},
     "output_type": "execute_result"
    }
   ],
   "source": [
    "a[2]"
   ]
  },
  {
   "cell_type": "code",
   "execution_count": 26,
   "metadata": {},
   "outputs": [
    {
     "data": {
      "text/plain": [
       "2-element Array{RecHeaderExtended,1}:\n",
       " #undef\n",
       " #undef"
      ]
     },
     "execution_count": 26,
     "metadata": {},
     "output_type": "execute_result"
    }
   ],
   "source": [
    "a=Array{RecHeaderExtended}(undef,2)"
   ]
  },
  {
   "cell_type": "code",
   "execution_count": 27,
   "metadata": {},
   "outputs": [
    {
     "ename": "ErrorException",
     "evalue": "The IO stream does not support reading objects of type RecHeaderExtended.",
     "output_type": "error",
     "traceback": [
      "The IO stream does not support reading objects of type RecHeaderExtended.",
      "",
      "Stacktrace:",
      " [1] error(::String) at ./error.jl:33",
      " [2] read(::IOStream, ::Type{T} where T) at ./io.jl:917",
      " [3] read!(::IOStream, ::Array{RecHeaderExtended,1}) at ./io.jl:690",
      " [4] (::var\"#15#16\")(::IOStream) at ./In[27]:2",
      " [5] open(::var\"#15#16\", ::String; kwargs::Base.Iterators.Pairs{Union{},Union{},Tuple{},NamedTuple{(),Tuple{}}}) at ./io.jl:298",
      " [6] open(::Function, ::String) at ./io.jl:296",
      " [7] top-level scope at In[27]:1"
     ]
    }
   ],
   "source": [
    "open(\"../data/TEST.DAT\") do io\n",
    "    read!(io, a) |> println\n",
    "end"
   ]
  },
  {
   "cell_type": "code",
   "execution_count": 28,
   "metadata": {},
   "outputs": [],
   "source": [
    "function Base.read(io::IOStream, ::Type{RecHeaderExtended})\n",
    "    long=read(io,Float32)\n",
    "    lat=read(io,Float32)\n",
    "    speed=read(io,Int16)\n",
    "    COG=read(io,UInt16)\n",
    "    time=read(io,Int32)\n",
    "    data=Array{Int32}(undef,6,600)\n",
    "    read!(io,data)\n",
    "    RecHeaderExtended(long,lat,speed,COG,time, data)\n",
    "end"
   ]
  },
  {
   "cell_type": "code",
   "execution_count": 29,
   "metadata": {},
   "outputs": [
    {
     "data": {
      "text/plain": [
       "RecHeaderExtended(-2.3884733f0, 49.441597f0, 522, 0x0ced, 23269524, Int32[423558 423535 … 430269 430865; 426275 430871 … 432497 430643; … ; 442844 441355 … 442458 442234; 428231 428297 … 430647 431706])"
      ]
     },
     "execution_count": 29,
     "metadata": {},
     "output_type": "execute_result"
    }
   ],
   "source": [
    "open(\"../data/TEST.DAT\") do io\n",
    "    read(io, RecHeaderExtended) \n",
    "end"
   ]
  },
  {
   "cell_type": "code",
   "execution_count": 30,
   "metadata": {},
   "outputs": [],
   "source": [
    "my_data=Vector{RecHeaderExtended}(undef,n_rec)\n",
    "read!(\"../data/TEST.DAT\",my_data);"
   ]
  },
  {
   "cell_type": "code",
   "execution_count": 31,
   "metadata": {},
   "outputs": [],
   "source": [
    "my_data;"
   ]
  },
  {
   "cell_type": "code",
   "execution_count": 32,
   "metadata": {},
   "outputs": [],
   "source": [
    "struct ChAcc{N} <: AbstractArray{Int32,1}\n",
    "    d::Vector{RecHeaderExtended}\n",
    "end"
   ]
  },
  {
   "cell_type": "markdown",
   "metadata": {},
   "source": [
    "https://docs.julialang.org/en/v1/manual/interfaces/#man-interface-array-1"
   ]
  },
  {
   "cell_type": "markdown",
   "metadata": {},
   "source": [
    "### Exercise 1\n",
    "\n",
    "Create a wrapper around `my_data` to be able to acess a particular channel as and array"
   ]
  },
  {
   "cell_type": "code",
   "execution_count": null,
   "metadata": {},
   "outputs": [],
   "source": [
    "channel_1=ChAcc{1}(my_data)\n",
    "plot(channel_1)\n",
    "length(channel_1)==600*632 # should be true"
   ]
  },
  {
   "cell_type": "markdown",
   "metadata": {},
   "source": [
    "### Exercise 2\n",
    "\n",
    "Modify the function `Base.read(io::IOStream, ::Type{RecHeaderExtended})` to be more concices.. \n",
    "    should make use of field info."
   ]
  },
  {
   "cell_type": "markdown",
   "metadata": {},
   "source": [
    "### Exercise 3\n",
    "\n",
    "Test the performance of column based vs. row based representation of channels "
   ]
  }
 ],
 "metadata": {
  "@webio": {
   "lastCommId": null,
   "lastKernelId": null
  },
  "kernelspec": {
   "display_name": "Julia 1.4.1",
   "language": "julia",
   "name": "julia-1.4"
  },
  "language_info": {
   "file_extension": ".jl",
   "mimetype": "application/julia",
   "name": "julia",
   "version": "1.4.1"
  }
 },
 "nbformat": 4,
 "nbformat_minor": 4
}

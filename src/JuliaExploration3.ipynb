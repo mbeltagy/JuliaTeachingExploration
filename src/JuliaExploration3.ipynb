{
 "cells": [
  {
   "cell_type": "markdown",
   "metadata": {},
   "source": [
    "# More on Types "
   ]
  },
  {
   "cell_type": "code",
   "execution_count": 1,
   "metadata": {},
   "outputs": [],
   "source": [
    "struct Color{T} <: Number\n",
    "    R::T\n",
    "    G::T\n",
    "    B::T\n",
    "end"
   ]
  },
  {
   "cell_type": "code",
   "execution_count": 2,
   "metadata": {},
   "outputs": [
    {
     "data": {
      "text/plain": [
       "Color{Int64}(1, 2, 3)"
      ]
     },
     "execution_count": 2,
     "metadata": {},
     "output_type": "execute_result"
    }
   ],
   "source": [
    "c1=Color{Int}(1,2,3)"
   ]
  },
  {
   "cell_type": "code",
   "execution_count": 3,
   "metadata": {},
   "outputs": [
    {
     "data": {
      "text/plain": [
       "Color{String}(\"1\", \"2\", \"3\")"
      ]
     },
     "execution_count": 3,
     "metadata": {},
     "output_type": "execute_result"
    }
   ],
   "source": [
    "c2=Color{String}(\"1\",\"2\",\"3\")"
   ]
  },
  {
   "cell_type": "code",
   "execution_count": 4,
   "metadata": {},
   "outputs": [
    {
     "data": {
      "text/plain": [
       "Color{Int64}"
      ]
     },
     "execution_count": 4,
     "metadata": {},
     "output_type": "execute_result"
    }
   ],
   "source": [
    "typeof(c1)"
   ]
  },
  {
   "cell_type": "code",
   "execution_count": 5,
   "metadata": {},
   "outputs": [
    {
     "data": {
      "text/plain": [
       "Color{String}"
      ]
     },
     "execution_count": 5,
     "metadata": {},
     "output_type": "execute_result"
    }
   ],
   "source": [
    "typeof(c2)"
   ]
  },
  {
   "cell_type": "code",
   "execution_count": 6,
   "metadata": {},
   "outputs": [
    {
     "data": {
      "text/plain": [
       "false"
      ]
     },
     "execution_count": 6,
     "metadata": {},
     "output_type": "execute_result"
    }
   ],
   "source": [
    "typeof(c1)==typeof(c2)"
   ]
  },
  {
   "cell_type": "code",
   "execution_count": 7,
   "metadata": {},
   "outputs": [
    {
     "data": {
      "text/plain": [
       "3-element Array{Any,1}:\n",
       " Color\n",
       " Complex\n",
       " Real"
      ]
     },
     "execution_count": 7,
     "metadata": {},
     "output_type": "execute_result"
    }
   ],
   "source": [
    "subtypes(Number)"
   ]
  },
  {
   "cell_type": "code",
   "execution_count": 8,
   "metadata": {},
   "outputs": [
    {
     "data": {
      "text/plain": [
       "false"
      ]
     },
     "execution_count": 8,
     "metadata": {},
     "output_type": "execute_result"
    }
   ],
   "source": [
    "Color{Int} <: Integer"
   ]
  },
  {
   "cell_type": "code",
   "execution_count": 9,
   "metadata": {},
   "outputs": [
    {
     "data": {
      "text/plain": [
       "true"
      ]
     },
     "execution_count": 9,
     "metadata": {},
     "output_type": "execute_result"
    }
   ],
   "source": [
    "Color{Int} <: Number"
   ]
  },
  {
   "cell_type": "markdown",
   "metadata": {},
   "source": [
    "# Binary file reading"
   ]
  },
  {
   "cell_type": "code",
   "execution_count": 1,
   "metadata": {},
   "outputs": [
    {
     "name": "stdout",
     "output_type": "stream",
     "text": [
      "-2.3884733"
     ]
    }
   ],
   "source": [
    "open(\"../data/TEST.DAT\") do io\n",
    "    read(io,Float32) |> print\n",
    "end"
   ]
  },
  {
   "cell_type": "markdown",
   "metadata": {},
   "source": [
    "### A syntactical interlude "
   ]
  },
  {
   "cell_type": "code",
   "execution_count": 2,
   "metadata": {},
   "outputs": [
    {
     "data": {
      "text/plain": [
       "myfunction (generic function with 1 method)"
      ]
     },
     "execution_count": 2,
     "metadata": {},
     "output_type": "execute_result"
    }
   ],
   "source": [
    "function myfunction(f,x,y,z)\n",
    "    f(x)+f(y)+f(z)\n",
    "end"
   ]
  },
  {
   "cell_type": "code",
   "execution_count": 3,
   "metadata": {},
   "outputs": [
    {
     "data": {
      "text/plain": [
       "9"
      ]
     },
     "execution_count": 3,
     "metadata": {},
     "output_type": "execute_result"
    }
   ],
   "source": [
    "myfunction(x->x^2,1,2,2)"
   ]
  },
  {
   "cell_type": "code",
   "execution_count": 4,
   "metadata": {},
   "outputs": [
    {
     "data": {
      "text/plain": [
       "20"
      ]
     },
     "execution_count": 4,
     "metadata": {},
     "output_type": "execute_result"
    }
   ],
   "source": [
    "myfunction(1,2,2) do x\n",
    "    (x+5)\n",
    "end"
   ]
  },
  {
   "cell_type": "markdown",
   "metadata": {},
   "source": [
    "### back to the main topic"
   ]
  },
  {
   "cell_type": "code",
   "execution_count": 5,
   "metadata": {},
   "outputs": [
    {
     "name": "stdout",
     "output_type": "stream",
     "text": [
      "-2.3884733\n",
      "49.441597\n"
     ]
    }
   ],
   "source": [
    "open(\"../data/TEST.DAT\") do io\n",
    "    read(io,Float32) |> println\n",
    "    read(io,Float32) |> println\n",
    "end"
   ]
  },
  {
   "cell_type": "code",
   "execution_count": 6,
   "metadata": {},
   "outputs": [
    {
     "data": {
      "text/plain": [
       "9"
      ]
     },
     "execution_count": 6,
     "metadata": {},
     "output_type": "execute_result"
    }
   ],
   "source": [
    "\"49.441597\" |> sizeof"
   ]
  },
  {
   "cell_type": "markdown",
   "metadata": {},
   "source": [
    "This files containts and number of records \n",
    "* long, lat (32bit float)\n",
    "* speed (16bit Int) \n",
    "* COG (16 UInt)\n",
    "* time (32 Int)\n",
    "* data (elements 32 bit int) 6x600 (ch1, ch2....ch6)x600"
   ]
  },
  {
   "cell_type": "code",
   "execution_count": 7,
   "metadata": {},
   "outputs": [
    {
     "data": {
      "text/plain": [
       "14416"
      ]
     },
     "execution_count": 7,
     "metadata": {},
     "output_type": "execute_result"
    }
   ],
   "source": [
    "r_size=(32*2+16+16+32+6*600*32)÷8"
   ]
  },
  {
   "cell_type": "code",
   "execution_count": 8,
   "metadata": {},
   "outputs": [
    {
     "data": {
      "text/plain": [
       "636"
      ]
     },
     "execution_count": 8,
     "metadata": {},
     "output_type": "execute_result"
    }
   ],
   "source": [
    "n_rec=filesize(\"../data/TEST.DAT\")÷r_size"
   ]
  },
  {
   "cell_type": "code",
   "execution_count": 9,
   "metadata": {},
   "outputs": [],
   "source": [
    "struct RecHeader\n",
    "    long::Float32\n",
    "    lat::Float32\n",
    "    speed::Int16\n",
    "    COG::UInt16\n",
    "    time::Int32\n",
    "end"
   ]
  },
  {
   "cell_type": "code",
   "execution_count": 10,
   "metadata": {},
   "outputs": [
    {
     "data": {
      "text/plain": [
       "RecHeader(43.0f0, 53.0f0, 12, 0x0015, 89)"
      ]
     },
     "execution_count": 10,
     "metadata": {},
     "output_type": "execute_result"
    }
   ],
   "source": [
    "r=RecHeader(43,53,12,21,89)"
   ]
  },
  {
   "cell_type": "code",
   "execution_count": 11,
   "metadata": {},
   "outputs": [
    {
     "data": {
      "text/plain": [
       "true"
      ]
     },
     "execution_count": 11,
     "metadata": {},
     "output_type": "execute_result"
    }
   ],
   "source": [
    "isbits(r)"
   ]
  },
  {
   "cell_type": "code",
   "execution_count": 12,
   "metadata": {},
   "outputs": [],
   "source": [
    "struct RecHeaderExtended \n",
    "    long::Float32\n",
    "    lat::Float32\n",
    "    speed::Int16\n",
    "    COG::UInt16\n",
    "    time::Int32\n",
    "    data::Matrix{Int32}\n",
    "end"
   ]
  },
  {
   "cell_type": "code",
   "execution_count": 14,
   "metadata": {},
   "outputs": [
    {
     "data": {
      "text/plain": [
       "RecHeaderExtended(43.0f0, 53.0f0, 12, 0x0015, 89, Int32[1 2; 3 4])"
      ]
     },
     "execution_count": 14,
     "metadata": {},
     "output_type": "execute_result"
    }
   ],
   "source": [
    "r=RecHeaderExtended(43,53,12,21,89,[1 2; 3 4])"
   ]
  },
  {
   "cell_type": "code",
   "execution_count": 15,
   "metadata": {},
   "outputs": [
    {
     "data": {
      "text/plain": [
       "false"
      ]
     },
     "execution_count": 15,
     "metadata": {},
     "output_type": "execute_result"
    }
   ],
   "source": [
    "isbits(r)"
   ]
  },
  {
   "cell_type": "code",
   "execution_count": 18,
   "metadata": {},
   "outputs": [
    {
     "data": {
      "text/plain": [
       "15"
      ]
     },
     "execution_count": 18,
     "metadata": {},
     "output_type": "execute_result"
    }
   ],
   "source": [
    "r.data[1]=15"
   ]
  },
  {
   "cell_type": "code",
   "execution_count": 20,
   "metadata": {},
   "outputs": [
    {
     "data": {
      "text/plain": [
       "2×2 Array{Int32,2}:\n",
       " 15  2\n",
       "  3  4"
      ]
     },
     "execution_count": 20,
     "metadata": {},
     "output_type": "execute_result"
    }
   ],
   "source": [
    "r.data"
   ]
  },
  {
   "cell_type": "code",
   "execution_count": 27,
   "metadata": {},
   "outputs": [
    {
     "data": {
      "text/plain": [
       "3×2 Array{Int64,2}:\n",
       " 15   2\n",
       "  3   4\n",
       " 60  90"
      ]
     },
     "execution_count": 27,
     "metadata": {},
     "output_type": "execute_result"
    }
   ],
   "source": [
    "vcat(r.data,[60  90])"
   ]
  },
  {
   "cell_type": "code",
   "execution_count": 10,
   "metadata": {},
   "outputs": [
    {
     "data": {
      "text/plain": [
       "RecHeaderExtended(43.0f0, 53.0f0, 12, 0x0015, 89, Int32[1586954583 112079449 … -968118330 2065578325; 1137376555 483799436 … -302978788 1874647627; … ; 22341359 2081406909 … 404832656 1222586844; -2026256462 -95514093 … -1192113908 -601983024])"
      ]
     },
     "execution_count": 10,
     "metadata": {},
     "output_type": "execute_result"
    }
   ],
   "source": [
    "r=RecHeaderExtended(43,53,12,21,89,rand(Int32,600,6))"
   ]
  },
  {
   "cell_type": "code",
   "execution_count": 13,
   "metadata": {},
   "outputs": [
    {
     "name": "stdout",
     "output_type": "stream",
     "text": [
      "RecHeader[RecHeader(-2.3884733f0, 49.441597f0, 522, 0x0ced, 23269524), RecHeader(5.93531f-40, 5.97339f-40, -20017, 0x0006, 604280)]\n"
     ]
    }
   ],
   "source": [
    "a=Array{RecHeader}(undef,2)\n",
    "open(\"../data/TEST.DAT\") do io\n",
    "    read!(io, a) |> println\n",
    "end"
   ]
  },
  {
   "cell_type": "code",
   "execution_count": 24,
   "metadata": {},
   "outputs": [
    {
     "name": "stdout",
     "output_type": "stream",
     "text": [
      "RecHeader[RecHeader(-2.3884733f0, 49.441597f0, 522, 0x0ced, 23269524)]\n"
     ]
    }
   ],
   "source": [
    "open(\"../data/TEST.DAT\") do io\n",
    "    read!(io, Array{RecHeader}(undef,1)) |> println\n",
    "end"
   ]
  },
  {
   "cell_type": "code",
   "execution_count": 25,
   "metadata": {},
   "outputs": [
    {
     "data": {
      "text/plain": [
       "RecHeader(5.93531f-40, 5.97339f-40, -20017, 0x0006, 604280)"
      ]
     },
     "execution_count": 25,
     "metadata": {},
     "output_type": "execute_result"
    }
   ],
   "source": [
    "a[2]"
   ]
  },
  {
   "cell_type": "code",
   "execution_count": 15,
   "metadata": {},
   "outputs": [
    {
     "data": {
      "text/plain": [
       "2-element Array{RecHeaderExtended,1}:\n",
       " #undef\n",
       " #undef"
      ]
     },
     "execution_count": 15,
     "metadata": {},
     "output_type": "execute_result"
    }
   ],
   "source": [
    "a=Array{RecHeaderExtended}(undef,2)"
   ]
  },
  {
   "cell_type": "code",
   "execution_count": 16,
   "metadata": {},
   "outputs": [
    {
     "ename": "ErrorException",
     "evalue": "The IO stream does not support reading objects of type RecHeaderExtended.",
     "output_type": "error",
     "traceback": [
      "The IO stream does not support reading objects of type RecHeaderExtended.",
      "",
      "Stacktrace:",
      " [1] error(::String) at ./error.jl:33",
      " [2] read(::IOStream, ::Type{T} where T) at ./io.jl:917",
      " [3] read!(::IOStream, ::Array{RecHeaderExtended,1}) at ./io.jl:690",
      " [4] (::var\"#15#16\")(::IOStream) at ./In[16]:2",
      " [5] open(::var\"#15#16\", ::String; kwargs::Base.Iterators.Pairs{Union{},Union{},Tuple{},NamedTuple{(),Tuple{}}}) at ./io.jl:298",
      " [6] open(::Function, ::String) at ./io.jl:296",
      " [7] top-level scope at In[16]:1"
     ]
    }
   ],
   "source": [
    "open(\"../data/TEST.DAT\") do io\n",
    "    read!(io, a) |> println\n",
    "end"
   ]
  },
  {
   "cell_type": "code",
   "execution_count": 17,
   "metadata": {},
   "outputs": [],
   "source": [
    "function Base.read(io::IOStream, ::Type{RecHeaderExtended})\n",
    "    long=read(io,Float32)\n",
    "    lat=read(io,Float32)\n",
    "    speed=read(io,Int16)\n",
    "    COG=read(io,UInt16)\n",
    "    time=read(io,Int32)\n",
    "    data=Array{Int32}(undef,6,600)\n",
    "    read!(io,data)\n",
    "    RecHeaderExtended(long,lat,speed,COG,time, data)\n",
    "end"
   ]
  },
  {
   "cell_type": "code",
   "execution_count": 18,
   "metadata": {},
   "outputs": [
    {
     "data": {
      "text/plain": [
       "RecHeaderExtended(-2.3884733f0, 49.441597f0, 522, 0x0ced, 23269524, Int32[423558 423535 … 430269 430865; 426275 430871 … 432497 430643; … ; 442844 441355 … 442458 442234; 428231 428297 … 430647 431706])"
      ]
     },
     "execution_count": 18,
     "metadata": {},
     "output_type": "execute_result"
    }
   ],
   "source": [
    "open(\"../data/TEST.DAT\") do io\n",
    "    read(io, RecHeaderExtended) \n",
    "end"
   ]
  },
  {
   "cell_type": "code",
   "execution_count": 19,
   "metadata": {},
   "outputs": [],
   "source": [
    "my_data=Vector{RecHeaderExtended}(undef,n_rec)\n",
    "read!(\"../data/TEST.DAT\",my_data);"
   ]
  },
  {
   "cell_type": "code",
   "execution_count": 21,
   "metadata": {},
   "outputs": [
    {
     "data": {
      "text/plain": [
       "636-element Array{RecHeaderExtended,1}:\n",
       " RecHeaderExtended(-2.3884733f0, 49.441597f0, 522, 0x0ced, 23269524, Int32[423558 423535 … 430269 430865; 426275 430871 … 432497 430643; … ; 442844 441355 … 442458 442234; 428231 428297 … 430647 431706])\n",
       " RecHeaderExtended(-2.3886564f0, 49.441807f0, 519, 0x0ceb, 23270124, Int32[425857 424506 … 421696 427520; 429550 432356 … 438129 439917; … ; 442118 441354 … 440557 440668; 432302 432148 … 438045 438113])\n",
       " RecHeaderExtended(-2.38884f0, 49.442017f0, 520, 0x0ce9, 23270724, Int32[428584 425807 … 422405 425802; 438405 439045 … 438333 440640; … ; 439960 440564 … 439868 440399; 438390 437791 … 437512 437293])\n",
       " RecHeaderExtended(-2.3890233f0, 49.442226f0, 518, 0x0ceb, 23271324, Int32[425685 427883 … 426510 426448; 439707 437684 … 440979 437664; … ; 441711 442167 … 441356 441085; 437219 437114 … 439674 439868])\n",
       " RecHeaderExtended(-2.3892016f0, 49.44244f0, 515, 0x0cf4, 23271924, Int32[423784 426683 … 422322 427858; 442144 440565 … 441224 441583; … ; 440816 440398 … 441286 441219; 439828 439756 … 440067 440163])\n",
       " RecHeaderExtended(-2.3893785f0, 49.44265f0, 521, 0x0cf4, 23272524, Int32[428056 427299 … 427959 423010; 440767 440035 … 438462 440104; … ; 440349 440293 … 441176 441205; 440238 440145 … 439496 439568])\n",
       " RecHeaderExtended(-2.3895617f0, 49.442856f0, 513, 0x0cda, 23273124, Int32[426826 428488 … 425621 427132; 438821 439888 … 439844 438723; … ; 441209 440270 … 441796 441507; 439512 439440 … 437188 437249])\n",
       " RecHeaderExtended(-2.389753f0, 49.443058f0, 515, 0x0cd0, 23273724, Int32[426986 424173 … 428516 424889; 439969 438963 … 438027 436015; … ; 440795 441106 … 442238 443125; 437383 437433 … 436793 436725])\n",
       " RecHeaderExtended(-2.3899534f0, 49.44326f0, 514, 0x0cc2, 23274324, Int32[427941 426868 … 427670 427700; 439496 439714 … 434942 435130; … ; 441697 440425 … 442435 442164; 436855 436927 … 435635 435771])\n",
       " RecHeaderExtended(-2.3901517f0, 49.443466f0, 511, 0x0cd1, 23274924, Int32[425239 422568 … 428383 430167; 432806 430317 … 435733 434779; … ; 442742 443936 … 443046 441042; 435940 436158 … 433907 433857])\n",
       " RecHeaderExtended(-2.3903449f0, 49.44367f0, 513, 0x0cd4, 23275524, Int32[425715 425117 … 429848 429830; 434290 433712 … 434160 435935; … ; 440590 440442 … 441893 444116; 433591 433710 … 434427 434733])\n",
       " RecHeaderExtended(-2.3905337f0, 49.44387f0, 515, 0x0ce6, 23276124, Int32[428129 426435 … 424314 428085; 434494 433815 … 434249 431831; … ; 444918 442796 … 442566 444372; 434622 434900 … 437325 435931])\n",
       " RecHeaderExtended(-2.3907163f0, 49.444077f0, 514, 0x0ce6, 23276724, Int32[431162 429330 … 428729 428430; 434036 433566 … 433191 432010; … ; 445075 445123 … 443785 443006; 435871 435671 … 431677 431655])\n",
       " ⋮\n",
       " RecHeaderExtended(-2.4909081f0, 49.474148f0, 507, 0x00f9, 23643924, Int32[425635 425714 … 425459 426065; 440254 439972 … 432264 434274; … ; 441930 441507 … 441908 441895; 438353 438048 … 431910 432143])\n",
       " RecHeaderExtended(-2.4907548f0, 49.474358f0, 513, 0x00fa, 23644524, Int32[427643 428549 … 426456 426838; 432079 433094 … 427376 427793; … ; 441978 441801 … 440117 440690; 432394 431908 … 431823 431939])\n",
       " RecHeaderExtended(-2.4906003f0, 49.474567f0, 503, 0x00fa, 23645124, Int32[430781 431312 … 424239 428519; 426803 426093 … 439264 439768; … ; 441975 442777 … 441573 441601; 431574 431442 … 439258 439184])\n",
       " RecHeaderExtended(-2.490448f0, 49.474777f0, 501, 0x00f1, 23645724, Int32[425539 425237 … 429036 428981; 439920 438973 … 432120 431109; … ; 441656 441544 … 443517 443476; 439382 439347 … 433485 433494])\n",
       " RecHeaderExtended(-2.4902935f0, 49.474995f0, 508, 0x0105, 23646324, Int32[429041 428827 … 423758 426932; 431226 431763 … 435924 436883; … ; 442232 441315 … 439874 440161; 433481 433799 … 433037 432905])\n",
       " RecHeaderExtended(-2.4901333f0, 49.475204f0, 511, 0x0107, 23646924, Int32[427304 423832 … 425869 426605; 434137 435740 … 440254 440425; … ; 441315 441129 … 441142 439936; 432948 433075 … 437827 437935])\n",
       " RecHeaderExtended(-2.4899664f0, 49.475414f0, 507, 0x0111, 23647524, Int32[424025 425347 … 431692 430584; 439567 440184 … 423741 423236; … ; 440072 440921 … 440235 441136; 437881 437814 … 435679 434787])\n",
       " RecHeaderExtended(-2.4897969f0, 49.475616f0, 511, 0x011d, 23648124, Int32[417398 420110 … 422338 420239; 436612 427476 … 425304 426866; … ; 442729 442513 … 437491 441019; 434397 433953 … 435538 433815])\n",
       " RecHeaderExtended(-2.4896152f0, 49.475834f0, 514, 0x012c, 23648724, Int32[434080 447521 … 429648 432479; 426475 425419 … 428776 428284; … ; 444238 444705 … 440192 439954; 431701 428620 … 428036 428865])\n",
       " RecHeaderExtended(-2.4894233f0, 49.476036f0, 508, 0x0141, 23649324, Int32[428941 427696 … 423920 423360; 426943 427566 … 441123 441232; … ; 440417 441186 … 440408 441440; 430023 428862 … 440092 439627])\n",
       " RecHeaderExtended(-2.489225f0, 49.476227f0, 520, 0x014d, 23649924, Int32[428955 426822 … 427924 428252; 439225 441160 … 436992 437014; … ; 441800 441566 … 442451 443168; 440456 440092 … 436842 436799])\n",
       " RecHeaderExtended(-2.4890215f0, 49.47643f0, 519, 0x014a, 23650524, Int32[426406 424908 … 429457 427127; 437487 438755 … 430638 429803; … ; 442665 442494 … 444736 443967; 436988 437273 … 430819 430826])"
      ]
     },
     "execution_count": 21,
     "metadata": {},
     "output_type": "execute_result"
    }
   ],
   "source": [
    "my_data"
   ]
  },
  {
   "cell_type": "code",
   "execution_count": 32,
   "metadata": {},
   "outputs": [],
   "source": [
    "struct ChAcc{N} <: AbstractArray{Int32,1}\n",
    "    d::Vector{RecHeaderExtended}\n",
    "end"
   ]
  },
  {
   "cell_type": "markdown",
   "metadata": {},
   "source": [
    "https://docs.julialang.org/en/v1/manual/interfaces/#man-interface-array-1"
   ]
  },
  {
   "cell_type": "markdown",
   "metadata": {},
   "source": [
    "### Exercise 1\n",
    "\n",
    "Create a wrapper around `my_data` to be able to acess a particular channel as and array"
   ]
  },
  {
   "cell_type": "code",
   "execution_count": 37,
   "metadata": {},
   "outputs": [],
   "source": [
    "Base.size(ch::ChAcc{N}) where N = (length(ch.d)*(size(ch.d[1].data,2)),)"
   ]
  },
  {
   "cell_type": "code",
   "execution_count": 59,
   "metadata": {},
   "outputs": [],
   "source": [
    "function Base.getindex(ch::ChAcc{N}, i) where N \n",
    "    n_read=size(ch.d[1].data,2)\n",
    "    c=CartesianIndices((1:n_read,1:length(ch.d)))\n",
    "    rec_num=c[i][2]\n",
    "    ele_num=c[i][1]\n",
    "    ch.d[rec_num].data[N,ele_num]\n",
    "end"
   ]
  },
  {
   "cell_type": "code",
   "execution_count": 76,
   "metadata": {},
   "outputs": [],
   "source": [
    "struct ChAccSimple <: AbstractArray{Int32,1}\n",
    "    d::Vector{RecHeaderExtended}\n",
    "    n::Int\n",
    "    f::Int\n",
    "    ChAccSimple(d::Vector{RecHeaderExtended},n::Int)=new(d,n,size(d[1].data,2))\n",
    "end\n",
    "Base.size(ch::ChAccSimple) = (length(ch.d)*ch.f,)\n",
    "function Base.getindex(ch::ChAccSimple, i) \n",
    "    n_read=ch.f\n",
    "    c=CartesianIndices((1:n_read,1:length(ch.d)))\n",
    "    rec_num=c[i][2]\n",
    "    ele_num=c[i][1]\n",
    "    ch.d[rec_num].data[ch.n,ele_num]\n",
    "end"
   ]
  },
  {
   "cell_type": "code",
   "execution_count": 79,
   "metadata": {},
   "outputs": [
    {
     "data": {
      "text/plain": [
       "true"
      ]
     },
     "execution_count": 79,
     "metadata": {},
     "output_type": "execute_result"
    }
   ],
   "source": [
    "channel_1=ChAccSimple(my_data,1);\n",
    "all(ch1.==channel_1)"
   ]
  },
  {
   "cell_type": "code",
   "execution_count": 73,
   "metadata": {},
   "outputs": [
    {
     "ename": "ErrorException",
     "evalue": "iteration is deliberately unsupported for CartesianIndex. Use `I` rather than `I...`, or use `Tuple(I)...`",
     "output_type": "error",
     "traceback": [
      "iteration is deliberately unsupported for CartesianIndex. Use `I` rather than `I...`, or use `Tuple(I)...`",
      "",
      "Stacktrace:",
      " [1] error(::String) at ./error.jl:33",
      " [2] iterate(::CartesianIndex{2}) at ./multidimensional.jl:164",
      " [3] indexed_iterate(::CartesianIndex{2}, ::Int64) at ./tuple.jl:84",
      " [4] top-level scope at In[73]:4"
     ]
    }
   ],
   "source": [
    "c=CartesianIndices((1:600,1:636))\n",
    "i=700\n",
    "(c[i][2],c[i][1])\n",
    "a,b=c[i]"
   ]
  },
  {
   "cell_type": "code",
   "execution_count": 70,
   "metadata": {},
   "outputs": [
    {
     "data": {
      "text/plain": [
       "(ChAcc{1}, ChAcc{2})"
      ]
     },
     "execution_count": 70,
     "metadata": {},
     "output_type": "execute_result"
    }
   ],
   "source": [
    "ch1=ChAcc{1}(my_data);\n",
    "ch2=ChAcc{2}(my_data);\n",
    "typeof(ch1) ,typeof(ch2)"
   ]
  },
  {
   "cell_type": "code",
   "execution_count": null,
   "metadata": {},
   "outputs": [],
   "source": [
    "channel_1=ChAcc{1}(my_data)\n",
    "plot(channel_1)\n",
    "length(channel_1)==600*632 # should be true"
   ]
  },
  {
   "cell_type": "markdown",
   "metadata": {},
   "source": [
    "### Exercise 2\n",
    "\n",
    "Modify the function `Base.read(io::IOStream, ::Type{RecHeaderExtended})` to be more concices.. \n",
    "    should make use of field info."
   ]
  },
  {
   "cell_type": "code",
   "execution_count": 78,
   "metadata": {},
   "outputs": [],
   "source": [
    "struct BoatRecordM{F,NCH}  \n",
    "    long::Float32\n",
    "    lat::Float32\n",
    "    speed::Int16\n",
    "    COG::UInt16\n",
    "    time::Int32\n",
    "    data::Matrix{Int32}\n",
    "    function BoatRecordM{F,NCH}(long,lat,speed,COG,time) where {F,NCH}\n",
    "        new(long,lat,speed,COG,time,Matrix{Int32}(undef,F,NCH))\n",
    "    end\n",
    "end\n",
    "\n",
    "# Do a consice read function \n",
    "# use fieldnames, fieldtype.... in one line you can read:long,lat,speed,COG,time...then construct you object... \n",
    "# then use `data` to read the rest of the record. "
   ]
  },
  {
   "cell_type": "code",
   "execution_count": 80,
   "metadata": {},
   "outputs": [
    {
     "data": {
      "text/plain": [
       "BoatRecordM{500,4}(1.0f0, 2.0f0, 3, 0x0004, 5, Int32[65553 0 0 -8; 0 0 0 -1; … ; 0 81234768 -8 0; 0 0 -1 0])"
      ]
     },
     "execution_count": 80,
     "metadata": {},
     "output_type": "execute_result"
    }
   ],
   "source": [
    "r=BoatRecordM{500,4}(1,2,3,4,5)"
   ]
  },
  {
   "cell_type": "code",
   "execution_count": 81,
   "metadata": {},
   "outputs": [
    {
     "data": {
      "text/plain": [
       "500×4 Array{Int32,2}:\n",
       "    65553         0           0          -8\n",
       "        0         0           0          -1\n",
       "        0  33554432           0           0\n",
       "        0        65           0           0\n",
       "   393234  47207152    47209488    47211472\n",
       "        0         0           0           0\n",
       "        0         0           1        4049\n",
       "        0         0      327699           0\n",
       " 47205488         0          31    62558448\n",
       "        0         0           0           0\n",
       "        0  47206824           0  -596246032\n",
       "       16         0           0       32719\n",
       " 47205376  47207752    47209520    62558448\n",
       "        ⋮                        \n",
       " 47207152        -8           0    50331648\n",
       "        0        -1           0          65\n",
       "        0         2           0    47213000\n",
       "        0         0           0           0\n",
       "        0      4112  -599013088    47213296\n",
       "        0         0       32719           0\n",
       " 33554432      6097           2    47213296\n",
       "       57         0           0           0\n",
       " 47207152  46633264           0           0\n",
       "        0         0           0           0\n",
       "        0  81234768          -8           0\n",
       "        0         0          -1           0"
      ]
     },
     "execution_count": 81,
     "metadata": {},
     "output_type": "execute_result"
    }
   ],
   "source": [
    "r.data"
   ]
  },
  {
   "cell_type": "code",
   "execution_count": null,
   "metadata": {},
   "outputs": [],
   "source": [
    "struct BoatRecordV{F,NCH}  \n",
    "    long::Float32\n",
    "    lat::Float32\n",
    "    speed::Int16\n",
    "    COG::UInt16\n",
    "    time::Int32\n",
    "    data::Vector{Vector{Int32}}\n",
    "    function BoatRecordV{F,NCH}(long,lat,speed,COG,time) where {F,NCH}\n",
    "        new(long,lat,speed,COG,time,\n",
    "        [Vector{Int32}(undef,F) for i=1:NCH])\n",
    "    end\n",
    "end"
   ]
  },
  {
   "cell_type": "code",
   "execution_count": null,
   "metadata": {},
   "outputs": [],
   "source": [
    "### First: Benchmark the reading of both approaches \n",
    "### Second: Benchmark the channel accessors for each \n",
    "ch1M=ChAccBM{1}(my_data)  ## ChAccBM to be implemented \n",
    "ch1V=ChAccBV{1}(my_data) ## ChAccBV to be implemented \n",
    "@benchmark exp.(ch1M)\n",
    "@benchmark exp.(ch1V)\n"
   ]
  },
  {
   "cell_type": "markdown",
   "metadata": {},
   "source": [
    "### Exercise 3\n",
    "\n",
    "Test the performance of column based vs. row based representation of channels "
   ]
  },
  {
   "cell_type": "code",
   "execution_count": null,
   "metadata": {},
   "outputs": [],
   "source": []
  },
  {
   "cell_type": "code",
   "execution_count": 32,
   "metadata": {},
   "outputs": [
    {
     "ename": "ArgumentError",
     "evalue": "ArgumentError: Package BinaryRecReader not found in current path:\n- Run `import Pkg; Pkg.add(\"BinaryRecReader\")` to install the BinaryRecReader package.\n",
     "output_type": "error",
     "traceback": [
      "ArgumentError: Package BinaryRecReader not found in current path:\n- Run `import Pkg; Pkg.add(\"BinaryRecReader\")` to install the BinaryRecReader package.\n",
      "",
      "Stacktrace:",
      " [1] require(::Module, ::Symbol) at ./loading.jl:892",
      " [2] top-level scope at In[32]:1"
     ]
    }
   ],
   "source": [
    "using BinaryRecReader\n",
    "\n",
    "\n",
    "struct TestS\n",
    "    a::Int16\n",
    "    b::Float64\n",
    "    m::Vector{Int32}\n",
    "    k::UInt8 \n",
    "end\n",
    "\n",
    "vec_size=(600,1)\n",
    "\n",
    "@construct_reader TestS vec_size\n",
    "\n",
    "myrecs=Vector{TestS}(undef,15)\n",
    "read!(\"somefile.txt\",myrecs)"
   ]
  },
  {
   "cell_type": "code",
   "execution_count": null,
   "metadata": {},
   "outputs": [],
   "source": []
  }
 ],
 "metadata": {
  "@webio": {
   "lastCommId": null,
   "lastKernelId": null
  },
  "kernelspec": {
   "display_name": "Julia 1.4.2",
   "language": "julia",
   "name": "julia-1.4"
  },
  "language_info": {
   "file_extension": ".jl",
   "mimetype": "application/julia",
   "name": "julia",
   "version": "1.4.2"
  }
 },
 "nbformat": 4,
 "nbformat_minor": 4
}
